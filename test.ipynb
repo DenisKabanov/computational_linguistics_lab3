{
  "cells": [
    {
      "cell_type": "code",
      "source": [
        "# import locale\n",
        "# def getpreferredencoding(do_setlocale = True):\n",
        "#     return \"UTF-8\"\n",
        "# locale.getpreferredencoding = getpreferredencoding"
      ],
      "metadata": {
        "id": "7J5ONm2tDLAS"
      },
      "id": "7J5ONm2tDLAS",
      "execution_count": null,
      "outputs": []
    },
    {
      "cell_type": "code",
      "execution_count": null,
      "id": "9bbe66d3",
      "metadata": {
        "scrolled": true,
        "id": "9bbe66d3"
      },
      "outputs": [],
      "source": [
        "import sys\n",
        "# !{sys.executable} -m pip install spacy\n",
        "# !{sys.executable} -m spacy download ru_core_news_sm\n",
        "# !{sys.executable} -m pip install gensim\n",
        "# !{sys.executable} -m pip install pyLDAvis\n",
        "# !{sys.executable} -m pip install WordCloud"
      ]
    },
    {
      "cell_type": "code",
      "source": [
        "# !pip uninstall gensim"
      ],
      "metadata": {
        "id": "1S1cO04E61S0"
      },
      "id": "1S1cO04E61S0",
      "execution_count": null,
      "outputs": []
    },
    {
      "cell_type": "code",
      "source": [
        "# !pip install gensim==4.3.0"
      ],
      "metadata": {
        "id": "0pzDI3dK697k"
      },
      "id": "0pzDI3dK697k",
      "execution_count": null,
      "outputs": []
    },
    {
      "cell_type": "code",
      "source": [
        "# !pip uninstall numpy\n",
        "# !pip install numpy"
      ],
      "metadata": {
        "id": "fuBONGkATYYO"
      },
      "id": "fuBONGkATYYO",
      "execution_count": null,
      "outputs": []
    },
    {
      "cell_type": "code",
      "source": [
        "# !{sys.executable} -m pip show gensim"
      ],
      "metadata": {
        "id": "yZl05K4M6cta"
      },
      "id": "yZl05K4M6cta",
      "execution_count": null,
      "outputs": []
    },
    {
      "cell_type": "code",
      "execution_count": null,
      "id": "d44538fe",
      "metadata": {
        "id": "d44538fe"
      },
      "outputs": [],
      "source": [
        "import json # обработка json файлов\n",
        "import pandas as pd # работа с pandas DataFrame\n",
        "import numpy as np # для работы с числами и последовательностями (финальный вывод)\n",
        "import matplotlib.pyplot as plt # вывод графиков\n",
        "import re # регулярные выражения для обработки статей\n",
        "import string # обработка текста\n",
        "import spacy # обработка текста + лемматизация слов (приведение к нормальной форме) + создание корпуса\n",
        "import gensim # для объединения слов в n-граммы\n",
        "import pyLDAvis.gensim_models # визуализация\n",
        "from gensim.corpora import Dictionary # для создания словаря\n",
        "from gensim.models import LdaModel, LsiModel, Nmf, HdpModel, CoherenceModel # модель + метрика оценивания\n",
        "from wordcloud import WordCloud\n",
        "from tqdm import tqdm\n",
        "\n",
        "import warnings # выключение отображение warning-ов\n",
        "warnings.filterwarnings('ignore')"
      ]
    },
    {
      "cell_type": "code",
      "source": [
        "from google.colab import drive\n",
        "drive.mount('/content/drive')"
      ],
      "metadata": {
        "colab": {
          "base_uri": "https://localhost:8080/"
        },
        "id": "DgzLSSvPdZvt",
        "outputId": "0875369b-ffd6-4280-ca48-ca1fe25cc181"
      },
      "id": "DgzLSSvPdZvt",
      "execution_count": null,
      "outputs": [
        {
          "output_type": "stream",
          "name": "stdout",
          "text": [
            "Mounted at /content/drive\n"
          ]
        }
      ]
    },
    {
      "cell_type": "code",
      "execution_count": null,
      "id": "a0bfeaad",
      "metadata": {
        "id": "a0bfeaad"
      },
      "outputs": [],
      "source": [
        "article_filename = \"/content/drive/MyDrive/Универ/articles.json\" # путь до файла с полным сохранением статей"
      ]
    },
    {
      "cell_type": "code",
      "source": [
        "# import gdown\n",
        "# url = \"https://drive.google.com/uc?id=1-8E0NiymGSV1cYnKFL3sZY8mkjCVXioe\"\n",
        "# output = \"nlp_articles.pkl\""
      ],
      "metadata": {
        "colab": {
          "base_uri": "https://localhost:8080/"
        },
        "id": "cpneRKpeXubt",
        "outputId": "23db2ae0-afb8-41aa-dd19-6f4b14c9f326"
      },
      "id": "cpneRKpeXubt",
      "execution_count": null,
      "outputs": [
        {
          "output_type": "stream",
          "name": "stdout",
          "text": [
            "Access denied with the following error:\n"
          ]
        },
        {
          "output_type": "stream",
          "name": "stderr",
          "text": [
            "\n",
            " \tCannot retrieve the public link of the file. You may need to change\n",
            "\tthe permission to 'Anyone with the link', or have had many accesses. \n",
            "\n",
            "You may still be able to access the file from the browser:\n",
            "\n",
            "\t https://drive.google.com/uc?id=1-8E0NiymGSV1cYnKFL3sZY8mkjCVXioe \n",
            "\n"
          ]
        }
      ]
    },
    {
      "cell_type": "code",
      "source": [
        "# gdown.download(\n",
        "#     f\"https://drive.google.com/uc?export=download&confirm=pbef&id=1-8E0NiymGSV1cYnKFL3sZY8mkjCVXioe\",\n",
        "#     output\n",
        "# )"
      ],
      "metadata": {
        "colab": {
          "base_uri": "https://localhost:8080/",
          "height": 110
        },
        "id": "fzsPkgaFYscd",
        "outputId": "eca50c20-f3b1-4b7d-c38a-0680915ff7e4"
      },
      "id": "fzsPkgaFYscd",
      "execution_count": null,
      "outputs": [
        {
          "output_type": "stream",
          "name": "stderr",
          "text": [
            "Downloading...\n",
            "From: https://drive.google.com/uc?export=download&confirm=pbef&id=1-8E0NiymGSV1cYnKFL3sZY8mkjCVXioe\n",
            "To: /content/nlp_articles.pkl\n",
            "100%|██████████| 1.77G/1.77G [00:13<00:00, 129MB/s]\n"
          ]
        },
        {
          "output_type": "execute_result",
          "data": {
            "text/plain": [
              "'nlp_articles.pkl'"
            ],
            "application/vnd.google.colaboratory.intrinsic+json": {
              "type": "string"
            }
          },
          "metadata": {},
          "execution_count": 27
        }
      ]
    },
    {
      "cell_type": "code",
      "source": [
        "# lda_models1.pkl"
      ],
      "metadata": {
        "id": "z42KmVEyZPmK"
      },
      "id": "z42KmVEyZPmK",
      "execution_count": null,
      "outputs": []
    },
    {
      "cell_type": "code",
      "execution_count": null,
      "id": "bde1b7e2",
      "metadata": {
        "id": "bde1b7e2"
      },
      "outputs": [],
      "source": [
        "articles = []\n",
        "with open(article_filename, encoding=\"utf-8\") as file:\n",
        "    for line in file:\n",
        "        articles.append(json.loads(line))\n",
        "data = pd.DataFrame(articles)\n",
        "data"
      ]
    },
    {
      "cell_type": "markdown",
      "id": "4034f576",
      "metadata": {
        "id": "4034f576"
      },
      "source": [
        "# 1) Предобработка данных"
      ]
    },
    {
      "cell_type": "code",
      "execution_count": null,
      "id": "2494469c",
      "metadata": {
        "id": "2494469c"
      },
      "outputs": [],
      "source": [
        "nlp = spacy.load(\"ru_core_news_sm\") # nlp (Natural Language Processing) - Объект Language с загруженным pipeline-ом (tok2vec, morphologizer, parser, senter, ner, attribute_ruler, lemmatizer)"
      ]
    },
    {
      "cell_type": "code",
      "execution_count": null,
      "id": "da296c90",
      "metadata": {
        "id": "da296c90"
      },
      "outputs": [],
      "source": [
        "EXCLUDE_SYMBOLS_STR = u''.join(['№', '«', 'ђ', '°', '±', '‚', 'ћ', '‰', '…', '»', 'ѓ', 'µ', '·', 'ґ', 'њ', 'ї', 'џ', 'є', '‹',\n",
        "                                '‡', '†', '¶', 'ќ', '€', '“', 'ў', '§', '„', '”', '\\ufeff', '’', 'љ', '›', '•', '—', '‘', \n",
        "                                '\\x7f', '\\xad', '¤', '\\xa0', '\\u200e'])"
      ]
    },
    {
      "cell_type": "code",
      "execution_count": null,
      "id": "8ab4e68a",
      "metadata": {
        "id": "8ab4e68a"
      },
      "outputs": [],
      "source": [
        "corpus = [re.sub(r'\\w+:\\/{2}[\\d\\w-]+(\\.[\\d\\w-]+)*(?:(?:\\/[^\\s/]*))*', ' ', text) for text in data[\"text\"]] # удаление ссылок\n",
        "corpus = [text.lower() for text in corpus] # приведение к нижнему регистру\n",
        "corpus = [re.sub(r'[\\d\\w-]{1,}\\.(ru|com|ua)', ' ', text) for text in corpus] # удаление неполных ссылок\n",
        "# в статьях нет \\n или \\t\n",
        "\n",
        "regex_dig = re.compile('[%s]' % re.escape(string.digits))\n",
        "corpus = [regex_dig.sub(' ', text) for text in corpus] # убираем цифры\n",
        "\n",
        "regex_punct = re.compile('[%s]' % re.escape(string.punctuation))\n",
        "corpus = [regex_punct.sub(' ', text) for text in corpus] # убираем пунктуацию\n",
        "\n",
        "regex_symb = re.compile('[%s]' % re.escape(EXCLUDE_SYMBOLS_STR))\n",
        "corpus = [regex_symb.sub(' ', text) for text in corpus] # убираем дополнительные символы\n",
        "\n",
        "corpus = [re.sub(' +', ' ', text) for text in corpus] # оставляем максимум 1 пробел\n",
        "corpus = [text.strip() for text in corpus] # удаляем лишние пробелы в начале и конце статей"
      ]
    },
    {
      "cell_type": "code",
      "execution_count": null,
      "id": "7d79d505",
      "metadata": {
        "id": "7d79d505"
      },
      "outputs": [],
      "source": [
        "docs = []\n",
        "for text in corpus:\n",
        "    docs.append(nlp(text)) # передача данных в pipeline Natural Language Processing"
      ]
    },
    {
      "cell_type": "markdown",
      "id": "2a172016",
      "metadata": {
        "id": "2a172016"
      },
      "source": [
        "сохранение, так как предыдущий блок очень долго выполнялся"
      ]
    },
    {
      "cell_type": "code",
      "execution_count": null,
      "id": "df07dcc6",
      "metadata": {
        "id": "df07dcc6"
      },
      "outputs": [],
      "source": [
        "import pickle\n",
        "f = open(r'/content/drive/MyDrive/Универ/nlp_articles.pkl', 'wb') # сохранение в бинарном формате (1.5 ГИГАБАЙТА?!)\n",
        "pickle.dump(docs, f)"
      ]
    },
    {
      "cell_type": "code",
      "execution_count": null,
      "id": "889d9ea0",
      "metadata": {
        "id": "889d9ea0"
      },
      "outputs": [],
      "source": [
        "f = open(r'/content/drive/MyDrive/Универ/nlp_articles.pkl', 'rb')\n",
        "docs = pickle.load(f)\n",
        "print(docs[0][0].is_stop) # проверка работы"
      ]
    },
    {
      "cell_type": "code",
      "execution_count": null,
      "id": "18a10e2a",
      "metadata": {
        "id": "18a10e2a",
        "colab": {
          "base_uri": "https://localhost:8080/",
          "height": 73
        },
        "outputId": "0c2577df-775b-4125-9f7e-8fee46c1f6a9"
      },
      "outputs": [
        {
          "output_type": "execute_result",
          "data": {
            "text/plain": [
              "'Если бы не было фразеологизмов, наша речь (а возможно, и вся жизнь) была бы куда скучнее. Но еще интереснее не просто пользоваться этими выражениями, но и знать, откуда они произошли и почему мы вообще так стали говорить. Узнать это мы и предлагаем вам прямо сейчас. И не бойтесь ошибиться — это тест не про исключительные знания, а про то, что нас окружает.   '"
            ],
            "application/vnd.google.colaboratory.intrinsic+json": {
              "type": "string"
            }
          },
          "metadata": {},
          "execution_count": 30
        }
      ],
      "source": [
        "data[\"text\"][0]"
      ]
    },
    {
      "cell_type": "code",
      "execution_count": null,
      "id": "1efc8250",
      "metadata": {
        "colab": {
          "base_uri": "https://localhost:8080/"
        },
        "id": "1efc8250",
        "outputId": "1ce533a7-2b56-411e-e3ea-9d60182f6469"
      },
      "outputs": [
        {
          "output_type": "execute_result",
          "data": {
            "text/plain": [
              "если бы не было фразеологизмов наша речь а возможно и вся жизнь была бы куда скучнее но еще интереснее не просто пользоваться этими выражениями но и знать откуда они произошли и почему мы вообще так стали говорить узнать это мы и предлагаем вам прямо сейчас и не бойтесь ошибиться это тест не про исключительные знания а про то что нас окружает"
            ]
          },
          "metadata": {},
          "execution_count": 31
        }
      ],
      "source": [
        "docs[0]"
      ]
    },
    {
      "cell_type": "code",
      "execution_count": null,
      "id": "b33e9952",
      "metadata": {
        "scrolled": true,
        "id": "b33e9952"
      },
      "outputs": [],
      "source": [
        "# for ind, i in enumerate(docs[0]):\n",
        "#     print(ind, \"\\t\\t\", i, \"\\t\\t\", i.pos_, \"\\t\\t\", i.is_stop)"
      ]
    },
    {
      "cell_type": "code",
      "execution_count": null,
      "id": "a6ba4a6b",
      "metadata": {
        "id": "a6ba4a6b"
      },
      "outputs": [],
      "source": [
        "texts, article, skl_texts = [], [], []\n",
        "# additional_stop_words = \n",
        "# texts - массив лемматизированных статей (массив из массивов лемм для статей)\n",
        "# article - массив лемм в одной статье (зануляется при окончании рассматриваемой статьи)\n",
        "# skl_texts - массив текстов из лемм\n",
        "for text in docs:\n",
        "    for idx, w in enumerate(text): # проходимся по всем словам из выбранной статьи\n",
        "        # если это не стоп-слово и не знак препинания (+ число, конец строки), добавляем его в нашу статью!\n",
        "#         if not w.is_stop and not w.is_punct and not w.like_num and not w.text in additional_stop_words: # w.text - для взятия слова\n",
        "        if not w.is_stop and not w.is_punct and not w.like_num and not w.pos_ == \"VERB\": # w.text - для взятия слова\n",
        "            # добавляем лематизированную версию слова\n",
        "            article.append(w.lemma_)\n",
        "        # если это новая строка, это означает, что мы находимся в нашем следующем документе\n",
        "        if idx == (len(text) - 1):\n",
        "            skl_texts.append(' '.join(article))\n",
        "            texts.append(article)\n",
        "            article = []"
      ]
    },
    {
      "cell_type": "code",
      "execution_count": null,
      "id": "fc7a3d00",
      "metadata": {
        "colab": {
          "base_uri": "https://localhost:8080/"
        },
        "id": "fc7a3d00",
        "outputId": "20c91ccc-6465-47ea-b835-929d6ae62771"
      },
      "outputs": [
        {
          "output_type": "stream",
          "name": "stdout",
          "text": [
            "['фразеологизм', 'речь', 'жизнь', 'скучный', 'интереснее', 'выражение', 'прямо', 'тест', 'исключительный', 'знание']\n"
          ]
        }
      ],
      "source": [
        "print(texts[0])"
      ]
    },
    {
      "cell_type": "code",
      "execution_count": null,
      "id": "d9e0271f",
      "metadata": {
        "colab": {
          "base_uri": "https://localhost:8080/"
        },
        "id": "d9e0271f",
        "outputId": "8fec47a3-37d2-49c2-d739-b71a27de84e2"
      },
      "outputs": [
        {
          "output_type": "stream",
          "name": "stdout",
          "text": [
            "фразеологизм речь жизнь скучный интереснее выражение прямо тест исключительный знание\n"
          ]
        }
      ],
      "source": [
        "print(skl_texts[0])"
      ]
    },
    {
      "cell_type": "markdown",
      "id": "5827b915",
      "metadata": {
        "id": "5827b915"
      },
      "source": [
        "### Объединение слов в n-граммы"
      ]
    },
    {
      "cell_type": "code",
      "execution_count": null,
      "id": "513fa0ad",
      "metadata": {
        "id": "513fa0ad"
      },
      "outputs": [],
      "source": [
        "bigram = gensim.models.Phrases(texts) # обучение модели нахождения n-грамм"
      ]
    },
    {
      "cell_type": "code",
      "execution_count": null,
      "id": "609b81d4",
      "metadata": {
        "colab": {
          "base_uri": "https://localhost:8080/"
        },
        "id": "609b81d4",
        "outputId": "8ca1074d-ab72-4648-8cda-d40a73b069c3"
      },
      "outputs": [
        {
          "output_type": "stream",
          "name": "stdout",
          "text": [
            "['база', 'архангельский', 'филиал', 'россельхозбанк', 'адрес', 'архангельск', 'ул', 'карл', 'либкнехт', 'центр', 'оказание', 'услуга', 'бизнес', 'цоу', 'государственный', 'муниципальный', 'услуга', 'услуга', 'акционерный', 'общество', 'федеральный', 'корпорация', 'развитие', 'малый', 'средний', 'предпринимательство', 'юридический', 'лицо', 'индивидуальный', 'предприниматель', 'гражданин', 'предпринимательский', 'деятельность', 'представитель', 'малый', 'средний', 'предпринимательство', 'доступный', 'окно', 'приём', 'выдача', 'документ', 'цель', 'организация', 'предоставление', 'государственный', 'муниципальный', 'услуга', 'условие', 'соглашение', 'предприниматель', 'город', 'архангельск', 'документ', 'регистрация', 'юридический', 'лицо', 'консультация', 'налог', 'кредитный', 'продукт', 'банк', 'расчётный', 'счёт', 'депозит', 'комплексный', 'поддержка', 'малый', 'средний', 'предпринимательство', 'ценим', 'время', 'клиент', 'насколько', 'важный', 'максимум', 'услуга', 'место', 'появление', 'база', 'банк', 'специалист', 'мфц', 'клиент', 'юридический', 'лицо', 'свободный', 'быстрый', 'доступ', 'столь', 'государственный', 'услуга', 'директор', 'архангельский', 'филиал', 'банк', 'дмитрий', 'костылев', 'режим', 'работа', 'окно', 'понедельник', 'пятница', 'суббота', 'воскресение', 'выходной', 'день'] \n",
            "\n",
            " ['база', 'архангельский_филиал', 'россельхозбанк', 'адрес', 'архангельск', 'ул_карл', 'либкнехт', 'центр', 'оказание_услуга', 'бизнес', 'цоу', 'государственный_муниципальный', 'услуга', 'услуга', 'акционерный_общество', 'федеральный', 'корпорация', 'развитие', 'малый_средний', 'предпринимательство', 'юридический_лицо', 'индивидуальный_предприниматель', 'гражданин', 'предпринимательский_деятельность', 'представитель', 'малый_средний', 'предпринимательство', 'доступный', 'окно', 'приём', 'выдача_документ', 'цель', 'организация', 'предоставление_государственный', 'муниципальный_услуга', 'условие', 'соглашение', 'предприниматель', 'город', 'архангельск', 'документ', 'регистрация', 'юридический_лицо', 'консультация', 'налог', 'кредитный', 'продукт', 'банк', 'расчётный_счёт', 'депозит', 'комплексный', 'поддержка', 'малый_средний', 'предпринимательство', 'ценим', 'время', 'клиент', 'насколько', 'важный', 'максимум', 'услуга', 'место', 'появление', 'база', 'банк', 'специалист', 'мфц', 'клиент', 'юридический_лицо', 'свободный', 'быстрый_доступ', 'столь', 'государственный', 'услуга', 'директор_архангельский', 'филиал_банк', 'дмитрий_костылев', 'режим_работа', 'окно', 'понедельник', 'пятница_суббота', 'воскресение', 'выходной_день']\n"
          ]
        }
      ],
      "source": [
        "print(texts[-1], \"\\n\\n\", bigram[texts[-1]])"
      ]
    },
    {
      "cell_type": "code",
      "execution_count": null,
      "id": "90f8b59a",
      "metadata": {
        "id": "90f8b59a"
      },
      "outputs": [],
      "source": [
        "texts_v2 = [bigram[line] for line in texts] # создаём массив лемм для статей с использованием биграммами (во многом он остался схож с обычным texts)"
      ]
    },
    {
      "cell_type": "markdown",
      "id": "6d5019fc",
      "metadata": {
        "id": "6d5019fc"
      },
      "source": [
        "## Вывод самых часто используемых слов в статьях"
      ]
    },
    {
      "cell_type": "code",
      "execution_count": null,
      "id": "96045f10",
      "metadata": {
        "colab": {
          "base_uri": "https://localhost:8080/",
          "height": 217
        },
        "id": "96045f10",
        "outputId": "c3eaf40d-3b34-4b9b-d4a1-e006c71eb5f5"
      },
      "outputs": [
        {
          "output_type": "execute_result",
          "data": {
            "text/plain": [
              "<PIL.Image.Image image mode=RGB size=400x200 at 0x7FE1E1BE73A0>"
            ],
            "image/png": "[encoded data removed]"
          },
          "metadata": {},
          "execution_count": 38
        }
      ],
      "source": [
        "long_string = ','.join(j for sub in texts_v2 for j in sub) # объединяем все слова\n",
        "\n",
        "wordcloud = WordCloud(background_color=\"white\", max_words=5000, contour_width=3, contour_color='steelblue') # создание WordCloud объекта\n",
        "\n",
        "wordcloud.generate(long_string)\n",
        "wordcloud.to_image()"
      ]
    },
    {
      "cell_type": "code",
      "execution_count": null,
      "id": "e0cb3abc",
      "metadata": {
        "id": "e0cb3abc"
      },
      "outputs": [],
      "source": [
        "dictionary = Dictionary(texts_v2) # создаём словарь (слова будут в нём не по порядку)"
      ]
    },
    {
      "cell_type": "code",
      "execution_count": null,
      "id": "4d60ec07",
      "metadata": {
        "id": "4d60ec07"
      },
      "outputs": [],
      "source": [
        "# print(dictionary[2]) # вывод слова по id\n",
        "# print(dictionary.token2id[\"интересный\"]) # вывод id, под которым слово записано в словаре"
      ]
    },
    {
      "cell_type": "code",
      "execution_count": null,
      "id": "3de87e86",
      "metadata": {
        "id": "3de87e86"
      },
      "outputs": [],
      "source": [
        "corpus = [dictionary.doc2bow(text) for text in texts_v2] # преобразовывание статей в формат bag-of-words (BoW)"
      ]
    },
    {
      "cell_type": "code",
      "execution_count": null,
      "id": "4e8a619c",
      "metadata": {
        "colab": {
          "base_uri": "https://localhost:8080/"
        },
        "id": "4e8a619c",
        "outputId": "a43551be-35ff-4e27-bd13-b878b7b5ebcf"
      },
      "outputs": [
        {
          "output_type": "execute_result",
          "data": {
            "text/plain": [
              "[(0, 1),\n",
              " (1, 1),\n",
              " (2, 1),\n",
              " (3, 1),\n",
              " (4, 1),\n",
              " (5, 1),\n",
              " (6, 1),\n",
              " (7, 1),\n",
              " (8, 1),\n",
              " (9, 1)]"
            ]
          },
          "metadata": {},
          "execution_count": 42
        }
      ],
      "source": [
        "corpus[0][0:10] # возвращает: (id слова в словаре, сколько раз оно встречается)"
      ]
    },
    {
      "cell_type": "markdown",
      "id": "ee92a59d",
      "metadata": {
        "id": "ee92a59d"
      },
      "source": [
        "# 2) Использование моделей"
      ]
    },
    {
      "cell_type": "markdown",
      "id": "d192a1a5",
      "metadata": {
        "id": "d192a1a5"
      },
      "source": [
        "## LSI:"
      ]
    },
    {
      "cell_type": "code",
      "execution_count": null,
      "id": "8c8d8cfa",
      "metadata": {
        "id": "8c8d8cfa"
      },
      "outputs": [],
      "source": [
        "lsimodel = LsiModel(corpus=corpus, num_topics=10, id2word=dictionary) # создание LSI модели с передачей корупа corpus, определяемое число тем = 10, id2word - ID to word mapping (используем созданный словарь)"
      ]
    },
    {
      "cell_type": "code",
      "source": [
        "lsi_params={'num_topics': [i for i in range(5, 10)], \n",
        "            'onepass': [True, False],\n",
        "            'power_iters': [0,1,2,3]\n",
        "          }\n",
        "lsi_models=[]\n",
        "\n",
        "for num_topics in tqdm(lsi_params['num_topics']):\n",
        "  for onepass in lsi_params['onepass']:\n",
        "    for power_iters in lsi_params['power_iters']:\n",
        "      \n",
        "      lsimodel = LsiModel(corpus=corpus, \n",
        "                          num_topics=num_topics, \n",
        "                          id2word=dictionary, \n",
        "                          onepass=onepass, \n",
        "                          power_iters=power_iters) # создание LSI модели с передачей корупа corpus, определяемое число тем = 10, id2word - ID to word mapping (используем созданный словарь)\n",
        "            \n",
        "      lsitopics = [[word for word, prob in topic] for topicid, topic in lsimodel.show_topics(formatted=False)]\n",
        "      lsi_coherence = CoherenceModel(topics=lsitopics, texts=texts_v2, dictionary=dictionary, window_size=10).get_coherence()\n",
        "\n",
        "      lsi_models.append({'model': lsimodel, 'coherence': lsi_coherence, 'params': [num_topics, onepass, power_iters]})\n",
        "      # newlist = sorted(list_to_be_sorted, key=lambda d: d['name']) \n",
        "\n",
        "   "
      ],
      "metadata": {
        "id": "YqOEb2D00K7b"
      },
      "id": "YqOEb2D00K7b",
      "execution_count": null,
      "outputs": []
    },
    {
      "cell_type": "code",
      "execution_count": null,
      "id": "4141bf1b",
      "metadata": {
        "colab": {
          "base_uri": "https://localhost:8080/"
        },
        "id": "4141bf1b",
        "outputId": "b3dc0ed9-6f0c-4be5-d365-3cf79e9d4512"
      },
      "outputs": [
        {
          "output_type": "execute_result",
          "data": {
            "text/plain": [
              "[(0,\n",
              "  '0.634*\"год\" + 0.272*\"человек\" + 0.204*\"рубль\" + 0.170*\"россия\" + 0.155*\"новый\" + 0.147*\"время\" + 0.119*\"ребёнок\" + 0.106*\"автомобиль\" + 0.102*\"цена\" + 0.100*\"машина\"'),\n",
              " (1,\n",
              "  '0.453*\"человек\" + -0.404*\"рубль\" + -0.248*\"автомобиль\" + -0.246*\"год\" + -0.216*\"цена\" + -0.201*\"машина\" + 0.169*\"врач\" + 0.147*\"ребёнок\" + 0.115*\"время\" + 0.104*\"день\"'),\n",
              " (2,\n",
              "  '0.334*\"матч\" + 0.327*\"игра\" + 0.325*\"команда\" + -0.317*\"человек\" + 0.205*\"болельщик\" + 0.183*\"нижний_новгород\" + -0.144*\"врач\" + 0.131*\"россия\" + 0.120*\"стадион\" + -0.113*\"ребёнок\"'),\n",
              " (3,\n",
              "  '-0.604*\"год\" + 0.252*\"автомобиль\" + 0.237*\"человек\" + 0.237*\"рубль\" + 0.233*\"машина\" + 0.225*\"цена\" + 0.185*\"россия\" + 0.110*\"случай\" + 0.094*\"ситуация\" + 0.083*\"врач\"'),\n",
              " (4,\n",
              "  '-0.415*\"автомобиль\" + 0.398*\"рубль\" + -0.396*\"машина\" + -0.156*\"водитель\" + -0.155*\"новый\" + 0.132*\"цена\" + -0.113*\"модель\" + 0.111*\"банк\" + 0.105*\"деньга\" + 0.096*\"валюта\"'),\n",
              " (5,\n",
              "  '-0.705*\"ребёнок\" + 0.342*\"человек\" + -0.217*\"врач\" + -0.138*\"родитель\" + -0.120*\"рубль\" + 0.112*\"россия\" + -0.094*\"семья\" + -0.091*\"водитель\" + -0.087*\"случай\" + -0.082*\"автомобиль\"'),\n",
              " (6,\n",
              "  '-0.339*\"рубль\" + 0.305*\"год\" + -0.210*\"ребёнок\" + -0.191*\"цена\" + -0.163*\"город\" + 0.133*\"врач\" + -0.133*\"фильм\" + -0.128*\"архангельск\" + -0.122*\"театр\" + -0.117*\"спектакль\"'),\n",
              " (7,\n",
              "  '0.435*\"россия\" + -0.297*\"рубль\" + -0.284*\"человек\" + -0.244*\"водитель\" + 0.200*\"цена\" + 0.171*\"врач\" + 0.161*\"ребёнок\" + 0.156*\"страна\" + 0.123*\"российский\" + -0.121*\"деньга\"'),\n",
              " (8,\n",
              "  '-0.336*\"врач\" + 0.314*\"россия\" + 0.244*\"ребёнок\" + -0.238*\"цена\" + 0.211*\"водитель\" + -0.205*\"рубль\" + 0.174*\"страна\" + 0.164*\"банк\" + -0.131*\"пациент\" + 0.126*\"случай\"'),\n",
              " (9,\n",
              "  '-0.430*\"человек\" + -0.328*\"ребёнок\" + 0.301*\"водитель\" + 0.251*\"врач\" + -0.140*\"машина\" + 0.120*\"день\" + -0.119*\"модель\" + -0.117*\"автомобиль\" + 0.117*\"случай\" + 0.116*\"работа\"')]"
            ]
          },
          "metadata": {},
          "execution_count": 38
        }
      ],
      "source": [
        "lsimodel.show_topics()  # Вывод тем для LSI модели"
      ]
    },
    {
      "cell_type": "markdown",
      "id": "6a37c72d",
      "metadata": {
        "id": "6a37c72d"
      },
      "source": [
        "## LDA:"
      ]
    },
    {
      "cell_type": "code",
      "source": [
        "lda_params = {'num_topics': [i for i in range(5, 10)], \n",
        "          'alpha': [*np.arange(0.01, 1, 0.3), 'auto', 'symmetric', 'asymmetric'], \n",
        "          'eta': [*np.arange(0.01, 1, 0.3), 'auto', 'symmetric']}"
      ],
      "metadata": {
        "id": "8N-VX1_Pfh6V"
      },
      "id": "8N-VX1_Pfh6V",
      "execution_count": null,
      "outputs": []
    },
    {
      "cell_type": "code",
      "execution_count": null,
      "id": "66a88c47",
      "metadata": {
        "id": "66a88c47"
      },
      "outputs": [],
      "source": [
        "# chunksize = 2000 # Количество документов, которые будут использоваться в каждом блоке обучения\n",
        "# passes = 20 # Количество проходов по корпусу во время обучения\n",
        "# iterations = 40 # Максимальное количество итераций по корпусу при выводе тематического распределения корпуса\n",
        "# eval_every = None  # Don't evaluate model perplexity, takes too much time.\n",
        "\n",
        "lda_models=[]\n",
        "\n",
        "for num_topics in tqdm(lda_params['num_topics']):\n",
        "  for alpha in lda_params['alpha']:\n",
        "    for eta in lda_params['eta']:\n",
        "      \n",
        "      ldamodel = LdaModel(corpus=corpus, # передаваемый поток документов\n",
        "                          num_topics=num_topics, # Количество запрошенных скрытых тем, которые необходимо извлечь из учебного корпуса.\n",
        "                          id2word=dictionary, # Mapping id к словам (словарь)\n",
        "                          chunksize=2000, # Количество документов, которые будут использоваться в каждом блоке обучения\n",
        "                          alpha=alpha, # априорное убеждение в распространении тем по документам\n",
        "                          eta=eta, # априорное убеждение в распределении слов по темам\n",
        "                          passes=10, # Количество проходов по корпусу во время обучения\n",
        "                          iterations=200, # Максимальное количество итераций по корпусу при выводе тематического распределения корпуса\n",
        "                          eval_every=None)\n",
        "      \n",
        "      \n",
        "      ldatopics = [[word for word, prob in topic] for topicid, topic in ldamodel.show_topics(formatted=False)]\n",
        "      lda_coherence = CoherenceModel(topics=ldatopics, texts=texts_v2, dictionary=dictionary, window_size=10).get_coherence()\n",
        "\n",
        "      lda_models.append({'model': ldamodel, 'coherence': lda_coherence, 'params': [num_topics, alpha, eta]})\n",
        "      # newlist = sorted(list_to_be_sorted, key=lambda d: d['name']) \n",
        "\n",
        "        "
      ]
    },
    {
      "cell_type": "code",
      "source": [
        "len(lda_models)"
      ],
      "metadata": {
        "colab": {
          "base_uri": "https://localhost:8080/"
        },
        "id": "QUkw3BTQfE2H",
        "outputId": "2f521f07-7502-4371-9c58-4040a6ad77e1"
      },
      "id": "QUkw3BTQfE2H",
      "execution_count": null,
      "outputs": [
        {
          "output_type": "execute_result",
          "data": {
            "text/plain": [
              "210"
            ]
          },
          "metadata": {},
          "execution_count": 50
        }
      ]
    },
    {
      "cell_type": "code",
      "source": [
        "lda_models"
      ],
      "metadata": {
        "colab": {
          "base_uri": "https://localhost:8080/"
        },
        "id": "S3lAzZhE7w2b",
        "outputId": "ff21b98d-fae0-4a72-c951-53ad5a7cc76b"
      },
      "id": "S3lAzZhE7w2b",
      "execution_count": null,
      "outputs": [
        {
          "output_type": "execute_result",
          "data": {
            "text/plain": [
              "[{'model': <gensim.models.ldamodel.LdaModel at 0x7fe1cdd625e0>,\n",
              "  'coherence': <gensim.models.coherencemodel.CoherenceModel at 0x7fe38006ddf0>,\n",
              "  'params': [5, 0.01, 0.01]},\n",
              " {'model': <gensim.models.ldamodel.LdaModel at 0x7fe1e1b49fd0>,\n",
              "  'coherence': <gensim.models.coherencemodel.CoherenceModel at 0x7fe1e1c9bd60>,\n",
              "  'params': [5, 0.01, 0.31]},\n",
              " {'model': <gensim.models.ldamodel.LdaModel at 0x7fe1cddbceb0>,\n",
              "  'coherence': <gensim.models.coherencemodel.CoherenceModel at 0x7fe1cddbcb50>,\n",
              "  'params': [5, 0.01, 0.61]},\n",
              " {'model': <gensim.models.ldamodel.LdaModel at 0x7fe1cddbcd00>,\n",
              "  'coherence': <gensim.models.coherencemodel.CoherenceModel at 0x7fe1cddbc340>,\n",
              "  'params': [5, 0.01, 0.9099999999999999]},\n",
              " {'model': <gensim.models.ldamodel.LdaModel at 0x7fe1f1d237c0>,\n",
              "  'coherence': <gensim.models.coherencemodel.CoherenceModel at 0x7fe1e1c9b190>,\n",
              "  'params': [5, 0.01, 'auto']},\n",
              " {'model': <gensim.models.ldamodel.LdaModel at 0x7fe1e1c9b970>,\n",
              "  'coherence': <gensim.models.coherencemodel.CoherenceModel at 0x7fe1cdd62b80>,\n",
              "  'params': [5, 0.01, 'symmetric']},\n",
              " {'model': <gensim.models.ldamodel.LdaModel at 0x7fe1cdd62880>,\n",
              "  'coherence': <gensim.models.coherencemodel.CoherenceModel at 0x7fe1d0576fd0>,\n",
              "  'params': [5, 0.31, 0.01]},\n",
              " {'model': <gensim.models.ldamodel.LdaModel at 0x7fe1d05767c0>,\n",
              "  'coherence': <gensim.models.coherencemodel.CoherenceModel at 0x7fe1cdd62730>,\n",
              "  'params': [5, 0.31, 0.31]},\n",
              " {'model': <gensim.models.ldamodel.LdaModel at 0x7fe1e1c9b550>,\n",
              "  'coherence': <gensim.models.coherencemodel.CoherenceModel at 0x7fe1d0576c40>,\n",
              "  'params': [5, 0.31, 0.61]},\n",
              " {'model': <gensim.models.ldamodel.LdaModel at 0x7fe1d05765b0>,\n",
              "  'coherence': <gensim.models.coherencemodel.CoherenceModel at 0x7fe1d05762b0>,\n",
              "  'params': [5, 0.31, 0.9099999999999999]},\n",
              " {'model': <gensim.models.ldamodel.LdaModel at 0x7fe1d0576880>,\n",
              "  'coherence': <gensim.models.coherencemodel.CoherenceModel at 0x7fe1cdd62250>,\n",
              "  'params': [5, 0.31, 'auto']},\n",
              " {'model': <gensim.models.ldamodel.LdaModel at 0x7fe1cdd62a60>,\n",
              "  'coherence': <gensim.models.coherencemodel.CoherenceModel at 0x7fe1cdda21f0>,\n",
              "  'params': [5, 0.31, 'symmetric']},\n",
              " {'model': <gensim.models.ldamodel.LdaModel at 0x7fe1cdda20a0>,\n",
              "  'coherence': <gensim.models.coherencemodel.CoherenceModel at 0x7fe1cdda2040>,\n",
              "  'params': [5, 0.61, 0.01]},\n",
              " {'model': <gensim.models.ldamodel.LdaModel at 0x7fe1cdda2220>,\n",
              "  'coherence': <gensim.models.coherencemodel.CoherenceModel at 0x7fe1cdda2400>,\n",
              "  'params': [5, 0.61, 0.31]},\n",
              " {'model': <gensim.models.ldamodel.LdaModel at 0x7fe1cdda2340>,\n",
              "  'coherence': <gensim.models.coherencemodel.CoherenceModel at 0x7fe1cdda2490>,\n",
              "  'params': [5, 0.61, 0.61]},\n",
              " {'model': <gensim.models.ldamodel.LdaModel at 0x7fe1cdda23d0>,\n",
              "  'coherence': <gensim.models.coherencemodel.CoherenceModel at 0x7fe1cdda20d0>,\n",
              "  'params': [5, 0.61, 0.9099999999999999]},\n",
              " {'model': <gensim.models.ldamodel.LdaModel at 0x7fe1cdda23a0>,\n",
              "  'coherence': <gensim.models.coherencemodel.CoherenceModel at 0x7fe1cdda22b0>,\n",
              "  'params': [5, 0.61, 'auto']},\n",
              " {'model': <gensim.models.ldamodel.LdaModel at 0x7fe1cdda2580>,\n",
              "  'coherence': <gensim.models.coherencemodel.CoherenceModel at 0x7fe1cdda26d0>,\n",
              "  'params': [5, 0.61, 'symmetric']},\n",
              " {'model': <gensim.models.ldamodel.LdaModel at 0x7fe1cdda24c0>,\n",
              "  'coherence': <gensim.models.coherencemodel.CoherenceModel at 0x7fe1d0576640>,\n",
              "  'params': [5, 0.9099999999999999, 0.01]},\n",
              " {'model': <gensim.models.ldamodel.LdaModel at 0x7fe1cdda2160>,\n",
              "  'coherence': <gensim.models.coherencemodel.CoherenceModel at 0x7fe1cdda2520>,\n",
              "  'params': [5, 0.9099999999999999, 0.31]},\n",
              " {'model': <gensim.models.ldamodel.LdaModel at 0x7fe1cdda2820>,\n",
              "  'coherence': <gensim.models.coherencemodel.CoherenceModel at 0x7fe1cdda26a0>,\n",
              "  'params': [5, 0.9099999999999999, 0.61]},\n",
              " {'model': <gensim.models.ldamodel.LdaModel at 0x7fe1cdda2100>,\n",
              "  'coherence': <gensim.models.coherencemodel.CoherenceModel at 0x7fe1cdda2910>,\n",
              "  'params': [5, 0.9099999999999999, 0.9099999999999999]},\n",
              " {'model': <gensim.models.ldamodel.LdaModel at 0x7fe1cdda2970>,\n",
              "  'coherence': <gensim.models.coherencemodel.CoherenceModel at 0x7fe1cdda2ac0>,\n",
              "  'params': [5, 0.9099999999999999, 'auto']},\n",
              " {'model': <gensim.models.ldamodel.LdaModel at 0x7fe1cdda2640>,\n",
              "  'coherence': <gensim.models.coherencemodel.CoherenceModel at 0x7fe1cdda2af0>,\n",
              "  'params': [5, 0.9099999999999999, 'symmetric']},\n",
              " {'model': <gensim.models.ldamodel.LdaModel at 0x7fe1cdda2b20>,\n",
              "  'coherence': <gensim.models.coherencemodel.CoherenceModel at 0x7fe1cdda2b50>,\n",
              "  'params': [5, 'auto', 0.01]},\n",
              " {'model': <gensim.models.ldamodel.LdaModel at 0x7fe1cdda29d0>,\n",
              "  'coherence': <gensim.models.coherencemodel.CoherenceModel at 0x7fe1cdda2d00>,\n",
              "  'params': [5, 'auto', 0.31]},\n",
              " {'model': <gensim.models.ldamodel.LdaModel at 0x7fe1cdda2c40>,\n",
              "  'coherence': <gensim.models.coherencemodel.CoherenceModel at 0x7fe1cdda2dc0>,\n",
              "  'params': [5, 'auto', 0.61]},\n",
              " {'model': <gensim.models.ldamodel.LdaModel at 0x7fe1cdda2be0>,\n",
              "  'coherence': <gensim.models.coherencemodel.CoherenceModel at 0x7fe1cdda2e20>,\n",
              "  'params': [5, 'auto', 0.9099999999999999]},\n",
              " {'model': <gensim.models.ldamodel.LdaModel at 0x7fe1cdda2c70>,\n",
              "  'coherence': <gensim.models.coherencemodel.CoherenceModel at 0x7fe1cdda2f40>,\n",
              "  'params': [5, 'auto', 'auto']},\n",
              " {'model': <gensim.models.ldamodel.LdaModel at 0x7fe1cdda29a0>,\n",
              "  'coherence': <gensim.models.coherencemodel.CoherenceModel at 0x7fe1cdda2d60>,\n",
              "  'params': [5, 'auto', 'symmetric']},\n",
              " {'model': <gensim.models.ldamodel.LdaModel at 0x7fe1cdda2e50>,\n",
              "  'coherence': <gensim.models.coherencemodel.CoherenceModel at 0x7fe1d05766d0>,\n",
              "  'params': [5, 'symmetric', 0.01]},\n",
              " {'model': <gensim.models.ldamodel.LdaModel at 0x7fe1cdda2cd0>,\n",
              "  'coherence': <gensim.models.coherencemodel.CoherenceModel at 0x7fe1cdda2d90>,\n",
              "  'params': [5, 'symmetric', 0.31]},\n",
              " {'model': <gensim.models.ldamodel.LdaModel at 0x7fe1cdda2bb0>,\n",
              "  'coherence': <gensim.models.coherencemodel.CoherenceModel at 0x7fe1cdda2f70>,\n",
              "  'params': [5, 'symmetric', 0.61]},\n",
              " {'model': <gensim.models.ldamodel.LdaModel at 0x7fe1cdd830a0>,\n",
              "  'coherence': <gensim.models.coherencemodel.CoherenceModel at 0x7fe1cdd83220>,\n",
              "  'params': [5, 'symmetric', 0.9099999999999999]},\n",
              " {'model': <gensim.models.ldamodel.LdaModel at 0x7fe1cdd83340>,\n",
              "  'coherence': <gensim.models.coherencemodel.CoherenceModel at 0x7fe1cdd833a0>,\n",
              "  'params': [5, 'symmetric', 'auto']},\n",
              " {'model': <gensim.models.ldamodel.LdaModel at 0x7fe1cdd831c0>,\n",
              "  'coherence': <gensim.models.coherencemodel.CoherenceModel at 0x7fe1cdd83040>,\n",
              "  'params': [5, 'symmetric', 'symmetric']},\n",
              " {'model': <gensim.models.ldamodel.LdaModel at 0x7fe1cdd83400>,\n",
              "  'coherence': <gensim.models.coherencemodel.CoherenceModel at 0x7fe1cdda2eb0>,\n",
              "  'params': [5, 'asymmetric', 0.01]},\n",
              " {'model': <gensim.models.ldamodel.LdaModel at 0x7fe1cdd833d0>,\n",
              "  'coherence': <gensim.models.coherencemodel.CoherenceModel at 0x7fe1cdd83430>,\n",
              "  'params': [5, 'asymmetric', 0.31]},\n",
              " {'model': <gensim.models.ldamodel.LdaModel at 0x7fe1cdd834c0>,\n",
              "  'coherence': <gensim.models.coherencemodel.CoherenceModel at 0x7fe1cdd83550>,\n",
              "  'params': [5, 'asymmetric', 0.61]},\n",
              " {'model': <gensim.models.ldamodel.LdaModel at 0x7fe1cdd83640>,\n",
              "  'coherence': <gensim.models.coherencemodel.CoherenceModel at 0x7fe1cdd837f0>,\n",
              "  'params': [5, 'asymmetric', 0.9099999999999999]},\n",
              " {'model': <gensim.models.ldamodel.LdaModel at 0x7fe1cdd83850>,\n",
              "  'coherence': <gensim.models.coherencemodel.CoherenceModel at 0x7fe1cdd832e0>,\n",
              "  'params': [5, 'asymmetric', 'auto']},\n",
              " {'model': <gensim.models.ldamodel.LdaModel at 0x7fe1cdd83490>,\n",
              "  'coherence': <gensim.models.coherencemodel.CoherenceModel at 0x7fe1cdd831f0>,\n",
              "  'params': [5, 'asymmetric', 'symmetric']},\n",
              " {'model': <gensim.models.ldamodel.LdaModel at 0x7fe1cdd836d0>,\n",
              "  'coherence': <gensim.models.coherencemodel.CoherenceModel at 0x7fe1cdd83880>,\n",
              "  'params': [6, 0.01, 0.01]},\n",
              " {'model': <gensim.models.ldamodel.LdaModel at 0x7fe1cdd839a0>,\n",
              "  'coherence': <gensim.models.coherencemodel.CoherenceModel at 0x7fe1cdd83a30>,\n",
              "  'params': [6, 0.01, 0.31]},\n",
              " {'model': <gensim.models.ldamodel.LdaModel at 0x7fe1cdd838e0>,\n",
              "  'coherence': <gensim.models.coherencemodel.CoherenceModel at 0x7fe1cdd838b0>,\n",
              "  'params': [6, 0.01, 0.61]},\n",
              " {'model': <gensim.models.ldamodel.LdaModel at 0x7fe1cdd83b20>,\n",
              "  'coherence': <gensim.models.coherencemodel.CoherenceModel at 0x7fe1cdda2fd0>,\n",
              "  'params': [6, 0.01, 0.9099999999999999]},\n",
              " {'model': <gensim.models.ldamodel.LdaModel at 0x7fe1cdd83a00>,\n",
              "  'coherence': <gensim.models.coherencemodel.CoherenceModel at 0x7fe1cdd83be0>,\n",
              "  'params': [6, 0.01, 'auto']},\n",
              " {'model': <gensim.models.ldamodel.LdaModel at 0x7fe1cdd83bb0>,\n",
              "  'coherence': <gensim.models.coherencemodel.CoherenceModel at 0x7fe1cdd83820>,\n",
              "  'params': [6, 0.01, 'symmetric']},\n",
              " {'model': <gensim.models.ldamodel.LdaModel at 0x7fe1cdd83b80>,\n",
              "  'coherence': <gensim.models.coherencemodel.CoherenceModel at 0x7fe1cdd83d90>,\n",
              "  'params': [6, 0.31, 0.01]},\n",
              " {'model': <gensim.models.ldamodel.LdaModel at 0x7fe1cdd83e20>,\n",
              "  'coherence': <gensim.models.coherencemodel.CoherenceModel at 0x7fe1cdd83d60>,\n",
              "  'params': [6, 0.31, 0.31]},\n",
              " {'model': <gensim.models.ldamodel.LdaModel at 0x7fe1cdd83ee0>,\n",
              "  'coherence': <gensim.models.coherencemodel.CoherenceModel at 0x7fe1cdd83a60>,\n",
              "  'params': [6, 0.31, 0.61]},\n",
              " {'model': <gensim.models.ldamodel.LdaModel at 0x7fe1cdd83ca0>,\n",
              "  'coherence': <gensim.models.coherencemodel.CoherenceModel at 0x7fe1cdd83c10>,\n",
              "  'params': [6, 0.31, 0.9099999999999999]},\n",
              " {'model': <gensim.models.ldamodel.LdaModel at 0x7fe1cdd83df0>,\n",
              "  'coherence': <gensim.models.coherencemodel.CoherenceModel at 0x7fe1cdd83dc0>,\n",
              "  'params': [6, 0.31, 'auto']},\n",
              " {'model': <gensim.models.ldamodel.LdaModel at 0x7fe1cdd83eb0>,\n",
              "  'coherence': <gensim.models.coherencemodel.CoherenceModel at 0x7fe1cddf20a0>,\n",
              "  'params': [6, 0.31, 'symmetric']},\n",
              " {'model': <gensim.models.ldamodel.LdaModel at 0x7fe1cddf2040>,\n",
              "  'coherence': <gensim.models.coherencemodel.CoherenceModel at 0x7fe1cddf22e0>,\n",
              "  'params': [6, 0.61, 0.01]},\n",
              " {'model': <gensim.models.ldamodel.LdaModel at 0x7fe1cddf2070>,\n",
              "  'coherence': <gensim.models.coherencemodel.CoherenceModel at 0x7fe1cddf20d0>,\n",
              "  'params': [6, 0.61, 0.31]},\n",
              " {'model': <gensim.models.ldamodel.LdaModel at 0x7fe1cddf2340>,\n",
              "  'coherence': <gensim.models.coherencemodel.CoherenceModel at 0x7fe1cddf2520>,\n",
              "  'params': [6, 0.61, 0.61]},\n",
              " {'model': <gensim.models.ldamodel.LdaModel at 0x7fe1cddf2400>,\n",
              "  'coherence': <gensim.models.coherencemodel.CoherenceModel at 0x7fe1cddf23d0>,\n",
              "  'params': [6, 0.61, 0.9099999999999999]},\n",
              " {'model': <gensim.models.ldamodel.LdaModel at 0x7fe1cddf2490>,\n",
              "  'coherence': <gensim.models.coherencemodel.CoherenceModel at 0x7fe1cddf24c0>,\n",
              "  'params': [6, 0.61, 'auto']},\n",
              " {'model': <gensim.models.ldamodel.LdaModel at 0x7fe1cddf2700>,\n",
              "  'coherence': <gensim.models.coherencemodel.CoherenceModel at 0x7fe1cddf26a0>,\n",
              "  'params': [6, 0.61, 'symmetric']},\n",
              " {'model': <gensim.models.ldamodel.LdaModel at 0x7fe1cddf26d0>,\n",
              "  'coherence': <gensim.models.coherencemodel.CoherenceModel at 0x7fe1cddf2820>,\n",
              "  'params': [6, 0.9099999999999999, 0.01]},\n",
              " {'model': <gensim.models.ldamodel.LdaModel at 0x7fe1cddf2730>,\n",
              "  'coherence': <gensim.models.coherencemodel.CoherenceModel at 0x7fe1cdd83fd0>,\n",
              "  'params': [6, 0.9099999999999999, 0.31]},\n",
              " {'model': <gensim.models.ldamodel.LdaModel at 0x7fe1cddf2880>,\n",
              "  'coherence': <gensim.models.coherencemodel.CoherenceModel at 0x7fe1cddf27c0>,\n",
              "  'params': [6, 0.9099999999999999, 0.61]},\n",
              " {'model': <gensim.models.ldamodel.LdaModel at 0x7fe1cddf2a00>,\n",
              "  'coherence': <gensim.models.coherencemodel.CoherenceModel at 0x7fe1cddf2550>,\n",
              "  'params': [6, 0.9099999999999999, 0.9099999999999999]},\n",
              " {'model': <gensim.models.ldamodel.LdaModel at 0x7fe1cddf2970>,\n",
              "  'coherence': <gensim.models.coherencemodel.CoherenceModel at 0x7fe1cddf29a0>,\n",
              "  'params': [6, 0.9099999999999999, 'auto']},\n",
              " {'model': <gensim.models.ldamodel.LdaModel at 0x7fe1cddf2160>,\n",
              "  'coherence': <gensim.models.coherencemodel.CoherenceModel at 0x7fe1cddf2a60>,\n",
              "  'params': [6, 0.9099999999999999, 'symmetric']},\n",
              " {'model': <gensim.models.ldamodel.LdaModel at 0x7fe1cddf2850>,\n",
              "  'coherence': <gensim.models.coherencemodel.CoherenceModel at 0x7fe1cddf2460>,\n",
              "  'params': [6, 'auto', 0.01]},\n",
              " {'model': <gensim.models.ldamodel.LdaModel at 0x7fe1cddf2c40>,\n",
              "  'coherence': <gensim.models.coherencemodel.CoherenceModel at 0x7fe1cddf2a90>,\n",
              "  'params': [6, 'auto', 0.31]},\n",
              " {'model': <gensim.models.ldamodel.LdaModel at 0x7fe1cddf2b20>,\n",
              "  'coherence': <gensim.models.coherencemodel.CoherenceModel at 0x7fe1cddf2a30>,\n",
              "  'params': [6, 'auto', 0.61]},\n",
              " {'model': <gensim.models.ldamodel.LdaModel at 0x7fe1cddf2dc0>,\n",
              "  'coherence': <gensim.models.coherencemodel.CoherenceModel at 0x7fe1cdd83ac0>,\n",
              "  'params': [6, 'auto', 0.9099999999999999]},\n",
              " {'model': <gensim.models.ldamodel.LdaModel at 0x7fe1cddf2cd0>,\n",
              "  'coherence': <gensim.models.coherencemodel.CoherenceModel at 0x7fe1cddf2ac0>,\n",
              "  'params': [6, 'auto', 'auto']},\n",
              " {'model': <gensim.models.ldamodel.LdaModel at 0x7fe1cddf2ca0>,\n",
              "  'coherence': <gensim.models.coherencemodel.CoherenceModel at 0x7fe1d0576eb0>,\n",
              "  'params': [6, 'auto', 'symmetric']},\n",
              " {'model': <gensim.models.ldamodel.LdaModel at 0x7fe1cddf2f10>,\n",
              "  'coherence': <gensim.models.coherencemodel.CoherenceModel at 0x7fe1cddf2fd0>,\n",
              "  'params': [6, 'symmetric', 0.01]},\n",
              " {'model': <gensim.models.ldamodel.LdaModel at 0x7fe1cddf2d00>,\n",
              "  'coherence': <gensim.models.coherencemodel.CoherenceModel at 0x7fe1cddf2f70>,\n",
              "  'params': [6, 'symmetric', 0.31]},\n",
              " {'model': <gensim.models.ldamodel.LdaModel at 0x7fe1cddf2e80>,\n",
              "  'coherence': <gensim.models.coherencemodel.CoherenceModel at 0x7fe1cddc2220>,\n",
              "  'params': [6, 'symmetric', 0.61]},\n",
              " {'model': <gensim.models.ldamodel.LdaModel at 0x7fe1cddc2160>,\n",
              "  'coherence': <gensim.models.coherencemodel.CoherenceModel at 0x7fe1cddc23d0>,\n",
              "  'params': [6, 'symmetric', 0.9099999999999999]},\n",
              " {'model': <gensim.models.ldamodel.LdaModel at 0x7fe1cddc20a0>,\n",
              "  'coherence': <gensim.models.coherencemodel.CoherenceModel at 0x7fe1cddc23a0>,\n",
              "  'params': [6, 'symmetric', 'auto']},\n",
              " {'model': <gensim.models.ldamodel.LdaModel at 0x7fe1cddc20d0>,\n",
              "  'coherence': <gensim.models.coherencemodel.CoherenceModel at 0x7fe1cddf2e50>,\n",
              "  'params': [6, 'symmetric', 'symmetric']},\n",
              " {'model': <gensim.models.ldamodel.LdaModel at 0x7fe1cddc2580>,\n",
              "  'coherence': <gensim.models.coherencemodel.CoherenceModel at 0x7fe1cddc2520>,\n",
              "  'params': [6, 'asymmetric', 0.01]},\n",
              " {'model': <gensim.models.ldamodel.LdaModel at 0x7fe1cddc2310>,\n",
              "  'coherence': <gensim.models.coherencemodel.CoherenceModel at 0x7fe1cddc2610>,\n",
              "  'params': [6, 'asymmetric', 0.31]},\n",
              " {'model': <gensim.models.ldamodel.LdaModel at 0x7fe1cddc2340>,\n",
              "  'coherence': <gensim.models.coherencemodel.CoherenceModel at 0x7fe1cddc2640>,\n",
              "  'params': [6, 'asymmetric', 0.61]},\n",
              " {'model': <gensim.models.ldamodel.LdaModel at 0x7fe1cddc2460>,\n",
              "  'coherence': <gensim.models.coherencemodel.CoherenceModel at 0x7fe1cddf2af0>,\n",
              "  'params': [6, 'asymmetric', 0.9099999999999999]},\n",
              " {'model': <gensim.models.ldamodel.LdaModel at 0x7fe1cddc2370>,\n",
              "  'coherence': <gensim.models.coherencemodel.CoherenceModel at 0x7fe1cddc27f0>,\n",
              "  'params': [6, 'asymmetric', 'auto']},\n",
              " {'model': <gensim.models.ldamodel.LdaModel at 0x7fe1cddc22b0>,\n",
              "  'coherence': <gensim.models.coherencemodel.CoherenceModel at 0x7fe1cddc2670>,\n",
              "  'params': [6, 'asymmetric', 'symmetric']},\n",
              " {'model': <gensim.models.ldamodel.LdaModel at 0x7fe1cddc28b0>,\n",
              "  'coherence': <gensim.models.coherencemodel.CoherenceModel at 0x7fe1cddc2040>,\n",
              "  'params': [7, 0.01, 0.01]},\n",
              " {'model': <gensim.models.ldamodel.LdaModel at 0x7fe1cddc2850>,\n",
              "  'coherence': <gensim.models.coherencemodel.CoherenceModel at 0x7fe1cddc29a0>,\n",
              "  'params': [7, 0.01, 0.31]},\n",
              " {'model': <gensim.models.ldamodel.LdaModel at 0x7fe1cddc2940>,\n",
              "  'coherence': <gensim.models.coherencemodel.CoherenceModel at 0x7fe1cddc2af0>,\n",
              "  'params': [7, 0.01, 0.61]},\n",
              " {'model': <gensim.models.ldamodel.LdaModel at 0x7fe1cddc2a90>,\n",
              "  'coherence': <gensim.models.coherencemodel.CoherenceModel at 0x7fe1cddc2a30>,\n",
              "  'params': [7, 0.01, 0.9099999999999999]},\n",
              " {'model': <gensim.models.ldamodel.LdaModel at 0x7fe1cddc2ac0>,\n",
              "  'coherence': <gensim.models.coherencemodel.CoherenceModel at 0x7fe1cddc2d00>,\n",
              "  'params': [7, 0.01, 'auto']},\n",
              " {'model': <gensim.models.ldamodel.LdaModel at 0x7fe1cddc2ca0>,\n",
              "  'coherence': <gensim.models.coherencemodel.CoherenceModel at 0x7fe1cddc2b80>,\n",
              "  'params': [7, 0.01, 'symmetric']},\n",
              " {'model': <gensim.models.ldamodel.LdaModel at 0x7fe1cddc2c70>,\n",
              "  'coherence': <gensim.models.coherencemodel.CoherenceModel at 0x7fe1cddc2c10>,\n",
              "  'params': [7, 0.31, 0.01]},\n",
              " {'model': <gensim.models.ldamodel.LdaModel at 0x7fe1cddc2ee0>,\n",
              "  'coherence': <gensim.models.coherencemodel.CoherenceModel at 0x7fe1cddc2f70>,\n",
              "  'params': [7, 0.31, 0.31]},\n",
              " {'model': <gensim.models.ldamodel.LdaModel at 0x7fe1cddc2d30>,\n",
              "  'coherence': <gensim.models.coherencemodel.CoherenceModel at 0x7fe1cddc2dc0>,\n",
              "  'params': [7, 0.31, 0.61]},\n",
              " {'model': <gensim.models.ldamodel.LdaModel at 0x7fe1cddc2d60>,\n",
              "  'coherence': <gensim.models.coherencemodel.CoherenceModel at 0x7fe1cddc2e20>,\n",
              "  'params': [7, 0.31, 0.9099999999999999]},\n",
              " {'model': <gensim.models.ldamodel.LdaModel at 0x7fe1cddc2cd0>,\n",
              "  'coherence': <gensim.models.coherencemodel.CoherenceModel at 0x7fe1cddc2fd0>,\n",
              "  'params': [7, 0.31, 'auto']},\n",
              " {'model': <gensim.models.ldamodel.LdaModel at 0x7fe1cddc2f10>,\n",
              "  'coherence': <gensim.models.coherencemodel.CoherenceModel at 0x7fe1cddfd130>,\n",
              "  'params': [7, 0.31, 'symmetric']},\n",
              " {'model': <gensim.models.ldamodel.LdaModel at 0x7fe1cddfd0d0>,\n",
              "  'coherence': <gensim.models.coherencemodel.CoherenceModel at 0x7fe1cddfd040>,\n",
              "  'params': [7, 0.61, 0.01]},\n",
              " {'model': <gensim.models.ldamodel.LdaModel at 0x7fe1cddfd190>,\n",
              "  'coherence': <gensim.models.coherencemodel.CoherenceModel at 0x7fe1cddfd3d0>,\n",
              "  'params': [7, 0.61, 0.31]},\n",
              " {'model': <gensim.models.ldamodel.LdaModel at 0x7fe1cddfd1c0>,\n",
              "  'coherence': <gensim.models.coherencemodel.CoherenceModel at 0x7fe1cddfd520>,\n",
              "  'params': [7, 0.61, 0.61]},\n",
              " {'model': <gensim.models.ldamodel.LdaModel at 0x7fe1cddfd280>,\n",
              "  'coherence': <gensim.models.coherencemodel.CoherenceModel at 0x7fe1cddfd550>,\n",
              "  'params': [7, 0.61, 0.9099999999999999]},\n",
              " {'model': <gensim.models.ldamodel.LdaModel at 0x7fe1cddfd4f0>,\n",
              "  'coherence': <gensim.models.coherencemodel.CoherenceModel at 0x7fe1cdd83f70>,\n",
              "  'params': [7, 0.61, 'auto']},\n",
              " {'model': <gensim.models.ldamodel.LdaModel at 0x7fe1cddfd460>,\n",
              "  'coherence': <gensim.models.coherencemodel.CoherenceModel at 0x7fe1cddfd0a0>,\n",
              "  'params': [7, 0.61, 'symmetric']},\n",
              " {'model': <gensim.models.ldamodel.LdaModel at 0x7fe1cddfd6a0>,\n",
              "  'coherence': <gensim.models.coherencemodel.CoherenceModel at 0x7fe1cddfd580>,\n",
              "  'params': [7, 0.9099999999999999, 0.01]},\n",
              " {'model': <gensim.models.ldamodel.LdaModel at 0x7fe1cddfd640>,\n",
              "  'coherence': <gensim.models.coherencemodel.CoherenceModel at 0x7fe1cddfd7c0>,\n",
              "  'params': [7, 0.9099999999999999, 0.31]},\n",
              " {'model': <gensim.models.ldamodel.LdaModel at 0x7fe1cddfd820>,\n",
              "  'coherence': <gensim.models.coherencemodel.CoherenceModel at 0x7fe1cddfd4c0>,\n",
              "  'params': [7, 0.9099999999999999, 0.61]},\n",
              " {'model': <gensim.models.ldamodel.LdaModel at 0x7fe1cddfd790>,\n",
              "  'coherence': <gensim.models.coherencemodel.CoherenceModel at 0x7fe1cddfd100>,\n",
              "  'params': [7, 0.9099999999999999, 0.9099999999999999]},\n",
              " {'model': <gensim.models.ldamodel.LdaModel at 0x7fe1cddfd8b0>,\n",
              "  'coherence': <gensim.models.coherencemodel.CoherenceModel at 0x7fe1cddfd760>,\n",
              "  'params': [7, 0.9099999999999999, 'auto']},\n",
              " {'model': <gensim.models.ldamodel.LdaModel at 0x7fe1cddfd700>,\n",
              "  'coherence': <gensim.models.coherencemodel.CoherenceModel at 0x7fe1cddfdbe0>,\n",
              "  'params': [7, 0.9099999999999999, 'symmetric']},\n",
              " {'model': <gensim.models.ldamodel.LdaModel at 0x7fe1cddfd6d0>,\n",
              "  'coherence': <gensim.models.coherencemodel.CoherenceModel at 0x7fe1cddfd8e0>,\n",
              "  'params': [7, 'auto', 0.01]},\n",
              " {'model': <gensim.models.ldamodel.LdaModel at 0x7fe1cddfd9a0>,\n",
              "  'coherence': <gensim.models.coherencemodel.CoherenceModel at 0x7fe1cddfdd00>,\n",
              "  'params': [7, 'auto', 0.31]},\n",
              " {'model': <gensim.models.ldamodel.LdaModel at 0x7fe1cddfdc40>,\n",
              "  'coherence': <gensim.models.coherencemodel.CoherenceModel at 0x7fe1cddfd940>,\n",
              "  'params': [7, 'auto', 0.61]},\n",
              " {'model': <gensim.models.ldamodel.LdaModel at 0x7fe1cddfdd60>,\n",
              "  'coherence': <gensim.models.coherencemodel.CoherenceModel at 0x7fe1cddfd850>,\n",
              "  'params': [7, 'auto', 0.9099999999999999]},\n",
              " {'model': <gensim.models.ldamodel.LdaModel at 0x7fe1cddfda30>,\n",
              "  'coherence': <gensim.models.coherencemodel.CoherenceModel at 0x7fe1cddfdee0>,\n",
              "  'params': [7, 'auto', 'auto']},\n",
              " {'model': <gensim.models.ldamodel.LdaModel at 0x7fe1cddfdb80>,\n",
              "  'coherence': <gensim.models.coherencemodel.CoherenceModel at 0x7fe1cddf2b80>,\n",
              "  'params': [7, 'auto', 'symmetric']},\n",
              " {'model': <gensim.models.ldamodel.LdaModel at 0x7fe1cddfde50>,\n",
              "  'coherence': <gensim.models.coherencemodel.CoherenceModel at 0x7fe1cddfdf70>,\n",
              "  'params': [7, 'symmetric', 0.01]},\n",
              " {'model': <gensim.models.ldamodel.LdaModel at 0x7fe1cddfdfa0>,\n",
              "  'coherence': <gensim.models.coherencemodel.CoherenceModel at 0x7fe1cddfdb20>,\n",
              "  'params': [7, 'symmetric', 0.31]},\n",
              " {'model': <gensim.models.ldamodel.LdaModel at 0x7fe1cddfdd90>,\n",
              "  'coherence': <gensim.models.coherencemodel.CoherenceModel at 0x7fe1cddfda00>,\n",
              "  'params': [7, 'symmetric', 0.61]},\n",
              " {'model': <gensim.models.ldamodel.LdaModel at 0x7fe1cdedb0a0>,\n",
              "  'coherence': <gensim.models.coherencemodel.CoherenceModel at 0x7fe1cdedb1f0>,\n",
              "  'params': [7, 'symmetric', 0.9099999999999999]},\n",
              " {'model': <gensim.models.ldamodel.LdaModel at 0x7fe1cdedb1c0>,\n",
              "  'coherence': <gensim.models.coherencemodel.CoherenceModel at 0x7fe1cddfdf40>,\n",
              "  'params': [7, 'symmetric', 'auto']},\n",
              " {'model': <gensim.models.ldamodel.LdaModel at 0x7fe1cdedb2e0>,\n",
              "  'coherence': <gensim.models.coherencemodel.CoherenceModel at 0x7fe1cdedb3a0>,\n",
              "  'params': [7, 'symmetric', 'symmetric']},\n",
              " {'model': <gensim.models.ldamodel.LdaModel at 0x7fe1cdedb280>,\n",
              "  'coherence': <gensim.models.coherencemodel.CoherenceModel at 0x7fe1cdedb5e0>,\n",
              "  'params': [7, 'asymmetric', 0.01]},\n",
              " {'model': <gensim.models.ldamodel.LdaModel at 0x7fe1cdedb430>,\n",
              "  'coherence': <gensim.models.coherencemodel.CoherenceModel at 0x7fe1cdedb610>,\n",
              "  'params': [7, 'asymmetric', 0.31]},\n",
              " {'model': <gensim.models.ldamodel.LdaModel at 0x7fe1cdedb2b0>,\n",
              "  'coherence': <gensim.models.coherencemodel.CoherenceModel at 0x7fe1cdedb520>,\n",
              "  'params': [7, 'asymmetric', 0.61]},\n",
              " {'model': <gensim.models.ldamodel.LdaModel at 0x7fe1cdedb670>,\n",
              "  'coherence': <gensim.models.coherencemodel.CoherenceModel at 0x7fe1cdedb730>,\n",
              "  'params': [7, 'asymmetric', 0.9099999999999999]},\n",
              " {'model': <gensim.models.ldamodel.LdaModel at 0x7fe1cdedb7c0>,\n",
              "  'coherence': <gensim.models.coherencemodel.CoherenceModel at 0x7fe1cdedb7f0>,\n",
              "  'params': [7, 'asymmetric', 'auto']},\n",
              " {'model': <gensim.models.ldamodel.LdaModel at 0x7fe1cdedb6d0>,\n",
              "  'coherence': <gensim.models.coherencemodel.CoherenceModel at 0x7fe1cdedb940>,\n",
              "  'params': [7, 'asymmetric', 'symmetric']},\n",
              " {'model': <gensim.models.ldamodel.LdaModel at 0x7fe1cdedb4c0>,\n",
              "  'coherence': <gensim.models.coherencemodel.CoherenceModel at 0x7fe1cdedb250>,\n",
              "  'params': [8, 0.01, 0.01]},\n",
              " {'model': <gensim.models.ldamodel.LdaModel at 0x7fe1cdedb970>,\n",
              "  'coherence': <gensim.models.coherencemodel.CoherenceModel at 0x7fe1cdedbac0>,\n",
              "  'params': [8, 0.01, 0.31]},\n",
              " {'model': <gensim.models.ldamodel.LdaModel at 0x7fe1cdedb8b0>,\n",
              "  'coherence': <gensim.models.coherencemodel.CoherenceModel at 0x7fe1cdedbb50>,\n",
              "  'params': [8, 0.01, 0.61]},\n",
              " {'model': <gensim.models.ldamodel.LdaModel at 0x7fe1cdedb9a0>,\n",
              "  'coherence': <gensim.models.coherencemodel.CoherenceModel at 0x7fe1cdedbcd0>,\n",
              "  'params': [8, 0.01, 0.9099999999999999]},\n",
              " {'model': <gensim.models.ldamodel.LdaModel at 0x7fe1cdedbbb0>,\n",
              "  'coherence': <gensim.models.coherencemodel.CoherenceModel at 0x7fe1cdedbc40>,\n",
              "  'params': [8, 0.01, 'auto']},\n",
              " {'model': <gensim.models.ldamodel.LdaModel at 0x7fe1cdedbd00>,\n",
              "  'coherence': <gensim.models.coherencemodel.CoherenceModel at 0x7fe1cdedba90>,\n",
              "  'params': [8, 0.01, 'symmetric']},\n",
              " {'model': <gensim.models.ldamodel.LdaModel at 0x7fe1cdedbb80>,\n",
              "  'coherence': <gensim.models.coherencemodel.CoherenceModel at 0x7fe1cdedb820>,\n",
              "  'params': [8, 0.31, 0.01]},\n",
              " {'model': <gensim.models.ldamodel.LdaModel at 0x7fe1cdedbdc0>,\n",
              "  'coherence': <gensim.models.coherencemodel.CoherenceModel at 0x7fe1cddfddc0>,\n",
              "  'params': [8, 0.31, 0.31]},\n",
              " {'model': <gensim.models.ldamodel.LdaModel at 0x7fe1cdedbdf0>,\n",
              "  'coherence': <gensim.models.coherencemodel.CoherenceModel at 0x7fe1cddc2fa0>,\n",
              "  'params': [8, 0.31, 0.61]},\n",
              " {'model': <gensim.models.ldamodel.LdaModel at 0x7fe1cdedb9d0>,\n",
              "  'coherence': <gensim.models.coherencemodel.CoherenceModel at 0x7fe1cdedbc10>,\n",
              "  'params': [8, 0.31, 0.9099999999999999]},\n",
              " {'model': <gensim.models.ldamodel.LdaModel at 0x7fe1cdedbfd0>,\n",
              "  'coherence': <gensim.models.coherencemodel.CoherenceModel at 0x7fe1cdedbf70>,\n",
              "  'params': [8, 0.31, 'auto']},\n",
              " {'model': <gensim.models.ldamodel.LdaModel at 0x7fe1cdedbfa0>,\n",
              "  'coherence': <gensim.models.coherencemodel.CoherenceModel at 0x7fe1cdedbd90>,\n",
              "  'params': [8, 0.31, 'symmetric']},\n",
              " {'model': <gensim.models.ldamodel.LdaModel at 0x7fe1cdedbe50>,\n",
              "  'coherence': <gensim.models.coherencemodel.CoherenceModel at 0x7fe1cdede280>,\n",
              "  'params': [8, 0.61, 0.01]},\n",
              " {'model': <gensim.models.ldamodel.LdaModel at 0x7fe1cdede130>,\n",
              "  'coherence': <gensim.models.coherencemodel.CoherenceModel at 0x7fe1cdede3d0>,\n",
              "  'params': [8, 0.61, 0.31]},\n",
              " {'model': <gensim.models.ldamodel.LdaModel at 0x7fe1cdede370>,\n",
              "  'coherence': <gensim.models.coherencemodel.CoherenceModel at 0x7fe1cdede100>,\n",
              "  'params': [8, 0.61, 0.61]},\n",
              " {'model': <gensim.models.ldamodel.LdaModel at 0x7fe1cdede3a0>,\n",
              "  'coherence': <gensim.models.coherencemodel.CoherenceModel at 0x7fe1cdede520>,\n",
              "  'params': [8, 0.61, 0.9099999999999999]},\n",
              " {'model': <gensim.models.ldamodel.LdaModel at 0x7fe1cdede490>,\n",
              "  'coherence': <gensim.models.coherencemodel.CoherenceModel at 0x7fe1cdede4c0>,\n",
              "  'params': [8, 0.61, 'auto']},\n",
              " {'model': <gensim.models.ldamodel.LdaModel at 0x7fe1cdede190>,\n",
              "  'coherence': <gensim.models.coherencemodel.CoherenceModel at 0x7fe1cdede340>,\n",
              "  'params': [8, 0.61, 'symmetric']},\n",
              " {'model': <gensim.models.ldamodel.LdaModel at 0x7fe1cdede670>,\n",
              "  'coherence': <gensim.models.coherencemodel.CoherenceModel at 0x7fe1cdede700>,\n",
              "  'params': [8, 0.9099999999999999, 0.01]},\n",
              " {'model': <gensim.models.ldamodel.LdaModel at 0x7fe1cdede4f0>,\n",
              "  'coherence': <gensim.models.coherencemodel.CoherenceModel at 0x7fe1cdede820>,\n",
              "  'params': [8, 0.9099999999999999, 0.31]},\n",
              " {'model': <gensim.models.ldamodel.LdaModel at 0x7fe1cdede2e0>,\n",
              "  'coherence': <gensim.models.coherencemodel.CoherenceModel at 0x7fe1cdede6d0>,\n",
              "  'params': [8, 0.9099999999999999, 0.61]},\n",
              " {'model': <gensim.models.ldamodel.LdaModel at 0x7fe1cdede640>,\n",
              "  'coherence': <gensim.models.coherencemodel.CoherenceModel at 0x7fe1cdede9d0>,\n",
              "  'params': [8, 0.9099999999999999, 0.9099999999999999]},\n",
              " {'model': <gensim.models.ldamodel.LdaModel at 0x7fe1cdede790>,\n",
              "  'coherence': <gensim.models.coherencemodel.CoherenceModel at 0x7fe1cdedea30>,\n",
              "  'params': [8, 0.9099999999999999, 'auto']},\n",
              " {'model': <gensim.models.ldamodel.LdaModel at 0x7fe1cdedea60>,\n",
              "  'coherence': <gensim.models.coherencemodel.CoherenceModel at 0x7fe1cdede9a0>,\n",
              "  'params': [8, 0.9099999999999999, 'symmetric']},\n",
              " {'model': <gensim.models.ldamodel.LdaModel at 0x7fe1cdedeb20>,\n",
              "  'coherence': <gensim.models.coherencemodel.CoherenceModel at 0x7fe1cdedebe0>,\n",
              "  'params': [8, 'auto', 0.01]},\n",
              " {'model': <gensim.models.ldamodel.LdaModel at 0x7fe1cdede940>,\n",
              "  'coherence': <gensim.models.coherencemodel.CoherenceModel at 0x7fe1cdede1f0>,\n",
              "  'params': [8, 'auto', 0.31]},\n",
              " {'model': <gensim.models.ldamodel.LdaModel at 0x7fe1cdedea90>,\n",
              "  'coherence': <gensim.models.coherencemodel.CoherenceModel at 0x7fe1cdeded90>,\n",
              "  'params': [8, 'auto', 0.61]},\n",
              " {'model': <gensim.models.ldamodel.LdaModel at 0x7fe1cdedec40>,\n",
              "  'coherence': <gensim.models.coherencemodel.CoherenceModel at 0x7fe1cdeded00>,\n",
              "  'params': [8, 'auto', 0.9099999999999999]},\n",
              " {'model': <gensim.models.ldamodel.LdaModel at 0x7fe1cdedebb0>,\n",
              "  'coherence': <gensim.models.coherencemodel.CoherenceModel at 0x7fe1cdedeac0>,\n",
              "  'params': [8, 'auto', 'auto']},\n",
              " {'model': <gensim.models.ldamodel.LdaModel at 0x7fe1cdedeca0>,\n",
              "  'coherence': <gensim.models.coherencemodel.CoherenceModel at 0x7fe1cdedef40>,\n",
              "  'params': [8, 'auto', 'symmetric']},\n",
              " {'model': <gensim.models.ldamodel.LdaModel at 0x7fe1cdedeb50>,\n",
              "  'coherence': <gensim.models.coherencemodel.CoherenceModel at 0x7fe1cdedefd0>,\n",
              "  'params': [8, 'symmetric', 0.01]},\n",
              " {'model': <gensim.models.ldamodel.LdaModel at 0x7fe1cdedecd0>,\n",
              "  'coherence': <gensim.models.coherencemodel.CoherenceModel at 0x7fe1cdedee50>,\n",
              "  'params': [8, 'symmetric', 0.31]},\n",
              " {'model': <gensim.models.ldamodel.LdaModel at 0x7fe1cdedefa0>,\n",
              "  'coherence': <gensim.models.coherencemodel.CoherenceModel at 0x7fe1cdededc0>,\n",
              "  'params': [8, 'symmetric', 0.61]},\n",
              " {'model': <gensim.models.ldamodel.LdaModel at 0x7fe1cdfac250>,\n",
              "  'coherence': <gensim.models.coherencemodel.CoherenceModel at 0x7fe1cdedeb80>,\n",
              "  'params': [8, 'symmetric', 0.9099999999999999]},\n",
              " {'model': <gensim.models.ldamodel.LdaModel at 0x7fe1cdfac340>,\n",
              "  'coherence': <gensim.models.coherencemodel.CoherenceModel at 0x7fe1cdfac460>,\n",
              "  'params': [8, 'symmetric', 'auto']},\n",
              " {'model': <gensim.models.ldamodel.LdaModel at 0x7fe1cdfac310>,\n",
              "  'coherence': <gensim.models.coherencemodel.CoherenceModel at 0x7fe1cdfac400>,\n",
              "  'params': [8, 'symmetric', 'symmetric']},\n",
              " {'model': <gensim.models.ldamodel.LdaModel at 0x7fe1cdfac1f0>,\n",
              "  'coherence': <gensim.models.coherencemodel.CoherenceModel at 0x7fe1cdfac5e0>,\n",
              "  'params': [8, 'asymmetric', 0.01]},\n",
              " {'model': <gensim.models.ldamodel.LdaModel at 0x7fe1cdfac160>,\n",
              "  'coherence': <gensim.models.coherencemodel.CoherenceModel at 0x7fe1cdfac190>,\n",
              "  'params': [8, 'asymmetric', 0.31]},\n",
              " {'model': <gensim.models.ldamodel.LdaModel at 0x7fe1cdfac2e0>,\n",
              "  'coherence': <gensim.models.coherencemodel.CoherenceModel at 0x7fe1cdfac3d0>,\n",
              "  'params': [8, 'asymmetric', 0.61]},\n",
              " {'model': <gensim.models.ldamodel.LdaModel at 0x7fe1cdfac2b0>,\n",
              "  'coherence': <gensim.models.coherencemodel.CoherenceModel at 0x7fe1cdfac850>,\n",
              "  'params': [8, 'asymmetric', 0.9099999999999999]},\n",
              " {'model': <gensim.models.ldamodel.LdaModel at 0x7fe1cdfac670>,\n",
              "  'coherence': <gensim.models.coherencemodel.CoherenceModel at 0x7fe1cdfac6d0>,\n",
              "  'params': [8, 'asymmetric', 'auto']},\n",
              " {'model': <gensim.models.ldamodel.LdaModel at 0x7fe1cdfac7c0>,\n",
              "  'coherence': <gensim.models.coherencemodel.CoherenceModel at 0x7fe1cdfac820>,\n",
              "  'params': [8, 'asymmetric', 'symmetric']},\n",
              " {'model': <gensim.models.ldamodel.LdaModel at 0x7fe1cdfac550>,\n",
              "  'coherence': <gensim.models.coherencemodel.CoherenceModel at 0x7fe1cdfac9d0>,\n",
              "  'params': [9, 0.01, 0.01]},\n",
              " {'model': <gensim.models.ldamodel.LdaModel at 0x7fe1cdfac790>,\n",
              "  'coherence': <gensim.models.coherencemodel.CoherenceModel at 0x7fe1cdfaca90>,\n",
              "  'params': [9, 0.01, 0.31]},\n",
              " {'model': <gensim.models.ldamodel.LdaModel at 0x7fe1cdfac7f0>,\n",
              "  'coherence': <gensim.models.coherencemodel.CoherenceModel at 0x7fe1cdfacac0>,\n",
              "  'params': [9, 0.01, 0.61]},\n",
              " {'model': <gensim.models.ldamodel.LdaModel at 0x7fe1cdfac970>,\n",
              "  'coherence': <gensim.models.coherencemodel.CoherenceModel at 0x7fe1cdfacb80>,\n",
              "  'params': [9, 0.01, 0.9099999999999999]},\n",
              " {'model': <gensim.models.ldamodel.LdaModel at 0x7fe1cdfac640>,\n",
              "  'coherence': <gensim.models.coherencemodel.CoherenceModel at 0x7fe1cdfac940>,\n",
              "  'params': [9, 0.01, 'auto']},\n",
              " {'model': <gensim.models.ldamodel.LdaModel at 0x7fe1cdfaca30>,\n",
              "  'coherence': <gensim.models.coherencemodel.CoherenceModel at 0x7fe1cdfacd90>,\n",
              "  'params': [9, 0.01, 'symmetric']},\n",
              " {'model': <gensim.models.ldamodel.LdaModel at 0x7fe1cdfacdf0>,\n",
              "  'coherence': <gensim.models.coherencemodel.CoherenceModel at 0x7fe1cdfacd60>,\n",
              "  'params': [9, 0.31, 0.01]},\n",
              " {'model': <gensim.models.ldamodel.LdaModel at 0x7fe1cdfaccd0>,\n",
              "  'coherence': <gensim.models.coherencemodel.CoherenceModel at 0x7fe1cdface50>,\n",
              "  'params': [9, 0.31, 0.31]},\n",
              " {'model': <gensim.models.ldamodel.LdaModel at 0x7fe1cdfacee0>,\n",
              "  'coherence': <gensim.models.coherencemodel.CoherenceModel at 0x7fe1cdedbe80>,\n",
              "  'params': [9, 0.31, 0.61]},\n",
              " {'model': <gensim.models.ldamodel.LdaModel at 0x7fe1cdfacc40>,\n",
              "  'coherence': <gensim.models.coherencemodel.CoherenceModel at 0x7fe1cdfacfa0>,\n",
              "  'params': [9, 0.31, 0.9099999999999999]},\n",
              " {'model': <gensim.models.ldamodel.LdaModel at 0x7fe1cdfacfd0>,\n",
              "  'coherence': <gensim.models.coherencemodel.CoherenceModel at 0x7fe1cdfacb20>,\n",
              "  'params': [9, 0.31, 'auto']},\n",
              " {'model': <gensim.models.ldamodel.LdaModel at 0x7fe1cdface80>,\n",
              "  'coherence': <gensim.models.coherencemodel.CoherenceModel at 0x7fe1cdf952e0>,\n",
              "  'params': [9, 0.31, 'symmetric']},\n",
              " {'model': <gensim.models.ldamodel.LdaModel at 0x7fe1cdf95160>,\n",
              "  'coherence': <gensim.models.coherencemodel.CoherenceModel at 0x7fe1cdedbeb0>,\n",
              "  'params': [9, 0.61, 0.01]},\n",
              " {'model': <gensim.models.ldamodel.LdaModel at 0x7fe1cdf951f0>,\n",
              "  'coherence': <gensim.models.coherencemodel.CoherenceModel at 0x7fe1cdf95400>,\n",
              "  'params': [9, 0.61, 0.31]},\n",
              " {'model': <gensim.models.ldamodel.LdaModel at 0x7fe1cdf953a0>,\n",
              "  'coherence': <gensim.models.coherencemodel.CoherenceModel at 0x7fe1cdf951c0>,\n",
              "  'params': [9, 0.61, 0.61]},\n",
              " {'model': <gensim.models.ldamodel.LdaModel at 0x7fe1cdf95220>,\n",
              "  'coherence': <gensim.models.coherencemodel.CoherenceModel at 0x7fe1cdf95430>,\n",
              "  'params': [9, 0.61, 0.9099999999999999]},\n",
              " {'model': <gensim.models.ldamodel.LdaModel at 0x7fe1cdf95460>,\n",
              "  'coherence': <gensim.models.coherencemodel.CoherenceModel at 0x7fe1cdf95520>,\n",
              "  'params': [9, 0.61, 'auto']},\n",
              " {'model': <gensim.models.ldamodel.LdaModel at 0x7fe1cdf95130>,\n",
              "  'coherence': <gensim.models.coherencemodel.CoherenceModel at 0x7fe1cdf956d0>,\n",
              "  'params': [9, 0.61, 'symmetric']},\n",
              " {'model': <gensim.models.ldamodel.LdaModel at 0x7fe1cdf95670>,\n",
              "  'coherence': <gensim.models.coherencemodel.CoherenceModel at 0x7fe1cdf954c0>,\n",
              "  'params': [9, 0.9099999999999999, 0.01]},\n",
              " {'model': <gensim.models.ldamodel.LdaModel at 0x7fe1cdf95700>,\n",
              "  'coherence': <gensim.models.coherencemodel.CoherenceModel at 0x7fe1cdf95550>,\n",
              "  'params': [9, 0.9099999999999999, 0.31]},\n",
              " {'model': <gensim.models.ldamodel.LdaModel at 0x7fe1cdf95760>,\n",
              "  'coherence': <gensim.models.coherencemodel.CoherenceModel at 0x7fe1cdf954f0>,\n",
              "  'params': [9, 0.9099999999999999, 0.61]},\n",
              " {'model': <gensim.models.ldamodel.LdaModel at 0x7fe1cdf95730>,\n",
              "  'coherence': <gensim.models.coherencemodel.CoherenceModel at 0x7fe1cdf959a0>,\n",
              "  'params': [9, 0.9099999999999999, 0.9099999999999999]},\n",
              " {'model': <gensim.models.ldamodel.LdaModel at 0x7fe1cdf95940>,\n",
              "  'coherence': <gensim.models.coherencemodel.CoherenceModel at 0x7fe1cdf95a30>,\n",
              "  'params': [9, 0.9099999999999999, 'auto']},\n",
              " {'model': <gensim.models.ldamodel.LdaModel at 0x7fe1cdf959d0>,\n",
              "  'coherence': <gensim.models.coherencemodel.CoherenceModel at 0x7fe1cdf95a90>,\n",
              "  'params': [9, 0.9099999999999999, 'symmetric']},\n",
              " {'model': <gensim.models.ldamodel.LdaModel at 0x7fe1cdf958b0>,\n",
              "  'coherence': <gensim.models.coherencemodel.CoherenceModel at 0x7fe1cdf95640>,\n",
              "  'params': [9, 'auto', 0.01]},\n",
              " {'model': <gensim.models.ldamodel.LdaModel at 0x7fe1cdf955e0>,\n",
              "  'coherence': <gensim.models.coherencemodel.CoherenceModel at 0x7fe1cdf95b50>,\n",
              "  'params': [9, 'auto', 0.31]},\n",
              " {'model': <gensim.models.ldamodel.LdaModel at 0x7fe1cdf95c40>,\n",
              "  'coherence': <gensim.models.coherencemodel.CoherenceModel at 0x7fe1cdf95d30>,\n",
              "  'params': [9, 'auto', 0.61]},\n",
              " {'model': <gensim.models.ldamodel.LdaModel at 0x7fe1cdf95b80>,\n",
              "  'coherence': <gensim.models.coherencemodel.CoherenceModel at 0x7fe1cdf95af0>,\n",
              "  'params': [9, 'auto', 0.9099999999999999]},\n",
              " {'model': <gensim.models.ldamodel.LdaModel at 0x7fe1cdf95be0>,\n",
              "  'coherence': <gensim.models.coherencemodel.CoherenceModel at 0x7fe1cdfacf70>,\n",
              "  'params': [9, 'auto', 'auto']},\n",
              " {'model': <gensim.models.ldamodel.LdaModel at 0x7fe1cdf95cd0>,\n",
              "  'coherence': <gensim.models.coherencemodel.CoherenceModel at 0x7fe1cdf95d00>,\n",
              "  'params': [9, 'auto', 'symmetric']},\n",
              " {'model': <gensim.models.ldamodel.LdaModel at 0x7fe1cdf95e20>,\n",
              "  'coherence': <gensim.models.coherencemodel.CoherenceModel at 0x7fe1cdf95f40>,\n",
              "  'params': [9, 'symmetric', 0.01]},\n",
              " {'model': <gensim.models.ldamodel.LdaModel at 0x7fe1cdf95e80>,\n",
              "  'coherence': <gensim.models.coherencemodel.CoherenceModel at 0x7fe1cdf95fd0>,\n",
              "  'params': [9, 'symmetric', 0.31]},\n",
              " {'model': <gensim.models.ldamodel.LdaModel at 0x7fe1cdf95d90>,\n",
              "  'coherence': <gensim.models.coherencemodel.CoherenceModel at 0x7fe1cdfb1100>,\n",
              "  'params': [9, 'symmetric', 0.61]},\n",
              " {'model': <gensim.models.ldamodel.LdaModel at 0x7fe1cdfb10a0>,\n",
              "  'coherence': <gensim.models.coherencemodel.CoherenceModel at 0x7fe1cdfb1310>,\n",
              "  'params': [9, 'symmetric', 0.9099999999999999]},\n",
              " {'model': <gensim.models.ldamodel.LdaModel at 0x7fe1cdfb11c0>,\n",
              "  'coherence': <gensim.models.coherencemodel.CoherenceModel at 0x7fe1cdfb13a0>,\n",
              "  'params': [9, 'symmetric', 'auto']},\n",
              " {'model': <gensim.models.ldamodel.LdaModel at 0x7fe1cdfb1130>,\n",
              "  'coherence': <gensim.models.coherencemodel.CoherenceModel at 0x7fe1cdf95fa0>,\n",
              "  'params': [9, 'symmetric', 'symmetric']},\n",
              " {'model': <gensim.models.ldamodel.LdaModel at 0x7fe1cdfb1400>,\n",
              "  'coherence': <gensim.models.coherencemodel.CoherenceModel at 0x7fe1cdfb1460>,\n",
              "  'params': [9, 'asymmetric', 0.01]},\n",
              " {'model': <gensim.models.ldamodel.LdaModel at 0x7fe1cdfb1160>,\n",
              "  'coherence': <gensim.models.coherencemodel.CoherenceModel at 0x7fe1cdfb1580>,\n",
              "  'params': [9, 'asymmetric', 0.31]},\n",
              " {'model': <gensim.models.ldamodel.LdaModel at 0x7fe1cdfb12b0>,\n",
              "  'coherence': <gensim.models.coherencemodel.CoherenceModel at 0x7fe1cdfb16a0>,\n",
              "  'params': [9, 'asymmetric', 0.61]},\n",
              " {'model': <gensim.models.ldamodel.LdaModel at 0x7fe1cdfb14f0>,\n",
              "  'coherence': <gensim.models.coherencemodel.CoherenceModel at 0x7fe1cdfb14c0>,\n",
              "  'params': [9, 'asymmetric', 0.9099999999999999]},\n",
              " {'model': <gensim.models.ldamodel.LdaModel at 0x7fe1cdfb16d0>,\n",
              "  'coherence': <gensim.models.coherencemodel.CoherenceModel at 0x7fe1cdfb1820>,\n",
              "  'params': [9, 'asymmetric', 'auto']},\n",
              " {'model': <gensim.models.ldamodel.LdaModel at 0x7fe1cdfb15b0>,\n",
              "  'coherence': <gensim.models.coherencemodel.CoherenceModel at 0x7fe1cdfb19a0>,\n",
              "  'params': [9, 'asymmetric', 'symmetric']}]"
            ]
          },
          "metadata": {},
          "execution_count": 49
        }
      ]
    },
    {
      "cell_type": "code",
      "source": [
        "with open(r'/content/drive/MyDrive/Универ/lda_models1.pkl', 'wb') as f:\n",
        "    pickle.dump(lda_models, f)"
      ],
      "metadata": {
        "id": "lo0fjDSTiHWh"
      },
      "id": "lo0fjDSTiHWh",
      "execution_count": null,
      "outputs": []
    },
    {
      "cell_type": "code",
      "source": [
        "with open(r'/content/drive/MyDrive/Универ/lda_models1.pkl', 'rb') as f:\n",
        "    lda_loaded = pickle.load(f)"
      ],
      "metadata": {
        "id": "aB0--vUeiSt0"
      },
      "id": "aB0--vUeiSt0",
      "execution_count": null,
      "outputs": []
    },
    {
      "cell_type": "code",
      "source": [
        "lda_loaded"
      ],
      "metadata": {
        "colab": {
          "base_uri": "https://localhost:8080/"
        },
        "id": "8I850p2lkwxn",
        "outputId": "6f71d2d1-75aa-452d-e9d8-3bf9797555f9"
      },
      "id": "8I850p2lkwxn",
      "execution_count": null,
      "outputs": [
        {
          "output_type": "execute_result",
          "data": {
            "text/plain": [
              "[{'model': <gensim.models.ldamodel.LdaModel at 0x7fe1e1b431f0>,\n",
              "  'coherence': <gensim.models.coherencemodel.CoherenceModel at 0x7fe1cdfd5bb0>,\n",
              "  'params': [5, 0.01, 0.01]},\n",
              " {'model': <gensim.models.ldamodel.LdaModel at 0x7fe1c07e9430>,\n",
              "  'coherence': <gensim.models.coherencemodel.CoherenceModel at 0x7fe1c07e9ee0>,\n",
              "  'params': [5, 0.01, 0.31]},\n",
              " {'model': <gensim.models.ldamodel.LdaModel at 0x7fe1c07e95e0>,\n",
              "  'coherence': <gensim.models.coherencemodel.CoherenceModel at 0x7fe1c07e9b20>,\n",
              "  'params': [5, 0.01, 0.61]},\n",
              " {'model': <gensim.models.ldamodel.LdaModel at 0x7fe1c07e9b50>,\n",
              "  'coherence': <gensim.models.coherencemodel.CoherenceModel at 0x7fe1cdfda9d0>,\n",
              "  'params': [5, 0.01, 0.9099999999999999]},\n",
              " {'model': <gensim.models.ldamodel.LdaModel at 0x7fe1cdfdad30>,\n",
              "  'coherence': <gensim.models.coherencemodel.CoherenceModel at 0x7fe1cdfda190>,\n",
              "  'params': [5, 0.01, 'auto']},\n",
              " {'model': <gensim.models.ldamodel.LdaModel at 0x7fe1cdfda220>,\n",
              "  'coherence': <gensim.models.coherencemodel.CoherenceModel at 0x7fe1cdfda430>,\n",
              "  'params': [5, 0.01, 'symmetric']},\n",
              " {'model': <gensim.models.ldamodel.LdaModel at 0x7fe1cdfda5b0>,\n",
              "  'coherence': <gensim.models.coherencemodel.CoherenceModel at 0x7fe1cdfdab20>,\n",
              "  'params': [5, 0.31, 0.01]},\n",
              " {'model': <gensim.models.ldamodel.LdaModel at 0x7fe1cdfda490>,\n",
              "  'coherence': <gensim.models.coherencemodel.CoherenceModel at 0x7fe1cdfda730>,\n",
              "  'params': [5, 0.31, 0.31]},\n",
              " {'model': <gensim.models.ldamodel.LdaModel at 0x7fe1cdfda8b0>,\n",
              "  'coherence': <gensim.models.coherencemodel.CoherenceModel at 0x7fe1cdfdad60>,\n",
              "  'params': [5, 0.31, 0.61]},\n",
              " {'model': <gensim.models.ldamodel.LdaModel at 0x7fe1cdfda6d0>,\n",
              "  'coherence': <gensim.models.coherencemodel.CoherenceModel at 0x7fe1d05766a0>,\n",
              "  'params': [5, 0.31, 0.9099999999999999]},\n",
              " {'model': <gensim.models.ldamodel.LdaModel at 0x7fe1d0576b50>,\n",
              "  'coherence': <gensim.models.coherencemodel.CoherenceModel at 0x7fe1d0576ee0>,\n",
              "  'params': [5, 0.31, 'auto']},\n",
              " {'model': <gensim.models.ldamodel.LdaModel at 0x7fe1d0576490>,\n",
              "  'coherence': <gensim.models.coherencemodel.CoherenceModel at 0x7fe1d0576550>,\n",
              "  'params': [5, 0.31, 'symmetric']},\n",
              " {'model': <gensim.models.ldamodel.LdaModel at 0x7fe1d0576730>,\n",
              "  'coherence': <gensim.models.coherencemodel.CoherenceModel at 0x7fe1d0576520>,\n",
              "  'params': [5, 0.61, 0.01]},\n",
              " {'model': <gensim.models.ldamodel.LdaModel at 0x7fe1d0576a30>,\n",
              "  'coherence': <gensim.models.coherencemodel.CoherenceModel at 0x7fe1d0576d30>,\n",
              "  'params': [5, 0.61, 0.31]},\n",
              " {'model': <gensim.models.ldamodel.LdaModel at 0x7fe1d0576df0>,\n",
              "  'coherence': <gensim.models.coherencemodel.CoherenceModel at 0x7fe1d0576a60>,\n",
              "  'params': [5, 0.61, 0.61]},\n",
              " {'model': <gensim.models.ldamodel.LdaModel at 0x7fe1c9ef0790>,\n",
              "  'coherence': <gensim.models.coherencemodel.CoherenceModel at 0x7fe1c9ef0460>,\n",
              "  'params': [5, 0.61, 0.9099999999999999]},\n",
              " {'model': <gensim.models.ldamodel.LdaModel at 0x7fe1c9ef0250>,\n",
              "  'coherence': <gensim.models.coherencemodel.CoherenceModel at 0x7fe1c9ef04c0>,\n",
              "  'params': [5, 0.61, 'auto']},\n",
              " {'model': <gensim.models.ldamodel.LdaModel at 0x7fe1c9ef06a0>,\n",
              "  'coherence': <gensim.models.coherencemodel.CoherenceModel at 0x7fe1c9ef0820>,\n",
              "  'params': [5, 0.61, 'symmetric']},\n",
              " {'model': <gensim.models.ldamodel.LdaModel at 0x7fe1c9ef08b0>,\n",
              "  'coherence': <gensim.models.coherencemodel.CoherenceModel at 0x7fe1c9ef0c70>,\n",
              "  'params': [5, 0.9099999999999999, 0.01]},\n",
              " {'model': <gensim.models.ldamodel.LdaModel at 0x7fe1c9ef0ac0>,\n",
              "  'coherence': <gensim.models.coherencemodel.CoherenceModel at 0x7fe1c9ef0bb0>,\n",
              "  'params': [5, 0.9099999999999999, 0.31]},\n",
              " {'model': <gensim.models.ldamodel.LdaModel at 0x7fe1c9ef0e20>,\n",
              "  'coherence': <gensim.models.coherencemodel.CoherenceModel at 0x7fe1c9ef02e0>,\n",
              "  'params': [5, 0.9099999999999999, 0.61]},\n",
              " {'model': <gensim.models.ldamodel.LdaModel at 0x7fe1c9ef0040>,\n",
              "  'coherence': <gensim.models.coherencemodel.CoherenceModel at 0x7fe1c9ef0fd0>,\n",
              "  'params': [5, 0.9099999999999999, 0.9099999999999999]},\n",
              " {'model': <gensim.models.ldamodel.LdaModel at 0x7fe1c9ef0be0>,\n",
              "  'coherence': <gensim.models.coherencemodel.CoherenceModel at 0x7fe1c9ef0640>,\n",
              "  'params': [5, 0.9099999999999999, 'auto']},\n",
              " {'model': <gensim.models.ldamodel.LdaModel at 0x7fe1c9ef0940>,\n",
              "  'coherence': <gensim.models.coherencemodel.CoherenceModel at 0x7fe1c9ef00a0>,\n",
              "  'params': [5, 0.9099999999999999, 'symmetric']},\n",
              " {'model': <gensim.models.ldamodel.LdaModel at 0x7fe1c9ef0130>,\n",
              "  'coherence': <gensim.models.coherencemodel.CoherenceModel at 0x7fe1c9ef0220>,\n",
              "  'params': [5, 'auto', 0.01]},\n",
              " {'model': <gensim.models.ldamodel.LdaModel at 0x7fe1c9ef0490>,\n",
              "  'coherence': <gensim.models.coherencemodel.CoherenceModel at 0x7fe1c9ef0670>,\n",
              "  'params': [5, 'auto', 0.31]},\n",
              " {'model': <gensim.models.ldamodel.LdaModel at 0x7fe1c9ef0850>,\n",
              "  'coherence': <gensim.models.coherencemodel.CoherenceModel at 0x7fe1c9ef0dc0>,\n",
              "  'params': [5, 'auto', 0.61]},\n",
              " {'model': <gensim.models.ldamodel.LdaModel at 0x7fe1c9ef0ee0>,\n",
              "  'coherence': <gensim.models.coherencemodel.CoherenceModel at 0x7fe1c9ef0d30>,\n",
              "  'params': [5, 'auto', 0.9099999999999999]},\n",
              " {'model': <gensim.models.ldamodel.LdaModel at 0x7fe1cdfd4b20>,\n",
              "  'coherence': <gensim.models.coherencemodel.CoherenceModel at 0x7fe1cdfd4550>,\n",
              "  'params': [5, 'auto', 'auto']},\n",
              " {'model': <gensim.models.ldamodel.LdaModel at 0x7fe1cdfd4a00>,\n",
              "  'coherence': <gensim.models.coherencemodel.CoherenceModel at 0x7fe1cdfd4eb0>,\n",
              "  'params': [5, 'auto', 'symmetric']},\n",
              " {'model': <gensim.models.ldamodel.LdaModel at 0x7fe1cdfd48b0>,\n",
              "  'coherence': <gensim.models.coherencemodel.CoherenceModel at 0x7fe1cdfd41f0>,\n",
              "  'params': [5, 'symmetric', 0.01]},\n",
              " {'model': <gensim.models.ldamodel.LdaModel at 0x7fe1cdfd42e0>,\n",
              "  'coherence': <gensim.models.coherencemodel.CoherenceModel at 0x7fe1cdfd4250>,\n",
              "  'params': [5, 'symmetric', 0.31]},\n",
              " {'model': <gensim.models.ldamodel.LdaModel at 0x7fe1cdfd4730>,\n",
              "  'coherence': <gensim.models.coherencemodel.CoherenceModel at 0x7fe1cdfd4ca0>,\n",
              "  'params': [5, 'symmetric', 0.61]},\n",
              " {'model': <gensim.models.ldamodel.LdaModel at 0x7fe1cdfd4fa0>,\n",
              "  'coherence': <gensim.models.coherencemodel.CoherenceModel at 0x7fe1cdfd49d0>,\n",
              "  'params': [5, 'symmetric', 0.9099999999999999]},\n",
              " {'model': <gensim.models.ldamodel.LdaModel at 0x7fe1cdfd4040>,\n",
              "  'coherence': <gensim.models.coherencemodel.CoherenceModel at 0x7fe1cdfd4af0>,\n",
              "  'params': [5, 'symmetric', 'auto']},\n",
              " {'model': <gensim.models.ldamodel.LdaModel at 0x7fe1cdfd42b0>,\n",
              "  'coherence': <gensim.models.coherencemodel.CoherenceModel at 0x7fe1cdfd4430>,\n",
              "  'params': [5, 'symmetric', 'symmetric']},\n",
              " {'model': <gensim.models.ldamodel.LdaModel at 0x7fe1c9af5670>,\n",
              "  'coherence': <gensim.models.coherencemodel.CoherenceModel at 0x7fe1c9af5790>,\n",
              "  'params': [5, 'asymmetric', 0.01]},\n",
              " {'model': <gensim.models.ldamodel.LdaModel at 0x7fe1c9af5940>,\n",
              "  'coherence': <gensim.models.coherencemodel.CoherenceModel at 0x7fe1c9af5640>,\n",
              "  'params': [5, 'asymmetric', 0.31]},\n",
              " {'model': <gensim.models.ldamodel.LdaModel at 0x7fe1c9af5400>,\n",
              "  'coherence': <gensim.models.coherencemodel.CoherenceModel at 0x7fe1c9af5850>,\n",
              "  'params': [5, 'asymmetric', 0.61]},\n",
              " {'model': <gensim.models.ldamodel.LdaModel at 0x7fe1c9af5a90>,\n",
              "  'coherence': <gensim.models.coherencemodel.CoherenceModel at 0x7fe1c9af5d60>,\n",
              "  'params': [5, 'asymmetric', 0.9099999999999999]},\n",
              " {'model': <gensim.models.ldamodel.LdaModel at 0x7fe1c9af5490>,\n",
              "  'coherence': <gensim.models.coherencemodel.CoherenceModel at 0x7fe1bc2570d0>,\n",
              "  'params': [5, 'asymmetric', 'auto']},\n",
              " {'model': <gensim.models.ldamodel.LdaModel at 0x7fe1c9af5c70>,\n",
              "  'coherence': <gensim.models.coherencemodel.CoherenceModel at 0x7fe1c9af5d00>,\n",
              "  'params': [5, 'asymmetric', 'symmetric']},\n",
              " {'model': <gensim.models.ldamodel.LdaModel at 0x7fe1c9af5520>,\n",
              "  'coherence': <gensim.models.coherencemodel.CoherenceModel at 0x7fe1c9af5730>,\n",
              "  'params': [6, 0.01, 0.01]},\n",
              " {'model': <gensim.models.ldamodel.LdaModel at 0x7fe1c9af58b0>,\n",
              "  'coherence': <gensim.models.coherencemodel.CoherenceModel at 0x7fe1c9af5af0>,\n",
              "  'params': [6, 0.01, 0.31]},\n",
              " {'model': <gensim.models.ldamodel.LdaModel at 0x7fe1c9af5d90>,\n",
              "  'coherence': <gensim.models.coherencemodel.CoherenceModel at 0x7fe1c9af5eb0>,\n",
              "  'params': [6, 0.01, 0.61]},\n",
              " {'model': <gensim.models.ldamodel.LdaModel at 0x7fe1c9af57c0>,\n",
              "  'coherence': <gensim.models.coherencemodel.CoherenceModel at 0x7fe1c9af56d0>,\n",
              "  'params': [6, 0.01, 0.9099999999999999]},\n",
              " {'model': <gensim.models.ldamodel.LdaModel at 0x7fe1c9af5c10>,\n",
              "  'coherence': <gensim.models.coherencemodel.CoherenceModel at 0x7fe1c9af5e80>,\n",
              "  'params': [6, 0.01, 'auto']},\n",
              " {'model': <gensim.models.ldamodel.LdaModel at 0x7fe1c9af5760>,\n",
              "  'coherence': <gensim.models.coherencemodel.CoherenceModel at 0x7fe1f18f8b20>,\n",
              "  'params': [6, 0.01, 'symmetric']},\n",
              " {'model': <gensim.models.ldamodel.LdaModel at 0x7fe1cdfdb310>,\n",
              "  'coherence': <gensim.models.coherencemodel.CoherenceModel at 0x7fe1cdfdb2e0>,\n",
              "  'params': [6, 0.31, 0.01]},\n",
              " {'model': <gensim.models.ldamodel.LdaModel at 0x7fe1cdfdbb20>,\n",
              "  'coherence': <gensim.models.coherencemodel.CoherenceModel at 0x7fe1cdfdb670>,\n",
              "  'params': [6, 0.31, 0.31]},\n",
              " {'model': <gensim.models.ldamodel.LdaModel at 0x7fe1cdfdb760>,\n",
              "  'coherence': <gensim.models.coherencemodel.CoherenceModel at 0x7fe1cdfdb880>,\n",
              "  'params': [6, 0.31, 0.61]},\n",
              " {'model': <gensim.models.ldamodel.LdaModel at 0x7fe1cdfdbc70>,\n",
              "  'coherence': <gensim.models.coherencemodel.CoherenceModel at 0x7fe1cdfe55e0>,\n",
              "  'params': [6, 0.31, 0.9099999999999999]},\n",
              " {'model': <gensim.models.ldamodel.LdaModel at 0x7fe1cdfe5bb0>,\n",
              "  'coherence': <gensim.models.coherencemodel.CoherenceModel at 0x7fe1cdfe5dc0>,\n",
              "  'params': [6, 0.31, 'auto']},\n",
              " {'model': <gensim.models.ldamodel.LdaModel at 0x7fe1cdfe5d30>,\n",
              "  'coherence': <gensim.models.coherencemodel.CoherenceModel at 0x7fe1cdfe52b0>,\n",
              "  'params': [6, 0.31, 'symmetric']},\n",
              " {'model': <gensim.models.ldamodel.LdaModel at 0x7fe1cdfe5340>,\n",
              "  'coherence': <gensim.models.coherencemodel.CoherenceModel at 0x7fe1cdfe58b0>,\n",
              "  'params': [6, 0.61, 0.01]},\n",
              " {'model': <gensim.models.ldamodel.LdaModel at 0x7fe1cdfe59d0>,\n",
              "  'coherence': <gensim.models.coherencemodel.CoherenceModel at 0x7fe1cdfe5f10>,\n",
              "  'params': [6, 0.61, 0.31]},\n",
              " {'model': <gensim.models.ldamodel.LdaModel at 0x7fe1cdfe5490>,\n",
              "  'coherence': <gensim.models.coherencemodel.CoherenceModel at 0x7fe1cdfc6b50>,\n",
              "  'params': [6, 0.61, 0.61]},\n",
              " {'model': <gensim.models.ldamodel.LdaModel at 0x7fe1cdfc60a0>,\n",
              "  'coherence': <gensim.models.coherencemodel.CoherenceModel at 0x7fe1cdfc6fd0>,\n",
              "  'params': [6, 0.61, 0.9099999999999999]},\n",
              " {'model': <gensim.models.ldamodel.LdaModel at 0x7fe1cdfc6100>,\n",
              "  'coherence': <gensim.models.coherencemodel.CoherenceModel at 0x7fe1cdfc6910>,\n",
              "  'params': [6, 0.61, 'auto']},\n",
              " {'model': <gensim.models.ldamodel.LdaModel at 0x7fe1cdfc6dc0>,\n",
              "  'coherence': <gensim.models.coherencemodel.CoherenceModel at 0x7fe1cdfc62e0>,\n",
              "  'params': [6, 0.61, 'symmetric']},\n",
              " {'model': <gensim.models.ldamodel.LdaModel at 0x7fe1cdfc6cd0>,\n",
              "  'coherence': <gensim.models.coherencemodel.CoherenceModel at 0x7fe1cdfc6280>,\n",
              "  'params': [6, 0.9099999999999999, 0.01]},\n",
              " {'model': <gensim.models.ldamodel.LdaModel at 0x7fe1cdfc6b80>,\n",
              "  'coherence': <gensim.models.coherencemodel.CoherenceModel at 0x7fe1cdfc69d0>,\n",
              "  'params': [6, 0.9099999999999999, 0.31]},\n",
              " {'model': <gensim.models.ldamodel.LdaModel at 0x7fe1cdfc6880>,\n",
              "  'coherence': <gensim.models.coherencemodel.CoherenceModel at 0x7fe1cdfc66a0>,\n",
              "  'params': [6, 0.9099999999999999, 0.61]},\n",
              " {'model': <gensim.models.ldamodel.LdaModel at 0x7fe1cdfc6c40>,\n",
              "  'coherence': <gensim.models.coherencemodel.CoherenceModel at 0x7fe1cdfc67f0>,\n",
              "  'params': [6, 0.9099999999999999, 0.9099999999999999]},\n",
              " {'model': <gensim.models.ldamodel.LdaModel at 0x7fe1cdfc61c0>,\n",
              "  'coherence': <gensim.models.coherencemodel.CoherenceModel at 0x7fe1cdfc6bb0>,\n",
              "  'params': [6, 0.9099999999999999, 'auto']},\n",
              " {'model': <gensim.models.ldamodel.LdaModel at 0x7fe1cdfc6160>,\n",
              "  'coherence': <gensim.models.coherencemodel.CoherenceModel at 0x7fe1cdfd56d0>,\n",
              "  'params': [6, 0.9099999999999999, 'symmetric']},\n",
              " {'model': <gensim.models.ldamodel.LdaModel at 0x7fe1cdfc6400>,\n",
              "  'coherence': <gensim.models.coherencemodel.CoherenceModel at 0x7fe1cdfc6a90>,\n",
              "  'params': [6, 'auto', 0.01]},\n",
              " {'model': <gensim.models.ldamodel.LdaModel at 0x7fe1c9e51040>,\n",
              "  'coherence': <gensim.models.coherencemodel.CoherenceModel at 0x7fe1c9e510a0>,\n",
              "  'params': [6, 'auto', 0.31]},\n",
              " {'model': <gensim.models.ldamodel.LdaModel at 0x7fe1c9e511f0>,\n",
              "  'coherence': <gensim.models.coherencemodel.CoherenceModel at 0x7fe1c9e515e0>,\n",
              "  'params': [6, 'auto', 0.61]},\n",
              " {'model': <gensim.models.ldamodel.LdaModel at 0x7fe1c9e51730>,\n",
              "  'coherence': <gensim.models.coherencemodel.CoherenceModel at 0x7fe1c9e51b20>,\n",
              "  'params': [6, 'auto', 0.9099999999999999]},\n",
              " {'model': <gensim.models.ldamodel.LdaModel at 0x7fe1c9e51d00>,\n",
              "  'coherence': <gensim.models.coherencemodel.CoherenceModel at 0x7fe1c9e51e80>,\n",
              "  'params': [6, 'auto', 'auto']},\n",
              " {'model': <gensim.models.ldamodel.LdaModel at 0x7fe1c9e51820>,\n",
              "  'coherence': <gensim.models.coherencemodel.CoherenceModel at 0x7fe1c9e51700>,\n",
              "  'params': [6, 'auto', 'symmetric']},\n",
              " {'model': <gensim.models.ldamodel.LdaModel at 0x7fe1c9e519d0>,\n",
              "  'coherence': <gensim.models.coherencemodel.CoherenceModel at 0x7fe1c9e51550>,\n",
              "  'params': [6, 'symmetric', 0.01]},\n",
              " {'model': <gensim.models.ldamodel.LdaModel at 0x7fe1c9e51f40>,\n",
              "  'coherence': <gensim.models.coherencemodel.CoherenceModel at 0x7fe1c9e51190>,\n",
              "  'params': [6, 'symmetric', 0.31]},\n",
              " {'model': <gensim.models.ldamodel.LdaModel at 0x7fe1c9e51310>,\n",
              "  'coherence': <gensim.models.coherencemodel.CoherenceModel at 0x7fe1c9e514f0>,\n",
              "  'params': [6, 'symmetric', 0.61]},\n",
              " {'model': <gensim.models.ldamodel.LdaModel at 0x7fe1c9e51790>,\n",
              "  'coherence': <gensim.models.coherencemodel.CoherenceModel at 0x7fe1c9e51b80>,\n",
              "  'params': [6, 'symmetric', 0.9099999999999999]},\n",
              " {'model': <gensim.models.ldamodel.LdaModel at 0x7fe1c9e51fd0>,\n",
              "  'coherence': <gensim.models.coherencemodel.CoherenceModel at 0x7fe1c9e51a90>,\n",
              "  'params': [6, 'symmetric', 'auto']},\n",
              " {'model': <gensim.models.ldamodel.LdaModel at 0x7fe1c9eee370>,\n",
              "  'coherence': <gensim.models.coherencemodel.CoherenceModel at 0x7fe1c9eee3a0>,\n",
              "  'params': [6, 'symmetric', 'symmetric']},\n",
              " {'model': <gensim.models.ldamodel.LdaModel at 0x7fe1c9eee100>,\n",
              "  'coherence': <gensim.models.coherencemodel.CoherenceModel at 0x7fe1c9eeebb0>,\n",
              "  'params': [6, 'asymmetric', 0.01]},\n",
              " {'model': <gensim.models.ldamodel.LdaModel at 0x7fe1c9eeec40>,\n",
              "  'coherence': <gensim.models.coherencemodel.CoherenceModel at 0x7fe1c9eee220>,\n",
              "  'params': [6, 'asymmetric', 0.31]},\n",
              " {'model': <gensim.models.ldamodel.LdaModel at 0x7fe1c9eee280>,\n",
              "  'coherence': <gensim.models.coherencemodel.CoherenceModel at 0x7fe1c9eee5e0>,\n",
              "  'params': [6, 'asymmetric', 0.61]},\n",
              " {'model': <gensim.models.ldamodel.LdaModel at 0x7fe1c9eee9d0>,\n",
              "  'coherence': <gensim.models.coherencemodel.CoherenceModel at 0x7fe1c9eeed60>,\n",
              "  'params': [6, 'asymmetric', 0.9099999999999999]},\n",
              " {'model': <gensim.models.ldamodel.LdaModel at 0x7fe1c9eee6d0>,\n",
              "  'coherence': <gensim.models.coherencemodel.CoherenceModel at 0x7fe1e1be8a60>,\n",
              "  'params': [6, 'asymmetric', 'auto']},\n",
              " {'model': <gensim.models.ldamodel.LdaModel at 0x7fe1cdfcc2e0>,\n",
              "  'coherence': <gensim.models.coherencemodel.CoherenceModel at 0x7fe1cdfcc100>,\n",
              "  'params': [6, 'asymmetric', 'symmetric']},\n",
              " {'model': <gensim.models.ldamodel.LdaModel at 0x7fe1cdfcc220>,\n",
              "  'coherence': <gensim.models.coherencemodel.CoherenceModel at 0x7fe1cdfcc190>,\n",
              "  'params': [7, 0.01, 0.01]},\n",
              " {'model': <gensim.models.ldamodel.LdaModel at 0x7fe1cddb8850>,\n",
              "  'coherence': <gensim.models.coherencemodel.CoherenceModel at 0x7fe1cddb8b20>,\n",
              "  'params': [7, 0.01, 0.31]},\n",
              " {'model': <gensim.models.ldamodel.LdaModel at 0x7fe1cddb86a0>,\n",
              "  'coherence': <gensim.models.coherencemodel.CoherenceModel at 0x7fe1cddb8f10>,\n",
              "  'params': [7, 0.01, 0.61]},\n",
              " {'model': <gensim.models.ldamodel.LdaModel at 0x7fe1cddb8040>,\n",
              "  'coherence': <gensim.models.coherencemodel.CoherenceModel at 0x7fe1cddb8220>,\n",
              "  'params': [7, 0.01, 0.9099999999999999]},\n",
              " {'model': <gensim.models.ldamodel.LdaModel at 0x7fe1cddb84c0>,\n",
              "  'coherence': <gensim.models.coherencemodel.CoherenceModel at 0x7fe1cddb8910>,\n",
              "  'params': [7, 0.01, 'auto']},\n",
              " {'model': <gensim.models.ldamodel.LdaModel at 0x7fe1cddb8a00>,\n",
              "  'coherence': <gensim.models.coherencemodel.CoherenceModel at 0x7fe1cddb8b80>,\n",
              "  'params': [7, 0.01, 'symmetric']},\n",
              " {'model': <gensim.models.ldamodel.LdaModel at 0x7fe1cddb8d00>,\n",
              "  'coherence': <gensim.models.coherencemodel.CoherenceModel at 0x7fe1cddb8fd0>,\n",
              "  'params': [7, 0.31, 0.01]},\n",
              " {'model': <gensim.models.ldamodel.LdaModel at 0x7fe1cddb81f0>,\n",
              "  'coherence': <gensim.models.coherencemodel.CoherenceModel at 0x7fe1c9af5610>,\n",
              "  'params': [7, 0.31, 0.31]},\n",
              " {'model': <gensim.models.ldamodel.LdaModel at 0x7fe1cddb85e0>,\n",
              "  'coherence': <gensim.models.coherencemodel.CoherenceModel at 0x7fe1cddb8730>,\n",
              "  'params': [7, 0.31, 0.61]},\n",
              " {'model': <gensim.models.ldamodel.LdaModel at 0x7fe1cddb8d60>,\n",
              "  'coherence': <gensim.models.coherencemodel.CoherenceModel at 0x7fe1cddb8ee0>,\n",
              "  'params': [7, 0.31, 0.9099999999999999]},\n",
              " {'model': <gensim.models.ldamodel.LdaModel at 0x7fe1cddb8bb0>,\n",
              "  'coherence': <gensim.models.coherencemodel.CoherenceModel at 0x7fe1cddb8250>,\n",
              "  'params': [7, 0.31, 'auto']},\n",
              " {'model': <gensim.models.ldamodel.LdaModel at 0x7fe1cddb8880>,\n",
              "  'coherence': <gensim.models.coherencemodel.CoherenceModel at 0x7fe1cddb8c70>,\n",
              "  'params': [7, 0.31, 'symmetric']},\n",
              " {'model': <gensim.models.ldamodel.LdaModel at 0x7fe1cddb88b0>,\n",
              "  'coherence': <gensim.models.coherencemodel.CoherenceModel at 0x7fe1cddb8790>,\n",
              "  'params': [7, 0.61, 0.01]},\n",
              " {'model': <gensim.models.ldamodel.LdaModel at 0x7fe1cddb8520>,\n",
              "  'coherence': <gensim.models.coherencemodel.CoherenceModel at 0x7fe1cddb8dc0>,\n",
              "  'params': [7, 0.61, 0.31]},\n",
              " {'model': <gensim.models.ldamodel.LdaModel at 0x7fe1cddb85b0>,\n",
              "  'coherence': <gensim.models.coherencemodel.CoherenceModel at 0x7fe1cddb8eb0>,\n",
              "  'params': [7, 0.61, 0.61]},\n",
              " {'model': <gensim.models.ldamodel.LdaModel at 0x7fe1c9e40340>,\n",
              "  'coherence': <gensim.models.coherencemodel.CoherenceModel at 0x7fe1c9e40640>,\n",
              "  'params': [7, 0.61, 0.9099999999999999]},\n",
              " {'model': <gensim.models.ldamodel.LdaModel at 0x7fe1c9e40880>,\n",
              "  'coherence': <gensim.models.coherencemodel.CoherenceModel at 0x7fe1c9e40a30>,\n",
              "  'params': [7, 0.61, 'auto']},\n",
              " {'model': <gensim.models.ldamodel.LdaModel at 0x7fe1c9e40e20>,\n",
              "  'coherence': <gensim.models.coherencemodel.CoherenceModel at 0x7fe1c9e40f10>,\n",
              "  'params': [7, 0.61, 'symmetric']},\n",
              " {'model': <gensim.models.ldamodel.LdaModel at 0x7fe1c9e408e0>,\n",
              "  'coherence': <gensim.models.coherencemodel.CoherenceModel at 0x7fe1c9af5a00>,\n",
              "  'params': [7, 0.9099999999999999, 0.01]},\n",
              " {'model': <gensim.models.ldamodel.LdaModel at 0x7fe1c9e40a90>,\n",
              "  'coherence': <gensim.models.coherencemodel.CoherenceModel at 0x7fe1c9e40e80>,\n",
              "  'params': [7, 0.9099999999999999, 0.31]},\n",
              " {'model': <gensim.models.ldamodel.LdaModel at 0x7fe1c9e40220>,\n",
              "  'coherence': <gensim.models.coherencemodel.CoherenceModel at 0x7fe1c9e40d30>,\n",
              "  'params': [7, 0.9099999999999999, 0.61]},\n",
              " {'model': <gensim.models.ldamodel.LdaModel at 0x7fe1c9e40100>,\n",
              "  'coherence': <gensim.models.coherencemodel.CoherenceModel at 0x7fe1c9e40280>,\n",
              "  'params': [7, 0.9099999999999999, 0.9099999999999999]},\n",
              " {'model': <gensim.models.ldamodel.LdaModel at 0x7fe1c9e40310>,\n",
              "  'coherence': <gensim.models.coherencemodel.CoherenceModel at 0x7fe1c9e404c0>,\n",
              "  'params': [7, 0.9099999999999999, 'auto']},\n",
              " {'model': <gensim.models.ldamodel.LdaModel at 0x7fe1c9e40550>,\n",
              "  'coherence': <gensim.models.coherencemodel.CoherenceModel at 0x7fe1c9e407c0>,\n",
              "  'params': [7, 0.9099999999999999, 'symmetric']},\n",
              " {'model': <gensim.models.ldamodel.LdaModel at 0x7fe1c9e40850>,\n",
              "  'coherence': <gensim.models.coherencemodel.CoherenceModel at 0x7fe1c9e40bb0>,\n",
              "  'params': [7, 'auto', 0.01]},\n",
              " {'model': <gensim.models.ldamodel.LdaModel at 0x7fe1c9e40f40>,\n",
              "  'coherence': <gensim.models.coherencemodel.CoherenceModel at 0x7fe1c9e40940>,\n",
              "  'params': [7, 'auto', 0.31]},\n",
              " {'model': <gensim.models.ldamodel.LdaModel at 0x7fe1c9e40af0>,\n",
              "  'coherence': <gensim.models.coherencemodel.CoherenceModel at 0x7fe1c9e40370>,\n",
              "  'params': [7, 'auto', 0.61]},\n",
              " {'model': <gensim.models.ldamodel.LdaModel at 0x7fe1c9e674c0>,\n",
              "  'coherence': <gensim.models.coherencemodel.CoherenceModel at 0x7fe1c9e671f0>,\n",
              "  'params': [7, 'auto', 0.9099999999999999]},\n",
              " {'model': <gensim.models.ldamodel.LdaModel at 0x7fe1c9e67e50>,\n",
              "  'coherence': <gensim.models.coherencemodel.CoherenceModel at 0x7fe1c9e626d0>,\n",
              "  'params': [7, 'auto', 'auto']},\n",
              " {'model': <gensim.models.ldamodel.LdaModel at 0x7fe1c9e62100>,\n",
              "  'coherence': <gensim.models.coherencemodel.CoherenceModel at 0x7fe1c9e62be0>,\n",
              "  'params': [7, 'auto', 'symmetric']},\n",
              " {'model': <gensim.models.ldamodel.LdaModel at 0x7fe1c9e62070>,\n",
              "  'coherence': <gensim.models.coherencemodel.CoherenceModel at 0x7fe1c9e62c40>,\n",
              "  'params': [7, 'symmetric', 0.01]},\n",
              " {'model': <gensim.models.ldamodel.LdaModel at 0x7fe1c9e5b280>,\n",
              "  'coherence': <gensim.models.coherencemodel.CoherenceModel at 0x7fe1c9e5bfa0>,\n",
              "  'params': [7, 'symmetric', 0.31]},\n",
              " {'model': <gensim.models.ldamodel.LdaModel at 0x7fe1c9e5ba00>,\n",
              "  'coherence': <gensim.models.coherencemodel.CoherenceModel at 0x7fe1c9e5bfd0>,\n",
              "  'params': [7, 'symmetric', 0.61]},\n",
              " {'model': <gensim.models.ldamodel.LdaModel at 0x7fe1c9ef4e20>,\n",
              "  'coherence': <gensim.models.coherencemodel.CoherenceModel at 0x7fe1c9ef4bb0>,\n",
              "  'params': [7, 'symmetric', 0.9099999999999999]},\n",
              " {'model': <gensim.models.ldamodel.LdaModel at 0x7fe1c9ef4460>,\n",
              "  'coherence': <gensim.models.coherencemodel.CoherenceModel at 0x7fe1cdfdefa0>,\n",
              "  'params': [7, 'symmetric', 'auto']},\n",
              " {'model': <gensim.models.ldamodel.LdaModel at 0x7fe1cdfde730>,\n",
              "  'coherence': <gensim.models.coherencemodel.CoherenceModel at 0x7fe1c9e56d30>,\n",
              "  'params': [7, 'symmetric', 'symmetric']},\n",
              " {'model': <gensim.models.ldamodel.LdaModel at 0x7fe1c9e569d0>,\n",
              "  'coherence': <gensim.models.coherencemodel.CoherenceModel at 0x7fe1c9e56af0>,\n",
              "  'params': [7, 'asymmetric', 0.01]},\n",
              " {'model': <gensim.models.ldamodel.LdaModel at 0x7fe1c9e56280>,\n",
              "  'coherence': <gensim.models.coherencemodel.CoherenceModel at 0x7fe1c07e9400>,\n",
              "  'params': [7, 'asymmetric', 0.31]},\n",
              " {'model': <gensim.models.ldamodel.LdaModel at 0x7fe1c9e71280>,\n",
              "  'coherence': <gensim.models.coherencemodel.CoherenceModel at 0x7fe1c9e71910>,\n",
              "  'params': [7, 'asymmetric', 0.61]},\n",
              " {'model': <gensim.models.ldamodel.LdaModel at 0x7fe1c9e71b50>,\n",
              "  'coherence': <gensim.models.coherencemodel.CoherenceModel at 0x7fe1c9e71970>,\n",
              "  'params': [7, 'asymmetric', 0.9099999999999999]},\n",
              " {'model': <gensim.models.ldamodel.LdaModel at 0x7fe1c9e717c0>,\n",
              "  'coherence': <gensim.models.coherencemodel.CoherenceModel at 0x7fe1c9e71e50>,\n",
              "  'params': [7, 'asymmetric', 'auto']},\n",
              " {'model': <gensim.models.ldamodel.LdaModel at 0x7fe1cdfd1b80>,\n",
              "  'coherence': <gensim.models.coherencemodel.CoherenceModel at 0x7fe1cdfd1250>,\n",
              "  'params': [7, 'asymmetric', 'symmetric']},\n",
              " {'model': <gensim.models.ldamodel.LdaModel at 0x7fe1cdfd1580>,\n",
              "  'coherence': <gensim.models.coherencemodel.CoherenceModel at 0x7fe1cdfd1f70>,\n",
              "  'params': [8, 0.01, 0.01]},\n",
              " {'model': <gensim.models.ldamodel.LdaModel at 0x7fe1c9e695e0>,\n",
              "  'coherence': <gensim.models.coherencemodel.CoherenceModel at 0x7fe1c9e69dc0>,\n",
              "  'params': [8, 0.01, 0.31]},\n",
              " {'model': <gensim.models.ldamodel.LdaModel at 0x7fe1c9e69670>,\n",
              "  'coherence': <gensim.models.coherencemodel.CoherenceModel at 0x7fe1c9e69fd0>,\n",
              "  'params': [8, 0.01, 0.61]},\n",
              " {'model': <gensim.models.ldamodel.LdaModel at 0x7fe1c9e69e20>,\n",
              "  'coherence': <gensim.models.coherencemodel.CoherenceModel at 0x7fe1c9e74eb0>,\n",
              "  'params': [8, 0.01, 0.9099999999999999]},\n",
              " {'model': <gensim.models.ldamodel.LdaModel at 0x7fe1c9e745b0>,\n",
              "  'coherence': <gensim.models.coherencemodel.CoherenceModel at 0x7fe1c9e74580>,\n",
              "  'params': [8, 0.01, 'auto']},\n",
              " {'model': <gensim.models.ldamodel.LdaModel at 0x7fe1cdfd39d0>,\n",
              "  'coherence': <gensim.models.coherencemodel.CoherenceModel at 0x7fe1cdfd3460>,\n",
              "  'params': [8, 0.01, 'symmetric']},\n",
              " {'model': <gensim.models.ldamodel.LdaModel at 0x7fe1cdfc9340>,\n",
              "  'coherence': <gensim.models.coherencemodel.CoherenceModel at 0x7fe1cdfc9160>,\n",
              "  'params': [8, 0.31, 0.01]},\n",
              " {'model': <gensim.models.ldamodel.LdaModel at 0x7fe1c9e46f10>,\n",
              "  'coherence': <gensim.models.coherencemodel.CoherenceModel at 0x7fe1c9e46370>,\n",
              "  'params': [8, 0.31, 0.31]},\n",
              " {'model': <gensim.models.ldamodel.LdaModel at 0x7fe1c9e46fd0>,\n",
              "  'coherence': <gensim.models.coherencemodel.CoherenceModel at 0x7fe1c9efca30>,\n",
              "  'params': [8, 0.31, 0.61]},\n",
              " {'model': <gensim.models.ldamodel.LdaModel at 0x7fe1c9efc5e0>,\n",
              "  'coherence': <gensim.models.coherencemodel.CoherenceModel at 0x7fe1cddb8df0>,\n",
              "  'params': [8, 0.31, 0.9099999999999999]},\n",
              " {'model': <gensim.models.ldamodel.LdaModel at 0x7fe1c9e58a60>,\n",
              "  'coherence': <gensim.models.coherencemodel.CoherenceModel at 0x7fe1c9e585b0>,\n",
              "  'params': [8, 0.31, 'auto']},\n",
              " {'model': <gensim.models.ldamodel.LdaModel at 0x7fe1c9e58b80>,\n",
              "  'coherence': <gensim.models.coherencemodel.CoherenceModel at 0x7fe1c9e58640>,\n",
              "  'params': [8, 0.31, 'symmetric']},\n",
              " {'model': <gensim.models.ldamodel.LdaModel at 0x7fe1c9e58580>,\n",
              "  'coherence': <gensim.models.coherencemodel.CoherenceModel at 0x7fe1c9e5ac10>,\n",
              "  'params': [8, 0.61, 0.01]},\n",
              " {'model': <gensim.models.ldamodel.LdaModel at 0x7fe1c9e5a0d0>,\n",
              "  'coherence': <gensim.models.coherencemodel.CoherenceModel at 0x7fe1c9e5a7c0>,\n",
              "  'params': [8, 0.61, 0.31]},\n",
              " {'model': <gensim.models.ldamodel.LdaModel at 0x7fe1c9e5a760>,\n",
              "  'coherence': <gensim.models.coherencemodel.CoherenceModel at 0x7fe1cdd767c0>,\n",
              "  'params': [8, 0.61, 0.61]},\n",
              " {'model': <gensim.models.ldamodel.LdaModel at 0x7fe1cdd76280>,\n",
              "  'coherence': <gensim.models.coherencemodel.CoherenceModel at 0x7fe1cdd76df0>,\n",
              "  'params': [8, 0.61, 0.9099999999999999]},\n",
              " {'model': <gensim.models.ldamodel.LdaModel at 0x7fe1c9e545e0>,\n",
              "  'coherence': <gensim.models.coherencemodel.CoherenceModel at 0x7fe1c9e54730>,\n",
              "  'params': [8, 0.61, 'auto']},\n",
              " {'model': <gensim.models.ldamodel.LdaModel at 0x7fe1c9e546a0>,\n",
              "  'coherence': <gensim.models.coherencemodel.CoherenceModel at 0x7fe1c9e54d60>,\n",
              "  'params': [8, 0.61, 'symmetric']},\n",
              " {'model': <gensim.models.ldamodel.LdaModel at 0x7fe1c9e42a90>,\n",
              "  'coherence': <gensim.models.coherencemodel.CoherenceModel at 0x7fe1c9e42130>,\n",
              "  'params': [8, 0.9099999999999999, 0.01]},\n",
              " {'model': <gensim.models.ldamodel.LdaModel at 0x7fe1c9e42790>,\n",
              "  'coherence': <gensim.models.coherencemodel.CoherenceModel at 0x7fe1c9e42580>,\n",
              "  'params': [8, 0.9099999999999999, 0.31]},\n",
              " {'model': <gensim.models.ldamodel.LdaModel at 0x7fe1cddbc280>,\n",
              "  'coherence': <gensim.models.coherencemodel.CoherenceModel at 0x7fe1cddbca60>,\n",
              "  'params': [8, 0.9099999999999999, 0.61]},\n",
              " {'model': <gensim.models.ldamodel.LdaModel at 0x7fe1cddbc610>,\n",
              "  'coherence': <gensim.models.coherencemodel.CoherenceModel at 0x7fe1cddbc0d0>,\n",
              "  'params': [8, 0.9099999999999999, 0.9099999999999999]},\n",
              " {'model': <gensim.models.ldamodel.LdaModel at 0x7fe1c9e5f8b0>,\n",
              "  'coherence': <gensim.models.coherencemodel.CoherenceModel at 0x7fe1c9e5ff10>,\n",
              "  'params': [8, 0.9099999999999999, 'auto']},\n",
              " {'model': <gensim.models.ldamodel.LdaModel at 0x7fe1c9e5f190>,\n",
              "  'coherence': <gensim.models.coherencemodel.CoherenceModel at 0x7fe1c9e5f7c0>,\n",
              "  'params': [8, 0.9099999999999999, 'symmetric']},\n",
              " {'model': <gensim.models.ldamodel.LdaModel at 0x7fe1cdfe1400>,\n",
              "  'coherence': <gensim.models.coherencemodel.CoherenceModel at 0x7fe1c9ef9bb0>,\n",
              "  'params': [8, 'auto', 0.01]},\n",
              " {'model': <gensim.models.ldamodel.LdaModel at 0x7fe1c9ef9580>,\n",
              "  'coherence': <gensim.models.coherencemodel.CoherenceModel at 0x7fe1c9ef9520>,\n",
              "  'params': [8, 'auto', 0.31]},\n",
              " {'model': <gensim.models.ldamodel.LdaModel at 0x7fe1c9ef98b0>,\n",
              "  'coherence': <gensim.models.coherencemodel.CoherenceModel at 0x7fe1cdff8af0>,\n",
              "  'params': [8, 'auto', 0.61]},\n",
              " {'model': <gensim.models.ldamodel.LdaModel at 0x7fe1cdff8490>,\n",
              "  'coherence': <gensim.models.coherencemodel.CoherenceModel at 0x7fe1c9e64250>,\n",
              "  'params': [8, 'auto', 0.9099999999999999]},\n",
              " {'model': <gensim.models.ldamodel.LdaModel at 0x7fe1c9e64d60>,\n",
              "  'coherence': <gensim.models.coherencemodel.CoherenceModel at 0x7fe1c9e64610>,\n",
              "  'params': [8, 'auto', 'auto']},\n",
              " {'model': <gensim.models.ldamodel.LdaModel at 0x7fe1c9e642b0>,\n",
              "  'coherence': <gensim.models.coherencemodel.CoherenceModel at 0x7fe1c9e64af0>,\n",
              "  'params': [8, 'auto', 'symmetric']},\n",
              " {'model': <gensim.models.ldamodel.LdaModel at 0x7fe1c9ee44f0>,\n",
              "  'coherence': <gensim.models.coherencemodel.CoherenceModel at 0x7fe1c9ee4880>,\n",
              "  'params': [8, 'symmetric', 0.01]},\n",
              " {'model': <gensim.models.ldamodel.LdaModel at 0x7fe1c9ede070>,\n",
              "  'coherence': <gensim.models.coherencemodel.CoherenceModel at 0x7fe1c9ede760>,\n",
              "  'params': [8, 'symmetric', 0.31]},\n",
              " {'model': <gensim.models.ldamodel.LdaModel at 0x7fe1c9ede2b0>,\n",
              "  'coherence': <gensim.models.coherencemodel.CoherenceModel at 0x7fe1c9eded00>,\n",
              "  'params': [8, 'symmetric', 0.61]},\n",
              " {'model': <gensim.models.ldamodel.LdaModel at 0x7fe1c9e6f1c0>,\n",
              "  'coherence': <gensim.models.coherencemodel.CoherenceModel at 0x7fe1c9ede730>,\n",
              "  'params': [8, 'symmetric', 0.9099999999999999]},\n",
              " {'model': <gensim.models.ldamodel.LdaModel at 0x7fe1c9e6f5b0>,\n",
              "  'coherence': <gensim.models.coherencemodel.CoherenceModel at 0x7fe1c9e6fcd0>,\n",
              "  'params': [8, 'symmetric', 'auto']},\n",
              " {'model': <gensim.models.ldamodel.LdaModel at 0x7fe1c9ecdb20>,\n",
              "  'coherence': <gensim.models.coherencemodel.CoherenceModel at 0x7fe1c9ecd2e0>,\n",
              "  'params': [8, 'symmetric', 'symmetric']},\n",
              " {'model': <gensim.models.ldamodel.LdaModel at 0x7fe1c9ecd880>,\n",
              "  'coherence': <gensim.models.coherencemodel.CoherenceModel at 0x7fe1c9ecd970>,\n",
              "  'params': [8, 'asymmetric', 0.01]},\n",
              " {'model': <gensim.models.ldamodel.LdaModel at 0x7fe1cdd62700>,\n",
              "  'coherence': <gensim.models.coherencemodel.CoherenceModel at 0x7fe1cdd62370>,\n",
              "  'params': [8, 'asymmetric', 0.31]},\n",
              " {'model': <gensim.models.ldamodel.LdaModel at 0x7fe1cdd62820>,\n",
              "  'coherence': <gensim.models.coherencemodel.CoherenceModel at 0x7fe1cdd62f40>,\n",
              "  'params': [8, 'asymmetric', 0.61]},\n",
              " {'model': <gensim.models.ldamodel.LdaModel at 0x7fe1cdfdc430>,\n",
              "  'coherence': <gensim.models.coherencemodel.CoherenceModel at 0x7fe1c07ef580>,\n",
              "  'params': [8, 'asymmetric', 0.9099999999999999]},\n",
              " {'model': <gensim.models.ldamodel.LdaModel at 0x7fe1c07f3520>,\n",
              "  'coherence': <gensim.models.coherencemodel.CoherenceModel at 0x7fe1c07f39a0>,\n",
              "  'params': [8, 'asymmetric', 'auto']},\n",
              " {'model': <gensim.models.ldamodel.LdaModel at 0x7fe1c07f35b0>,\n",
              "  'coherence': <gensim.models.coherencemodel.CoherenceModel at 0x7fe1c07f7fd0>,\n",
              "  'params': [8, 'asymmetric', 'symmetric']},\n",
              " {'model': <gensim.models.ldamodel.LdaModel at 0x7fe1c07f7d60>,\n",
              "  'coherence': <gensim.models.coherencemodel.CoherenceModel at 0x7fe1c077e550>,\n",
              "  'params': [9, 0.01, 0.01]},\n",
              " {'model': <gensim.models.ldamodel.LdaModel at 0x7fe1c077e1c0>,\n",
              "  'coherence': <gensim.models.coherencemodel.CoherenceModel at 0x7fe1c077eca0>,\n",
              "  'params': [9, 0.01, 0.31]},\n",
              " {'model': <gensim.models.ldamodel.LdaModel at 0x7fe1c9e53eb0>,\n",
              "  'coherence': <gensim.models.coherencemodel.CoherenceModel at 0x7fe1c9e53970>,\n",
              "  'params': [9, 0.01, 0.61]},\n",
              " {'model': <gensim.models.ldamodel.LdaModel at 0x7fe1c9e534f0>,\n",
              "  'coherence': <gensim.models.coherencemodel.CoherenceModel at 0x7fe1c9e53340>,\n",
              "  'params': [9, 0.01, 0.9099999999999999]},\n",
              " {'model': <gensim.models.ldamodel.LdaModel at 0x7fe1c0785640>,\n",
              "  'coherence': <gensim.models.coherencemodel.CoherenceModel at 0x7fe1c0785280>,\n",
              "  'params': [9, 0.01, 'auto']},\n",
              " {'model': <gensim.models.ldamodel.LdaModel at 0x7fe1c0788580>,\n",
              "  'coherence': <gensim.models.coherencemodel.CoherenceModel at 0x7fe1c0788eb0>,\n",
              "  'params': [9, 0.01, 'symmetric']},\n",
              " {'model': <gensim.models.ldamodel.LdaModel at 0x7fe1c0788f40>,\n",
              "  'coherence': <gensim.models.coherencemodel.CoherenceModel at 0x7fe1c078dd30>,\n",
              "  'params': [9, 0.31, 0.01]},\n",
              " {'model': <gensim.models.ldamodel.LdaModel at 0x7fe1c078da60>,\n",
              "  'coherence': <gensim.models.coherencemodel.CoherenceModel at 0x7fe1c0793850>,\n",
              "  'params': [9, 0.31, 0.31]},\n",
              " {'model': <gensim.models.ldamodel.LdaModel at 0x7fe1c0793fa0>,\n",
              "  'coherence': <gensim.models.coherencemodel.CoherenceModel at 0x7fe1c07991f0>,\n",
              "  'params': [9, 0.31, 0.61]},\n",
              " {'model': <gensim.models.ldamodel.LdaModel at 0x7fe1c0799550>,\n",
              "  'coherence': <gensim.models.coherencemodel.CoherenceModel at 0x7fe1c078d460>,\n",
              "  'params': [9, 0.31, 0.9099999999999999]},\n",
              " {'model': <gensim.models.ldamodel.LdaModel at 0x7fe1c079e550>,\n",
              "  'coherence': <gensim.models.coherencemodel.CoherenceModel at 0x7fe1c0799be0>,\n",
              "  'params': [9, 0.31, 'auto']},\n",
              " {'model': <gensim.models.ldamodel.LdaModel at 0x7fe1c07a43a0>,\n",
              "  'coherence': <gensim.models.coherencemodel.CoherenceModel at 0x7fe1c07a4eb0>,\n",
              "  'params': [9, 0.31, 'symmetric']},\n",
              " {'model': <gensim.models.ldamodel.LdaModel at 0x7fe1c07aa2b0>,\n",
              "  'coherence': <gensim.models.coherencemodel.CoherenceModel at 0x7fe1c07aa370>,\n",
              "  'params': [9, 0.61, 0.01]},\n",
              " {'model': <gensim.models.ldamodel.LdaModel at 0x7fe1c07aa790>,\n",
              "  'coherence': <gensim.models.coherencemodel.CoherenceModel at 0x7fe1c07aa940>,\n",
              "  'params': [9, 0.61, 0.31]},\n",
              " {'model': <gensim.models.ldamodel.LdaModel at 0x7fe1c07aad00>,\n",
              "  'coherence': <gensim.models.coherencemodel.CoherenceModel at 0x7fe1c07aaeb0>,\n",
              "  'params': [9, 0.61, 0.61]},\n",
              " {'model': <gensim.models.ldamodel.LdaModel at 0x7fe1c08b52b0>,\n",
              "  'coherence': <gensim.models.coherencemodel.CoherenceModel at 0x7fe1c08b5460>,\n",
              "  'params': [9, 0.61, 0.9099999999999999]},\n",
              " {'model': <gensim.models.ldamodel.LdaModel at 0x7fe1c08b5820>,\n",
              "  'coherence': <gensim.models.coherencemodel.CoherenceModel at 0x7fe1c08b5a30>,\n",
              "  'params': [9, 0.61, 'auto']},\n",
              " {'model': <gensim.models.ldamodel.LdaModel at 0x7fe1c08b5df0>,\n",
              "  'coherence': <gensim.models.coherencemodel.CoherenceModel at 0x7fe1c08b5fa0>,\n",
              "  'params': [9, 0.61, 'symmetric']},\n",
              " {'model': <gensim.models.ldamodel.LdaModel at 0x7fe1c08bb3a0>,\n",
              "  'coherence': <gensim.models.coherencemodel.CoherenceModel at 0x7fe1c08bb550>,\n",
              "  'params': [9, 0.9099999999999999, 0.01]},\n",
              " {'model': <gensim.models.ldamodel.LdaModel at 0x7fe1c08bb910>,\n",
              "  'coherence': <gensim.models.coherencemodel.CoherenceModel at 0x7fe1c08bbac0>,\n",
              "  'params': [9, 0.9099999999999999, 0.31]},\n",
              " {'model': <gensim.models.ldamodel.LdaModel at 0x7fe1c08bbe80>,\n",
              "  'coherence': <gensim.models.coherencemodel.CoherenceModel at 0x7fe1c0842070>,\n",
              "  'params': [9, 0.9099999999999999, 0.61]},\n",
              " {'model': <gensim.models.ldamodel.LdaModel at 0x7fe1c0842430>,\n",
              "  'coherence': <gensim.models.coherencemodel.CoherenceModel at 0x7fe1c08425e0>,\n",
              "  'params': [9, 0.9099999999999999, 0.9099999999999999]},\n",
              " {'model': <gensim.models.ldamodel.LdaModel at 0x7fe1c08429a0>,\n",
              "  'coherence': <gensim.models.coherencemodel.CoherenceModel at 0x7fe1c0842bb0>,\n",
              "  'params': [9, 0.9099999999999999, 'auto']},\n",
              " {'model': <gensim.models.ldamodel.LdaModel at 0x7fe1c0842f70>,\n",
              "  'coherence': <gensim.models.coherencemodel.CoherenceModel at 0x7fe1c0846160>,\n",
              "  'params': [9, 0.9099999999999999, 'symmetric']},\n",
              " {'model': <gensim.models.ldamodel.LdaModel at 0x7fe1c0846520>,\n",
              "  'coherence': <gensim.models.coherencemodel.CoherenceModel at 0x7fe1c08466d0>,\n",
              "  'params': [9, 'auto', 0.01]},\n",
              " {'model': <gensim.models.ldamodel.LdaModel at 0x7fe1c0846a90>,\n",
              "  'coherence': <gensim.models.coherencemodel.CoherenceModel at 0x7fe1c0846c40>,\n",
              "  'params': [9, 'auto', 0.31]},\n",
              " {'model': <gensim.models.ldamodel.LdaModel at 0x7fe1c0849040>,\n",
              "  'coherence': <gensim.models.coherencemodel.CoherenceModel at 0x7fe1c08491f0>,\n",
              "  'params': [9, 'auto', 0.61]},\n",
              " {'model': <gensim.models.ldamodel.LdaModel at 0x7fe1c08495b0>,\n",
              "  'coherence': <gensim.models.coherencemodel.CoherenceModel at 0x7fe1c0849760>,\n",
              "  'params': [9, 'auto', 0.9099999999999999]},\n",
              " {'model': <gensim.models.ldamodel.LdaModel at 0x7fe1c0849b20>,\n",
              "  'coherence': <gensim.models.coherencemodel.CoherenceModel at 0x7fe1c0849d30>,\n",
              "  'params': [9, 'auto', 'auto']},\n",
              " {'model': <gensim.models.ldamodel.LdaModel at 0x7fe1c084f130>,\n",
              "  'coherence': <gensim.models.coherencemodel.CoherenceModel at 0x7fe1c084f2e0>,\n",
              "  'params': [9, 'auto', 'symmetric']},\n",
              " {'model': <gensim.models.ldamodel.LdaModel at 0x7fe1c084f6a0>,\n",
              "  'coherence': <gensim.models.coherencemodel.CoherenceModel at 0x7fe1c084f850>,\n",
              "  'params': [9, 'symmetric', 0.01]},\n",
              " {'model': <gensim.models.ldamodel.LdaModel at 0x7fe1c084fc10>,\n",
              "  'coherence': <gensim.models.coherencemodel.CoherenceModel at 0x7fe1c084fdc0>,\n",
              "  'params': [9, 'symmetric', 0.31]},\n",
              " {'model': <gensim.models.ldamodel.LdaModel at 0x7fe1c08561c0>,\n",
              "  'coherence': <gensim.models.coherencemodel.CoherenceModel at 0x7fe1c0856370>,\n",
              "  'params': [9, 'symmetric', 0.61]},\n",
              " {'model': <gensim.models.ldamodel.LdaModel at 0x7fe1c0856730>,\n",
              "  'coherence': <gensim.models.coherencemodel.CoherenceModel at 0x7fe1c08568e0>,\n",
              "  'params': [9, 'symmetric', 0.9099999999999999]},\n",
              " {'model': <gensim.models.ldamodel.LdaModel at 0x7fe1c0856ca0>,\n",
              "  'coherence': <gensim.models.coherencemodel.CoherenceModel at 0x7fe1c0856eb0>,\n",
              "  'params': [9, 'symmetric', 'auto']},\n",
              " {'model': <gensim.models.ldamodel.LdaModel at 0x7fe1c085c2b0>,\n",
              "  'coherence': <gensim.models.coherencemodel.CoherenceModel at 0x7fe1c085c460>,\n",
              "  'params': [9, 'symmetric', 'symmetric']},\n",
              " {'model': <gensim.models.ldamodel.LdaModel at 0x7fe1c085c820>,\n",
              "  'coherence': <gensim.models.coherencemodel.CoherenceModel at 0x7fe1c085c9d0>,\n",
              "  'params': [9, 'asymmetric', 0.01]},\n",
              " {'model': <gensim.models.ldamodel.LdaModel at 0x7fe1c085cd90>,\n",
              "  'coherence': <gensim.models.coherencemodel.CoherenceModel at 0x7fe1c085cf40>,\n",
              "  'params': [9, 'asymmetric', 0.31]},\n",
              " {'model': <gensim.models.ldamodel.LdaModel at 0x7fe1c0862340>,\n",
              "  'coherence': <gensim.models.coherencemodel.CoherenceModel at 0x7fe1c08624f0>,\n",
              "  'params': [9, 'asymmetric', 0.61]},\n",
              " {'model': <gensim.models.ldamodel.LdaModel at 0x7fe1c08628b0>,\n",
              "  'coherence': <gensim.models.coherencemodel.CoherenceModel at 0x7fe1c085c3d0>,\n",
              "  'params': [9, 'asymmetric', 0.9099999999999999]},\n",
              " {'model': <gensim.models.ldamodel.LdaModel at 0x7fe1c0862df0>,\n",
              "  'coherence': <gensim.models.coherencemodel.CoherenceModel at 0x7fe1c086b040>,\n",
              "  'params': [9, 'asymmetric', 'auto']},\n",
              " {'model': <gensim.models.ldamodel.LdaModel at 0x7fe1c086b400>,\n",
              "  'coherence': <gensim.models.coherencemodel.CoherenceModel at 0x7fe1c086b5b0>,\n",
              "  'params': [9, 'asymmetric', 'symmetric']}]"
            ]
          },
          "metadata": {},
          "execution_count": 63
        }
      ]
    },
    {
      "cell_type": "code",
      "source": [
        "lda_loaded[0]"
      ],
      "metadata": {
        "colab": {
          "base_uri": "https://localhost:8080/"
        },
        "id": "t6e3GrzojGuC",
        "outputId": "9576ef68-4886-412c-b245-fe4cb029cb81"
      },
      "id": "t6e3GrzojGuC",
      "execution_count": null,
      "outputs": [
        {
          "output_type": "execute_result",
          "data": {
            "text/plain": [
              "{'model': <gensim.models.ldamodel.LdaModel at 0x7fe1e1b431f0>,\n",
              " 'coherence': <gensim.models.coherencemodel.CoherenceModel at 0x7fe1cdfd5bb0>,\n",
              " 'params': [5, 0.01, 0.01]}"
            ]
          },
          "metadata": {},
          "execution_count": 62
        }
      ]
    },
    {
      "cell_type": "code",
      "source": [
        "lda_loaded[0]['model'].show_topics()"
      ],
      "metadata": {
        "colab": {
          "base_uri": "https://localhost:8080/"
        },
        "id": "hBo_4GYXl5Yb",
        "outputId": "94d285a0-39d2-4006-de4a-85b87314b6a6"
      },
      "id": "hBo_4GYXl5Yb",
      "execution_count": null,
      "outputs": [
        {
          "output_type": "execute_result",
          "data": {
            "text/plain": [
              "[(0,\n",
              "  '0.038*\"год\" + 0.013*\"рубль\" + 0.011*\"работа\" + 0.009*\"деньга\" + 0.008*\"ребёнок\" + 0.007*\"архангельск\" + 0.007*\"архангельский_область\" + 0.007*\"человек\" + 0.006*\"пресс_служба\" + 0.006*\"компания\"'),\n",
              " (1,\n",
              "  '0.015*\"автомобиль\" + 0.012*\"машина\" + 0.007*\"водитель\" + 0.007*\"год\" + 0.006*\"новый\" + 0.006*\"случай\" + 0.004*\"модель\" + 0.004*\"дорога\" + 0.004*\"рубль\" + 0.003*\"система\"'),\n",
              " (2,\n",
              "  '0.029*\"год\" + 0.022*\"рубль\" + 0.012*\"банк\" + 0.011*\"россия\" + 0.008*\"цена\" + 0.007*\"регион\" + 0.006*\"страна\" + 0.006*\"новый\" + 0.006*\"вклад\" + 0.006*\"клиент\"'),\n",
              " (3,\n",
              "  '0.012*\"год\" + 0.007*\"команда\" + 0.007*\"игра\" + 0.006*\"нижний_новгород\" + 0.006*\"город\" + 0.005*\"россия\" + 0.005*\"время\" + 0.005*\"матч\" + 0.004*\"место\" + 0.004*\"новый\"'),\n",
              " (4,\n",
              "  '0.024*\"человек\" + 0.009*\"год\" + 0.009*\"врач\" + 0.009*\"ребёнок\" + 0.007*\"время\" + 0.007*\"день\" + 0.007*\"жизнь\" + 0.005*\"раз\" + 0.004*\"слово\" + 0.004*\"пациент\"')]"
            ]
          },
          "metadata": {},
          "execution_count": 66
        }
      ]
    },
    {
      "cell_type": "code",
      "source": [
        "lda_loaded[0]['coherence'].get_coherence()"
      ],
      "metadata": {
        "colab": {
          "base_uri": "https://localhost:8080/"
        },
        "id": "45uJKmfMg8_j",
        "outputId": "b6f5ce32-5db4-4d9f-eb4b-ec47563f6759"
      },
      "id": "45uJKmfMg8_j",
      "execution_count": null,
      "outputs": [
        {
          "output_type": "execute_result",
          "data": {
            "text/plain": [
              "0.3928722249727444"
            ]
          },
          "metadata": {},
          "execution_count": 65
        }
      ]
    },
    {
      "cell_type": "code",
      "execution_count": null,
      "id": "e48ec07a",
      "metadata": {
        "scrolled": false,
        "colab": {
          "base_uri": "https://localhost:8080/"
        },
        "id": "e48ec07a",
        "outputId": "c4602b5d-14b3-4854-d669-17585df86b94"
      },
      "outputs": [
        {
          "output_type": "execute_result",
          "data": {
            "text/plain": [
              "[(0,\n",
              "  '0.016*\"ребёнок\" + 0.016*\"год\" + 0.011*\"человек\" + 0.008*\"врач\" + 0.007*\"случай\" + 0.005*\"время\" + 0.004*\"документ\" + 0.004*\"родитель\" + 0.004*\"проблема\" + 0.004*\"женщина\"'),\n",
              " (1,\n",
              "  '0.021*\"человек\" + 0.012*\"коронавирус\" + 0.011*\"врач\" + 0.011*\"пациент\" + 0.009*\"россия\" + 0.008*\"препарат\" + 0.008*\"вирус\" + 0.007*\"день\" + 0.007*\"заболевание\" + 0.007*\"вакцина\"'),\n",
              " (2,\n",
              "  '0.028*\"год\" + 0.018*\"рубль\" + 0.009*\"банк\" + 0.007*\"россия\" + 0.005*\"регион\" + 0.005*\"компания\" + 0.004*\"страна\" + 0.004*\"работа\" + 0.004*\"новый\" + 0.004*\"деньга\"'),\n",
              " (3,\n",
              "  '0.023*\"игра\" + 0.023*\"команда\" + 0.019*\"матч\" + 0.011*\"болельщик\" + 0.010*\"счёт\" + 0.010*\"россия\" + 0.008*\"игрок\" + 0.008*\"торпедо\" + 0.007*\"соперник\" + 0.007*\"сборная\"'),\n",
              " (4,\n",
              "  '0.013*\"человек\" + 0.010*\"время\" + 0.008*\"год\" + 0.007*\"хороший\" + 0.006*\"жизнь\" + 0.005*\"новый\" + 0.005*\"дело\" + 0.005*\"раз\" + 0.004*\"работа\" + 0.003*\"ни\"'),\n",
              " (5,\n",
              "  '0.014*\"водитель\" + 0.009*\"автомобиль\" + 0.008*\"машина\" + 0.008*\"год\" + 0.008*\"дорога\" + 0.005*\"город\" + 0.004*\"случай\" + 0.004*\"лес\" + 0.004*\"дело\" + 0.004*\"место\"'),\n",
              " (6,\n",
              "  '0.019*\"год\" + 0.007*\"человек\" + 0.006*\"архангельск\" + 0.006*\"город\" + 0.005*\"день\" + 0.005*\"проект\" + 0.005*\"новый\" + 0.005*\"фестиваль\" + 0.005*\"фильм\" + 0.005*\"время\"'),\n",
              " (7,\n",
              "  '0.034*\"цена\" + 0.017*\"рубль\" + 0.015*\"товар\" + 0.015*\"карта\" + 0.010*\"магазин\" + 0.008*\"покупка\" + 0.007*\"доступный\" + 0.006*\"покупатель\" + 0.006*\"автомобиль\" + 0.006*\"продавец\"'),\n",
              " (8,\n",
              "  '0.042*\"нижний_новгород\" + 0.024*\"нижегородец\" + 0.015*\"нижегородский\" + 0.007*\"новгород\" + 0.006*\"соревнование\" + 0.006*\"viber_telegram\" + 0.006*\"канал_мессенджер\" + 0.006*\"город\" + 0.005*\"нижегородский_область\" + 0.005*\"красивый_фотография\"'),\n",
              " (9,\n",
              "  '0.026*\"автомобиль\" + 0.021*\"машина\" + 0.015*\"год\" + 0.012*\"россия\" + 0.012*\"модель\" + 0.011*\"новый\" + 0.011*\"рубль\" + 0.007*\"цена\" + 0.007*\"монета\" + 0.005*\"завод\"')]"
            ]
          },
          "metadata": {},
          "execution_count": 40
        }
      ],
      "source": [
        "# ldamodel.show_topics() # Вывод тем для LDA модели"
      ]
    },
    {
      "cell_type": "markdown",
      "id": "85e77728",
      "metadata": {
        "id": "85e77728"
      },
      "source": [
        "## NMF:"
      ]
    },
    {
      "cell_type": "code",
      "execution_count": null,
      "id": "93a93024",
      "metadata": {
        "id": "93a93024"
      },
      "outputs": [],
      "source": [
        "# nmfmodel = Nmf(corpus=corpus,\n",
        "#                id2word=dictionary,\n",
        "#                num_topics=10,\n",
        "#                chunksize=chunksize,\n",
        "#                kappa=0.1,\n",
        "#                passes=passes,\n",
        "#                eval_every=eval_every)"
      ]
    },
    {
      "cell_type": "code",
      "source": [
        "nmf_params={'num_topics': [i for i in range(5, 10)], \n",
        "            'kappa': [0.1, 0.5, 1.0, 1.5],\n",
        "          }\n",
        "nmf_models=[]\n",
        "\n",
        "for num_topics in tqdm(nmf_params['num_topics']):\n",
        "  for kappa in nmf_params['kappa']:\n",
        "      \n",
        "    nmfmodel = Nmf(corpus=corpus, \n",
        "                  id2word=dictionary,\n",
        "                  num_topics=num_topics) \n",
        "          \n",
        "    nmftopics = [[word for word, prob in topic] for topicid, topic in nmfmodel.show_topics(formatted=False)]\n",
        "    nmf_coherence = CoherenceModel(topics=nmftopics, texts=texts_v2, dictionary=dictionary, window_size=10).get_coherence()\n",
        "\n",
        "    nmf_models.append({'model': nmfmodel, 'coherence': nmf_coherence, 'params': [num_topics, kappa]})\n",
        "    # newlist = sorted(list_to_be_sorted, key=lambda d: d['name']) "
      ],
      "metadata": {
        "id": "ztjYgQN-9pXD"
      },
      "id": "ztjYgQN-9pXD",
      "execution_count": null,
      "outputs": []
    },
    {
      "cell_type": "code",
      "execution_count": null,
      "id": "52597889",
      "metadata": {
        "colab": {
          "base_uri": "https://localhost:8080/"
        },
        "id": "52597889",
        "outputId": "8fc517d9-7350-4375-ebd1-64a1f7a1d9d5"
      },
      "outputs": [
        {
          "output_type": "execute_result",
          "data": {
            "text/plain": [
              "[(0,\n",
              "  '0.034*\"россия\" + 0.013*\"страна\" + 0.008*\"российский\" + 0.007*\"сегодня\" + 0.006*\"место\" + 0.006*\"ситуация\" + 0.006*\"время\" + 0.005*\"город\" + 0.005*\"нижний_новгород\" + 0.005*\"компания\"'),\n",
              " (1,\n",
              "  '0.021*\"человек\" + 0.019*\"врач\" + 0.009*\"пациент\" + 0.009*\"случай\" + 0.008*\"препарат\" + 0.007*\"ребёнок\" + 0.006*\"заболевание\" + 0.006*\"день\" + 0.006*\"болезнь\" + 0.005*\"коронавирус\"'),\n",
              " (2,\n",
              "  '0.023*\"ребёнок\" + 0.007*\"город\" + 0.006*\"новый\" + 0.005*\"дом\" + 0.005*\"спектакль\" + 0.005*\"история\" + 0.005*\"родитель\" + 0.004*\"театр\" + 0.004*\"программа\" + 0.004*\"интересный\"'),\n",
              " (3,\n",
              "  '0.029*\"автомобиль\" + 0.023*\"машина\" + 0.017*\"новый\" + 0.011*\"модель\" + 0.011*\"россия\" + 0.007*\"цена\" + 0.005*\"автоваз\" + 0.005*\"год\" + 0.005*\"продажа\" + 0.005*\"марка\"'),\n",
              " (4,\n",
              "  '0.083*\"человек\" + 0.012*\"работа\" + 0.011*\"деньга\" + 0.007*\"месяц\" + 0.007*\"дело\" + 0.006*\"жизнь\" + 0.006*\"время\" + 0.004*\"проблема\" + 0.004*\"нужный\" + 0.004*\"важный\"'),\n",
              " (5,\n",
              "  '0.094*\"год\" + 0.010*\"деньга\" + 0.010*\"рубль\" + 0.006*\"сумма\" + 0.006*\"доход\" + 0.005*\"компания\" + 0.005*\"эксперт\" + 0.005*\"предприятие\" + 0.005*\"выплата\" + 0.004*\"право\"'),\n",
              " (6,\n",
              "  '0.012*\"время\" + 0.008*\"день\" + 0.007*\"раз\" + 0.007*\"работа\" + 0.007*\"хороший\" + 0.006*\"жизнь\" + 0.006*\"год\" + 0.005*\"новый\" + 0.005*\"история\" + 0.005*\"фильм\"'),\n",
              " (7,\n",
              "  '0.216*\"год\" + 0.007*\"выплата\" + 0.006*\"семья\" + 0.006*\"пособие\" + 0.006*\"прожиточный_минимум\" + 0.003*\"июль\" + 0.003*\"строительство\" + 0.003*\"область\" + 0.003*\"доход\" + 0.003*\"архангельский_область\"'),\n",
              " (8,\n",
              "  '0.025*\"игра\" + 0.024*\"команда\" + 0.022*\"матч\" + 0.012*\"болельщик\" + 0.012*\"нижний_новгород\" + 0.008*\"счёт\" + 0.008*\"сборная\" + 0.008*\"игрок\" + 0.008*\"нижегородец\" + 0.008*\"минута\"'),\n",
              " (9,\n",
              "  '0.056*\"рубль\" + 0.028*\"цена\" + 0.007*\"стоимость\" + 0.006*\"водитель\" + 0.006*\"товар\" + 0.005*\"машина\" + 0.005*\"банк\" + 0.005*\"рынок\" + 0.005*\"деньга\" + 0.005*\"ситуация\"')]"
            ]
          },
          "metadata": {},
          "execution_count": 42
        }
      ],
      "source": [
        "nmfmodel.show_topics() # Вывод тем для NMF модели"
      ]
    },
    {
      "cell_type": "markdown",
      "id": "c8a82ce5",
      "metadata": {
        "id": "c8a82ce5"
      },
      "source": [
        "## 3) Визуализация"
      ]
    },
    {
      "cell_type": "code",
      "execution_count": null,
      "id": "1121f2f6",
      "metadata": {
        "scrolled": false,
        "colab": {
          "base_uri": "https://localhost:8080/",
          "height": 861
        },
        "id": "1121f2f6",
        "outputId": "b8828bc0-50ec-4a0f-e0c4-b2f2e6d6b56f"
      },
      "outputs": [
        {
          "output_type": "execute_result",
          "data": {
            "text/plain": [
              "PreparedData(topic_coordinates=              x         y  topics  cluster       Freq\n",
              "topic                                                \n",
              "6     -0.074619  0.154864       1        1  22.020071\n",
              "2     -0.162872 -0.048315       2        1  15.871222\n",
              "4     -0.102134  0.094010       3        1  15.208968\n",
              "0     -0.187363  0.035419       4        1  14.519415\n",
              "1     -0.086907  0.033993       5        1   6.953353\n",
              "5     -0.012822 -0.074227       6        1   6.931545\n",
              "3      0.212048  0.138440       7        1   5.909345\n",
              "9      0.060628 -0.193241       8        1   5.774899\n",
              "8      0.258781  0.108322       9        1   3.974532\n",
              "7      0.095260 -0.249265      10        1   2.836651, topic_info=                 Term         Freq        Total Category  logprob  loglift\n",
              "183             рубль  5817.000000  5817.000000  Default  30.0000  30.0000\n",
              "1341  нижний_новгород  2301.000000  2301.000000  Default  29.0000  29.0000\n",
              "232              цена  2473.000000  2473.000000  Default  28.0000  28.0000\n",
              "2230       автомобиль  3156.000000  3156.000000  Default  27.0000  27.0000\n",
              "482           человек  9382.000000  9382.000000  Default  26.0000  26.0000\n",
              "...               ...          ...          ...      ...      ...      ...\n",
              "1726           клиент   142.588349   931.006947  Topic10  -5.5741   1.6862\n",
              "7116    производитель   114.941968   433.319056  Topic10  -5.7896   2.2355\n",
              "1402   дополнительный   120.180578   708.418716  Topic10  -5.7451   1.7885\n",
              "261               вид   126.668108  1227.977542  Topic10  -5.6925   1.2910\n",
              "4149          дорогой   111.620593   499.630215  Topic10  -5.8189   2.0638\n",
              "\n",
              "[721 rows x 6 columns], token_table=       Topic      Freq              Term\n",
              "term                                    \n",
              "4074       7  0.026395             apple\n",
              "4074      10  0.950210             apple\n",
              "34982      8  0.980822            arkana\n",
              "51717     10  0.977952              back\n",
              "33662      8  0.982068             camry\n",
              "...      ...       ...               ...\n",
              "7318       1  0.995471              юный\n",
              "241        2  0.989494  юридический_лицо\n",
              "2229       3  0.023316             юрист\n",
              "2229       4  0.886020             юрист\n",
              "2229       6  0.089379             юрист\n",
              "\n",
              "[1702 rows x 3 columns], R=30, lambda_step=0.01, plot_opts={'xlab': 'PC1', 'ylab': 'PC2'}, topic_order=[7, 3, 5, 1, 2, 6, 4, 10, 9, 8])"
            ],
            "text/html": [
              "\n",
              "<link rel=\"stylesheet\" type=\"text/css\" href=\"https://cdn.jsdelivr.net/gh/bmabey/pyLDAvis@3.4.0/pyLDAvis/js/ldavis.v1.0.0.css\">\n",
              "\n",
              "\n",
              "<div id=\"ldavis_el383821396560701515201027101683\" style=\"background-color:white;\"></div>\n",
              "<script type=\"text/javascript\">\n",
              "\n",
              "var ldavis_el383821396560701515201027101683_data = {\"mdsDat\": {\"x\": [-0.07461887721294419, -0.1628723799359321, -0.10213403369239886, -0.1873625131987996, -0.0869071829232852, -0.012821990023511462, 0.21204844392979025, 0.06062848915330831, 0.2587805285220449, 0.09525951538172793], \"y\": [0.154864362095117, -0.04831510007726508, 0.09401004453124616, 0.03541926249010346, 0.03399282772812825, -0.07422745368062854, 0.13844034582672896, -0.19324142620575438, 0.10832233767741306, -0.2492652003850887], \"topics\": [1, 2, 3, 4, 5, 6, 7, 8, 9, 10], \"cluster\": [1, 1, 1, 1, 1, 1, 1, 1, 1, 1], \"Freq\": [22.020071145195505, 15.871222303886293, 15.208968060070546, 14.51941450092648, 6.953352512896202, 6.931544772416322, 5.909345244490373, 5.774898878241893, 3.9745316183341726, 2.8366509635422332]}, \"tinfo\": {\"Term\": [\"\\u0440\\u0443\\u0431\\u043b\\u044c\", \"\\u043d\\u0438\\u0436\\u043d\\u0438\\u0439_\\u043d\\u043e\\u0432\\u0433\\u043e\\u0440\\u043e\\u0434\", \"\\u0446\\u0435\\u043d\\u0430\", \"\\u0430\\u0432\\u0442\\u043e\\u043c\\u043e\\u0431\\u0438\\u043b\\u044c\", \"\\u0447\\u0435\\u043b\\u043e\\u0432\\u0435\\u043a\", \"\\u043a\\u043e\\u043c\\u0430\\u043d\\u0434\\u0430\", \"\\u0438\\u0433\\u0440\\u0430\", \"\\u043c\\u0430\\u0448\\u0438\\u043d\\u0430\", \"\\u0440\\u0435\\u0431\\u0451\\u043d\\u043e\\u043a\", \"\\u0433\\u043e\\u0434\", \"\\u0432\\u0440\\u0430\\u0447\", \"\\u043c\\u0430\\u0442\\u0447\", \"\\u0440\\u043e\\u0441\\u0441\\u0438\\u044f\", \"\\u043d\\u0438\\u0436\\u0435\\u0433\\u043e\\u0440\\u043e\\u0434\\u0435\\u0446\", \"\\u0432\\u043e\\u0434\\u0438\\u0442\\u0435\\u043b\\u044c\", \"\\u0431\\u0430\\u043d\\u043a\", \"\\u043a\\u043e\\u0440\\u043e\\u043d\\u0430\\u0432\\u0438\\u0440\\u0443\\u0441\", \"\\u043a\\u0430\\u0440\\u0442\\u0430\", \"\\u043f\\u0430\\u0446\\u0438\\u0435\\u043d\\u0442\", \"\\u0433\\u043e\\u0440\\u043e\\u0434\", \"\\u043d\\u0438\\u0436\\u0435\\u0433\\u043e\\u0440\\u043e\\u0434\\u0441\\u043a\\u0438\\u0439\", \"\\u0441\\u0447\\u0451\\u0442\", \"\\u043c\\u043e\\u0434\\u0435\\u043b\\u044c\", \"\\u0442\\u043e\\u0432\\u0430\\u0440\", \"\\u043d\\u043e\\u0432\\u044b\\u0439\", \"\\u0430\\u0440\\u0445\\u0430\\u043d\\u0433\\u0435\\u043b\\u044c\\u0441\\u043a\", \"\\u0431\\u043e\\u043b\\u0435\\u043b\\u044c\\u0449\\u0438\\u043a\", \"\\u0441\\u043b\\u0443\\u0447\\u0430\\u0439\", \"\\u043f\\u0440\\u0435\\u043f\\u0430\\u0440\\u0430\\u0442\", \"\\u0444\\u0435\\u0441\\u0442\\u0438\\u0432\\u0430\\u043b\\u044c\", \"\\u0442\\u0435\\u0430\\u0442\\u0440\", \"\\u043a\\u043e\\u043d\\u0446\\u0435\\u0440\\u0442\", \"\\u0441\\u043f\\u0435\\u043a\\u0442\\u0430\\u043a\\u043b\\u044c\", \"\\u0430\\u0440\\u0442\\u0438\\u0441\\u0442\", \"\\u0430\\u043a\\u0442\\u0451\\u0440\", \"\\u043f\\u0435\\u0441\\u043d\\u044f\", \"\\u0440\\u0435\\u0436\\u0438\\u0441\\u0441\\u0451\\u0440\", \"\\u043c\\u0443\\u0437\\u044b\\u043a\\u0430\\u043d\\u0442\", \"\\u0445\\u0443\\u0434\\u043e\\u0436\\u043d\\u0438\\u043a\", \"\\u0448\\u043e\\u0443\", \"\\u0444\\u0435\\u0441\\u0442\\u0438\\u0432\\u0430\\u043b\\u044c\", \"\\u0430\\u043a\\u0442\\u0440\\u0438\\u0441\\u0430\", \"\\u043c\\u0443\\u0437\\u044b\\u043a\\u0430\\u043b\\u044c\\u043d\\u044b\\u0439\", \"\\u043f\\u0438\\u0441\\u0430\\u0442\\u0435\\u043b\\u044c\", \"\\u043c\\u0430\\u0441\\u0442\\u0435\\u0440_\\u043a\\u043b\\u0430\\u0441\\u0441\", \"\\u043f\\u0435\\u0432\\u0435\\u0446\", \"\\u0441\\u043a\\u0430\\u0437\\u043a\\u0430\", \"\\u043f\\u0435\\u0432\\u0438\\u0446\\u0430\", \"\\u043f\\u0440\\u043e\\u0438\\u0437\\u0432\\u0435\\u0434\\u0435\\u043d\\u0438\\u0435\", \"\\u0442\\u0435\\u0430\\u0442\\u0440\\u0430\\u043b\\u044c\\u043d\\u044b\\u0439\", \"\\u043e\\u0440\\u0435\\u043d\\u0431\\u0443\\u0440\\u0433\", \"\\u043f\\u043e\\u043a\\u0430\\u0437\", \"\\u043a\\u043e\\u043c\\u043f\\u043e\\u0437\\u0438\\u0446\\u0438\\u044f\", \"\\u043a\\u043e\\u043c\\u0438\\u043a\\u0441\", \"\\u043f\\u0440\\u043e\\u0434\\u044e\\u0441\\u0435\\u0440\", \"\\u044e\\u043d\\u044b\\u0439\", \"\\u0430\\u0440\\u0445\\u0430\\u043d\\u0433\\u0435\\u043b\\u044c\\u0441\\u043a\\u0438\\u0439_\\u0442\\u0435\\u0430\\u0442\\u0440\", \"\\u0445\\u0443\\u0434\\u043e\\u0436\\u0435\\u0441\\u0442\\u0432\\u0435\\u043d\\u043d\\u044b\\u0439\", \"\\u0430\\u043b\\u044c\\u0431\\u043e\\u043c\", \"\\u0430\\u0440\\u0442\\u0438\\u0441\\u0442\\u043a\\u0430\", \"\\u0441\\u0446\\u0435\\u043d\\u0430\", \"\\u0431\\u0438\\u0431\\u043b\\u0438\\u043e\\u0442\\u0435\\u043a\\u0430\", \"\\u043c\\u0443\\u0437\\u0435\\u0439\", \"\\u0446\\u0435\\u043d\\u0430_\\u0440\\u0443\\u0431\", \"\\u0432\\u044b\\u0441\\u0442\\u0430\\u0432\\u043a\\u0430\", \"\\u0431\\u043b\\u043e\\u0433\", \"\\u0442\\u0432\\u043e\\u0440\\u0447\\u0435\\u0441\\u0442\\u0432\\u043e\", \"\\u0430\\u043b\\u0438\\u043d\\u0430\", \"\\u0442\\u0430\\u043d\\u0435\\u0446\", \"\\u0437\\u0440\\u0438\\u0442\\u0435\\u043b\\u044c\", \"\\u043a\\u043e\\u043d\\u043a\\u0443\\u0440\\u0441\", \"\\u043c\\u0443\\u0437\\u044b\\u043a\\u0430\", \"\\u043a\\u0438\\u043d\\u043e\", \"\\u0444\\u0438\\u043b\\u044c\\u043c\", \"\\u043a\\u043d\\u0438\\u0433\\u0430\", \"\\u0440\\u0443\\u0441\\u0441\\u043a\\u0438\\u0439\", \"\\u0430\\u0440\\u0445\\u0430\\u043d\\u0433\\u0435\\u043b\\u044c\\u0441\\u043a\", \"\\u043f\\u0440\\u043e\\u0435\\u043a\\u0442\", \"\\u0441\\u044a\\u0451\\u043c\\u043a\\u0430\", \"\\u0432\\u044b\\u0441\\u0442\\u0443\\u043f\\u043b\\u0435\\u043d\\u0438\\u0435\", \"\\u0433\\u043e\\u0440\\u043e\\u0434\", \"\\u0438\\u043c\\u044f\", \"\\u043c\\u0435\\u0440\\u043e\\u043f\\u0440\\u0438\\u044f\\u0442\\u0438\\u0435\", \"\\u0433\\u043e\\u0434\", \"\\u043c\\u043e\\u0441\\u043a\\u0432\\u0430\", \"\\u0438\\u0441\\u0442\\u043e\\u0440\\u0438\\u044f\", \"\\u043f\\u0440\\u043e\\u0433\\u0440\\u0430\\u043c\\u043c\\u0430\", \"\\u0438\\u0437\\u0432\\u0435\\u0441\\u0442\\u043d\\u044b\\u0439\", \"\\u0433\\u0440\\u0443\\u043f\\u043f\\u0430\", \"\\u0434\\u043e\\u043c\", \"\\u0434\\u0435\\u043d\\u044c\", \"\\u0447\\u0435\\u043b\\u043e\\u0432\\u0435\\u043a\", \"\\u043d\\u043e\\u0432\\u044b\\u0439\", \"\\u0440\\u0430\\u0431\\u043e\\u0442\\u0430\", \"\\u0436\\u0438\\u0437\\u043d\\u044c\", \"\\u0432\\u0440\\u0435\\u043c\\u044f\", \"\\u0433\\u043e\\u0441\\u0442\\u044c\", \"\\u0440\\u043e\\u0441\\u0441\\u0438\\u044f\", \"\\u0440\\u0435\\u0431\\u0451\\u043d\\u043e\\u043a\", \"\\u0441\\u0442\\u0440\\u0430\\u043d\\u0430\", \"\\u043c\\u0435\\u0441\\u0442\\u043e\", \"\\u0431\\u0430\\u043d\\u043a\", \"\\u0432\\u043a\\u043b\\u0430\\u0434\", \"\\u043a\\u0440\\u0435\\u0434\\u0438\\u0442\", \"\\u044d\\u043a\\u043e\\u043d\\u043e\\u043c\\u0438\\u043a\\u0430\", \"\\u0433\\u043e\\u0434\\u043e\\u0432\\u043e\\u0439\", \"\\u0440\\u043e\\u0441\\u0441\\u0435\\u043b\\u044c\\u0445\\u043e\\u0437\\u0431\\u0430\\u043d\\u043a\", \"\\u0438\\u043d\\u0444\\u043b\\u044f\\u0446\\u0438\\u044f\", \"\\u0441\\u0430\\u043d\\u043a\\u0446\\u0438\\u044f\", \"\\u0446\\u0431\", \"\\u043f\\u043e\\u0441\\u043e\\u0431\\u0438\\u0435\", \"\\u0430\\u043e_\\u0440\\u043e\\u0441\\u0441\\u0435\\u043b\\u044c\\u0445\\u043e\\u0437\\u0431\\u0430\\u043d\\u043a\", \"\\u044d\\u043a\\u043e\\u043d\\u043e\\u043c\\u0438\\u0441\\u0442\", \"\\u0434\\u0435\\u043d\\u0435\\u0436\\u043d\\u044b\\u0439_\\u0441\\u0440\\u0435\\u0434\\u0441\\u0442\\u0432\\u043e\", \"\\u0446\\u0435\\u043d\\u0442\\u0440\\u043e\\u0431\\u0430\\u043d\\u043a\", \"\\u043f\\u043b\\u0430\\u0442\\u0451\\u0436\", \"\\u0438\\u043f\\u043e\\u0442\\u0435\\u043a\\u0430\", \"\\u043e\\u0442\\u0440\\u0430\\u0441\\u043b\\u044c\", \"\\u0444\\u0438\\u0437\\u0438\\u0447\\u0435\\u0441\\u043a\\u0438\\u0439_\\u043b\\u0438\\u0446\\u043e\", \"\\u043f\\u0440\\u043e\\u0446\\u0435\\u043d\\u0442\\u043d\\u044b\\u0439_\\u0441\\u0442\\u0430\\u0432\\u043a\\u0430\", \"\\u043a\\u043f\\u043a\", \"\\u043f\\u043e\\u0432\\u044b\\u0448\\u0435\\u043d\\u0438\\u0435_\\u0441\\u0442\\u0430\\u0432\\u043a\\u0430\", \"\\u043a\\u043b\\u044e\\u0447\\u0435\\u0432\\u043e\\u0439_\\u0441\\u0442\\u0430\\u0432\\u043a\\u0430\", \"\\u0440\\u0441\\u0445\\u0431\", \"\\u0441\\u0430\\u0444\\u0443\", \"\\u043f\\u0440\\u043e\\u0436\\u0438\\u0442\\u043e\\u0447\\u043d\\u044b\\u0439_\\u043c\\u0438\\u043d\\u0438\\u043c\\u0443\\u043c\", \"\\u0434\\u0435\\u043f\\u043e\\u0437\\u0438\\u0442\", \"\\u0444\\u0438\\u043d\\u0430\\u043d\\u0441\\u0438\\u0440\\u043e\\u0432\\u0430\\u043d\\u0438\\u0435\", \"\\u043f\\u043e\\u0440\\u0442\\u0444\\u0435\\u043b\\u044c\", \"\\u044d\\u043a\\u043e\\u043d\\u043e\\u043c\\u0438\\u0447\\u0435\\u0441\\u043a\\u0438\\u0439\", \"\\u044e\\u0440\\u0438\\u0434\\u0438\\u0447\\u0435\\u0441\\u043a\\u0438\\u0439_\\u043b\\u0438\\u0446\\u043e\", \"\\u0441\\u0442\\u0430\\u0432\\u043a\\u0430\", \"\\u0432\\u0430\\u043b\\u044e\\u0442\\u0430\", \"\\u0434\\u043e\\u043b\\u0433\", \"\\u043f\\u0440\\u0435\\u0434\\u043f\\u0440\\u0438\\u044f\\u0442\\u0438\\u0435\", \"\\u0431\\u044e\\u0434\\u0436\\u0435\\u0442\", \"\\u0434\\u043e\\u0445\\u043e\\u0434\", \"\\u0440\\u0443\\u0431\\u043b\\u044c\", \"\\u0444\\u043e\\u0440\\u0443\\u043c\", \"\\u043a\\u0440\\u0435\\u0434\\u0438\\u0442\\u043d\\u044b\\u0439\", \"\\u0431\\u0438\\u0437\\u043d\\u0435\\u0441\", \"\\u043a\\u043b\\u0438\\u0435\\u043d\\u0442\", \"\\u0444\\u0438\\u043d\\u0430\\u043d\\u0441\\u043e\\u0432\\u044b\\u0439\", \"\\u043f\\u0440\\u0430\\u0432\\u0438\\u0442\\u0435\\u043b\\u044c\\u0441\\u0442\\u0432\\u043e\", \"\\u0441\\u0440\\u0435\\u0434\\u0441\\u0442\\u0432\\u043e\", \"\\u0442\\u0435\\u043a\\u0443\\u0449\\u0438\\u0439\", \"\\u0440\\u0435\\u0433\\u0438\\u043e\\u043d\", \"\\u0430\\u0440\\u0445\\u0430\\u043d\\u0433\\u0435\\u043b\\u044c\\u0441\\u043a\\u0438\\u0439_\\u043e\\u0431\\u043b\\u0430\\u0441\\u0442\\u044c\", \"\\u043e\\u0431\\u044a\\u0451\\u043c\", \"\\u0433\\u043e\\u0434\", \"\\u043a\\u043e\\u043c\\u043f\\u0430\\u043d\\u0438\\u044f\", \"\\u0440\\u043e\\u0441\\u0442\", \"\\u0443\\u0441\\u043b\\u043e\\u0432\\u0438\\u0435\", \"\\u0441\\u0440\\u043e\\u043a\", \"\\u0440\\u0435\\u0448\\u0435\\u043d\\u0438\\u0435\", \"\\u0440\\u043e\\u0441\\u0441\\u0438\\u044f\", \"\\u0441\\u0442\\u0440\\u0430\\u043d\\u0430\", \"\\u0434\\u0435\\u043d\\u044c\\u0433\\u0430\", \"\\u0441\\u0443\\u043c\\u043c\\u0430\", \"\\u0440\\u0430\\u0431\\u043e\\u0442\\u0430\", \"\\u043c\\u0435\\u0441\\u044f\\u0446\", \"\\u043d\\u043e\\u0432\\u044b\\u0439\", \"\\u0447\\u0438\\u0441\\u043b\\u043e\", \"\\u0441\\u0447\\u0451\\u0442\", \"\\u0441\\u0435\\u0433\\u043e\\u0434\\u043d\\u044f\", \"\\u0440\\u043e\\u0441\\u0441\\u0438\\u0439\\u0441\\u043a\\u0438\\u0439\", \"\\u0447\\u0435\\u043b\\u043e\\u0432\\u0435\\u043a\", \"\\u0432\\u043e\\u0437\\u043c\\u043e\\u0436\\u043d\\u043e\\u0441\\u0442\\u044c\", \"\\u0431\\u043e\\u0435\\u0446\", \"\\u043f\\u0440\\u0435\\u0434\\u0441\\u0442\\u0430\\u0432\\u0438\\u0442\\u0435\\u043b\\u044c_\\u0437\\u043d\\u0430\\u043a\", \"\\u0442\\u0430\\u0439\\u0441\\u043a\\u0438\\u0439_\\u0431\\u043e\\u043a\\u0441\", \"\\u043b\\u044b\\u0436\\u043d\\u0438\\u043a\", \"\\u043f\\u0440\\u0435\\u0434\\u0441\\u043a\\u0430\\u0437\\u0430\\u043d\\u0438\\u0435\", \"\\u0430\\u043d\\u0433\\u043b\\u0438\\u0447\\u0430\\u043d\\u0438\\u043d\", \"\\u0430\\u0433\\u0440\\u0435\\u0441\\u0441\\u0438\\u044f\", \"\\u0430\\u0441\\u0442\\u0440\\u043e\\u043b\\u043e\\u0433\", \"\\u043f\\u043e\\u0434\\u0432\\u043e\\u0434\\u043d\\u044b\\u0439_\\u043b\\u043e\\u0434\\u043a\\u0430\", \"netflix\", \"\\u043a\\u043e\\u043b\\u0435\\u043d\\u043e\", \"\\u043f\\u043e\\u043a\\u0435\\u0440\", \"\\u043d\\u043e\\u0441\\u043e\\u043a\", \"\\u0430\\u043b\\u0435\\u043a\\u0441\\u0430\\u043d\\u0434\\u0440_\\u0441\\u043a\\u0432\\u043e\\u0440\\u0446\\u043e\\u0432\", \"\\u0442\\u0435\\u043b\\u0435\\u0446\", \"\\u0442\\u0432\\u0451\\u0440\\u0434\\u044b\\u0439\", \"\\u0432\\u0435\\u0441\\u043e\\u0432\\u043e\\u0439_\\u043a\\u0430\\u0442\\u0435\\u0433\\u043e\\u0440\\u0438\\u044f\", \"\\u0441\\u043f\\u043e\\u043a\\u043e\\u0439\\u0441\\u0442\\u0432\\u0438\\u0435\", \"\\u043c\\u043c\\u0430\", \"\\u043a\\u0430\\u0437\\u0438\\u043d\\u043e\", \"\\u043d\\u0435\\u0443\\u0434\\u0430\\u0447\\u0430\", \"\\u0438\\u043a\\u0435\\u0430\", \"\\u0431\\u043e\\u043a\\u0441\\u0451\\u0440\", \"\\u044d\\u0442\\u0438\\u043a\\u0435\\u0442\", \"\\u0441\\u043f\\u0440\\u0438\\u043d\\u0442\", \"\\u043a\\u043e\\u0437\\u0435\\u0440\\u043e\\u0433\", \"\\u0431\\u043e\\u0439\", \"\\u043f\\u044c\\u0435\\u0434\\u0435\\u0441\\u0442\\u0430\\u043b\", \"\\u0437\\u0430\\u0432\\u0435\\u0434\\u0443\\u044e\\u0449\\u0430\\u044f\", \"\\u0431\\u0440\\u043e\\u043d\\u0437\\u043e\\u0432\\u044b\\u0439_\\u043c\\u0435\\u0434\\u0430\\u043b\\u044c\", \"\\u0440\\u0438\\u0442\\u0443\\u0430\\u043b\", \"\\u0440\\u0438\\u043d\\u0433\", \"\\u0441\\u0441\\u043e\\u0440\\u0430\", \"\\u0431\\u043e\\u043a\\u0441\", \"\\u043c\\u044b\\u0441\\u043b\\u044c\", \"\\u043a\\u0433\", \"\\u043e\\u0449\\u0443\\u0449\\u0435\\u043d\\u0438\\u0435\", \"\\u0441\\u0442\\u0440\\u0430\\u043d\\u043d\\u044b\\u0439\", \"\\u043e\\u0442\\u043b\\u0438\\u0447\\u043d\\u043e\", \"\\u0447\\u0443\\u0432\\u0441\\u0442\\u0432\\u043e\", \"\\u0438\\u0434\\u0435\\u0430\\u043b\\u044c\\u043d\\u044b\\u0439\", \"\\u043d\\u043e\\u0433\\u0430\", \"\\u0441\\u043f\\u0438\\u043d\\u0430\", \"wink\", \"\\u0441\\u0442\\u043e\\u043b\", \"\\u0433\\u043e\\u043b\\u043e\\u0432\\u0430\", \"\\u043f\\u043e\\u043b\", \"\\u043a\\u043e\\u043d\\u0444\\u043b\\u0438\\u043a\\u0442\", \"\\u043d\\u0430\\u0432\\u0435\\u0440\\u043d\\u043e\\u0435\", \"\\u0441\\u043f\\u043e\\u043a\\u043e\\u0439\\u043d\\u044b\\u0439\", \"\\u043b\\u0443\\u0447\\u0448\\u0435\", \"\\u043f\\u0441\\u0438\\u0445\\u043e\\u043b\\u043e\\u0433\", \"\\u043f\\u0430\\u0440\\u0430\", \"\\u044d\\u043c\\u043e\\u0446\\u0438\\u044f\", \"\\u0432\\u0435\\u0449\\u044c\", \"\\u0440\\u0443\\u043a\\u0430\", \"\\u0445\\u043e\\u0440\\u043e\\u0448\\u0438\\u0439\", \"\\u0441\\u0435\\u0440\\u0438\\u0430\\u043b\", \"\\u043e\\u0442\\u043d\\u043e\\u0448\\u0435\\u043d\\u0438\\u0435\", \"\\u0443\\u0441\\u043f\\u0435\\u0445\", \"\\u0436\\u0438\\u0437\\u043d\\u044c\", \"\\u0432\\u0440\\u0435\\u043c\\u044f\", \"\\u0434\\u0435\\u043b\\u043e\", \"\\u0441\\u043b\\u043e\\u0436\\u043d\\u044b\\u0439\", \"\\u0447\\u0435\\u043b\\u043e\\u0432\\u0435\\u043a\", \"\\u043c\\u0443\\u0436\\u0447\\u0438\\u043d\\u0430\", \"\\u0433\\u043b\\u0430\\u0437\", \"\\u0441\\u0438\\u043b\\u044c\\u043d\\u043e\", \"\\u043d\\u0438\", \"\\u0436\\u0435\\u043b\\u0430\\u043d\\u0438\\u0435\", \"\\u0434\\u0435\\u0432\\u0443\\u0448\\u043a\\u0430\", \"\\u043f\\u043e\\u0441\\u0442\\u043e\\u044f\\u043d\\u043d\\u043e\", \"\\u0432\\u043d\\u0438\\u043c\\u0430\\u043d\\u0438\\u0435\", \"\\u0440\\u0430\\u0437\", \"\\u0433\\u043b\\u0430\\u0432\\u043d\\u044b\\u0439\", \"\\u0432\\u0430\\u0436\\u043d\\u044b\\u0439\", \"\\u0440\\u0430\\u0431\\u043e\\u0442\\u0430\", \"\\u043d\\u043e\\u0432\\u044b\\u0439\", \"\\u0438\\u0441\\u0442\\u043e\\u0440\\u0438\\u044f\", \"\\u043c\\u043e\\u043c\\u0435\\u043d\\u0442\", \"\\u043c\\u0438\\u0440\", \"\\u0433\\u043e\\u0434\", \"\\u043f\\u0440\\u043e\\u0431\\u043b\\u0435\\u043c\\u0430\", \"\\u043c\\u0435\\u0441\\u044f\\u0446\", \"\\u0441\\u0442\\u043e\\u0440\\u043e\\u043d\\u0430\", \"\\u0447\\u0430\\u0441\", \"\\u043c\\u0435\\u0441\\u0442\\u043e\", \"\\u0434\\u0435\\u043d\\u044c\", \"\\u0432\\u043e\\u043f\\u0440\\u043e\\u0441\", \"\\u0441\\u043b\\u043e\\u0432\\u043e\", \"\\u0434\\u0435\\u043a\\u043b\\u0430\\u0440\\u0430\\u0446\\u0438\\u044f\", \"\\u043d\\u0430\\u043b\\u043e\\u0433\\u043e\\u0432\\u044b\\u0439_\\u0432\\u044b\\u0447\\u0435\\u0442\", \"\\u0432\\u044b\\u0447\\u0435\\u0442\", \"\\u0431\\u0435\\u0440\\u0435\\u043c\\u0435\\u043d\\u043d\\u043e\\u0441\\u0442\\u044c\", \"\\u043c\\u043e\\u0448\\u0435\\u043d\\u043d\\u0438\\u043a\", \"\\u043f\\u0435\\u0447\\u0435\\u043d\\u044c\", \"\\u0432\\u0435\\u0449\\u0435\\u0441\\u0442\\u0432\\u043e\", \"\\u043f\\u0438\\u0449\\u0430\", \"\\u0438\\u043d\\u0432\\u0430\\u043b\\u0438\\u0434\\u043d\\u043e\\u0441\\u0442\\u044c\", \"\\u0432\\u0438\\u0442\\u0430\\u043c\\u0438\\u043d\", \"\\u043c\\u0444\\u0446\", \"\\u0443\\u043f\\u043e\\u0442\\u0440\\u0435\\u0431\\u043b\\u0435\\u043d\\u0438\\u0435\", \"\\u0434\\u0438\\u0430\\u0433\\u043d\\u043e\\u0441\\u0442\\u0438\\u0447\\u0435\\u0441\\u043a\\u0438\\u0439_\\u043a\\u0430\\u0440\\u0442\\u0430\", \"\\u043e\\u043f\\u0443\\u0445\\u043e\\u043b\\u044c\", \"\\u0441\\u0443\\u0441\\u0442\\u0430\\u0432\", \"\\u043d\\u0443\\u0436\\u043d\\u044b\\u0439_\\u0441\\u043f\\u0440\\u0430\\u0432\\u043a\\u0430\", \"\\u0443\\u043a\\u043e\\u043b\", \"\\u0436\\u0435\\u043b\\u0443\\u0434\\u043e\\u043a\", \"\\u0443\\u0437\\u0438\", \"\\u043d\\u0435\\u0443\\u0441\\u0442\\u043e\\u0439\\u043a\\u0430\", \"\\u043a\\u0438\\u0448\\u0435\\u0447\\u043d\\u0438\\u043a\", \"\\u043a\\u0430\\u0440\\u0434\\u0438\\u043e\\u043b\\u043e\\u0433\", \"\\u043f\\u0430\\u0446\\u0438\\u0435\\u043d\\u0442\\u043a\\u0430\", \"\\u0440\\u043e\\u0436\\u0434\\u0435\\u043d\\u0438\\u0435_\\u0440\\u0435\\u0431\\u0451\\u043d\\u043e\\u043a\", \"\\u0437\\u0430\\u043f\\u043e\\u043b\\u043d\\u0435\\u043d\\u0438\\u0435\", \"\\u0430\\u043d\\u0442\\u0438\\u0442\\u0435\\u043b\\u0430\", \"\\u043e\\u0436\\u0438\\u0440\\u0435\\u043d\\u0438\\u0435\", \"\\u043a\\u043e\\u043f\\u0438\\u044f_\\u0434\\u043e\\u043a\\u0443\\u043c\\u0435\\u043d\\u0442\", \"\\u0447\\u0435\\u043a\", \"\\u0440\\u0430\\u0446\\u0438\\u043e\\u043d\", \"\\u043a\\u043b\\u0438\\u043d\\u0438\\u043a\\u0430\", \"\\u0440\\u0435\\u0430\\u0431\\u0438\\u043b\\u0438\\u0442\\u0430\\u0446\\u0438\\u044f\", \"\\u0442\\u0435\\u0445\\u043e\\u0441\\u043c\\u043e\\u0442\\u0440\", \"\\u0441\\u0442\\u0440\\u0430\\u0445\\u043e\\u0432\\u043e\\u0439\", \"\\u043c\\u043d\\u043e\\u0433\\u043e\\u0434\\u0435\\u0442\\u043d\\u044b\\u0439_\\u0441\\u0435\\u043c\\u044c\\u044f\", \"\\u0440\\u0435\\u0431\\u0451\\u043d\\u043e\\u043a\", \"\\u0431\\u0440\\u0430\\u0442_\\u0441\\u0435\\u0441\\u0442\\u0440\\u0430\", \"\\u0430\\u043b\\u043a\\u043e\\u0433\\u043e\\u043b\\u044c\", \"\\u044e\\u0440\\u0438\\u0441\\u0442\", \"\\u0437\\u0430\\u043a\\u043e\\u043d\", \"\\u0434\\u043e\\u043a\\u0443\\u043c\\u0435\\u043d\\u0442\", \"\\u043e\\u0440\\u0433\\u0430\\u043d\\u0438\\u0437\\u043c\", \"\\u0436\\u0430\\u043b\\u043e\\u0431\\u0430\", \"\\u0440\\u043e\\u0434\\u0438\\u0442\\u0435\\u043b\\u044c\", \"\\u043f\\u0438\\u0442\\u0430\\u043d\\u0438\\u0435\", \"\\u0441\\u043f\\u0440\\u0430\\u0432\\u043a\\u0430\", \"\\u0432\\u0440\\u0430\\u0447\", \"\\u043b\\u0435\\u0447\\u0435\\u043d\\u0438\\u0435\", \"\\u043e\\u0431\\u0443\\u0447\\u0435\\u043d\\u0438\\u0435\", \"\\u043a\\u0440\\u043e\\u0432\\u044c\", \"\\u0436\\u0435\\u043d\\u0449\\u0438\\u043d\\u0430\", \"\\u043a\\u0432\\u0430\\u0440\\u0442\\u0438\\u0440\\u0430\", \"\\u043e\\u043f\\u0435\\u0440\\u0430\\u0446\\u0438\\u044f\", \"\\u0441\\u043b\\u0443\\u0447\\u0430\\u0439\", \"\\u0431\\u043e\\u043b\\u044c\\u043d\\u0438\\u0446\\u0430\", \"\\u043f\\u0440\\u0430\\u0432\\u043e\", \"\\u0441\\u0435\\u043c\\u044c\\u044f\", \"\\u043f\\u043e\\u043c\\u043e\\u0449\\u044c\", \"\\u0447\\u0435\\u043b\\u043e\\u0432\\u0435\\u043a\", \"\\u0433\\u043e\\u0434\", \"\\u043f\\u0440\\u043e\\u0431\\u043b\\u0435\\u043c\\u0430\", \"\\u043d\\u0430\\u0440\\u0443\\u0448\\u0435\\u043d\\u0438\\u0435\", \"\\u0434\\u0435\\u043d\\u044c\\u0433\\u0430\", \"\\u0441\\u043f\\u0435\\u0446\\u0438\\u0430\\u043b\\u0438\\u0441\\u0442\", \"\\u0437\\u0434\\u043e\\u0440\\u043e\\u0432\\u044c\\u0435\", \"\\u0441\\u043e\\u0441\\u0442\\u043e\\u044f\\u043d\\u0438\\u0435\", \"\\u043a\\u0430\\u0436\\u0434\\u044b\\u0439\", \"\\u0432\\u0440\\u0435\\u043c\\u044f\", \"\\u0440\\u0430\\u0437\", \"\\u043f\\u0440\\u0430\\u0432\\u0438\\u043b\\u043e\", \"\\u0432\\u043e\\u043f\\u0440\\u043e\\u0441\", \"\\u0434\\u0435\\u043d\\u044c\", \"\\u043c\\u0435\\u0441\\u044f\\u0446\", \"\\u0440\\u0430\\u0431\\u043e\\u0442\\u0430\", \"\\u0434\\u0435\\u043b\\u043e\", \"\\u0441\\u043b\\u043e\\u0432\\u043e\", \"\\u0436\\u0438\\u0437\\u043d\\u044c\", \"\\u0432\\u0438\\u0440\\u0443\\u0441\", \"\\u0432\\u0430\\u043a\\u0446\\u0438\\u043d\\u0430\", \"\\u0432\\u0430\\u043a\\u0446\\u0438\\u043d\\u0430\\u0446\\u0438\\u044f\", \"\\u0438\\u043d\\u0444\\u0435\\u043a\\u0446\\u0438\\u044f\", \"\\u043f\\u0440\\u0438\\u0432\\u0438\\u0432\\u043a\\u0430\", \"covid\", \"\\u043e\\u043c\\u0438\\u043a\\u0440\\u043e\\u043d\", \"\\u043a\\u043e\\u0432\\u0438\\u0434\", \"\\u0433\\u0440\\u0438\\u043f\\u043f\", \"\\u043a\\u043e\\u0440\\u043e\\u043d\\u0430\\u0432\\u0438\\u0440\\u0443\\u0441\\u043d\\u043e\\u0439_\\u0438\\u043d\\u0444\\u0435\\u043a\\u0446\\u0438\\u044f\", \"\\u0437\\u0430\\u0431\\u043e\\u043b\\u0435\\u0432\\u0430\\u0435\\u043c\\u043e\\u0441\\u0442\\u044c\", \"\\u043a\\u043e\\u0432\\u0438\\u0434\\u043e\\u043c\", \"\\u043d\\u043e\\u0432\\u044b\\u0439_\\u0448\\u0442\\u0430\\u043c\\u043c\", \"\\u0430\\u043d\\u0442\\u0438\\u0431\\u0438\\u043e\\u0442\\u0438\\u043a\", \"\\u043e\\u0440\\u0432\\u0438\", \"\\u0437\\u0430\\u0440\\u0430\\u0436\\u0435\\u043d\\u0438\\u0435\", \"\\u0448\\u0442\\u0430\\u043c\\u043c\", \"\\u043a\\u0440\\u044e\\u0447\\u043a\\u043e\\u0432\", \"\\u0438\\u043c\\u043c\\u0443\\u043d\\u043d\\u044b\\u0439_\\u0441\\u0438\\u0441\\u0442\\u0435\\u043c\\u0430\", \"\\u0440\\u0435\\u0432\\u0430\\u043a\\u0446\\u0438\\u043d\\u0430\\u0446\\u0438\\u044f\", \"\\u043f\\u0446\\u0440_\\u0442\\u0435\\u0441\\u0442\", \"\\u0441\\u043b\\u0443\\u0447\\u0430\\u0439_\\u0437\\u0430\\u0440\\u0430\\u0436\\u0435\\u043d\\u0438\\u0435\", \"\\u043f\\u043d\\u0435\\u0432\\u043c\\u043e\\u043d\\u0438\\u044f\", \"\\u043a\\u043e\\u043b\\u043b\\u0435\\u043a\\u0442\\u0438\\u0432\\u043d\\u044b\\u0439_\\u0438\\u043c\\u043c\\u0443\\u043d\\u0438\\u0442\\u0435\\u0442\", \"\\u0430\\u043d\\u0442\\u0438\\u0442\\u0435\\u043b\", \"\\u043d\\u043e\\u0432\\u044b\\u0439_\\u043a\\u043e\\u0440\\u043e\\u043d\\u0430\\u0432\\u0438\\u0440\\u0443\\u0441\\u043d\\u043e\\u0439\", \"\\u043b\\u0435\\u0442\\u0430\\u043b\\u044c\\u043d\\u043e\\u0441\\u0442\\u044c\", \"\\u043d\\u0438\\u043a\\u043e\\u043b\\u0430\\u0439_\\u043a\\u0440\\u044e\\u0447\\u043a\\u043e\\u0432\", \"\\u043d\\u0435\\u0440\\u0430\\u0431\\u043e\\u0447\\u0438\\u0439_\\u0434\\u0435\\u043d\\u044c\", \"\\u0438\\u043c\\u043c\\u0443\\u043d\\u043e\\u043b\\u043e\\u0433_\\u043d\\u0438\\u043a\\u043e\\u043b\\u0430\\u0439\", \"\\u043a\\u043e\\u0432\\u0438\\u0434\\u0430\", \"\\u0441\\u0438\\u043c\\u043f\\u0442\\u043e\\u043c\", \"\\u0434\\u0435\\u043b\\u044c\\u0442\\u0430\", \"\\u043a\\u043e\\u0440\\u043e\\u043d\\u0430\\u0432\\u0438\\u0440\\u0443\\u0441\", \"\\u0438\\u043c\\u043c\\u0443\\u043d\\u0438\\u0442\\u0435\\u0442\", \"\\u043f\\u0430\\u0446\\u0438\\u0435\\u043d\\u0442\", \"qr_\\u043a\\u043e\\u0434\", \"\\u0433\\u043e\\u0441\\u043f\\u0438\\u0442\\u0430\\u043b\\u0438\\u0437\\u0430\\u0446\\u0438\\u044f\", \"\\u043f\\u043e\\u043b\\u0438\\u043a\\u043b\\u0438\\u043d\\u0438\\u043a\\u0430\", \"\\u043f\\u0440\\u0435\\u043f\\u0430\\u0440\\u0430\\u0442\", \"\\u0437\\u0430\\u0431\\u043e\\u043b\\u0435\\u0432\\u0430\\u043d\\u0438\\u0435\", \"\\u0441\\u043f\\u0443\\u0442\\u043d\\u0438\\u043a\", \"\\u043c\\u0438\\u043d\\u0437\\u0434\\u0440\\u0430\\u0432\", \"\\u0442\\u0435\\u043c\\u043f\\u0435\\u0440\\u0430\\u0442\\u0443\\u0440\\u0430\", \"\\u0431\\u043e\\u043b\\u0435\\u0437\\u043d\\u044c\", \"\\u0440\\u043e\\u0441\\u043f\\u043e\\u0442\\u0440\\u0435\\u0431\\u043d\\u0430\\u0434\\u0437\\u043e\\u0440\", \"\\u043f\\u0430\\u043d\\u0434\\u0435\\u043c\\u0438\\u044f\", \"\\u0432\\u0440\\u0430\\u0447\", \"\\u0447\\u0435\\u043b\\u043e\\u0432\\u0435\\u043a\", \"\\u043c\\u0435\\u0434\\u0438\\u043a\", \"\\u0431\\u043e\\u043b\\u044c\\u043d\\u0438\\u0446\\u0430\", \"\\u0440\\u043e\\u0441\\u0441\\u0438\\u044f\", \"\\u0441\\u043b\\u0443\\u0447\\u0430\\u0439\", \"\\u0434\\u0435\\u043d\\u044c\", \"\\u0441\\u0442\\u0440\\u0430\\u043d\\u0430\", \"\\u0447\\u0438\\u0441\\u043b\\u043e\", \"\\u043d\\u0435\\u0434\\u0435\\u043b\\u044f\", \"\\u043d\\u043e\\u0432\\u044b\\u0439\", \"\\u0440\\u0435\\u0433\\u0438\\u043e\\u043d\", \"\\u0441\\u0438\\u0442\\u0443\\u0430\\u0446\\u0438\\u044f\", \"\\u0432\\u0440\\u0435\\u043c\\u044f\", \"\\u043f\\u0430\\u0440\\u043e\\u0445\\u043e\\u0434\\u0441\\u0442\\u0432\\u043e\", \"\\u0433\\u0438\\u0431\\u0434\\u0434\", \"\\u043a\\u0440\\u0430\\u0441\\u043d\\u044b\\u0439_\\u043a\\u0443\\u0437\\u043d\\u0438\\u0446\\u0430\", \"\\u043f\\u0434\\u0434\", \"\\u043c\\u0443\\u0440\\u043c\\u0430\\u043d\\u0441\\u043a\\u0438\\u0439_\\u043c\\u043e\\u0440\\u0441\\u043a\\u043e\\u0439\", \"\\u043f\\u0435\\u0448\\u0435\\u0445\\u043e\\u0434\", \"samsung_pay\", \"\\u043f\\u0435\\u0440\\u0435\\u043a\\u0440\\u0451\\u0441\\u0442\\u043e\\u043a\", \"\\u043f\\u0443\\u043d\\u043a\\u0442_\\u043f\\u0434\\u0434\", \"\\u043c\\u0430\\u043d\\u0451\\u0432\\u0440\", \"\\u043c\\u0443\\u0440\\u043c\\u0430\\u043d\\u0441\\u043a\\u0438\\u0439\", \"\\u0433\\u0430\", \"\\u0440\\u0443\\u0431\\u043a\\u0430\", \"\\u043b\\u0435\\u0432_\\u0432\\u043e\\u0440\\u043e\\u043f\\u0430\\u0435\\u0432\", \"\\u043f\\u0440\\u0438\\u0441\\u0442\\u0430\\u0432\", \"\\u043e\\u0431\\u0433\\u043e\\u043d\", \"\\u043a\\u043e\\u0430\\u043f\", \"\\u0441\\u0440\\u0435\\u0434\\u0441\\u0442\\u0432\\u043e_\\u0437\\u0430\\u0449\\u0438\\u0442\\u0430\", \"\\u0443\\u043c\\u0432\\u0434\", \"\\u043f\\u043e\\u0441\\u0430\\u0434\\u043e\\u0447\\u043d\\u044b\\u0439\", \"\\u043a\\u0430\\u0440\\u0433\\u043e\\u043f\\u043e\\u043b\\u044c\\u0441\\u043a\\u0438\\u0439_\\u0440\\u0430\\u0439\\u043e\\u043d\", \"\\u0441\\u0442\\u043e\\u044f\\u043d\\u043a\\u0430\", \"\\u043a\\u043c_\\u0447\\u0430\\u0441\", \"\\u0441\\u0443\\u0434\\u043e\\u0440\\u0435\\u043c\\u043e\\u043d\\u0442\\u043d\\u044b\\u0439\", \"\\u0433\\u0443\\u0441\\u0435\\u043d\\u0438\\u0447\\u043d\\u044b\\u0439\", \"\\u043a\\u043e\\u0440\\u043d\\u0435\\u0432\\u043e\\u0439\", \"komatsu\", \"\\u043c\\u0435\\u0440\\u0441\\u0435\\u0434\\u0435\\u0441\", \"\\u043b\\u0435\\u0441\\u043e\\u0432\\u043e\\u0441\\u0441\\u0442\\u0430\\u043d\\u043e\\u0432\\u043b\\u0435\\u043d\\u0438\\u0435\", \"\\u0441\\u0435\\u044f\\u043d\\u0435\\u0446\", \"\\u0432\\u043e\\u0434\\u0438\\u0442\\u0435\\u043b\\u044c\", \"\\u0441\\u0443\\u0434\\u043d\\u043e\", \"\\u0434\\u0442\\u043f\", \"\\u043b\\u0435\\u0441\\u043d\\u043e\\u0439\", \"\\u0443\\u0449\\u0435\\u0440\\u0431\", \"\\u0430\\u0440\\u0435\\u043d\\u0434\\u0430\\u0442\\u043e\\u0440\", \"\\u043b\\u0435\\u0441\", \"\\u043c\\u043e\\u0441\\u0442\", \"\\u0434\\u043e\\u0440\\u043e\\u0433\\u0430\", \"\\u0430\\u0432\\u0430\\u0440\\u0438\\u044f\", \"\\u043f\\u043e\\u043b\\u043e\\u0441\\u0430\", \"\\u0448\\u0442\\u0440\\u0430\\u0444_\\u0440\\u0443\\u0431\\u043b\\u044c\", \"\\u0430\\u0432\\u0442\\u043e\\u043c\\u043e\\u0431\\u0438\\u043b\\u0438\\u0441\\u0442\", \"\\u0448\\u0442\\u0440\\u0430\\u0444\", \"\\u043a\\u043c\", \"\\u043c\\u0435\\u0442\\u0440\", \"\\u0443\\u0447\\u0430\\u0441\\u0442\\u043e\\u043a\", \"\\u0434\\u0432\\u0438\\u0436\\u0435\\u043d\\u0438\\u0435\", \"\\u0430\\u0432\\u0442\\u043e\\u043c\\u043e\\u0431\\u0438\\u043b\\u044c\", \"\\u043c\\u0430\\u0448\\u0438\\u043d\\u0430\", \"\\u0441\\u0443\\u0434\", \"\\u0442\\u0435\\u0440\\u0440\\u0438\\u0442\\u043e\\u0440\\u0438\\u044f\", \"\\u0442\\u0440\\u0435\\u0431\\u043e\\u0432\\u0430\\u043d\\u0438\\u0435\", \"\\u0432\\u043b\\u0430\\u0434\\u0435\\u043b\\u0435\\u0446\", \"\\u0434\\u0435\\u043b\\u043e\", \"\\u0433\\u043e\\u0440\\u043e\\u0434\", \"\\u0441\\u043b\\u0443\\u0447\\u0430\\u0439\", \"\\u0441\\u0438\\u0441\\u0442\\u0435\\u043c\\u0430\", \"\\u0446\\u0435\\u043d\\u0442\\u0440\", \"\\u0433\\u043e\\u0434\", \"\\u043c\\u0435\\u0441\\u0442\\u043e\", \"\\u0440\\u0443\\u0431\\u043b\\u044c\", \"\\u043d\\u043e\\u0432\\u044b\\u0439\", \"\\u0447\\u0430\\u0441\\u0442\\u044c\", \"\\u0441\\u0431\\u043e\\u0440\\u043d\\u0430\\u044f_\\u0440\\u043e\\u0441\\u0441\\u0438\\u044f\", \"\\u0433\\u043e\\u043b\", \"\\u0445\\u043e\\u043a\\u043a\\u0435\\u0438\\u0441\\u0442\", \"\\u0432\\u0440\\u0430\\u0442\\u0430\\u0440\\u044c\", \"\\u0444\\u0430\\u043d_\\u0437\\u043e\\u043d\\u0430\", \"\\u0447\\u043c\", \"\\u0433\\u043e\\u043b\\u043a\\u0438\\u043f\\u0435\\u0440\", \"\\u0447\\u0435\\u043c\\u043f\\u0438\\u043e\\u043d\\u0430\\u0442_\\u043c\\u0438\\u0440\", \"\\u043d\\u0430\\u043f\\u0430\\u0434\\u0430\\u044e\\u0449\\u0438\\u0439\", \"\\u0444\\u043e\\u0440\\u0432\\u0430\\u0440\\u0434\", \"\\u0445\\u043e\\u0440\\u0432\\u0430\\u0442\", \"\\u0430\\u0440\\u0433\\u0435\\u043d\\u0442\\u0438\\u043d\\u0435\\u0446\", \"\\u0442\\u0443\\u0440\\u0431\\u0438\\u043d\\u0430\", \"\\u0443\\u0440\\u0443\\u0433\\u0432\\u0430\\u0439\", \"\\u0434\\u043c\\u0438\\u0442\\u0440\\u0438\\u0439_\\u0447\\u0435\\u0440\\u044b\\u0448\\u0435\\u0432\", \"\\u043f\\u0435\\u043d\\u0430\\u043b\\u044c\\u0442\\u0438\", \"\\u0441\\u043b\\u0435\\u0434\\u0443\\u044e\\u0449\\u0438\\u0439_\\u043c\\u0430\\u0442\\u0447\", \"\\u0434\\u0435\\u043d\\u0438\\u0441_\\u0447\\u0435\\u0440\\u044b\\u0448\\u0435\\u0432\", \"\\u043e\\u043f\\u0430\\u0441\\u043d\\u044b\\u0439_\\u043c\\u043e\\u043c\\u0435\\u043d\\u0442\", \"\\u0445\\u043a_\\u0442\\u043e\\u0440\\u043f\\u0435\\u0434\\u043e\", \"\\u0430\\u0440\\u0431\\u0438\\u0442\\u0440\", \"\\u0432\\u043e\\u0440\\u043e\\u0442\\u0430\\u043c\", \"\\u0434\\u0430\\u0442\\u0447\\u0430\\u043d\\u0438\\u043d\", \"\\u043c\\u0430\\u0442\\u0447_\\u0447\\u0435\\u043c\\u043f\\u0438\\u043e\\u043d\\u0430\\u0442\", \"\\u0447\\u0435\\u0442\\u0432\\u0435\\u0440\\u0442\\u044c\\u0444\\u0438\\u043d\\u0430\\u043b\", \"\\u043f\\u043e\\u043b\\u0443\\u0437\\u0430\\u0449\\u0438\\u0442\\u043d\\u0438\\u043a\", \"\\u043c\\u0443\\u043d\\u0434\\u0438\\u0430\\u043b\\u044c\", \"\\u0447\\u0435\\u0440\\u044b\\u0448\\u0435\\u0432\", \"\\u0434\\u0430\\u0432\\u0438\\u0434_\\u043c\\u0435\\u043b\\u0438\\u043a\", \"\\u043a\\u0430\\u0442\\u0430\\u0440\", \"\\u0441\\u0431\\u043e\\u0440\\u043d\\u0430\\u044f\", \"\\u0448\\u0430\\u0439\\u0431\\u0430\", \"\\u0442\\u043e\\u0440\\u043f\\u0435\\u0434\\u043e\\u0432\\u0435\\u0446\", \"\\u0444\\u0443\\u0442\\u0431\\u043e\\u043b\\u0438\\u0441\\u0442\", \"\\u0433\\u043b\\u0430\\u0432\\u043d\\u044b\\u0439_\\u0442\\u0440\\u0435\\u043d\\u0435\\u0440\", \"\\u0432\\u043e\\u0440\\u043e\\u0442\\u0430\", \"\\u043f\\u043b\\u0435\\u0439_\\u043e\\u0444\\u0444\", \"\\u043c\\u044f\\u0447\", \"\\u0431\\u043e\\u043b\\u0435\\u043b\\u044c\\u0449\\u0438\\u043a\", \"\\u0442\\u0430\\u0439\\u043c\", \"\\u0441\\u043e\\u043f\\u0435\\u0440\\u043d\\u0438\\u043a\", \"\\u043c\\u0430\\u0442\\u0447\", \"\\u0442\\u043e\\u0440\\u043f\\u0435\\u0434\\u043e\", \"\\u0438\\u0433\\u0440\\u043e\\u043a\", \"\\u0448\\u0432\\u0435\\u0434\", \"\\u0446\\u0441\\u043a\\u0430\", \"\\u0441\\u0442\\u0430\\u0434\\u0438\\u043e\\u043d\", \"\\u0438\\u0433\\u0440\\u0430\", \"\\u0430\\u0442\\u0430\\u043a\\u0430\", \"\\u0444\\u0443\\u0442\\u0431\\u043e\\u043b\", \"\\u043a\\u043e\\u043c\\u0430\\u043d\\u0434\\u0430\", \"\\u0444\\u0443\\u0442\\u0431\\u043e\\u043b\\u044c\\u043d\\u044b\\u0439\", \"\\u0442\\u0443\\u0440\\u043d\\u0438\\u0440\", \"\\u0437\\u0430\\u0449\\u0438\\u0442\\u043d\\u0438\\u043a\", \"\\u043e\\u043b\\u0438\\u043c\\u043f\\u0438\\u0430\\u0434\\u0430\", \"\\u043f\\u043e\\u0431\\u0435\\u0434\\u0430\", \"\\u0442\\u0440\\u0438\\u0431\\u0443\\u043d\\u0430\", \"\\u0442\\u0440\\u0435\\u043d\\u0435\\u0440\", \"\\u0441\\u0447\\u0451\\u0442\", \"\\u043c\\u0438\\u043d\\u0443\\u0442\\u0430\", \"\\u0444\\u0438\\u043d\\u0430\\u043b\", \"\\u043a\\u043b\\u0443\\u0431\", \"\\u043f\\u043e\\u043b\\u0435\", \"\\u0440\\u043e\\u0441\\u0441\\u0438\\u044f\", \"\\u0441\\u0435\\u0433\\u043e\\u0434\\u043d\\u044f\", \"\\u043f\\u0435\\u0440\\u0438\\u043e\\u0434\", \"\\u043c\\u043e\\u043c\\u0435\\u043d\\u0442\", \"\\u0432\\u0440\\u0435\\u043c\\u044f\", \"\\u043c\\u043e\\u043d\\u0435\\u0442\\u0430\", \"\\u0430\\u0432\\u0442\\u043e\\u0432\\u0430\\u0437\", \"renault\", \"lada_vesta\", \"\\u0441\\u0431\\u043e\\u0440\\u043a\\u0430\", \"nissan\", \"\\u0441\\u0435\\u0434\\u0430\\u043d\", \"duster\", \"lada_granta\", \"\\u0434\\u0438\\u043b\\u0435\\u0440\", \"\\u044d\\u043b\\u0435\\u043a\\u0442\\u0440\\u043e\\u043c\\u043e\\u0431\\u0438\\u043b\\u044c\", \"\\u0442\\u043e\\u043a\\u0435\\u043b\\u0430\\u0443\", \"\\u0430\\u0433\\u0440\\u043e\\u043f\\u0440\\u043e\\u043c\\u044b\\u0448\\u043b\\u0435\\u043d\\u043d\\u044b\\u0439_\\u043a\\u043e\\u043c\\u043f\\u043b\\u0435\\u043a\\u0441\", \"ford\", \"\\u0430\\u0432\\u0442\\u043e\\u043f\\u0440\\u043e\\u043c\", \"\\u043a\\u0440\\u043e\\u0441\\u0441\\u043e\\u0432\\u0435\\u0440\", \"\\u0432\\u0430\\u0440\\u0438\\u0430\\u0442\\u043e\\u0440\", \"renault_duster\", \"\\u0443\\u0430\\u0437\", \"skoda\", \"camry\", \"vesta\", \"arkana\", \"hyundai_solaris\", \"\\u0433\\u0443\", \"haval\", \"\\u043f\\u0440\\u043e\\u0434\\u0443\\u043a\\u0442\\u043e\\u0432\\u044b\\u0439_\\u043b\\u0438\\u043d\\u0435\\u0439\\u043a\\u0430\", \"\\u0434\\u0438\\u043b\\u0435\\u0440\\u0441\\u043a\\u0438\\u0439_\\u0446\\u0435\\u043d\\u0442\\u0440\", \"\\u0441\\u0438\\u0441\\u0442\\u0435\\u043c\\u0430_\\u0441\\u0442\\u0430\\u0431\\u0438\\u043b\\u0438\\u0437\\u0430\\u0446\\u0438\\u044f\", \"\\u043f\\u0440\\u0430\\u0439\\u0441_\\u043b\\u0438\\u0441\\u0442\", \"lada\", \"\\u043f\\u043e\\u043b\\u043d\\u044b\\u0439_\\u043f\\u0440\\u0438\\u0432\\u043e\\u0434\", \"hyundai\", \"\\u043a\\u043e\\u043c\\u043f\\u043b\\u0435\\u043a\\u0442\\u0430\\u0446\\u0438\\u044f\", \"mazda\", \"toyota\", \"\\u043c\\u043e\\u0434\\u0435\\u043b\\u044c\", \"\\u0434\\u0432\\u0438\\u0433\\u0430\\u0442\\u0435\\u043b\\u044c\", \"\\u043c\\u0430\\u0440\\u043a\\u0430\", \"\\u043c\\u043e\\u0442\\u043e\\u0440\", \"\\u0432\\u043d\\u0435\\u0434\\u043e\\u0440\\u043e\\u0436\\u043d\\u0438\\u043a\", \"\\u0430\\u0432\\u0442\\u043e\\u043c\\u043e\\u0431\\u0438\\u043b\\u044c\", \"\\u043c\\u0430\\u0448\\u0438\\u043d\\u0430\", \"volkswagen\", \"\\u0441\\u0435\\u0440\\u0435\\u0431\\u0440\\u044f\\u043d\\u044b\\u0439\", \"\\u043a\\u0443\\u0437\\u043e\\u0432\", \"\\u0437\\u0430\\u0432\\u043e\\u0434\", \"\\u0431\\u0440\\u0435\\u043d\\u0434\", \"\\u0430\\u0432\\u0442\\u043e\", \"\\u0432\\u0435\\u0440\\u0441\\u0438\\u044f\", \"\\u043f\\u0440\\u043e\\u0434\\u0430\\u0436\\u0430\", \"\\u0441\\u0430\\u043b\\u043e\\u043d\", \"\\u0440\\u043e\\u0441\\u0441\\u0438\\u044f\", \"\\u0440\\u044b\\u043d\\u043e\\u043a\", \"\\u043d\\u043e\\u0432\\u044b\\u0439\", \"\\u0446\\u0435\\u043d\\u0430\", \"\\u0440\\u0443\\u0431\\u043b\\u044c\", \"\\u043f\\u0440\\u043e\\u0438\\u0437\\u0432\\u043e\\u0434\\u0441\\u0442\\u0432\\u043e\", \"\\u0433\\u043e\\u0434\", \"\\u0441\\u0442\\u043e\\u0438\\u043c\\u043e\\u0441\\u0442\\u044c\", \"\\u043a\\u043e\\u043c\\u043f\\u0430\\u043d\\u0438\\u044f\", \"\\u0441\\u0435\\u0440\\u0438\\u044f\", \"\\u0440\\u043e\\u0441\\u0441\\u0438\\u0439\\u0441\\u043a\\u0438\\u0439\", \"\\u043d\\u0438\\u0436\\u0435\\u0433\\u043e\\u0440\\u043e\\u0434\\u0435\\u0446\", \"\\u0442\\u0435\\u043a\\u0441\\u0442_\\u043c\\u0438\\u0445\\u0430\\u0438\\u043b\", \"\\u043d\\u043d\", \"\\u0431\\u0440\\u043e\\u043d\\u0437\\u0430\", \"\\u0430\\u0432\\u0442\\u043e\\u0437\\u0430\\u0432\\u043e\\u0434\\u0435\\u0446\", \"\\u0444\\u043a_\\u043d\\u0438\\u0436\\u043d\\u0438\\u0439\", \"\\u0431\\u043a_\\u043d\\u043d\", \"\\u043f\\u043b\\u043e\\u0449\\u0430\\u0434\\u044c_\\u043c\\u0438\\u043d\\u0438\\u043d\", \"\\u043b\\u0438\\u0433\\u0430_\\u0447\\u0435\\u043c\\u043f\\u0438\\u043e\\u043d\", \"\\u043c\\u0435\\u0441\\u0441\\u0438\", \"\\u0442\\u0435\\u043a\\u0441\\u0442_\\u0441\\u0432\\u0435\\u0442\\u043b\\u0430\\u043d\\u0430\", \"\\u0447\\u0435\\u043b\\u043b\\u0435\\u043d\\u0434\\u0436\", \"\\u0444\\u043a_\\u043d\\u043d\", \"\\u043c\\u0435\\u0441\\u0441\\u0435\\u043d\\u0434\\u0436\\u0435\\u0440_viber\", \"fifa\", \"\\u0437\\u0430\\u0431\\u0435\\u0433\", \"\\u0444\\u0435\\u0441\\u0442\\u0438\\u0432\\u0430\\u043b\\u044c_\\u0431\\u043e\\u043b\\u0435\\u043b\\u044c\\u0449\\u0438\\u043a\", \"telegram_\\u043d\\u043e\\u0432\\u043e\\u0441\\u0442\\u044c\", \"\\u0445\\u0443\\u0434\\u043e\\u0436\\u0435\\u0441\\u0442\\u0432\\u0435\\u043d\\u043d\\u044b\\u0439_\\u0433\\u0438\\u043c\\u043d\\u0430\\u0441\\u0442\\u0438\\u043a\\u0430\", \"\\u0435\\u0444\\u0440\\u0435\\u043c\\u043e\\u0432\\u0444\\u043e\\u0442\\u043e\", \"\\u0445\\u043e\\u043a\\u043a\\u0435\\u0439\\u043d\\u044b\\u0439_\\u043a\\u043b\\u0443\\u0431\", \"\\u043f\\u043e\\u043a\\u0440\\u043e\\u0432\\u043a\\u0430\", \"\\u0431\\u0430\\u0441\\u043a\\u0435\\u0442\\u0431\\u043e\\u043b\\u044c\\u043d\\u044b\\u0439_\\u043a\\u043b\\u0443\\u0431\", \"\\u0444\\u0443\\u0442\\u0431\\u043e\\u043b_\\u043d\\u0438\\u0436\\u043d\\u0438\\u0439\", \"\\u0435\\u0434\\u0438\\u043d\\u044b\\u0439_\\u043b\\u0438\\u0433\\u0430\", \"\\u043d\\u0430\\u0442\\u0430\\u043b\\u044c\\u044f_\\u0431\\u0443\\u0440\\u0443\\u0445\\u0438\\u043d\", \"\\u043d\\u0438\\u0436\\u0435\\u0433\\u043e\\u0440\\u043e\\u0434\\u0441\\u043a\\u0438\\u0439_\\u044f\\u0440\\u043c\\u0430\\u0440\\u043a\\u0430\", \"\\u043c\\u0438\\u043d\\u0438_\\u0444\\u0443\\u0442\\u0431\\u043e\\u043b\", \"\\u0435\\u0444\\u0440\\u0435\\u043c\\u043e\\u0432\\u0444\\u043e\\u0442\\u043e_\\u043d\\u0430\\u0442\\u0430\\u043b\\u044c\\u044f\", \"\\u0431\\u043a_\\u043d\\u0438\\u0436\\u043d\\u0438\\u0439\", \"\\u043d\\u0438\\u0436\\u043d\\u0438\\u0439_\\u043d\\u043e\\u0432\\u0433\\u043e\\u0440\\u043e\\u0434\", \"\\u043a\\u0430\\u043d\\u0430\\u043b_\\u043c\\u0435\\u0441\\u0441\\u0435\\u043d\\u0434\\u0436\\u0435\\u0440\", \"viber_telegram\", \"\\u043d\\u043e\\u0432\\u043e\\u0441\\u0442\\u044c_\\u0443\\u0434\\u043e\\u0431\\u043d\\u043e\", \"\\u043a\\u0440\\u0430\\u0441\\u0438\\u0432\\u044b\\u0439_\\u0444\\u043e\\u0442\\u043e\\u0433\\u0440\\u0430\\u0444\\u0438\\u044f\", \"\\u043d\\u0438\\u0436\\u0435\\u0433\\u043e\\u0440\\u043e\\u0434\\u0441\\u043a\\u0438\\u0439\", \"\\u043d\\u0438\\u0436\\u0435\\u0433\\u043e\\u0440\\u043e\\u0434\\u043a\\u0430\", \"\\u0441\\u043e\\u0440\\u0435\\u0432\\u043d\\u043e\\u0432\\u0430\\u043d\\u0438\\u0435\", \"\\u043c\\u0435\\u0434\\u0430\\u043b\\u044c\", \"\\u043d\\u043e\\u0432\\u0433\\u043e\\u0440\\u043e\\u0434\", \"\\u043e\\u043b\\u0438\\u043c\\u043f\\u0438\\u0439\\u0441\\u043a\\u0438\\u0439_\\u0438\\u0433\\u0440\\u0430\", \"\\u0441\\u043e\\u0447\\u0438\", \"\\u0441\\u043f\\u043e\\u0440\\u0442\\u0441\\u043c\\u0435\\u043d\\u043a\\u0430\", \"\\u0433\\u043e\\u043d\\u043a\\u0430\", \"instagram\", \"\\u043d\\u0438\\u0436\\u043d\\u0438\\u0439\", \"\\u0441\\u043f\\u043e\\u0440\\u0442\\u0441\\u043c\\u0435\\u043d\", \"\\u043d\\u0438\\u0436\\u0435\\u0433\\u043e\\u0440\\u043e\\u0434\\u0441\\u043a\\u0438\\u0439_\\u043e\\u0431\\u043b\\u0430\\u0441\\u0442\\u044c\", \"\\u0441\\u0442\\u0430\\u0434\\u0438\\u043e\\u043d_\\u043d\\u0438\\u0436\\u043d\\u0438\\u0439\", \"\\u0441\\u043f\\u043e\\u0440\\u0442\\u0438\\u0432\\u043d\\u044b\\u0439\", \"\\u0441\\u043f\\u043e\\u0440\\u0442\", \"\\u0443\\u043b\\u0438\\u0446\\u0430\", \"\\u0433\\u0440\\u0443\\u043f\\u043f\\u0430_\\u0432\\u043a\\u043e\\u043d\\u0442\\u0430\\u043a\\u0442\\u0435\", \"\\u0433\\u043e\\u0440\\u043e\\u0434\", \"\\u0441\\u0442\\u0430\\u0440\\u0442\", \"\\u043c\\u0435\\u0441\\u0442\\u043e\", \"\\u043c\\u0430\\u0442\\u0447\", \"\\u043a\\u043e\\u043c\\u0430\\u043d\\u0434\\u0430\", \"\\u0432\\u0441\\u0442\\u0440\\u0435\\u0447\\u0430\", \"\\u0434\\u0435\\u043d\\u044c\", \"\\u0438\\u0433\\u0440\\u0430\", \"\\u0442\\u043e\\u043f\\u043b\\u0438\\u0432\\u043e\", \"\\u043a\\u0440\\u0435\\u0434\\u0438\\u0442\\u043d\\u044b\\u0439_\\u043b\\u0438\\u043c\\u0438\\u0442\", \"\\u0441\\u0435\\u0432\\u0435\\u0440\\u0433\\u0430\\u0437\\u0431\\u0430\\u043d\\u043a\\u0430\", \"\\u043a\\u0435\\u0448\\u0431\\u044d\\u043a\\u0430\", \"mastercard\", \"\\u043a\\u0435\\u0448\\u0431\\u044d\\u043a\\u043e\\u043c\", \"\\u0441\\u0435\\u0432\\u0435\\u0440\\u0433\\u0430\\u0437\\u0431\\u0430\\u043d\\u043a\", \"platinum\", \"edition\", \"\\u0440\\u043e\\u0437\\u043d\\u0438\\u0447\\u043d\\u044b\\u0439_\\u0446\\u0435\\u043d\\u0430\", \"back\", \"visarewards\", \"cash\", \"\\u0440\\u0443\\u0431\\u043b\\u044c_\\u043b\\u0438\\u0442\\u0440\", \"\\u0442\\u0430\\u0440\\u0430\\u043a\\u0430\\u043d\", \"\\u0434\\u0438\\u0441\\u043a\\u043e\\u043d\\u0442\", \"\\u043f\\u0435\\u0440\\u0435\\u0434\\u043d\\u0438\\u0439_\\u043f\\u0430\\u043d\\u0435\\u043b\\u044c\", \"\\u043f\\u0440\\u0435\\u0437\\u0435\\u0440\\u0432\\u0430\\u0442\\u0438\\u0432\", \"\\u0430\\u0442\\u0435\\u043b\\u044c\\u0435\", \"\\u0437\\u0430\\u043f\\u0443\\u0441\\u043a_\\u0434\\u0432\\u0438\\u0433\\u0430\\u0442\\u0435\\u043b\\u044c\", \"\\u043d\\u0430\\u0446\\u0435\\u043d\\u043a\\u0430\", \"\\u0430\\u0432\\u0442\\u043e\\u0437\\u0430\\u043f\\u0440\\u0430\\u0432\\u043a\\u0430\", \"\\u0434\\u0438\\u0441\\u0442\\u0430\\u043d\\u0446\\u0438\\u043e\\u043d\\u043d\\u044b\\u0439_\\u0441\\u043f\\u043e\\u0441\\u043e\\u0431\", \"\\u043f\\u0435\\u0442\\u0440\\u043e\\u0432\\u0441\\u043a\\u0438\\u0439\", \"\\u043f\\u043e\\u0434\\u043e\\u0433\\u0440\\u0435\\u0432_\\u0441\\u0438\\u0434\\u0435\\u043d\\u0438\\u0435\", \"\\u0430\\u0432\\u0430\\u0440\\u0438\\u0439\\u043d\\u044b\\u0439_\\u043a\\u043e\\u043c\\u0438\\u0441\\u0441\\u0430\\u0440\", \"\\u0435\\u0436\\u0435\\u043a\\u0432\\u0430\\u0440\\u0442\\u0430\\u043b\\u044c\\u043d\\u043e\", \"\\u0433\\u0440\\u0435\\u0439\\u0441\", \"\\u043f\\u043e\\u0442\\u0440\\u0430\\u0447\\u0435\\u043d\\u043d\\u043e\\u0439\", \"\\u043e\\u043f\\u0442\\u043e\\u0432\\u044b\\u0439_\\u0446\\u0435\\u043d\\u0430\", \"\\u0446\\u0435\\u043d\\u043d\\u0438\\u043a\", \"apple\", \"\\u0430\\u0437\\u0441\", \"\\u0446\\u0435\\u043d\\u0430_\\u0442\\u043e\\u0432\\u0430\\u0440\", \"\\u0430\\u043a\\u043a\\u0443\\u043c\\u0443\\u043b\\u044f\\u0442\\u043e\\u0440\", \"\\u043d\\u0430\\u043b\\u0438\\u0447\\u043d\\u044b\\u0435\", \"\\u0442\\u043e\\u0432\\u0430\\u0440\", \"\\u043f\\u0440\\u043e\\u0434\\u0443\\u043a\\u0442\\u043e\\u0432\\u044b\\u0439\", \"\\u043a\\u0435\\u0448\\u0431\\u044d\\u043a\", \"\\u0441\\u043a\\u0438\\u0434\\u043a\\u0430\", \"\\u0431\\u0435\\u043d\\u0437\\u0438\\u043d\", \"\\u043f\\u043e\\u043a\\u0443\\u043f\\u0430\\u0442\\u0435\\u043b\\u044c\", \"\\u043f\\u0440\\u043e\\u0434\\u0430\\u0432\\u0435\\u0446\", \"\\u0446\\u0435\\u043d\\u0430\", \"\\u0441\\u0430\\u0445\\u0430\\u0440\", \"\\u043c\\u0430\\u0433\\u0430\\u0437\\u0438\\u043d\", \"\\u043a\\u0430\\u0440\\u0442\\u0430\", \"\\u043f\\u0440\\u043e\\u0433\\u0440\\u0430\\u043c\\u043c\\u0430_\\u043b\\u043e\\u044f\\u043b\\u044c\\u043d\\u043e\\u0441\\u0442\\u044c\", \"\\u043c\\u0430\\u0441\\u043b\\u043e\", \"\\u043f\\u043e\\u043a\\u0443\\u043f\\u043a\\u0430\", \"\\u0431\\u043e\\u043d\\u0443\\u0441\", \"\\u043b\\u0438\\u0442\\u0440\", \"\\u0434\\u043e\\u0441\\u0442\\u0443\\u043f\\u043d\\u044b\\u0439\", \"\\u043a\\u0440\\u0435\\u0434\\u0438\\u0442\\u043d\\u044b\\u0439_\\u043a\\u0430\\u0440\\u0442\\u0430\", \"\\u043f\\u043e\\u0442\\u0440\\u0435\\u0431\\u0438\\u0442\\u0435\\u043b\\u044c\", \"\\u0434\\u0435\\u0448\\u0451\\u0432\\u044b\\u0439\", \"\\u0440\\u0443\\u0431\\u043b\\u044c\", \"\\u043f\\u0440\\u043e\\u0434\\u0430\\u0436\\u0430\", \"\\u0441\\u0442\\u043e\\u0438\\u043c\\u043e\\u0441\\u0442\\u044c\", \"\\u0441\\u0435\\u0440\\u0432\\u0438\\u0441\", \"\\u043f\\u0440\\u0438\\u043b\\u043e\\u0436\\u0435\\u043d\\u0438\\u0435\", \"\\u043f\\u0440\\u043e\\u0434\\u0443\\u043a\\u0442\", \"\\u0430\\u0432\\u0442\\u043e\\u043c\\u043e\\u0431\\u0438\\u043b\\u044c\", \"\\u0443\\u0434\\u043e\\u0431\\u043d\\u044b\\u0439\", \"\\u043a\\u043b\\u0438\\u0435\\u043d\\u0442\", \"\\u043f\\u0440\\u043e\\u0438\\u0437\\u0432\\u043e\\u0434\\u0438\\u0442\\u0435\\u043b\\u044c\", \"\\u0434\\u043e\\u043f\\u043e\\u043b\\u043d\\u0438\\u0442\\u0435\\u043b\\u044c\\u043d\\u044b\\u0439\", \"\\u0432\\u0438\\u0434\", \"\\u0434\\u043e\\u0440\\u043e\\u0433\\u043e\\u0439\"], \"Freq\": [5817.0, 2301.0, 2473.0, 3156.0, 9382.0, 2477.0, 2291.0, 2585.0, 4410.0, 18299.0, 2596.0, 1714.0, 5497.0, 1248.0, 1308.0, 1836.0, 1199.0, 1099.0, 1209.0, 2877.0, 858.0, 1779.0, 1089.0, 706.0, 5270.0, 2266.0, 906.0, 2900.0, 1006.0, 1433.0, 1245.969025927861, 1104.7090345851734, 980.5927593574667, 848.7864734525556, 822.4081300753637, 730.7446941101986, 700.9852396961053, 605.7647374699563, 534.6968910432012, 534.4927191477154, 1430.2479982988068, 425.7787398068366, 382.0363118460623, 337.75413393507324, 313.7353969708359, 287.90301732348195, 240.38975889616418, 222.51814773319947, 221.30004319658622, 218.42673037970627, 189.3345442184216, 178.47718670987558, 172.69208997058016, 172.05950683189738, 167.00840007742943, 165.6031860729841, 157.9168425444099, 145.51967309466394, 141.94386362957104, 138.1797647576193, 762.5505532801766, 253.31127966738669, 695.1357980803845, 256.81179374278395, 610.8902567820422, 262.7461570133542, 382.9472926849093, 226.38432406412414, 275.55445457062405, 991.6020149159802, 508.576538363149, 644.917117728791, 545.994866646171, 1348.7289140967432, 697.6840589173069, 520.1443210310664, 1805.5502368323098, 1469.1271080745432, 413.9246479051364, 581.4857687733054, 1740.153703672079, 673.5782611281858, 696.3454138470208, 5540.680739821671, 871.8594256210404, 1228.1843058143804, 925.5419994943506, 937.3671277128894, 906.2294366053376, 953.4745347890834, 1553.294009407819, 1997.0760381775028, 1432.391514583228, 1216.5253537569106, 1061.5558630811195, 1329.3637887440327, 738.5667900482442, 1146.926268266648, 1033.909840750649, 809.0972633803782, 780.179147936241, 1835.0545787884, 814.0350442984676, 768.6748948626673, 493.19220756324495, 385.38941715643284, 384.21960743909574, 369.4068879163681, 337.3361038357261, 279.02067704768314, 239.12543985003953, 230.19519974045565, 219.79229012039997, 207.90550211833664, 205.3782197427528, 200.24903523326046, 209.46426946737395, 197.5588938279057, 190.82367136812843, 190.48006316646286, 189.09054243556076, 188.59639762075807, 185.08622202642837, 181.44650809795223, 181.15300942569624, 180.42439606559034, 180.14135982255172, 175.61058955401563, 169.08730776563604, 167.74734590997417, 162.47527276191883, 635.3117902765862, 471.5423456123756, 397.78767722449396, 735.1928208562954, 465.9240578329198, 550.4345439796049, 3845.749531402997, 411.9156032222356, 281.690542142847, 633.6601214508023, 752.7368095324475, 377.96378449914226, 401.0739813070903, 782.2996453172291, 268.06407854198056, 1061.441955752539, 672.7690489681529, 454.89173826055395, 5947.034877452269, 1028.8520393945657, 484.2306413498055, 747.1208712107809, 559.124454136172, 670.7753382458961, 1484.396926920508, 933.9523487982617, 817.0544891338445, 530.965174645231, 924.80532226059, 749.1824714737371, 877.6153857303646, 626.8028373168222, 603.6756069399027, 626.8259892654529, 592.6273795804226, 650.8029402094543, 534.6125610217998, 181.42276343061226, 104.35489123053252, 67.51544964880816, 64.05216366660726, 62.52683658599119, 60.12913601829442, 56.649568263851755, 53.66061715305977, 53.52655783642032, 51.932978645373474, 80.40244599429964, 49.997423606453054, 50.074347211714795, 49.7620913146851, 49.21326601607723, 48.787729556756226, 45.62869050475669, 43.6494555222997, 43.443163064133984, 43.164549518246965, 42.6177880236827, 42.11189219441373, 41.365437137851586, 41.103644767535904, 39.882646700236585, 39.81531216177405, 423.0141155426139, 39.69154548149413, 39.611479265529624, 39.401786221155696, 44.47186970751797, 54.292399165909124, 63.65192053297978, 107.49192028145335, 299.8709620593639, 131.0835809102334, 283.2383196778758, 194.22415294985174, 136.8929899482799, 228.9749544824892, 148.27760144390146, 342.0461344726488, 142.80115670027675, 154.9159092332805, 168.76605126529344, 470.16139058636696, 178.95267141823817, 197.28158483118162, 311.8377656399915, 120.56764329842122, 526.08696232033, 193.76758320984092, 440.5808872293399, 279.85290711984305, 373.19212700602685, 632.9415892940448, 1405.3725043801837, 367.0402789368129, 578.6316008891276, 273.2557698759021, 1168.056803117048, 1925.3651940736527, 1015.7705789247411, 666.5458069665463, 2534.3590579105985, 443.5738252343071, 330.93667730590937, 395.9812375635084, 676.7722374304458, 334.34024195859837, 555.7014246348018, 333.14776191081074, 445.23579724969676, 914.5911785477603, 655.3971375229783, 588.5063872867788, 905.8232008777683, 1060.4144127589607, 660.6672018622422, 629.6496342259413, 602.9007169213812, 1518.033315698127, 595.0636086843309, 615.8562468051276, 491.0403332398963, 443.97288988892103, 570.8754500561516, 585.6705329123126, 494.356256577688, 469.2575382245416, 332.47394681979705, 297.4201027717103, 472.31542632784533, 209.84826027750717, 190.46843390350924, 174.02303602507936, 161.64657441078876, 152.8064477867185, 147.13961814473043, 146.304418030294, 128.38011323681212, 113.57114024483457, 111.535877302448, 111.17105936698036, 111.0412702005803, 107.61952223013492, 104.46483052617566, 101.61909614526931, 100.11432990863855, 99.97279769966875, 97.86741233720886, 94.9703511210477, 94.94489480188315, 94.84396508614545, 94.53779519645752, 91.19970940775191, 88.2232343269675, 88.16041632565181, 79.86243989381506, 79.76153256710037, 267.6676659265226, 129.17265106789935, 200.016120821825, 284.4677842910417, 175.204348046257, 3169.980093100992, 126.50311829809678, 216.08035677798856, 227.7920323264979, 578.7991422260743, 846.2135435242861, 590.7917776243602, 205.8977619451009, 805.9144663320371, 279.9667398827725, 193.83513846087982, 1527.6555199728496, 549.8377767309667, 301.71756379373215, 318.1458228750464, 760.1822897035329, 530.1101816625246, 420.6037237674571, 1285.7800981121443, 558.8315368309446, 550.8145650269304, 720.3411575879695, 613.3776001485492, 2183.5713235050694, 3022.4049077080763, 781.488669118683, 399.92499822342296, 747.2623009720935, 459.295940778141, 377.73967054287107, 463.1455989509016, 530.7998979054297, 945.8362776546521, 689.7186161414699, 473.66266339856423, 579.4087953226888, 718.3210408196505, 563.4306899380521, 614.0647192647848, 504.3330277982174, 487.24272530644083, 482.85093933046977, 706.9030964639472, 602.4628762003815, 584.2490981073238, 520.4384292089678, 455.01798550017935, 449.858591613426, 442.3717277151484, 274.0240178937034, 261.8571027891434, 227.26309186354376, 212.4947353751294, 184.16730493027046, 180.39402262497296, 168.01287974884295, 164.51448019528425, 155.22735246807008, 146.3907785541264, 111.90700164852234, 105.42725488516983, 104.19356882927147, 103.59578971412766, 101.0596995949239, 97.49347196914539, 96.09442952219831, 91.92160920628947, 91.70400396985234, 88.60962963022841, 86.42705286150264, 84.73837939956378, 80.6885684985367, 298.9179282767839, 534.3608754966691, 171.17132406089013, 1119.97790048572, 311.368893537722, 999.7393792251576, 278.8208543296125, 143.76105224227393, 215.0734458843227, 720.4578172434519, 620.554679562239, 179.33926715225584, 285.6549346849107, 357.80251641698334, 576.7955585290682, 235.8263055654665, 355.1246692723578, 1042.7406185863736, 1935.0212031698588, 274.62743683906973, 385.6896755527227, 815.578979334171, 573.5290460633847, 633.4713060904087, 507.24422867927643, 443.70234165167705, 364.07188464650324, 424.67595623370687, 321.9549191980462, 312.35020255221815, 292.42944299321977, 249.10063351843147, 227.13896469421329, 142.67518358608814, 142.51388368876655, 135.29583352905908, 129.59228797149748, 119.37145814484015, 118.67362846514149, 106.02443942623293, 105.62091712661181, 100.22779718152862, 99.79357755866135, 99.5081950619092, 89.14170793283651, 130.85918317589957, 84.81921592261938, 77.72378938440963, 77.3358027948645, 77.31257672125243, 73.99165970132206, 70.87868177439039, 70.85803696942871, 70.16540189247992, 69.72075031018082, 69.67420731085096, 69.53061288565931, 69.01893917055556, 67.8567269688947, 67.71567105842136, 67.71567105842136, 1274.2853925808877, 297.8635880185311, 286.8356601502164, 273.4603703940096, 253.72878942193958, 80.26123525440812, 405.2011182727977, 212.53330228009887, 696.935224685244, 247.1971643305437, 141.4215207236703, 103.22215432385524, 235.26161323772695, 260.78532591466495, 165.84597636396137, 225.69698144938812, 205.95469061732763, 318.73490331246165, 846.7872863944294, 737.7688639227757, 368.4773290199536, 290.87855747723916, 219.30062979914936, 222.72164980684497, 394.78784230928557, 419.43535590181335, 410.74001843785106, 291.66157436664247, 282.5228572498609, 727.8408023346404, 382.7195188803394, 320.761589332655, 263.6993056646479, 222.48445099156694, 463.6351600173662, 421.06256769243294, 255.34760255788458, 235.87850680376542, 162.17516764864342, 126.42382902878653, 123.28603646914456, 524.8146292208638, 113.27071297740265, 106.1359524724968, 103.64907493195727, 103.64888357480581, 98.79029816217741, 88.47570119777744, 88.27850309706214, 87.58413178008479, 91.10359984670707, 87.2017090689892, 84.90857608819316, 78.07198647426306, 77.3670996262, 76.87707952250489, 74.19560542728557, 73.80793406289244, 73.29465950917074, 72.40911784174948, 70.61666629165916, 67.94181679877892, 64.99514902835432, 60.322407858787166, 582.1370672302959, 372.9823885072836, 166.75392512010154, 362.8596680923389, 287.2877354653311, 184.77098458435506, 129.20438512336483, 378.538853451333, 834.3774670360382, 181.906623169677, 586.907072506283, 1525.891548374551, 607.8210969989275, 620.319015275914, 132.17748296130594, 133.4959975206702, 565.6011485674225, 1796.827760573066, 274.81336323022094, 443.38250228919276, 1767.8327417982189, 165.31645019823844, 432.5372172702871, 210.0512689878698, 245.07990632008605, 562.4741540184708, 174.95208465247725, 331.4942262719915, 771.9798728797372, 498.7185801683755, 277.0986596800519, 387.0698833048182, 296.97452606473024, 766.4866469181268, 374.7660558528968, 297.7474084872833, 303.9965316461921, 283.49822600899955, 507.52925975714294, 351.63150072418165, 238.70146293422917, 146.92943663248278, 141.48418879215663, 140.24696478054005, 132.91042595109502, 113.66594105776446, 118.04332771622371, 270.31890924291116, 110.71969212776439, 107.42835051459011, 88.20341193869479, 82.14963692376554, 81.25291065236347, 406.6366011627029, 88.43306113247023, 79.99097546494608, 79.52006505100084, 74.6997428105885, 72.16383742526911, 66.52476046491842, 65.12161983077189, 65.10310648500977, 59.07577910688356, 58.85838754679813, 56.255913370596254, 61.03522396410748, 66.35348752806625, 55.68352239469573, 137.44260697674179, 160.72180798583227, 113.68399134725931, 175.1163038703972, 107.06769201689343, 125.80716062120955, 905.8216938429904, 340.83306419143156, 399.88402971583986, 226.90893364495778, 133.07124004975688, 2024.6810434086626, 1640.2909120149973, 103.66967826861362, 193.71406835200406, 136.1637969503541, 415.5606571650172, 270.2531730628169, 219.24303714049708, 358.72584331599415, 402.3872762769252, 205.03420900924627, 935.1205461820845, 346.75662244105087, 854.8468214364079, 572.3308854449189, 849.3459979390825, 299.5739671450364, 1180.1876614321695, 309.4451869321711, 292.1034269557894, 211.74250515301688, 206.88134045933953, 1246.4183617130477, 166.30228024410502, 150.85461561236744, 121.58151777644616, 119.85159193181514, 97.58264553797966, 93.41394860715587, 84.55602151505013, 80.92767819624765, 80.7390720050838, 79.6698132883881, 76.91916843701189, 74.1630996407738, 68.32426896257623, 66.93637033931005, 117.56495483805952, 60.71525880149573, 60.58815462918965, 60.14983246808457, 59.20010891589331, 56.77178122184142, 54.768402753653206, 52.13297842589696, 52.020681316626295, 49.224135182715436, 48.69411770968801, 48.10663706488076, 47.519974608366226, 46.901678602241894, 44.49160845818277, 2203.326673517166, 311.4330344230933, 311.44659122087245, 276.2944519697605, 287.7389633708604, 790.3676353936427, 110.15894730484412, 341.8811119348828, 178.11718885613553, 387.04262967789555, 104.57118092186418, 231.99238127293256, 128.13560437001965, 166.97688415239733, 242.16407361310732, 189.12546800030876, 286.2993442157416, 288.0684695534084, 142.84723049087094, 223.59773261704788, 193.41381654191088, 221.7787192441541, 120.74458776237734, 299.85552911972997, 146.32347046099255, 239.8960679231711, 187.19971629553385, 200.28308029759498, 160.0080649613046, 180.90912923347722, 158.64017671089047, 160.93117797219946, 111.60003466273602, 92.40580735166755, 69.07887772862277, 109.08451476964227, 61.12785075991794, 59.79627732644561, 55.466997123155735, 41.86808144659222, 40.42830947015172, 37.660152802874066, 37.018415066944776, 36.99294449305637, 35.03486842735617, 31.58382218503844, 29.787335324316018, 28.639814453575873, 25.159594934158925, 24.132091512560145, 23.937197662281605, 42.25957505884713, 22.850761552721544, 22.326338052012442, 22.260422061421448, 21.37885282437341, 21.140504154192, 21.12881428492929, 21.08744155212429, 21.049060725989335, 20.668196255851687, 121.07968098841053, 35.77208910290594, 56.568040648395055, 55.38792155476235, 44.031159982913756, 31.80959959824659, 568.1851572626852, 46.97035835562821, 150.6098698078748, 164.62203603203943, 80.4907577448416, 238.9677499106832, 231.8166030664293, 1290.056966671456, 218.25560237088325, 385.2752404305032, 552.358075957329, 98.3283565911424, 97.98951878662726, 294.68999953929284, 117.64303001634298, 127.36133776267683, 263.1842424980268, 119.14358493881703, 111.43665206340924, 121.46566319364167, 631.739518692263, 200.13735043136109, 198.30178944449318, 144.23768598617684, 98.25823924622891, 166.72291440337844, 235.3041514449481, 113.51376139842513, 142.58834931885644, 114.94196816838084, 120.18057804100157, 126.66810773826835, 111.62059308576119], \"Total\": [5817.0, 2301.0, 2473.0, 3156.0, 9382.0, 2477.0, 2291.0, 2585.0, 4410.0, 18299.0, 2596.0, 1714.0, 5497.0, 1248.0, 1308.0, 1836.0, 1199.0, 1099.0, 1209.0, 2877.0, 858.0, 1779.0, 1089.0, 706.0, 5270.0, 2266.0, 906.0, 2900.0, 1006.0, 1433.0, 1247.1206326456638, 1105.8606523669878, 981.7443587190107, 849.9380777434454, 823.5611814168719, 731.8964325130911, 702.2542516053707, 606.9163416187923, 535.8485400294988, 535.6849563536937, 1433.4947447720212, 426.9303563546713, 383.1879555174018, 338.90573847310526, 314.9069354237775, 289.05461406696884, 241.54142267575062, 223.66977466099763, 222.45164621537072, 219.57832166410287, 190.48660279908285, 179.62883710168512, 173.84378072274916, 173.21112252219018, 168.16000366942788, 166.75517340920464, 159.06842326197088, 146.6712814891655, 143.09577045942905, 139.33136395834688, 769.1843582284031, 255.51933690176043, 709.3760708881962, 259.4777700009292, 623.8220349557623, 266.25199196368527, 391.12346970759296, 229.38641744328186, 281.44337036422814, 1069.3286397080865, 534.0346631310539, 690.0141484091139, 584.7374415494686, 1565.77997828027, 768.2432403318454, 566.3525590500814, 2266.78322290927, 1932.6193014742282, 450.9867082830063, 687.4499527200145, 2877.109965847687, 846.7036640264901, 929.4142874587199, 18299.64874111152, 1284.520112200776, 2156.951136950479, 1414.5463278650288, 1501.4138423569718, 1421.9404466356618, 1669.7132246903975, 4196.898475930614, 9382.008088954357, 5270.004819205641, 3838.7923635876355, 2852.768494371222, 5611.6405939424785, 1105.1905671638604, 5497.847856668345, 4410.442065216887, 2588.9666568886378, 2662.1066535680857, 1836.2993495908843, 815.2798379465008, 769.9196438007543, 494.4370210323124, 386.6341403442797, 385.4642469801457, 370.65157375349514, 338.58104346653806, 280.2653215665613, 240.3702561243101, 231.4398328299569, 221.03702085804446, 209.15017741390875, 206.6228945340392, 201.49377602983714, 210.77174191624366, 198.8036469368915, 192.0683558298023, 191.724726396503, 190.33517474496065, 189.8410334109053, 186.33086401278223, 182.6916497788124, 182.39784644887303, 181.6690814003788, 181.38603476072473, 176.85550649434828, 170.332053287614, 168.99220520717273, 163.7199833405872, 653.440671726211, 494.82111754433765, 417.07665896287693, 796.5596974277671, 498.08524375646596, 599.8339246713343, 5817.594270405914, 461.71761564605913, 300.222887758793, 762.4620472320807, 931.0069470203691, 421.9003777667963, 454.89654470015046, 1080.1101726210918, 288.6187002759844, 1600.8268525740518, 940.444294662423, 581.610944611936, 18299.64874111152, 1831.231197456948, 649.174037739094, 1211.987660328514, 841.958461203841, 1276.6304707752356, 5497.847856668345, 2588.9666568886378, 2133.6982831484297, 899.9062553639308, 3838.7923635876355, 2211.998093774478, 5270.004819205641, 1842.480831333963, 1779.315217317466, 2072.9251382243856, 1840.9777567899516, 9382.008088954357, 1696.5798660103874, 182.56235530886696, 105.49436231719694, 68.65504450880583, 65.19211774809196, 63.67163617338601, 61.270137688495836, 57.808988581981865, 54.80010543564767, 54.66794637616996, 53.072537756695105, 82.19025730673243, 51.13699751526725, 51.21703745369037, 50.90171725536962, 50.35275235817996, 49.928139986965505, 46.768417804305514, 44.789079564623776, 44.582694753902025, 44.3040760967732, 43.76444650317608, 43.25153605043645, 42.50510903076759, 42.24348223150005, 41.022418285471595, 40.95480348310919, 435.1460777988403, 40.83226084723113, 40.75399006302428, 40.54171452409888, 45.81047694890653, 56.30872201645266, 66.41649803488463, 115.0321423141405, 353.27644555336207, 148.38672867130327, 348.214771360698, 234.85434306902962, 160.90584803947576, 286.99276586341745, 176.95431399804352, 456.31711938440986, 170.06348923260282, 186.75620337595345, 207.42484853972095, 683.8912014014275, 222.4534626104296, 251.05778872243368, 428.69029341473646, 142.74011570572034, 808.9820775727118, 251.22630831010932, 668.38402925361, 393.3204614782735, 558.8837850351284, 1096.6848376130506, 2947.675534406457, 567.7851465649892, 1042.3282373263824, 408.25200651822183, 2852.768494371222, 5611.6405939424785, 2455.689092996961, 1381.233459839139, 9382.008088954357, 824.057838052195, 548.093490194972, 722.5633841987768, 1582.9049803182675, 573.3575189047134, 1283.8533843156974, 592.5648073149353, 964.5088577618227, 3289.2829702042627, 1911.6421096018594, 1591.0566313927045, 3838.7923635876355, 5270.004819205641, 2156.951136950479, 1962.5132325345958, 1807.8950703025828, 18299.64874111152, 2015.1013854332834, 2211.998093774478, 1414.5425355177908, 1072.3414858749143, 2662.1066535680857, 4196.898475930614, 2150.2603524004594, 2241.2046852118397, 333.63288064142483, 298.57903679799176, 474.6838251563785, 211.00727207255565, 191.62767022678221, 175.18210487992445, 162.80568445172852, 153.9656944578692, 148.29864022851342, 147.46342221264584, 129.53952851552967, 114.73018331815165, 112.69485133847546, 112.33005533787824, 112.20032831104203, 108.77845468768726, 105.62403825268734, 102.77811554117669, 101.27334076669237, 101.13176609442246, 99.02639632969344, 96.12935719759949, 96.10394244468849, 96.00313747444083, 95.69688466943464, 92.35912543819063, 89.38220620783419, 89.31943720145429, 81.02152919956336, 80.92050300513289, 271.5852765570414, 131.49571508035734, 205.90075103278764, 299.758880577521, 181.8735273665206, 4410.442065216887, 131.5351159977906, 241.66327702167175, 257.3303949798598, 754.5199928435073, 1191.9263366530956, 791.7487201686213, 232.8349835355118, 1143.4838909395248, 333.427760664587, 218.3710818181989, 2596.745201315999, 805.0434518892778, 386.3303344460572, 419.3926754221755, 1278.8432827045651, 814.6556325192325, 615.4064466670462, 2900.250479062676, 977.5370517350639, 985.8852344334268, 1533.5455162657152, 1286.198026399184, 9382.008088954357, 18299.64874111152, 2015.1013854332834, 681.5143839628063, 2133.6982831484297, 901.0586395842565, 651.7245633367536, 985.4177271265085, 1356.2991666034552, 5611.6405939424785, 3289.2829702042627, 1219.7844486481795, 2150.2603524004594, 4196.898475930614, 2211.998093774478, 3838.7923635876355, 2455.689092996961, 2241.2046852118397, 2852.768494371222, 708.0657789720938, 603.6255247344484, 585.4117508032077, 521.6011997321141, 456.1806543061302, 451.0214042436973, 443.5343610760192, 275.18681298947286, 263.01976687894904, 228.42576571577587, 213.65738338457035, 185.32998886612, 181.5566589784756, 169.17612623975512, 165.67712877631033, 156.39834215457623, 147.55341660444452, 113.0696923718836, 106.58990992140757, 105.35620544501961, 104.75855867666498, 102.22234368163444, 98.65696938349858, 97.25706382505132, 93.08424812302322, 92.86669953959395, 89.77226591053862, 87.58968745933876, 85.90123497650448, 81.851202552377, 304.75027218889176, 552.8264237252482, 175.85097038858834, 1199.2249983361542, 324.1535896933099, 1209.4307997128165, 311.90681380027576, 152.89174150745765, 242.75338233652303, 1006.1534991885234, 844.4982377082391, 198.76594519964237, 348.3737208824464, 461.6954067731486, 904.6186063405434, 284.4063997765308, 527.2898973050334, 2596.745201315999, 9382.008088954357, 416.5856711537423, 977.5370517350639, 5497.847856668345, 2900.250479062676, 4196.898475930614, 2588.9666568886378, 1842.480831333963, 1124.9266954892853, 5270.004819205641, 1600.8268525740518, 2016.3440147743097, 5611.6405939424785, 250.27418236436253, 228.32886689507396, 143.8486913772534, 143.68739914708482, 136.46932331693262, 130.76585380522653, 120.54495201383898, 119.85388824004671, 107.19792653783138, 106.7990750136339, 101.40158929429906, 100.96711354559434, 100.68188127241497, 90.31520589583859, 132.59360503164902, 86.08886281447678, 78.90079206555929, 78.51040273349483, 78.48694221280745, 75.16524798969239, 72.05216811457362, 72.03163185475358, 71.33903599925094, 70.89426935690379, 70.84770615481101, 70.70423853663252, 70.19242158792662, 69.03049192700749, 68.88914796423774, 68.88914796423774, 1308.0422158368854, 304.3227136310683, 293.17434164375453, 289.38436643350354, 276.05353626694125, 82.54784110231515, 482.9592613113273, 239.49087309159518, 890.1194901299814, 289.570944836582, 165.34654738799406, 114.34795842098438, 336.1018333861737, 400.28759102204367, 223.40293274011515, 369.4786859789318, 325.0383337368794, 636.2057028365347, 3156.76584983077, 2585.112590993998, 848.5881648802363, 706.4722193939584, 437.74966286439303, 451.45470602633, 2455.689092996961, 2877.109965847687, 2900.250479062676, 1175.8119673904696, 1077.0171671558405, 18299.64874111152, 2662.1066535680857, 5817.594270405914, 5270.004819205641, 1526.8497362458495, 464.80001790789896, 422.2274773648529, 256.51240670374665, 237.04319009355453, 163.33977162070556, 127.58845662223341, 124.45103371209758, 530.1026703362169, 114.43531800164246, 107.30055136909407, 104.81366407949562, 104.81347415171955, 99.9552181692372, 89.64029074670215, 89.44312529040546, 88.74876760346808, 92.31950281885507, 88.36631295963785, 86.07319332712457, 79.23662562707298, 78.53173152924698, 78.04166360442085, 75.36019418891598, 74.97256938845928, 74.45927761791816, 73.57372532914951, 71.7812727315098, 69.10642358657351, 66.1606692660735, 61.48749516429185, 594.7857908141536, 381.9830950478583, 170.09915889230018, 373.1966933265151, 295.03580682269626, 189.38016531383943, 132.03649648758378, 396.27892482432054, 906.44541250946, 188.56002681401145, 632.137344335313, 1714.119968859644, 659.5249448274913, 687.4830819534662, 136.4677986856229, 138.3752344094018, 647.9614481461625, 2291.852023238973, 305.795748996136, 523.5386978688258, 2477.6972202277625, 175.71237520597745, 524.6464428911153, 232.11493181994783, 297.4951173842078, 891.1162196015822, 197.21420002230005, 499.03792845976693, 1779.315217317466, 1046.2875581353603, 404.08810562375237, 769.6644970803176, 510.2977542685534, 5497.847856668345, 2072.9251382243856, 1244.2517608768176, 1962.5132325345958, 5611.6405939424785, 508.6786392832797, 352.7808050527451, 240.49910329523678, 148.09674859439457, 142.63362678509108, 141.3963115806979, 134.06788112556072, 114.81532127741136, 119.25755678786555, 273.11844875222107, 111.86903594940301, 108.57764267762866, 89.35360407656472, 83.29901392675889, 82.40221932941175, 412.44714069684994, 89.7036186383265, 81.14029908296807, 80.6695911651249, 75.8569702309909, 73.31467782043683, 67.67431946580177, 66.2709267621944, 66.25311198664328, 60.22574884922622, 60.007725000012854, 57.40960227333486, 62.289740205847416, 67.72474386373281, 56.849861637951044, 140.7484525278038, 165.585672439784, 116.79071931500228, 183.9247041247218, 111.25396504589241, 133.1104969112305, 1089.8580200211256, 385.39162588739794, 468.521606491628, 253.27937474572764, 143.20574296620075, 3156.76584983077, 2585.112590993998, 109.17666346325417, 226.27692093158203, 151.80897542197386, 677.9809693883236, 400.6303638297779, 315.5491570733714, 660.5976872819286, 834.5140911027588, 321.7818202966947, 5497.847856668345, 896.450617940388, 5270.004819205641, 2473.1759206544693, 5817.594270405914, 747.0408948037652, 18299.64874111152, 928.0849952880412, 1831.231197456948, 622.4950116255358, 1840.9777567899516, 1248.4400517297645, 167.46707960410922, 152.01947713058505, 122.74658588998433, 121.01652869317962, 98.74749298305301, 94.57874569221953, 85.72084225078076, 82.09266783430823, 81.90431623209552, 80.8346547688965, 78.08463179058519, 75.3279624744999, 69.49003715661509, 68.10125154691528, 119.61724564488073, 61.88008987012253, 61.75436654660429, 61.314635371418035, 60.36491665544252, 57.93677682550329, 55.93329456555628, 53.2977730264893, 53.18552773736131, 50.3889256335185, 49.85942766370946, 49.2716438083673, 48.68477729356261, 48.066463934445835, 45.65640218745857, 2301.211079056522, 319.9110978187089, 320.13108762167326, 285.95870627402746, 298.31015532891655, 858.2644911064343, 119.41764059190932, 421.2403177024161, 209.65205476533367, 508.7942461625778, 115.93728582164103, 296.021175466081, 148.17940833038415, 220.2419058987141, 379.54909922902976, 301.6602541333657, 559.4768875524466, 572.5758139770529, 219.20669279006688, 495.607332635805, 529.1819725545915, 839.798067890195, 197.79546127714414, 2877.109965847687, 374.0019616274223, 2662.1066535680857, 1714.119968859644, 2477.6972202277625, 863.3623016636499, 4196.898475930614, 2291.852023238973, 162.1377380525439, 112.79656886316836, 93.60228118373179, 70.27538611009143, 110.99383410018453, 62.32433728379521, 60.992760324455524, 56.663477486582536, 43.06456921000773, 41.64359382893312, 38.85672712861039, 38.214888904983994, 38.18943015441369, 36.231378359526886, 32.78274004213337, 30.983912488704984, 29.8365381324334, 26.356986659597094, 25.329009711934876, 25.13370107705461, 44.40229942009816, 24.047295016820684, 23.523477455527555, 23.45926442152965, 22.575498620085405, 22.337359055012968, 22.325308646372992, 22.284307685989496, 22.24568072165285, 21.864697178060005, 128.4471388828179, 37.88636833804732, 60.64133806325041, 59.371384355341156, 47.4131830774404, 34.05277657750316, 706.4238166352063, 51.569858646139636, 179.22254355522625, 204.6173385789356, 96.14907665411985, 325.90060483428095, 324.8501590190975, 2473.1759206544693, 333.4600436759518, 687.9734803855563, 1099.386513379613, 130.71048949062612, 138.46493134444583, 615.2912681391896, 189.14226313411675, 215.4309048834631, 641.0401464466033, 208.12915707221498, 235.91558914660732, 277.17509874141246, 5817.594270405914, 834.5140911027588, 928.0849952880412, 550.7049553594925, 211.6740023755886, 940.2684503964786, 3156.76584983077, 350.19051857607974, 931.0069470203691, 433.3190560501897, 708.4187163673296, 1227.9775416437417, 499.6302148931451], \"Category\": [\"Default\", \"Default\", \"Default\", \"Default\", \"Default\", \"Default\", \"Default\", \"Default\", \"Default\", \"Default\", \"Default\", \"Default\", \"Default\", \"Default\", \"Default\", \"Default\", \"Default\", \"Default\", \"Default\", \"Default\", \"Default\", \"Default\", \"Default\", \"Default\", \"Default\", \"Default\", \"Default\", \"Default\", \"Default\", \"Default\", \"Topic1\", \"Topic1\", \"Topic1\", \"Topic1\", \"Topic1\", \"Topic1\", \"Topic1\", \"Topic1\", \"Topic1\", \"Topic1\", \"Topic1\", \"Topic1\", \"Topic1\", \"Topic1\", \"Topic1\", \"Topic1\", \"Topic1\", \"Topic1\", \"Topic1\", \"Topic1\", \"Topic1\", \"Topic1\", \"Topic1\", \"Topic1\", \"Topic1\", \"Topic1\", \"Topic1\", \"Topic1\", \"Topic1\", \"Topic1\", \"Topic1\", \"Topic1\", \"Topic1\", \"Topic1\", \"Topic1\", \"Topic1\", \"Topic1\", \"Topic1\", \"Topic1\", \"Topic1\", \"Topic1\", \"Topic1\", \"Topic1\", \"Topic1\", \"Topic1\", \"Topic1\", \"Topic1\", \"Topic1\", \"Topic1\", \"Topic1\", \"Topic1\", \"Topic1\", \"Topic1\", \"Topic1\", \"Topic1\", \"Topic1\", \"Topic1\", \"Topic1\", \"Topic1\", \"Topic1\", \"Topic1\", \"Topic1\", \"Topic1\", \"Topic1\", \"Topic1\", \"Topic1\", \"Topic1\", \"Topic1\", \"Topic1\", \"Topic1\", \"Topic1\", \"Topic2\", \"Topic2\", \"Topic2\", \"Topic2\", \"Topic2\", \"Topic2\", \"Topic2\", \"Topic2\", \"Topic2\", \"Topic2\", \"Topic2\", \"Topic2\", \"Topic2\", \"Topic2\", \"Topic2\", \"Topic2\", \"Topic2\", \"Topic2\", \"Topic2\", \"Topic2\", \"Topic2\", \"Topic2\", \"Topic2\", \"Topic2\", \"Topic2\", \"Topic2\", \"Topic2\", \"Topic2\", \"Topic2\", \"Topic2\", \"Topic2\", \"Topic2\", \"Topic2\", \"Topic2\", \"Topic2\", \"Topic2\", \"Topic2\", \"Topic2\", \"Topic2\", \"Topic2\", \"Topic2\", \"Topic2\", \"Topic2\", \"Topic2\", \"Topic2\", \"Topic2\", \"Topic2\", \"Topic2\", \"Topic2\", \"Topic2\", \"Topic2\", \"Topic2\", \"Topic2\", \"Topic2\", \"Topic2\", \"Topic2\", \"Topic2\", \"Topic2\", \"Topic2\", \"Topic2\", \"Topic2\", \"Topic2\", \"Topic2\", \"Topic2\", \"Topic2\", \"Topic2\", \"Topic2\", \"Topic3\", \"Topic3\", \"Topic3\", \"Topic3\", \"Topic3\", \"Topic3\", \"Topic3\", \"Topic3\", \"Topic3\", \"Topic3\", \"Topic3\", \"Topic3\", \"Topic3\", \"Topic3\", \"Topic3\", \"Topic3\", \"Topic3\", \"Topic3\", \"Topic3\", \"Topic3\", \"Topic3\", \"Topic3\", \"Topic3\", \"Topic3\", \"Topic3\", \"Topic3\", \"Topic3\", \"Topic3\", \"Topic3\", \"Topic3\", \"Topic3\", \"Topic3\", \"Topic3\", \"Topic3\", \"Topic3\", \"Topic3\", \"Topic3\", \"Topic3\", \"Topic3\", \"Topic3\", \"Topic3\", \"Topic3\", \"Topic3\", \"Topic3\", \"Topic3\", \"Topic3\", \"Topic3\", \"Topic3\", \"Topic3\", \"Topic3\", \"Topic3\", \"Topic3\", \"Topic3\", \"Topic3\", \"Topic3\", \"Topic3\", \"Topic3\", \"Topic3\", \"Topic3\", \"Topic3\", \"Topic3\", \"Topic3\", \"Topic3\", \"Topic3\", \"Topic3\", \"Topic3\", \"Topic3\", \"Topic3\", \"Topic3\", \"Topic3\", \"Topic3\", \"Topic3\", \"Topic3\", \"Topic3\", \"Topic3\", \"Topic3\", \"Topic3\", \"Topic3\", \"Topic3\", \"Topic3\", \"Topic3\", \"Topic3\", \"Topic3\", \"Topic3\", \"Topic3\", \"Topic3\", \"Topic3\", \"Topic3\", \"Topic3\", \"Topic3\", \"Topic4\", \"Topic4\", \"Topic4\", \"Topic4\", \"Topic4\", \"Topic4\", \"Topic4\", \"Topic4\", \"Topic4\", \"Topic4\", \"Topic4\", \"Topic4\", \"Topic4\", \"Topic4\", \"Topic4\", \"Topic4\", \"Topic4\", \"Topic4\", \"Topic4\", \"Topic4\", \"Topic4\", \"Topic4\", \"Topic4\", \"Topic4\", \"Topic4\", \"Topic4\", \"Topic4\", \"Topic4\", \"Topic4\", \"Topic4\", \"Topic4\", \"Topic4\", \"Topic4\", \"Topic4\", \"Topic4\", \"Topic4\", \"Topic4\", \"Topic4\", \"Topic4\", \"Topic4\", \"Topic4\", \"Topic4\", \"Topic4\", \"Topic4\", \"Topic4\", \"Topic4\", \"Topic4\", \"Topic4\", \"Topic4\", \"Topic4\", \"Topic4\", \"Topic4\", \"Topic4\", \"Topic4\", \"Topic4\", \"Topic4\", \"Topic4\", \"Topic4\", \"Topic4\", \"Topic4\", \"Topic4\", \"Topic4\", \"Topic4\", \"Topic4\", \"Topic4\", \"Topic4\", \"Topic4\", \"Topic4\", \"Topic4\", \"Topic4\", \"Topic4\", \"Topic4\", \"Topic4\", \"Topic4\", \"Topic4\", \"Topic4\", \"Topic4\", \"Topic5\", \"Topic5\", \"Topic5\", \"Topic5\", \"Topic5\", \"Topic5\", \"Topic5\", \"Topic5\", \"Topic5\", \"Topic5\", \"Topic5\", \"Topic5\", \"Topic5\", \"Topic5\", \"Topic5\", \"Topic5\", \"Topic5\", \"Topic5\", \"Topic5\", \"Topic5\", \"Topic5\", \"Topic5\", \"Topic5\", \"Topic5\", \"Topic5\", \"Topic5\", \"Topic5\", \"Topic5\", \"Topic5\", \"Topic5\", \"Topic5\", \"Topic5\", \"Topic5\", \"Topic5\", \"Topic5\", \"Topic5\", \"Topic5\", \"Topic5\", \"Topic5\", \"Topic5\", \"Topic5\", \"Topic5\", \"Topic5\", \"Topic5\", \"Topic5\", \"Topic5\", \"Topic5\", \"Topic5\", \"Topic5\", \"Topic5\", \"Topic5\", \"Topic5\", \"Topic5\", \"Topic5\", \"Topic5\", \"Topic5\", \"Topic5\", \"Topic5\", \"Topic5\", \"Topic5\", \"Topic5\", \"Topic6\", \"Topic6\", \"Topic6\", \"Topic6\", \"Topic6\", \"Topic6\", \"Topic6\", \"Topic6\", \"Topic6\", \"Topic6\", \"Topic6\", \"Topic6\", \"Topic6\", \"Topic6\", \"Topic6\", \"Topic6\", \"Topic6\", \"Topic6\", \"Topic6\", \"Topic6\", \"Topic6\", \"Topic6\", \"Topic6\", \"Topic6\", \"Topic6\", \"Topic6\", \"Topic6\", \"Topic6\", \"Topic6\", \"Topic6\", \"Topic6\", \"Topic6\", \"Topic6\", \"Topic6\", \"Topic6\", \"Topic6\", \"Topic6\", \"Topic6\", \"Topic6\", \"Topic6\", \"Topic6\", \"Topic6\", \"Topic6\", \"Topic6\", \"Topic6\", \"Topic6\", \"Topic6\", \"Topic6\", \"Topic6\", \"Topic6\", \"Topic6\", \"Topic6\", \"Topic6\", \"Topic6\", \"Topic6\", \"Topic6\", \"Topic6\", \"Topic6\", \"Topic6\", \"Topic6\", \"Topic6\", \"Topic6\", \"Topic6\", \"Topic6\", \"Topic7\", \"Topic7\", \"Topic7\", \"Topic7\", \"Topic7\", \"Topic7\", \"Topic7\", \"Topic7\", \"Topic7\", \"Topic7\", \"Topic7\", \"Topic7\", \"Topic7\", \"Topic7\", \"Topic7\", \"Topic7\", \"Topic7\", \"Topic7\", \"Topic7\", \"Topic7\", \"Topic7\", \"Topic7\", \"Topic7\", \"Topic7\", \"Topic7\", \"Topic7\", \"Topic7\", \"Topic7\", \"Topic7\", \"Topic7\", \"Topic7\", \"Topic7\", \"Topic7\", \"Topic7\", \"Topic7\", \"Topic7\", \"Topic7\", \"Topic7\", \"Topic7\", \"Topic7\", \"Topic7\", \"Topic7\", \"Topic7\", \"Topic7\", \"Topic7\", \"Topic7\", \"Topic7\", \"Topic7\", \"Topic7\", \"Topic7\", \"Topic7\", \"Topic7\", \"Topic7\", \"Topic7\", \"Topic7\", \"Topic7\", \"Topic7\", \"Topic7\", \"Topic7\", \"Topic7\", \"Topic7\", \"Topic7\", \"Topic7\", \"Topic7\", \"Topic7\", \"Topic7\", \"Topic7\", \"Topic7\", \"Topic8\", \"Topic8\", \"Topic8\", \"Topic8\", \"Topic8\", \"Topic8\", \"Topic8\", \"Topic8\", \"Topic8\", \"Topic8\", \"Topic8\", \"Topic8\", \"Topic8\", \"Topic8\", \"Topic8\", \"Topic8\", \"Topic8\", \"Topic8\", \"Topic8\", \"Topic8\", \"Topic8\", \"Topic8\", \"Topic8\", \"Topic8\", \"Topic8\", \"Topic8\", \"Topic8\", \"Topic8\", \"Topic8\", \"Topic8\", \"Topic8\", \"Topic8\", \"Topic8\", \"Topic8\", \"Topic8\", \"Topic8\", \"Topic8\", \"Topic8\", \"Topic8\", \"Topic8\", \"Topic8\", \"Topic8\", \"Topic8\", \"Topic8\", \"Topic8\", \"Topic8\", \"Topic8\", \"Topic8\", \"Topic8\", \"Topic8\", \"Topic8\", \"Topic8\", \"Topic8\", \"Topic8\", \"Topic8\", \"Topic8\", \"Topic8\", \"Topic8\", \"Topic8\", \"Topic8\", \"Topic8\", \"Topic8\", \"Topic8\", \"Topic9\", \"Topic9\", \"Topic9\", \"Topic9\", \"Topic9\", \"Topic9\", \"Topic9\", \"Topic9\", \"Topic9\", \"Topic9\", \"Topic9\", \"Topic9\", \"Topic9\", \"Topic9\", \"Topic9\", \"Topic9\", \"Topic9\", \"Topic9\", \"Topic9\", \"Topic9\", \"Topic9\", \"Topic9\", \"Topic9\", \"Topic9\", \"Topic9\", \"Topic9\", \"Topic9\", \"Topic9\", \"Topic9\", \"Topic9\", \"Topic9\", \"Topic9\", \"Topic9\", \"Topic9\", \"Topic9\", \"Topic9\", \"Topic9\", \"Topic9\", \"Topic9\", \"Topic9\", \"Topic9\", \"Topic9\", \"Topic9\", \"Topic9\", \"Topic9\", \"Topic9\", \"Topic9\", \"Topic9\", \"Topic9\", \"Topic9\", \"Topic9\", \"Topic9\", \"Topic9\", \"Topic9\", \"Topic9\", \"Topic9\", \"Topic9\", \"Topic9\", \"Topic9\", \"Topic9\", \"Topic9\", \"Topic10\", \"Topic10\", \"Topic10\", \"Topic10\", \"Topic10\", \"Topic10\", \"Topic10\", \"Topic10\", \"Topic10\", \"Topic10\", \"Topic10\", \"Topic10\", \"Topic10\", \"Topic10\", \"Topic10\", \"Topic10\", \"Topic10\", \"Topic10\", \"Topic10\", \"Topic10\", \"Topic10\", \"Topic10\", \"Topic10\", \"Topic10\", \"Topic10\", \"Topic10\", \"Topic10\", \"Topic10\", \"Topic10\", \"Topic10\", \"Topic10\", \"Topic10\", \"Topic10\", \"Topic10\", \"Topic10\", \"Topic10\", \"Topic10\", \"Topic10\", \"Topic10\", \"Topic10\", \"Topic10\", \"Topic10\", \"Topic10\", \"Topic10\", \"Topic10\", \"Topic10\", \"Topic10\", \"Topic10\", \"Topic10\", \"Topic10\", \"Topic10\", \"Topic10\", \"Topic10\", \"Topic10\", \"Topic10\", \"Topic10\", \"Topic10\", \"Topic10\", \"Topic10\", \"Topic10\", \"Topic10\", \"Topic10\", \"Topic10\", \"Topic10\", \"Topic10\", \"Topic10\", \"Topic10\", \"Topic10\", \"Topic10\"], \"logprob\": [30.0, 29.0, 28.0, 27.0, 26.0, 25.0, 24.0, 23.0, 22.0, 21.0, 20.0, 19.0, 18.0, 17.0, 16.0, 15.0, 14.0, 13.0, 12.0, 11.0, 10.0, 9.0, 8.0, 7.0, 6.0, 5.0, 4.0, 3.0, 2.0, 1.0, -5.4557, -5.576, -5.6952, -5.8396, -5.8711, -5.9893, -6.0309, -6.1769, -6.3017, -6.3021, -5.3178, -6.5295, -6.6379, -6.7611, -6.8348, -6.9208, -7.1011, -7.1784, -7.1839, -7.1969, -7.3399, -7.3989, -7.4319, -7.4355, -7.4653, -7.4738, -7.5213, -7.6031, -7.628, -7.6548, -5.9467, -7.0488, -6.0393, -7.035, -6.1685, -7.0122, -6.6355, -7.1612, -6.9646, -5.6841, -6.3518, -6.1143, -6.2808, -5.3765, -6.0356, -6.3293, -5.0848, -5.291, -6.5577, -6.2178, -5.1217, -6.0708, -6.0375, -3.9635, -5.8128, -5.4701, -5.753, -5.7403, -5.7741, -5.7233, -5.2353, -4.9839, -5.3163, -5.4796, -5.6159, -5.3909, -5.9787, -5.5385, -5.6423, -5.8875, -5.9239, -4.7411, -5.5539, -5.6113, -6.055, -6.3017, -6.3047, -6.344, -6.4349, -6.6247, -6.7789, -6.817, -6.8633, -6.9189, -6.9311, -6.9564, -6.9114, -6.9699, -7.0046, -7.0064, -7.0137, -7.0163, -7.0351, -7.055, -7.0566, -7.0606, -7.0622, -7.0877, -7.1255, -7.1335, -7.1654, -5.8018, -6.0999, -6.27, -5.6558, -6.1119, -5.9452, -4.0012, -6.2351, -6.6151, -5.8044, -5.6322, -6.3211, -6.2618, -5.5937, -6.6647, -5.2886, -5.7445, -6.1359, -3.5653, -5.3197, -6.0734, -5.6397, -5.9296, -5.7475, -4.9532, -5.4165, -5.5502, -5.9812, -5.4264, -5.637, -5.4787, -5.8153, -5.8529, -5.8153, -5.8714, -5.7777, -5.9744, -7.0125, -7.5655, -8.001, -8.0536, -8.0777, -8.1168, -8.1764, -8.2306, -8.2331, -8.2634, -7.8263, -8.3013, -8.2998, -8.3061, -8.3172, -8.3258, -8.3928, -8.4371, -8.4419, -8.4483, -8.461, -8.473, -8.4909, -8.4972, -8.5274, -8.5291, -6.1659, -8.5322, -8.5342, -8.5395, -8.4185, -8.2189, -8.0599, -7.5359, -6.51, -7.3375, -6.567, -6.9443, -7.2941, -6.7797, -7.2142, -6.3784, -7.2519, -7.1704, -7.0848, -6.0602, -7.0262, -6.9287, -6.4708, -7.4211, -5.9478, -6.9467, -6.1252, -6.5791, -6.2912, -5.7629, -4.9653, -6.3078, -5.8526, -6.6029, -5.1502, -4.6504, -5.2899, -5.7112, -4.3756, -6.1185, -6.4114, -6.2319, -5.696, -6.4012, -5.8931, -6.4047, -6.1147, -5.3948, -5.7281, -5.8357, -5.4045, -5.2469, -5.7201, -5.7682, -5.8116, -4.8881, -5.8246, -5.7903, -6.0168, -6.1176, -5.8661, -5.8406, -6.0101, -6.0622, -6.3604, -6.4718, -6.0093, -6.8205, -6.9174, -7.0077, -7.0815, -7.1377, -7.1755, -7.1812, -7.3119, -7.4345, -7.4526, -7.4558, -7.457, -7.4883, -7.5181, -7.5457, -7.5606, -7.562, -7.5833, -7.6134, -7.6136, -7.6147, -7.6179, -7.6539, -7.687, -7.6878, -7.7866, -7.7879, -6.5772, -7.3058, -6.8685, -6.5163, -7.001, -4.1054, -7.3267, -6.7913, -6.7385, -5.806, -5.4261, -5.7855, -6.8395, -5.4749, -6.5322, -6.8999, -4.8354, -5.8573, -6.4574, -6.4044, -5.5334, -5.8938, -6.1252, -5.0078, -5.8411, -5.8555, -5.5872, -5.7479, -4.4782, -4.1531, -5.5057, -6.1756, -5.5505, -6.0372, -6.2327, -6.0289, -5.8925, -5.3148, -5.6306, -6.0064, -5.8049, -5.59, -5.8329, -5.7468, -5.9437, -5.9782, -5.9872, -4.8698, -5.0296, -5.0603, -5.176, -5.3103, -5.3217, -5.3385, -5.8174, -5.8629, -6.0045, -6.0717, -6.2148, -6.2355, -6.3066, -6.3277, -6.3858, -6.4444, -6.713, -6.7726, -6.7844, -6.7902, -6.8149, -6.8509, -6.8653, -6.9097, -6.9121, -6.9464, -6.9714, -6.9911, -7.0401, -5.7305, -5.1496, -6.288, -4.4096, -5.6897, -4.5232, -5.8001, -6.4625, -6.0597, -4.8508, -5.0, -6.2414, -5.7759, -5.5507, -5.0732, -5.9676, -5.5582, -4.481, -3.8628, -5.8152, -5.4756, -4.7268, -5.0788, -4.9794, -5.2017, -5.3355, -5.5333, -5.3793, -5.6562, -5.6865, -5.7524, -5.9097, -6.002, -6.4669, -6.4681, -6.52, -6.5631, -6.6453, -6.6511, -6.7638, -6.7677, -6.8201, -6.8244, -6.8273, -6.9373, -6.5534, -6.987, -7.0744, -7.0794, -7.0797, -7.1236, -7.1665, -7.1668, -7.1767, -7.183, -7.1837, -7.1857, -7.1931, -7.2101, -7.2122, -7.2122, -4.2774, -5.7309, -5.7686, -5.8164, -5.8912, -7.0422, -5.4231, -6.0684, -4.8808, -5.9173, -6.4758, -6.7906, -5.9668, -5.8638, -6.3165, -6.0083, -6.0999, -5.6632, -4.6861, -4.8239, -5.5181, -5.7546, -6.0371, -6.0216, -5.4492, -5.3886, -5.4096, -5.7519, -5.7838, -4.8374, -5.4802, -5.6568, -5.8527, -6.0227, -5.1289, -5.2252, -5.7253, -5.8046, -6.1793, -6.4283, -6.4535, -5.0049, -6.5382, -6.6032, -6.627, -6.627, -6.675, -6.7852, -6.7875, -6.7954, -6.756, -6.7997, -6.8264, -6.9103, -6.9194, -6.9258, -6.9613, -6.9665, -6.9735, -6.9856, -7.0107, -7.0493, -7.0937, -7.1683, -4.9013, -5.3464, -6.1514, -5.3739, -5.6075, -6.0488, -6.4066, -5.3316, -4.5413, -6.0645, -4.8931, -3.9376, -4.8581, -4.8377, -6.3838, -6.3739, -4.9301, -3.7742, -5.6519, -5.1735, -3.7905, -6.1601, -5.1983, -5.9206, -5.7664, -4.9356, -6.1035, -5.4644, -4.619, -5.0559, -5.6436, -5.3094, -5.5743, -4.6261, -5.3417, -5.5717, -5.5509, -5.6208, -5.0154, -5.3824, -5.7697, -6.255, -6.2928, -6.3015, -6.3553, -6.5117, -6.4739, -5.6453, -6.5379, -6.5681, -6.7653, -6.8364, -6.8474, -5.237, -6.7627, -6.863, -6.8689, -6.9315, -6.966, -7.0474, -7.0687, -7.069, -7.1661, -7.1698, -7.215, -7.1335, -7.05, -7.2253, -6.3217, -6.1653, -6.5115, -6.0795, -6.5715, -6.4102, -4.4361, -5.4136, -5.2538, -5.8204, -6.3541, -3.6318, -3.8423, -6.6037, -5.9786, -6.3311, -5.2153, -5.6456, -5.8548, -5.3624, -5.2475, -5.9218, -4.4043, -5.3963, -4.494, -4.8952, -4.5005, -5.5426, -4.1715, -5.5102, -5.5678, -5.8896, -5.9128, -3.7433, -5.7575, -5.855, -6.0708, -6.0851, -6.2906, -6.3343, -6.4339, -6.4778, -6.4801, -6.4934, -6.5286, -6.5651, -6.6471, -6.6676, -6.1043, -6.7651, -6.7672, -6.7745, -6.7904, -6.8323, -6.8682, -6.9175, -6.9197, -6.975, -6.9858, -6.9979, -7.0102, -7.0233, -7.076, -3.1736, -5.1302, -5.1301, -5.2499, -5.2093, -4.1988, -6.1694, -5.0369, -5.6889, -4.9128, -6.2215, -5.4246, -6.0182, -5.7535, -5.3817, -5.6289, -5.2143, -5.2081, -5.9096, -5.4615, -5.6065, -5.4697, -6.0777, -5.168, -5.8855, -5.3911, -5.6392, -5.5716, -5.7961, -5.6733, -5.8047, -5.4531, -5.8191, -6.0079, -6.2988, -5.8419, -6.4211, -6.4431, -6.5183, -6.7995, -6.8345, -6.9055, -6.9226, -6.9233, -6.9777, -7.0814, -7.14, -7.1793, -7.3088, -7.3505, -7.3586, -6.7902, -7.4051, -7.4283, -7.4312, -7.4717, -7.4829, -7.4834, -7.4854, -7.4872, -7.5055, -5.7376, -6.9569, -6.4986, -6.5197, -6.7492, -7.0743, -4.1916, -6.6845, -5.5194, -5.4304, -6.1459, -5.0577, -5.0881, -3.3716, -5.1484, -4.5801, -4.2199, -5.9457, -5.9492, -4.8481, -5.7664, -5.687, -4.9612, -5.7537, -5.8206, -5.7344, -4.0856, -5.2351, -5.2443, -5.5626, -5.9465, -5.4177, -5.0732, -5.8021, -5.5741, -5.7896, -5.7451, -5.6925, -5.8189], \"loglift\": [30.0, 29.0, 28.0, 27.0, 26.0, 25.0, 24.0, 23.0, 22.0, 21.0, 20.0, 19.0, 18.0, 17.0, 16.0, 15.0, 14.0, 13.0, 12.0, 11.0, 10.0, 9.0, 8.0, 7.0, 6.0, 5.0, 4.0, 3.0, 2.0, 1.0, 1.5123, 1.5122, 1.512, 1.5119, 1.5118, 1.5116, 1.5114, 1.5113, 1.5111, 1.511, 1.5109, 1.5105, 1.5102, 1.5098, 1.5095, 1.5092, 1.5084, 1.5081, 1.508, 1.508, 1.5071, 1.5068, 1.5066, 1.5065, 1.5063, 1.5063, 1.5059, 1.5053, 1.5051, 1.5049, 1.5046, 1.5045, 1.4929, 1.5029, 1.4923, 1.5, 1.4921, 1.5, 1.4921, 1.4378, 1.4644, 1.4456, 1.4447, 1.364, 1.4169, 1.4281, 1.2857, 1.239, 1.4275, 1.3458, 1.0104, 1.2845, 1.2245, 0.3185, 1.1257, 0.9501, 1.089, 1.0421, 1.0627, 0.9529, 0.5192, -0.0339, 0.2105, 0.3641, 0.5247, 0.0731, 1.1102, -0.0541, 0.0626, 0.3501, 0.2859, 1.84, 1.8391, 1.839, 1.8381, 1.8374, 1.8374, 1.8373, 1.837, 1.8362, 1.8355, 1.8353, 1.835, 1.8347, 1.8346, 1.8345, 1.8344, 1.8344, 1.8342, 1.8341, 1.8341, 1.8341, 1.834, 1.8338, 1.8338, 1.8338, 1.8338, 1.8336, 1.8333, 1.8333, 1.833, 1.8125, 1.7925, 1.7933, 1.7605, 1.7739, 1.7547, 1.4267, 1.7265, 1.7769, 1.6556, 1.6281, 1.7307, 1.7147, 1.5181, 1.7668, 1.4298, 1.5057, 1.5949, 0.7167, 1.2641, 1.5475, 1.3569, 1.4313, 1.1971, 0.5313, 0.8211, 0.8808, 1.3131, 0.4173, 0.758, 0.0481, 0.7624, 0.7597, 0.6446, 0.7072, -0.8277, 0.6858, 1.877, 1.8724, 1.8665, 1.8656, 1.8651, 1.8645, 1.863, 1.8623, 1.8622, 1.8616, 1.8613, 1.8607, 1.8607, 1.8606, 1.8604, 1.8602, 1.8586, 1.8575, 1.8574, 1.8572, 1.8567, 1.8566, 1.8561, 1.8559, 1.8551, 1.8551, 1.855, 1.855, 1.8549, 1.8548, 1.8536, 1.8468, 1.8408, 1.8155, 1.7194, 1.7593, 1.6768, 1.6933, 1.7217, 1.6574, 1.7065, 1.595, 1.7086, 1.6964, 1.677, 1.5086, 1.6657, 1.6422, 1.565, 1.7145, 1.453, 1.6236, 1.4665, 1.5429, 1.4794, 1.3336, 1.1426, 1.447, 1.2947, 1.4818, 0.9903, 0.8136, 1.0005, 1.1547, 0.5744, 1.2639, 1.3788, 1.2818, 1.0336, 1.3439, 1.0459, 1.3074, 1.1103, 0.6033, 0.8128, 0.8887, 0.4392, 0.2799, 0.7001, 0.7465, 0.7851, -0.6062, 0.6635, 0.6046, 0.8252, 1.0014, 0.3436, -0.0861, 0.4132, 0.3197, 1.9262, 1.9258, 1.9247, 1.9242, 1.9236, 1.923, 1.9225, 1.9221, 1.9218, 1.9218, 1.9207, 1.9195, 1.9193, 1.9193, 1.9193, 1.919, 1.9186, 1.9183, 1.9182, 1.9182, 1.9179, 1.9176, 1.9175, 1.9175, 1.9175, 1.9171, 1.9166, 1.9166, 1.9153, 1.9153, 1.9152, 1.9119, 1.9007, 1.8773, 1.8923, 1.5994, 1.8907, 1.8178, 1.8078, 1.6646, 1.5871, 1.6369, 1.8067, 1.5798, 1.7549, 1.8105, 1.3992, 1.5484, 1.6825, 1.6534, 1.4095, 1.5, 1.5491, 1.1163, 1.3705, 1.3475, 1.1741, 1.1892, 0.4719, 0.1289, 0.9825, 1.3966, 0.8805, 1.2558, 1.3843, 1.1747, 0.9916, 0.1492, 0.3675, 0.9837, 0.6183, 0.1645, 0.5621, 0.0969, 0.3468, 0.4037, 0.1533, 2.6643, 2.664, 2.664, 2.6637, 2.6634, 2.6634, 2.6633, 2.6617, 2.6615, 2.6608, 2.6605, 2.6597, 2.6595, 2.659, 2.6589, 2.6584, 2.658, 2.6556, 2.655, 2.6548, 2.6548, 2.6545, 2.6541, 2.6539, 2.6534, 2.6533, 2.6529, 2.6526, 2.6523, 2.6516, 2.6466, 2.632, 2.639, 2.5976, 2.6257, 2.4755, 2.5538, 2.6044, 2.5449, 2.3319, 2.3578, 2.5631, 2.4675, 2.411, 2.2159, 2.4786, 2.2707, 1.7535, 1.0873, 2.2493, 1.7359, 0.7577, 1.0452, 0.7751, 1.0359, 1.2422, 1.5378, 0.1475, 1.0621, 0.801, -0.2884, 2.6644, 2.6639, 2.6609, 2.6609, 2.6605, 2.6601, 2.6593, 2.6592, 2.6581, 2.658, 2.6574, 2.6574, 2.6574, 2.656, 2.6559, 2.6542, 2.6541, 2.654, 2.654, 2.6534, 2.6527, 2.6527, 2.6525, 2.6524, 2.6524, 2.6523, 2.6522, 2.6519, 2.6519, 2.6519, 2.6429, 2.6476, 2.6472, 2.6125, 2.5848, 2.641, 2.4935, 2.5497, 2.4244, 2.5109, 2.5128, 2.5667, 2.3124, 2.2406, 2.3712, 2.1762, 2.2128, 1.9779, 1.3532, 1.4152, 1.8349, 1.7817, 1.9779, 1.9625, 0.8413, 0.7435, 0.7145, 1.275, 1.3309, -0.5555, 0.7295, -0.2289, -0.3259, 0.743, 2.8261, 2.8259, 2.8241, 2.8237, 2.8215, 2.8195, 2.8192, 2.8186, 2.8184, 2.8177, 2.8175, 2.8175, 2.8169, 2.8156, 2.8155, 2.8154, 2.8154, 2.8154, 2.815, 2.8138, 2.8137, 2.8136, 2.8131, 2.813, 2.8129, 2.8127, 2.8123, 2.8116, 2.8109, 2.8095, 2.8071, 2.8048, 2.8088, 2.8005, 2.802, 2.804, 2.807, 2.7828, 2.7458, 2.7927, 2.7544, 2.7123, 2.747, 2.7258, 2.7967, 2.7927, 2.6927, 2.5853, 2.7218, 2.6625, 2.4911, 2.7676, 2.6356, 2.7288, 2.6348, 2.3685, 2.7089, 2.4196, 1.9936, 2.0877, 2.4514, 2.1413, 2.2873, 0.8583, 1.1182, 1.3986, 0.9637, -0.1568, 2.8494, 2.8484, 2.8441, 2.8437, 2.8436, 2.8435, 2.843, 2.8416, 2.8414, 2.8413, 2.8413, 2.841, 2.8387, 2.8378, 2.8376, 2.8375, 2.8374, 2.8374, 2.8373, 2.8363, 2.8358, 2.8345, 2.8342, 2.8341, 2.8324, 2.8323, 2.8313, 2.8313, 2.8312, 2.8309, 2.8279, 2.8218, 2.8247, 2.8026, 2.8133, 2.7952, 2.6667, 2.7288, 2.6932, 2.7417, 2.7783, 2.4075, 2.3968, 2.7999, 2.6963, 2.7429, 2.3622, 2.458, 2.4875, 2.2411, 2.1222, 2.401, 1.0802, 1.9018, 1.0328, 1.3881, 0.9275, 1.9379, 0.1104, 1.7533, 1.016, 1.7733, 0.6657, 3.2236, 3.2183, 3.2176, 3.2157, 3.2156, 3.2134, 3.2129, 3.2116, 3.211, 3.2109, 3.2107, 3.2102, 3.2097, 3.2083, 3.208, 3.208, 3.2063, 3.2062, 3.2061, 3.2058, 3.205, 3.2042, 3.2032, 3.2031, 3.2019, 3.2016, 3.2013, 3.201, 3.2007, 3.1994, 3.1818, 3.1984, 3.1978, 3.1909, 3.1892, 3.1428, 3.1446, 3.0165, 3.0623, 2.9518, 3.1221, 2.9815, 3.0799, 2.9484, 2.7759, 2.7584, 2.5553, 2.5383, 2.797, 2.4293, 2.2188, 1.8938, 2.7317, 0.964, 2.2868, 0.8186, 1.0108, 0.7099, 1.5397, 0.0812, 0.5548, 3.5551, 3.5519, 3.5497, 3.5454, 3.5452, 3.5432, 3.5427, 3.5412, 3.5344, 3.5329, 3.5313, 3.5307, 3.5307, 3.529, 3.5253, 3.5232, 3.5216, 3.5161, 3.5141, 3.5138, 3.5131, 3.5115, 3.5103, 3.5101, 3.5081, 3.5075, 3.5075, 3.5073, 3.5073, 3.5063, 3.5035, 3.5051, 3.493, 3.4931, 3.4885, 3.4944, 3.3448, 3.4691, 3.3886, 3.3451, 3.3848, 3.2523, 3.2251, 2.9117, 3.1387, 2.9828, 2.8742, 3.2779, 3.2168, 2.8264, 3.0877, 3.0369, 2.6723, 3.0047, 2.8125, 2.7375, 1.3424, 2.1347, 2.0192, 2.2228, 2.7951, 1.8327, 0.9661, 2.436, 1.6862, 2.2355, 1.7885, 1.291, 2.0638]}, \"token.table\": {\"Topic\": [7, 10, 8, 10, 8, 10, 5, 8, 10, 9, 8, 8, 6, 8, 8, 1, 6, 9, 6, 8, 9, 8, 8, 2, 10, 6, 8, 3, 8, 10, 1, 5, 6, 9, 6, 8, 8, 6, 8, 9, 6, 8, 8, 6, 9, 10, 6, 8, 1, 3, 7, 10, 1, 3, 4, 6, 2, 6, 8, 10, 8, 9, 10, 4, 6, 7, 9, 10, 2, 4, 6, 8, 10, 8, 3, 8, 6, 10, 4, 10, 1, 1, 3, 1, 9, 1, 3, 4, 1, 3, 5, 5, 4, 2, 7, 7, 2, 6, 1, 1, 1, 2, 1, 2, 6, 1, 3, 3, 5, 7, 10, 2, 9, 2, 6, 10, 4, 1, 5, 1, 2, 3, 9, 9, 1, 2, 3, 1, 3, 7, 3, 5, 3, 1, 3, 4, 5, 7, 9, 1, 2, 4, 5, 1, 2, 7, 10, 1, 4, 1, 8, 10, 9, 3, 2, 3, 1, 2, 3, 4, 5, 6, 7, 8, 5, 5, 2, 8, 8, 1, 2, 3, 4, 5, 6, 8, 10, 3, 4, 1, 3, 4, 10, 1, 2, 3, 4, 5, 6, 8, 9, 10, 5, 4, 2, 1, 2, 3, 4, 6, 8, 10, 6, 8, 10, 1, 2, 3, 4, 5, 6, 9, 2, 4, 6, 1, 2, 3, 4, 5, 6, 7, 8, 1, 2, 3, 4, 5, 6, 7, 8, 6, 7, 7, 7, 1, 3, 4, 5, 1, 2, 3, 4, 5, 6, 7, 8, 9, 1, 2, 3, 4, 7, 9, 1, 2, 1, 2, 3, 7, 9, 2, 4, 6, 6, 1, 2, 3, 4, 5, 6, 7, 8, 9, 10, 7, 9, 1, 2, 3, 4, 5, 6, 1, 2, 3, 4, 5, 6, 7, 8, 2, 7, 7, 1, 2, 3, 4, 5, 6, 7, 3, 9, 1, 2, 3, 4, 6, 8, 9, 10, 4, 5, 1, 3, 7, 9, 10, 5, 1, 2, 4, 5, 6, 7, 8, 9, 1, 2, 6, 9, 8, 6, 7, 7, 6, 8, 10, 1, 2, 3, 4, 6, 9, 1, 3, 4, 8, 4, 1, 2, 3, 4, 5, 6, 7, 8, 5, 6, 2, 7, 1, 2, 3, 4, 5, 6, 7, 9, 10, 1, 2, 3, 4, 10, 2, 2, 3, 4, 8, 10, 4, 8, 10, 8, 10, 10, 7, 1, 2, 4, 6, 2, 6, 1, 2, 3, 4, 5, 6, 9, 10, 2, 3, 4, 5, 6, 7, 9, 10, 1, 3, 6, 9, 10, 1, 2, 3, 4, 6, 8, 10, 1, 2, 3, 4, 5, 7, 8, 10, 2, 4, 4, 6, 9, 10, 9, 9, 2, 4, 1, 2, 3, 4, 6, 8, 9, 4, 1, 3, 4, 1, 2, 3, 4, 5, 5, 9, 5, 4, 5, 3, 1, 2, 6, 8, 1, 2, 3, 4, 6, 4, 10, 5, 1, 3, 4, 7, 1, 2, 3, 4, 5, 1, 3, 7, 1, 3, 7, 9, 2, 7, 8, 9, 1, 3, 4, 6, 8, 1, 2, 3, 4, 5, 6, 7, 8, 3, 4, 5, 5, 5, 1, 2, 3, 4, 7, 8, 4, 5, 2, 2, 1, 2, 3, 4, 5, 8, 1, 2, 3, 4, 5, 6, 7, 10, 3, 6, 9, 6, 4, 1, 2, 4, 6, 7, 10, 7, 1, 2, 4, 3, 4, 4, 10, 10, 10, 1, 3, 4, 2, 4, 10, 4, 5, 1, 3, 7, 9, 2, 6, 7, 8, 9, 10, 6, 1, 2, 3, 4, 6, 5, 4, 5, 5, 3, 1, 3, 5, 1, 3, 6, 7, 9, 1, 1, 2, 3, 4, 6, 8, 10, 8, 10, 1, 1, 2, 9, 1, 2, 3, 6, 1, 4, 6, 1, 5, 6, 5, 2, 6, 9, 6, 2, 2, 10, 2, 10, 10, 1, 3, 4, 5, 9, 6, 8, 10, 5, 6, 8, 10, 6, 1, 2, 3, 6, 1, 6, 6, 5, 4, 5, 9, 4, 8, 10, 1, 2, 3, 4, 5, 6, 8, 9, 10, 3, 1, 2, 3, 4, 5, 6, 10, 6, 2, 3, 4, 8, 10, 3, 4, 10, 1, 7, 9, 7, 1, 2, 3, 4, 6, 8, 10, 1, 3, 9, 4, 5, 7, 1, 2, 5, 9, 6, 9, 9, 1, 2, 3, 4, 5, 6, 7, 8, 9, 10, 1, 2, 3, 4, 5, 7, 10, 1, 2, 3, 6, 8, 9, 4, 5, 9, 1, 3, 4, 6, 7, 9, 1, 2, 3, 4, 5, 6, 7, 3, 2, 4, 1, 2, 3, 4, 8, 10, 1, 2, 3, 4, 5, 6, 7, 8, 9, 8, 1, 2, 3, 4, 5, 6, 7, 8, 9, 1, 6, 3, 6, 8, 10, 4, 1, 2, 3, 4, 6, 1, 2, 1, 3, 1, 1, 7, 6, 6, 4, 1, 3, 4, 3, 7, 9, 1, 3, 4, 5, 2, 10, 4, 7, 2, 4, 5, 6, 9, 9, 2, 10, 1, 2, 3, 4, 5, 8, 9, 5, 3, 4, 1, 2, 3, 4, 5, 6, 7, 8, 10, 5, 9, 1, 4, 9, 1, 5, 6, 8, 9, 5, 6, 9, 9, 1, 3, 4, 5, 8, 9, 10, 1, 6, 7, 8, 9, 5, 9, 1, 2, 7, 9, 6, 9, 1, 2, 3, 4, 5, 6, 7, 8, 9, 10, 5, 5, 1, 3, 4, 3, 4, 6, 1, 2, 4, 2, 3, 4, 6, 8, 10, 4, 3, 7, 9, 3, 9, 5, 7, 1, 2, 3, 4, 10, 4, 5, 1, 4, 5, 1, 1, 3, 4, 9, 1, 2, 3, 4, 5, 6, 8, 10, 2, 1, 3, 4, 5, 8, 1, 2, 3, 4, 5, 1, 2, 3, 4, 7, 8, 6, 4, 5, 4, 6, 1, 1, 7, 10, 6, 1, 2, 3, 4, 5, 6, 7, 10, 1, 10, 4, 6, 1, 1, 2, 4, 6, 9, 4, 2, 7, 9, 9, 5, 1, 3, 5, 7, 9, 2, 3, 10, 1, 3, 9, 2, 8, 10, 2, 3, 4, 10, 1, 3, 4, 1, 2, 3, 4, 6, 7, 8, 9, 4, 5, 8, 10, 3, 6, 7, 1, 2, 3, 4, 5, 6, 7, 9, 10, 2, 6, 2, 1, 2, 3, 4, 5, 7, 10, 2, 4, 10, 1, 2, 3, 4, 5, 6, 7, 10, 1, 2, 4, 5, 1, 2, 3, 4, 6, 7, 10, 8, 2, 8, 3, 3, 10, 4, 5, 5, 3, 4, 6, 10, 2, 6, 1, 2, 3, 4, 5, 6, 8, 10, 1, 2, 4, 10, 2, 7, 10, 4, 10, 1, 2, 4, 8, 10, 2, 4, 10, 2, 10, 8, 1, 1, 2, 3, 4, 6, 8, 2, 1, 2, 4, 5, 8, 10, 1, 2, 3, 4, 5, 6, 8, 2, 3, 4, 6, 5, 3, 1, 2, 3, 4, 5, 6, 9, 1, 2, 3, 4, 5, 6, 7, 8, 9, 4, 4, 9, 1, 2, 3, 4, 5, 5, 1, 2, 5, 6, 9, 1, 1, 2, 3, 4, 5, 6, 7, 1, 3, 3, 1, 4, 4, 10, 1, 2, 5, 10, 2, 1, 2, 3, 4, 5, 6, 7, 8, 9, 1, 2, 3, 4, 5, 6, 7, 8, 9, 10, 2, 3, 4, 5, 2, 6, 1, 2, 4, 6, 8, 10, 10, 1, 2, 3, 4, 5, 7, 1, 3, 6, 8, 1, 2, 8, 10, 1, 3, 4, 6, 8, 10, 2, 2, 2, 3, 4, 10, 8, 1, 7, 7, 10, 10, 1, 2, 3, 4, 5, 6, 7, 8, 9, 10, 8, 1, 2, 3, 4, 2, 3, 6, 10, 1, 8, 1, 3, 1, 2, 3, 6, 7, 8, 9, 6, 1, 2, 3, 4, 5, 8, 10, 4, 5, 1, 2, 3, 4, 5, 6, 7, 8, 10, 8, 1, 2, 3, 4, 5, 6, 7, 8, 9, 10, 1, 1, 4, 9, 10, 7, 1, 2, 3, 4, 5, 6, 7, 8, 1, 2, 3, 4, 5, 6, 8, 10, 1, 2, 3, 4, 5, 6, 7, 8, 10, 5, 3, 7, 9, 1, 3, 9, 1, 2, 3, 4, 5, 6, 8, 1, 6, 9, 1, 1, 2, 3, 4, 5, 6, 7, 3, 4, 3, 4, 10, 3, 1, 3, 4, 5, 7, 9, 1, 3, 4, 7, 8, 9, 3, 7, 9, 3, 9, 1, 4, 3, 1, 3, 5, 6, 9, 1, 2, 3, 4, 6, 10, 6, 2, 4, 5, 6, 10, 1, 3, 2, 7, 1, 7, 9, 7, 9, 1, 2, 3, 6, 7, 9, 10, 1, 2, 4, 6, 8, 10, 1, 3, 4, 1, 2, 3, 4, 5, 6, 7, 8, 9, 6, 1, 2, 3, 4, 5, 7, 8, 1, 3, 4, 5, 10, 4, 6, 1, 2, 4, 6, 3, 6, 6, 2, 4, 10, 4, 1, 3, 1, 2, 3, 4, 5, 7, 9, 10, 1, 3, 6, 3, 7, 9, 3, 1, 3, 10, 1, 3, 3, 1, 1, 9, 9, 2, 4, 7, 3, 3, 4, 5, 6, 1, 2, 5, 6, 9, 4, 6, 2, 10, 8, 10, 7, 9, 7, 9, 2, 4, 6, 7, 3, 7, 9, 1, 7, 9, 7, 3, 7, 9, 8, 1, 2, 3, 4, 6, 7, 9, 10, 4, 4, 1, 2, 3, 4, 6, 9, 6, 4, 7, 1, 2, 3, 4, 5, 6, 7, 10, 1, 3, 7, 8, 1, 2, 3, 4, 5, 6, 9, 2, 4, 6, 7, 1, 9, 9, 2, 1, 3, 1, 3, 7, 9, 2, 2, 3, 9, 9, 7, 1, 2, 1, 7, 9, 9, 3, 7, 9, 7, 9, 7, 7, 9, 7, 1, 2, 3, 4, 5, 6, 7, 8, 9, 1, 9, 1, 2, 1, 2, 3, 4, 8, 9, 10, 1, 9, 2, 10, 8, 10, 1, 2, 3, 4, 5, 6, 7, 9, 2, 7, 9, 1, 2, 3, 4, 5, 6, 9, 1, 2, 3, 4, 5, 6, 8, 9, 10, 4, 9, 1, 2, 3, 4, 5, 6, 10, 7, 9, 7, 7, 1, 2, 3, 4, 5, 6, 7, 8, 7, 1, 3, 4, 3, 7, 9, 3, 7, 1, 5, 2, 4, 6, 7, 4, 6, 2, 2, 2, 8, 1, 3, 7, 9, 3, 1, 2, 3, 4, 6], \"Freq\": [0.026394717780214152, 0.9502098400877094, 0.9808222575978909, 0.9779516394735269, 0.9820680133975798, 0.9688544670710091, 0.9977353530584429, 0.9928988460046947, 0.9752796967545112, 0.9838292025197712, 0.9844054105142103, 0.9832067454646441, 0.017124648360163763, 0.9761049565293345, 0.9810859905434193, 0.3425116810027117, 0.015808231430894385, 0.6375986677127402, 0.9830121035725641, 0.973367717651721, 0.014209747702944833, 0.9894551186378697, 0.9925943776294621, 0.009009509475070359, 0.9820365327826691, 0.026965331067189343, 0.9617634747297532, 0.979791097203378, 0.9901248373094867, 0.9706428627332935, 0.06732780135238403, 0.8944979322531021, 0.02564868622947963, 0.0064121715573699075, 0.004158019661189337, 0.9937666990242517, 0.9859465753040658, 0.9871836025646132, 0.9887028149373571, 0.9877844015121588, 0.04507533319480667, 0.9465819970909402, 0.9900358146025756, 0.024989762973142725, 0.9714770355809235, 0.9682090164384712, 0.03663786630873079, 0.9525845240270006, 0.10709148953804005, 0.8299590439198105, 0.05890031924592203, 0.9401290433788843, 0.0069067702946809485, 0.031080466326064267, 0.1070549395675547, 0.8529861313930971, 0.015845391717644174, 0.24401903245172027, 0.6940281572328149, 0.041198018465874855, 0.9977867133314456, 0.9916000838550171, 0.9564485312760492, 0.12793741577301643, 0.6991928536432293, 0.04760461982251774, 0.1011598171228502, 0.02082702117235151, 0.010136957101748764, 0.005385258460304031, 0.2683125832869126, 0.641479316595039, 0.0744432787159675, 0.9829832334514411, 0.9860058340091075, 0.9848511530054809, 0.0494712038984187, 0.9399528740699553, 0.04218236090020324, 0.9280119398044713, 0.9978208240739425, 0.9981043528372888, 0.9822851309545063, 0.9852370620674644, 0.008718912053694376, 0.01655195629761029, 0.08689777056245403, 0.8938056400709558, 0.9923423979904443, 0.9792698737686317, 0.9930479183682908, 0.9883519699102018, 0.985284340537631, 0.9937788028432651, 0.9804953806643556, 0.9922388399172608, 0.012114187199160487, 0.9691349759328389, 0.9988962987210362, 0.9904446212215011, 0.7967237368565466, 0.20293074139203293, 0.19033556906658985, 0.7156192066023184, 0.09250946652957161, 0.9932832472965971, 0.9853995639372036, 0.05886281957512576, 0.03924187971675051, 0.8992930768421992, 0.9475301353250832, 0.9992924086199922, 0.9756505205978437, 0.1352067066308428, 0.020801031789360432, 0.8320412715744173, 0.995226363230698, 0.9901403278033355, 0.003913598133610022, 0.08918476696231141, 0.8315167978544917, 0.0786924414373336, 0.963720264670492, 0.9833076059460851, 0.9877860370557197, 0.007511680890157565, 0.9914420730044609, 0.016086551981369268, 0.9720873554456001, 0.009192315417925296, 0.9301748002553445, 0.06085255702605057, 0.9645899265973389, 0.025425079518364074, 0.01989788831871971, 0.3161553366196576, 0.6378378644389595, 0.9200774679758182, 0.07832793792120275, 0.020459582544212842, 0.012275749526527706, 0.571845332110749, 0.39486994310330786, 0.021148102670018733, 0.16918482136014987, 0.17975887269515922, 0.6238690287655526, 0.030410130174418123, 0.9655216330377755, 0.1697325169015203, 0.6739379347560365, 0.1522600519263638, 0.9939176647189725, 0.9619721429595078, 0.935582826115295, 0.06223834250981576, 0.12633114122660616, 0.11816047040100476, 0.3701942397137862, 0.26146146641924456, 0.054680643217486245, 0.02262647305551155, 0.038967814706714336, 0.006913644544739641, 0.9973070642843285, 0.9975884481285681, 0.9538800654717554, 0.04446051152622589, 0.9810083621576597, 0.12110245243086622, 0.08628549735699217, 0.08779927801237801, 0.0075689032769291386, 0.05752366490466145, 0.09082683932314967, 0.5434472552835121, 0.004541341966157483, 0.9835697284539147, 0.9950512511007108, 0.19861016363719183, 0.6674017210511041, 0.1216710912371986, 0.010735684520929288, 0.1115655582891321, 0.16368377530011352, 0.1848568009608247, 0.26792020932207633, 0.008143471407965846, 0.13762466679462282, 0.013029554252745355, 0.009772165689559015, 0.10342208688116625, 0.9984948023139305, 0.9900760324785115, 0.9984301857019738, 0.053161479279385915, 0.20378567057097935, 0.006645184909923239, 0.017720493093128637, 0.49395874497096076, 0.21264591711754366, 0.013290369819846479, 0.055863681401996226, 0.9287337033081872, 0.006982960175249528, 0.11715807386385288, 0.11612127675001348, 0.4613747156585357, 0.2218745823616329, 0.025919927845985152, 0.05287665280580971, 0.0041471884553576244, 0.008409514514760673, 0.016819029029521346, 0.9739746810731906, 0.13320917248148947, 0.3153402976884817, 0.19745607425353529, 0.18272054632416698, 0.017682633515241967, 0.08900258869338457, 0.04302774155375545, 0.020629739101115627, 0.15346978780109208, 0.2129974630693945, 0.22973962173860452, 0.2692697185964616, 0.021857818262579782, 0.082780673419983, 0.0004650599630336124, 0.028833717708083968, 0.021121536108975453, 0.9768710450401147, 0.9866524679727375, 0.9955991560308364, 0.0015403898688145638, 0.008472144278480101, 0.5884289298871633, 0.40165665829339753, 0.23682913717507098, 0.09123891514946302, 0.34303693684124276, 0.168578151819125, 0.05203469379617812, 0.015325286529011365, 0.050430884740816466, 0.022809728787365754, 0.019245708664339854, 0.41349963892572256, 0.05212180322593142, 0.09381924580667655, 0.046330491756383485, 0.20848721290372568, 0.18532196702553394, 0.9794460050506687, 0.01923625541834374, 0.845152432844272, 0.002909302694816771, 0.004363954042225156, 0.07855117276005281, 0.06836861332819412, 0.0021066654202311673, 0.9943460783491109, 0.9904214995196666, 0.9941800311404136, 0.2526623563971371, 0.09102122155921709, 0.3426373570188919, 0.09939098905891522, 0.0528341573418444, 0.044987500310877414, 0.04289505843595288, 0.03295595953006136, 0.02092441874924531, 0.018831976874320776, 0.9727632828393422, 0.023725933727788834, 0.16238105650249604, 0.02189407503404441, 0.6039115696890582, 0.14778500647979975, 0.05838420009078509, 0.005473518758511102, 0.3027926971926916, 0.3249789153952241, 0.08295241190010934, 0.1651397817932348, 0.006830732205213219, 0.03978218436316179, 0.013060359976367675, 0.0644821120172128, 0.9957734194325816, 0.9970928529509409, 0.9883405250336902, 0.014622208882798953, 0.03947996398355717, 0.6872438174915507, 0.06433771908431539, 0.03509330131871748, 0.043866626648396856, 0.11405322928583184, 0.23610402292792548, 0.7582571505569915, 0.6047735472937829, 0.09036846108987559, 0.013902840167673168, 0.00903684610898756, 0.14563225075637645, 0.03162896138145646, 0.10427130125754877, 0.0003475710041918292, 0.05232460511681582, 0.9418428921026847, 0.6686629636157876, 0.012667498634128587, 0.22439569009027785, 0.09410141842495522, 0.9423671713706878, 0.996122850799201, 0.6371574858452147, 0.08368845564633615, 0.04219585998974932, 0.08931457031163606, 0.028833837659662034, 0.10337985697488583, 0.006329378998462398, 0.009142436331112353, 0.3589566693874601, 0.005055727737851551, 0.020222910951406204, 0.6117430562800377, 0.9796474286721639, 0.9880348115582082, 0.9824568088722664, 0.9819507605632465, 0.06746384263055204, 0.884814243731471, 0.04411097402766864, 0.12103003738679817, 0.05344183469027452, 0.17918732807915574, 0.1131709440499931, 0.5014101548881639, 0.031436373347220305, 0.5125195820944293, 0.4330712578183932, 0.04206087755790149, 0.01246248223937822, 0.9951057562483484, 0.11402094866100647, 0.07696414034617936, 0.41373315656993775, 0.20523770758981164, 0.023211407405990602, 0.16085098114677698, 0.0028505237165251615, 0.0028505237165251615, 0.9724143098109219, 0.022746533562828585, 0.9945007103119375, 0.9845380788914218, 0.37003516022761074, 0.10126525634046012, 0.1396269181541403, 0.17107871541753025, 0.15082566414943824, 0.002859254296671815, 0.0019061695311145433, 0.04312708564146654, 0.01929996650253475, 0.07451850210301698, 0.38290324665512504, 0.14200695683782483, 0.3500963589368157, 0.0501476712265586, 0.9923586467803152, 0.21286183451509624, 0.05411741555468549, 0.05050958785103979, 0.24172445614426183, 0.4365471521411296, 0.9938342228573647, 0.9885820647910526, 0.007322830109563353, 0.9792945001602954, 0.9682444078337858, 0.9352358741003419, 0.983865442025646, 0.014262626369793663, 0.2491764724605128, 0.7097754064026729, 0.02600831867432962, 0.9542610247950247, 0.043157533784699616, 0.570756693968635, 0.13595148953922367, 0.1503252153054852, 0.057494903065046135, 0.040126651097480114, 0.008384673363652562, 0.019164967688348713, 0.017967157207826916, 0.44888706728509203, 0.0225855128193757, 0.1425710496723091, 0.04234783653632944, 0.04799421474117336, 0.10869278044324555, 0.016939134614531774, 0.16939134614531776, 0.038197118900334476, 0.1280726927834744, 0.7830409374568568, 0.005617223367696247, 0.04381434226803072, 0.10407697222859337, 0.09206809081760182, 0.2381761479846656, 0.14610805716706377, 0.018013322116487315, 0.17613026069454263, 0.2241657863385088, 0.14039682303656892, 0.2527142814658241, 0.05927865861544022, 0.03587918810934539, 0.02963932930772011, 0.006239858801625286, 0.0655185174170655, 0.41027071620686256, 0.9169204631121194, 0.08002214950796678, 0.017054698484070135, 0.9789396929856257, 0.9724358950690826, 0.94063649164428, 0.9773889084742162, 0.9778127233178562, 0.11166706826096216, 0.8847467716060848, 0.07848506126851469, 0.10987908577592057, 0.5825335658596423, 0.06976449890534639, 0.13604077286542546, 0.013952899781069278, 0.008720562363168299, 0.9924291709662165, 0.1415341523452441, 0.2635193886207031, 0.594287048521467, 0.37226995534177587, 0.04802352531245131, 0.4094268435397309, 0.16930921697747434, 0.00105161004333835, 0.008359998548777796, 0.9864798287557799, 0.9922427984546307, 0.26406212593784356, 0.7353478933067303, 0.9814989879062573, 0.07669831801756109, 0.2433696629403381, 0.06489857678409015, 0.6135865441404887, 0.02915761041280049, 0.13253459278545676, 0.009277421494981973, 0.7673752922277947, 0.06096591268131012, 0.9927177914741752, 0.9548931900805646, 0.9910590986111977, 0.03877389502447574, 0.030157473907925572, 0.02154105279137541, 0.9047242172377672, 0.08132269824025996, 0.05523805918206337, 0.2316929704580991, 0.5799996214116654, 0.05063488758355809, 0.9276848698925746, 0.001870332398976965, 0.07013746496163618, 0.09904653428679526, 0.04755978959145675, 0.7840820357417227, 0.06937620683524426, 0.06691073745304704, 0.9018403743671557, 0.011636649991834268, 0.0174549749877514, 0.06216293771804637, 0.836374071115533, 0.0508605854056743, 0.011302352312372067, 0.0339070569371162, 0.6240784343169933, 0.06327369398091182, 0.048620838532700654, 0.0326359053164703, 0.09657563818139171, 0.028639672012412715, 0.03596609973651829, 0.06993408282100778, 0.971063777966706, 0.037019488235047804, 0.9594217367583223, 0.9850838609153544, 0.9896006103046279, 0.7960282075487902, 0.01889681204863597, 0.022439964307755213, 0.09920826325533884, 0.022439964307755213, 0.041336776356391186, 0.9912430739316804, 0.9969302222983067, 0.9955441339779835, 0.9915940253653751, 0.5693221227700873, 0.022717250827145177, 0.30645107748455025, 0.08576921230656853, 0.003708938910554315, 0.012054051459301524, 0.21160523213969573, 0.07889114926462525, 0.20054572523343986, 0.39150654448145794, 0.005898403683336466, 0.022856314272928807, 0.05750943591253055, 0.03170391979793351, 0.9705653246458698, 0.021881078986409043, 0.9721450806818875, 0.9853971345747637, 0.9882516930257005, 0.00636718744027646, 0.28379464019517936, 0.02092075873233694, 0.17646205191623332, 0.0090959820575378, 0.5020982095760865, 0.9758081678182315, 0.12888881609435276, 0.21972474362751568, 0.6505816431429235, 0.8828282769827939, 0.10782635444064657, 0.15623034605226424, 0.8425279376389965, 0.9818515958333769, 0.9787508806108148, 0.9337524180992753, 0.06498643202888729, 0.9896351238888245, 0.8088016984297813, 0.037593704442287317, 0.15359713529277388, 0.9867987079325767, 0.011046254193275113, 0.3066271094681563, 0.03508022015101788, 0.5028164888312563, 0.1559120895600795, 0.9928575224516163, 0.7430520180015182, 0.03580973580730208, 0.06266703766277865, 0.1477151602051211, 0.00447621697591276, 0.9812299678500702, 0.908566406257602, 0.015620052829643587, 0.0065083553456848275, 0.06768689559512221, 0.9885832316510738, 0.9956872461417028, 0.016406876240297092, 0.9811311991697661, 0.9928236715803141, 0.9766864103376061, 0.012166892193414354, 0.9733513754731484, 0.9870748326588127, 0.17314464273425795, 0.012511617540237755, 0.019776427724891934, 0.7135658003593661, 0.08072011316282422, 0.993007824760012, 0.08355034591616442, 0.5619170323381254, 0.0737208934554392, 0.004914726230362613, 0.11467694537512764, 0.15945556214065368, 0.0016382420767875377, 0.9514763165329337, 0.04349606018436269, 0.9951463278166112, 0.9531216513469832, 0.039323290134158445, 0.005617612876308349, 0.04779776027290294, 0.04381461358349436, 0.7846798978134899, 0.11551125399284877, 0.9992217352474332, 0.9852278827230138, 0.9900396560205136, 0.06337426263248765, 0.9339365019524496, 0.0025016156302297755, 0.993758297312441, 0.9929851392589429, 0.033522157463844994, 0.9654381349587359, 0.9941001105458259, 0.9988055327485679, 0.9393021368396345, 0.0566245969016801, 0.42281437756203694, 0.5717603514759364, 0.9929380044872228, 0.030997203246131422, 0.07630080799047735, 0.7582392794053686, 0.13114201373363293, 0.0023844002497024172, 0.004849106231215231, 0.9867931180522994, 0.007273659346822846, 0.990539530536924, 0.052697806422597235, 0.895862709184153, 0.046110580619772586, 0.9854376028621866, 0.09317556076638088, 0.024846816204368235, 0.041411360340613726, 0.8385800468974279, 0.05183417537328088, 0.9433819917937121, 0.9870930619623962, 0.9913975000774937, 0.6831929366163513, 0.31551091981918766, 0.9866898242786601, 0.19495810047643725, 0.20888367908189706, 0.589516160964465, 0.01730569859100701, 0.04450036780544659, 0.6501998184906919, 0.15945965130285028, 0.09147297826675133, 0.007416727967574432, 0.0012361213279290719, 0.022250183902723295, 0.00618060663964536, 0.9817137747741467, 0.11919064082825591, 0.09448038602239797, 0.16279697283859343, 0.015988988403790427, 0.03052443240723627, 0.017442532804135012, 0.5596145941326649, 0.9925179594155484, 0.0384187191168987, 0.017074986274177202, 0.0042687465685443005, 0.8537493137088601, 0.08324055808661386, 0.12277476928588324, 0.1661070407985479, 0.7077604347068563, 0.9971199890451539, 0.8902527406032176, 0.10909388105688184, 0.9870276636322806, 0.004641964161176399, 0.005415624854705798, 0.025917633233234892, 0.024370311846176093, 0.28548079591234854, 0.6344017686941078, 0.019341517338234995, 0.03338865439613837, 0.11447538650104583, 0.8490257832160899, 0.3288639276059971, 0.6601283218368554, 0.00960186649944517, 0.7488587268257515, 0.17107548500760703, 0.045189750756726384, 0.03443028629083915, 0.9850719312836836, 0.978557542669651, 0.9889588696457348, 0.2930010332059939, 0.08189003235757265, 0.2144917820007981, 0.06498612659568839, 0.027421891569278916, 0.1438710201511483, 0.06198098779357564, 0.014274409310035601, 0.09015416406338274, 0.00788848935554599, 0.031645596891340166, 0.33860788673733977, 0.2784812526437935, 0.2545210149974931, 0.07685359245039755, 0.0018083198223622953, 0.017179038312441806, 0.037891224937392734, 0.06495638560695897, 0.1136736748121782, 0.6116726311321969, 0.03247819280347949, 0.1380323194147878, 0.17796979589318965, 0.8209574455718103, 0.9859344679871185, 0.009557601944365546, 0.3163566243584996, 0.12520458547118868, 0.005734561166619329, 0.4769243370238408, 0.06690321361055883, 0.3562153637004029, 0.12666664330340413, 0.3335370563840729, 0.0016593883402192683, 0.11007275990121146, 0.03982532016526243, 0.03208150791090585, 0.9644997961061225, 0.03298995783981525, 0.9622071036612783, 0.03211427484776555, 0.036702028397446344, 0.06606365111540342, 0.0036702028397446345, 0.8313009432021597, 0.030279173427893234, 0.09019047467588466, 0.12433037186958111, 0.3210169437616234, 0.18140005076053636, 0.04942641832520233, 0.06726069297862584, 0.15490341413259287, 0.008662361974519995, 0.0030573042263011747, 0.9986658781578956, 0.6788527417495994, 0.09575560462752378, 0.01012051105819357, 0.03425403742773208, 0.05683056209601005, 0.037368040830253184, 0.026469028921429338, 0.03814654168088346, 0.02179802381764769, 0.10856363611842566, 0.8893867112778718, 0.023689256205814323, 0.027637465573450044, 0.8962435264533085, 0.047378512411628645, 0.9915060793420076, 0.053394310409086945, 0.026697155204543473, 0.5387971323098774, 0.2475554391694031, 0.13348577602271736, 0.9797342037909509, 0.018325963524147282, 0.9347634414266753, 0.06376680840740111, 0.9968998098705953, 0.9984901681567048, 0.9891159253412507, 0.9861778370136665, 0.9892333069350663, 0.9881153765713675, 0.0764273993917369, 0.8491933265748545, 0.07076611054790455, 0.03532865141946804, 0.9563970634270276, 0.007570425304171723, 0.16095535882181952, 0.7277981442377927, 0.06998059079209544, 0.03965566811552075, 0.029366180984508803, 0.9397177915042817, 0.9947114947689376, 0.9874573861749407, 0.093908509498888, 0.58692818436805, 0.016140525070121377, 0.281725528496664, 0.022009806913801878, 0.9827629857786153, 0.02252135616984201, 0.9458969591333645, 0.16801094752026904, 0.10845151109773982, 0.16801094752026904, 0.1671220007079925, 0.32357663966866634, 0.0382247129278919, 0.02577945755602012, 0.9895084747413586, 0.9825327048721934, 0.9888089950553639, 0.08339098154423608, 0.094762479027541, 0.4276946553443017, 0.22679819980591476, 0.07201948406093114, 0.005685748741652459, 0.06380673587854427, 0.012634997203672131, 0.013266747063855739, 0.000800999614370317, 0.998045519505415, 0.033495888716051254, 0.033495888716051254, 0.9211369396914096, 0.04660567973449988, 0.013981703920349964, 0.002330283986724994, 0.01631198790707496, 0.9204621747563727, 0.4348769087371531, 0.05938078271912934, 0.5029901595032132, 0.9741911633126527, 0.02651990075054155, 0.14917444172179622, 0.10276461540834851, 0.039779851125812324, 0.04972481390726541, 0.6265326552315441, 0.006629975187635388, 0.00912562962655726, 0.01129839858526137, 0.006518306876112329, 0.01564393650266959, 0.9573220032050307, 0.9818507462984528, 0.9932937729439149, 0.02161974134527675, 0.01768887928249916, 0.19850853417026834, 0.7606218091474639, 0.03147307566630097, 0.9651743204332297, 0.27172650673512067, 0.16660326320770666, 0.20113833599108094, 0.04686902734886509, 0.08064508754359377, 0.05009483085060884, 0.00398481609038934, 0.16223894082299453, 0.0011385188829683827, 0.01574951121439596, 0.9906672731572157, 0.991426043047751, 0.026297501211851274, 0.7494787845377613, 0.22133730186641487, 0.9762376444597993, 0.9928436684459043, 0.9873518736468467, 0.1397767536878209, 0.07765375204878938, 0.7817144372911464, 0.7823099001405248, 0.01031617450734758, 0.09800365781980201, 0.037825973193607795, 0.06705513429775928, 0.0034387248357825267, 0.9845360025616258, 0.06050519470124087, 0.8235429278780008, 0.11428758999123276, 0.0862535286135997, 0.9056620504427968, 0.9965406038163609, 0.987531619478252, 0.022749192953408284, 0.24861618013367626, 0.04549838590681657, 0.6841007309560635, 0.9604523597551728, 0.9881593992464657, 0.9959129616663954, 0.008841188904617601, 0.7464489489470003, 0.243764208370171, 0.9921957619211108, 0.018644443546041885, 0.8514295886025794, 0.04971851612277836, 0.08079258869951483, 0.07195430125962844, 0.1621370255050294, 0.5554872057243315, 0.09306089629578611, 0.033578673921159936, 0.04029440870539192, 0.02686293913692795, 0.017269032302310826, 0.9959575845349224, 0.01723074519944734, 0.8127168152405995, 0.0660511899312148, 0.09476909859696037, 0.00861537259972367, 0.13275429769803745, 0.06637714884901873, 0.11947886792823371, 0.0056894699013444626, 0.6732539383257614, 0.15410302384846172, 0.019449896213883516, 0.6598003254094331, 0.07480729313032122, 0.01795375035127709, 0.07181500140510837, 0.9949088541521733, 0.17280856420195995, 0.8268352354160763, 0.9885130368577351, 0.9952160095376132, 0.9963515058551374, 0.9970055200260618, 0.9915630647761375, 0.9719626275434397, 0.9928755899989117, 0.008840654557119822, 0.2949563838602704, 0.10608785468543785, 0.12055438032436121, 0.09001393730885637, 0.08358437035822378, 0.23950136891106427, 0.056258710818035226, 0.9987751921265512, 0.9377958151070408, 0.9932521367936827, 0.9941433196592189, 0.9973274619745717, 0.059983007893932024, 0.08397621105150482, 0.8397621105150482, 0.002999150394696601, 0.011996601578786403, 0.9937278595646288, 0.992586490465016, 0.9770025972487894, 0.015147327089128517, 0.9915908169839034, 0.983204740690365, 0.17393915248148042, 0.10324130340836257, 0.0011221880805256802, 0.6306697012554322, 0.0908972345225801, 0.9955698017662761, 0.9877817547494134, 0.9302120122970978, 0.9909322070555795, 0.9777656575373282, 0.9833141499565626, 0.18103679196913808, 0.08284734547740218, 0.7333524284851526, 0.46807100135028956, 0.013001972259730266, 0.037380670246724514, 0.47944772707755356, 0.09889708949384789, 0.8046626826999441, 0.09440176724412752, 0.11953805300874919, 0.0587892063977455, 0.10973985194245826, 0.0117578412795491, 0.0235156825590982, 0.5820131433376805, 0.07250668789055278, 0.019596402132581833, 0.11122399094967322, 0.8856725205251756, 0.9723063452760287, 0.024156679385739843, 0.13910178569395423, 0.8527544253411977, 0.9786102263802862, 0.1220651849696382, 0.1041830241142135, 0.18659646110008388, 0.47659846105979753, 0.006997367291253145, 0.06764121714878041, 0.005442396782085779, 0.0007774852545836828, 0.029544439674179947, 0.9921796675264357, 0.9844975168597571, 0.9942993939998905, 0.09112927283800062, 0.11306780148418595, 0.5619638491676705, 0.2126349699553348, 0.01518821213966677, 0.003375158253259282, 0.9440034792713551, 0.47898487933231626, 0.04662684666066795, 0.4705072708485584, 0.07542316193812651, 0.12789144850377973, 0.0983780373105998, 0.3885932473768692, 0.07050426007259653, 0.15166614085384136, 0.042630482834593246, 0.04590975074494657, 0.006594906105469496, 0.881519116097756, 0.03517283256250398, 0.07474226919532095, 0.0740451296463041, 0.11461780342510086, 0.01318611897810895, 0.5588885813029255, 0.17243386355988627, 0.041586990623266686, 0.025357921111747977, 0.9850507703367266, 0.9227180365432066, 0.07532392135046584, 0.9894515640911589, 0.9858346713096976, 0.9485151061795226, 0.28325697841319086, 0.7155965770438506, 0.9974118711633531, 0.07558793153828137, 0.04251821149028327, 0.411009377739405, 0.46297608067197343, 0.007541841853996715, 0.9879812828735697, 0.013398829555265532, 0.1399433309105511, 0.29527050316233305, 0.3875735512097178, 0.020346370806143956, 0.0898217833149282, 0.0496252946491316, 0.002977517678947896, 0.6546268452003332, 0.3167093160364463, 0.018380451377115185, 0.009897166126138947, 0.01530099082173072, 0.22186436691509545, 0.7497485502648052, 0.2832074956583027, 0.7141754238339808, 0.031155854978605103, 0.23606551656866173, 0.009586416916493878, 0.48171745005381733, 0.23966042291234693, 0.48177730499091576, 0.34032833906643056, 0.17760885195029344, 0.05817351605683664, 0.9113850848904407, 0.9754465765740101, 0.9931017861315689, 0.7601083145963754, 0.11900947063115476, 0.011900947063115477, 0.0005174324810050207, 0.07864973711276314, 0.02949365141728618, 0.990812518082258, 0.9934743291853849, 0.2076991508759671, 0.06923305029198903, 0.07615635532118793, 0.37847400826287336, 0.26539335945262466, 0.012047533224220804, 0.5207211582468769, 0.020079222040368005, 0.02275645164575041, 0.016063377632294405, 0.005354459210764801, 0.4015844408073601, 0.9910041525215891, 0.7722121194430395, 0.22290659117943407, 0.9888250960021263, 0.9927589813543899, 0.9796175663565402, 0.31702678465855433, 0.2409611962277426, 0.2360117230079295, 0.1599461345771178, 0.0010419943620659138, 0.03725129844385642, 0.007814957715494354, 0.19183512203597833, 0.0887731468058727, 0.27817612783347095, 0.20977216197278137, 0.08299681191097003, 0.060499507583454334, 0.06657986010440452, 0.014896863676327952, 0.006688387773045203, 0.9886246010473452, 0.9810205596522122, 0.0076048105399396295, 0.2344436191906201, 0.009976324220877452, 0.006575304600123774, 0.7187488131859436, 0.03015570730401593, 0.987127427005452, 0.09245222227627128, 0.6627824853724583, 0.20114605116864429, 0.03623127629745766, 0.006871448952966109, 0.9982139636712724, 0.018016176588698543, 0.5256023691746401, 0.13081310827446332, 0.13081310827446332, 0.06109833799645593, 0.10888037155778685, 0.024282672793463255, 0.01775923807519221, 0.9589988560603794, 0.9604789762192216, 0.29383885742713095, 0.7048634496615106, 0.9895509928026269, 0.9605318927159647, 0.017580476402530656, 0.05274142920759197, 0.829798486199447, 0.09845066785417168, 0.9962013416507054, 0.2514967920130208, 0.32211144203827496, 0.12113128427408992, 0.0016295688467366357, 0.04725749655536243, 0.0016295688467366357, 0.14122930005050843, 0.11244025042482786, 0.0010863792311577572, 0.20862709007285507, 0.2699238026749058, 0.014005480327471526, 0.008730689035306926, 0.14842171360021772, 0.029466075494160873, 0.13932724585510634, 0.1700665468335828, 0.011095250649035883, 0.0001818893549022276, 0.7455627795677833, 0.08164220520060436, 0.04621256898147417, 0.1263143552160294, 0.9907404099702394, 0.9932273685811451, 0.005500555472351159, 0.661098010833205, 0.0235492531160034, 0.05517744708202256, 0.14593661237581668, 0.10863597057893538, 0.9660134829178229, 0.12583378128976314, 0.04832746672722787, 0.5771940837421743, 0.227959748713339, 0.015501262912507053, 0.00455919497426678, 0.9181559996341739, 0.04943916921107091, 0.0035313692293622075, 0.02825095383489766, 0.018963677038962633, 0.4729764155600092, 0.38708211367764905, 0.12047512471811554, 0.009323087293228342, 0.02796926187968502, 0.006215391528818894, 0.12741552634078732, 0.6370776317039366, 0.18956944162897627, 0.9953303839743931, 0.9923362776694579, 0.02998860040250505, 0.002998860040250505, 0.30888258414580205, 0.6537514887746101, 0.988546692516257, 0.02017533065740219, 0.9785035368840063, 0.9982787911422639, 0.9837233088128089, 0.9828820284776322, 0.22190864084654024, 0.3024711256756103, 0.07236151331952399, 0.03859280710374613, 0.06271331154358746, 0.02267327417345085, 0.18090378329881, 0.027497375061419117, 0.06464295189877477, 0.006271331154358746, 0.9920347728583806, 0.2582251363261041, 0.13563340493896378, 0.13628548861655496, 0.4695002478656438, 0.4121989420847277, 0.039948796149180656, 0.2850891361555165, 0.2614830293400916, 0.1414196369132831, 0.8573565487867788, 0.3522459176855339, 0.6463712589529548, 0.2795203122120284, 0.0032128771518623953, 0.1959855062636061, 0.05943822730945431, 0.09156699882807827, 0.34056497809741393, 0.028915894366761556, 0.9870930619623962, 0.022143386102717887, 0.14393200966766626, 0.5480488060422677, 0.13147635498488747, 0.10656504561932983, 0.037366964048336435, 0.009687731419939076, 0.03075106266709297, 0.9659451449545674, 0.00850476120105618, 0.20071236434492584, 0.02891618808359101, 0.27215235843379776, 0.08334665977035056, 0.24833902707084046, 0.019560950762429214, 0.09355237321161798, 0.045925710485703375, 0.9745330323108623, 0.00793515386400514, 0.25590871211416577, 0.18350043310511885, 0.20879373604663523, 0.1547355003481002, 0.10414889446506746, 0.0163662548445106, 0.014382466378509316, 0.0014878413495009637, 0.05207444723253373, 0.9936183919980472, 0.06842039925467604, 0.10263059888201406, 0.01954868550133601, 0.8063832769301105, 0.985707214850971, 0.32839481590251673, 0.09325341918970922, 0.20926245741614177, 0.2172938523702794, 0.1253789990062598, 0.020078487385344092, 0.0044618860856320205, 0.0013385658256896062, 0.12452637805344756, 0.058643236176332866, 0.4829017102421484, 0.19692543506126592, 0.04923135876531648, 0.042715443634612826, 0.04343943420469101, 0.001447981140156367, 0.007930349521891401, 0.07688991058181663, 0.06654597642282785, 0.44340997761531925, 0.19791394024198541, 0.14171189797814635, 0.006895956105992523, 0.027928622229269718, 0.031031802476966356, 0.9880423042789808, 0.012655477597850087, 0.9285956687422502, 0.05853158389005666, 0.037983068874483064, 0.1471843918886219, 0.8118880971920756, 0.027399547680893026, 0.13395334421769922, 0.18773764151723, 0.4698515028242026, 0.09843541203876383, 0.059873085673062536, 0.022325557369616538, 0.13850360514056503, 0.07431900763640076, 0.7837277168929534, 0.9992417998510509, 0.036623587578302357, 0.09655309452461532, 0.033294170525729416, 0.5094008090436601, 0.1320668764187267, 0.18089832652312984, 0.011098056841909806, 0.8408624369950038, 0.15288407945363705, 0.8476944228450762, 0.1331090416037723, 0.02101721709533247, 0.9823823223809444, 0.051022146256531106, 0.4724272801530658, 0.032125055050408476, 0.00566912736183679, 0.07369865570387826, 0.3647138602781668, 0.02623044322379507, 0.3974921011605868, 0.014124084812812729, 0.08676223527870677, 0.02219499042013429, 0.4519707140100073, 0.17158885762014744, 0.31457957230360367, 0.5111918049933559, 0.12822294415994137, 0.8638177290774999, 0.10990466228482025, 0.8883960201356303, 0.975076596451319, 0.02515521456644876, 0.05031042913289752, 0.9005566814788656, 0.010062085826579505, 0.010062085826579505, 0.015739135165023288, 0.7240002175910712, 0.005554988881772925, 0.15183636276845996, 0.017590798125614263, 0.08425066470688937, 0.9807617502788526, 0.6639282408311877, 0.281486570799627, 0.011877070497874558, 0.026129555095324025, 0.01662789869702438, 0.030112999919831955, 0.9636159974346226, 0.9717791185579315, 0.026016133882653284, 0.037039240634862976, 0.8735087583055184, 0.08951149820091885, 0.34214283809220697, 0.6523523446291413, 0.18716479372301642, 0.14171048667599814, 0.06417078641931992, 0.005347565534943326, 0.17914344542060143, 0.39037228405086283, 0.029411610442188294, 0.006464925120503467, 0.3609583192281103, 0.04309950080335645, 0.040944525763188626, 0.33294364370592855, 0.21334252897661443, 0.17355683397356395, 0.8147529150425641, 0.009642046331864664, 0.07988448361408697, 0.1640106212253821, 0.3471086854382009, 0.13926763957500118, 0.03605405897626934, 0.15199260156662564, 0.026863808648985, 0.03958877064060947, 0.01555273132309658, 0.9856780718666239, 0.31247988375881136, 0.36076169521721857, 0.06025570070009218, 0.00038625449166725757, 0.19583102727529958, 0.04982682942507623, 0.020085233566697395, 0.07238529114619469, 0.8260439107271629, 0.038321624724456015, 0.04683754132989068, 0.012773874908152004, 0.9474281444234125, 0.046704204302562585, 0.04478026158350094, 0.306391263466059, 0.2132954564898334, 0.4336614805981143, 0.01642992710054998, 0.9792236551927788, 0.9873858724405247, 0.5900614612188227, 0.3066986126109135, 0.1022328708703045, 0.9893019180147631, 0.9919598492061812, 0.007800470635959485, 0.00505812568363721, 0.3394564347685417, 0.03877896357455195, 0.12364307226668737, 0.006182153613334369, 0.43387478086310294, 0.003934097753940053, 0.04889521494182637, 0.9179871432933758, 0.06430344723552633, 0.015521521746506355, 0.010606701928255054, 0.96520987547121, 0.021213403856510108, 0.9904589019861197, 0.980659091890551, 0.017765563258886796, 0.9761234100283451, 0.9792304212435369, 0.017897161745965427, 0.98141048340259, 0.9991014240191933, 0.9928120333002759, 0.9912395940290033, 0.9896745427900602, 0.9285607611139948, 0.031183010634425197, 0.03811256855318635, 0.9731344902745876, 0.06714383453944923, 0.0606460441001477, 0.775402992423317, 0.09746685658952309, 0.2137380577109375, 0.3312232152606581, 0.021232257388503727, 0.4119057933369723, 0.01981677356260348, 0.9713417702306097, 0.024283544255765243, 0.19393457125008867, 0.8040499012412435, 0.9854699122331037, 0.9929828917918221, 0.9218756694017565, 0.07732838674258155, 0.9817802809109571, 0.011757847675580324, 0.2992577975795756, 0.18046844281516392, 0.500285936411657, 0.01827528534837103, 0.2765320873023096, 0.6632762383845252, 0.0561079597424976, 0.020282515151280683, 0.8873600378685299, 0.09127131818076308, 0.9904435387493238, 0.04193300135376285, 0.825317708462696, 0.13151714060952893, 0.9916995840011846, 0.11422353798339603, 0.07995647658837722, 0.3112591410047542, 0.06567853434045272, 0.025700296046264108, 0.002855588449584901, 0.07710088813879233, 0.3255370832526787, 0.9874266933720907, 0.9846243499154794, 0.4620158283702216, 0.021433723996556672, 0.040485923104607045, 0.0369136357718476, 0.17385131686095967, 0.26434926262419894, 0.9810549096335567, 0.993635647594785, 0.9817014120208831, 0.01155127272187346, 0.6163429088028196, 0.10396145449686113, 0.1716189090106914, 0.024752727261157414, 0.06270690906159877, 0.004950545452231483, 0.0033003636348209885, 0.15921538403289834, 0.668704612938173, 0.12492283977965869, 0.04409041403987954, 0.006153120393544143, 0.09229680590316215, 0.015382800983860358, 0.15998113023214774, 0.027689041770948646, 0.6337714005350468, 0.06153120393544143, 0.047092314685761236, 0.028979885960468455, 0.9201113792448734, 0.9917976399292594, 0.9975620805135376, 0.0013951917209979545, 0.9857774952820897, 0.9944376270355071, 0.8615514431865682, 0.13795041640348313, 0.24499607541573915, 0.024747078324822137, 0.6854940695975732, 0.044544740984679844, 0.9951626810422461, 0.8959461046250543, 0.10191979497057496, 0.992430258627616, 0.982370922684263, 0.9878793598681482, 0.1061254722357445, 0.8923202971658517, 0.017190706315763075, 0.8461647664314491, 0.13561557204657537, 0.9777095802599602, 0.013397760723526638, 0.972677428528034, 0.01071820857882131, 0.9390346001901121, 0.05122006910127884, 0.9843932573189934, 0.9941039627549346, 0.9838310503823036, 0.992237041929204, 0.22119123777009825, 0.06174356637140779, 0.47664676237268105, 0.10007885758002912, 0.01628401750454711, 0.01899802042197163, 0.07361732913514006, 0.024426026256820665, 0.006785007293561296, 0.9954232247625444, 0.9785591912362435, 0.9984164554606193, 0.9954852724572248, 0.03113405696575912, 0.2074256003043432, 0.0056607376301380215, 0.0012130152064581475, 0.23128156603135344, 0.0012130152064581475, 0.5215965387770034, 0.9904509353501831, 0.007707789380157067, 0.05052939278027992, 0.9263722009717986, 0.04671182287270555, 0.9420217612662286, 0.2544063440730218, 0.22748012517478228, 0.014855844909373537, 0.16062882308260135, 0.0027854709205075378, 0.2627627568345444, 0.05478092810331491, 0.02321225767089615, 0.9921456209501902, 0.9611546500185254, 0.028906906767474448, 0.25085292655680963, 0.01398808140651355, 0.41404720963280106, 0.1837101358055446, 0.0382340891778037, 0.05501978686561996, 0.04382932174040912, 0.25739271564881755, 0.1814192932181233, 0.10020632441289844, 0.26525203521061347, 0.0006549432968163296, 0.14539741189322516, 0.024232901982204198, 0.0006549432968163296, 0.024887845279020524, 0.9873918795454077, 0.9861095356959093, 0.21285421852823935, 0.06938813032643155, 0.27009143202331426, 0.23278598561125427, 0.20624582516381731, 0.007034741323417025, 0.001598804846231142, 0.9903741848103114, 0.007545708074745229, 0.9839895695776032, 0.9804016683400244, 0.12700267813944263, 0.34030204783517326, 0.07598450828855542, 0.08195471965408478, 0.2409794405722758, 0.07109978989857686, 0.02279535248656663, 0.0401632400953793, 0.9875501541104417, 0.14634515219797628, 0.7979295203175374, 0.052266125784991534, 0.01832541829926525, 0.9764830036608484, 0.0026179168998950357, 0.021983207972094698, 0.9672611507721668, 0.9968545759336553, 0.9894721746185732, 0.07744431927267224, 0.15738684239285003, 0.6520312041989501, 0.10992096929024447, 0.08745237027480558, 0.9007594138304975, 0.9970936216925826, 0.9953083838443948, 0.9941286924686475, 0.992231666769739, 0.17542946975264714, 0.7118877033440754, 0.048306665584062256, 0.06356140208429245, 0.9705639268873337, 0.995471364433465, 0.9894943591766125, 0.023316328413010033, 0.8860204796943812, 0.08937925891653846], \"Term\": [\"apple\", \"apple\", \"arkana\", \"back\", \"camry\", \"cash\", \"covid\", \"duster\", \"edition\", \"fifa\", \"ford\", \"haval\", \"hyundai\", \"hyundai\", \"hyundai_solaris\", \"instagram\", \"instagram\", \"instagram\", \"komatsu\", \"lada\", \"lada\", \"lada_granta\", \"lada_vesta\", \"mastercard\", \"mastercard\", \"mazda\", \"mazda\", \"netflix\", \"nissan\", \"platinum\", \"qr_\\u043a\\u043e\\u0434\", \"qr_\\u043a\\u043e\\u0434\", \"qr_\\u043a\\u043e\\u0434\", \"qr_\\u043a\\u043e\\u0434\", \"renault\", \"renault\", \"renault_duster\", \"samsung_pay\", \"skoda\", \"telegram_\\u043d\\u043e\\u0432\\u043e\\u0441\\u0442\\u044c\", \"toyota\", \"toyota\", \"vesta\", \"viber_telegram\", \"viber_telegram\", \"visarewards\", \"volkswagen\", \"volkswagen\", \"wink\", \"wink\", \"wink\", \"\\u0430\\u0432\\u0430\\u0440\\u0438\\u0439\\u043d\\u044b\\u0439_\\u043a\\u043e\\u043c\\u0438\\u0441\\u0441\\u0430\\u0440\", \"\\u0430\\u0432\\u0430\\u0440\\u0438\\u044f\", \"\\u0430\\u0432\\u0430\\u0440\\u0438\\u044f\", \"\\u0430\\u0432\\u0430\\u0440\\u0438\\u044f\", \"\\u0430\\u0432\\u0430\\u0440\\u0438\\u044f\", \"\\u0430\\u0432\\u0442\\u043e\", \"\\u0430\\u0432\\u0442\\u043e\", \"\\u0430\\u0432\\u0442\\u043e\", \"\\u0430\\u0432\\u0442\\u043e\", \"\\u0430\\u0432\\u0442\\u043e\\u0432\\u0430\\u0437\", \"\\u0430\\u0432\\u0442\\u043e\\u0437\\u0430\\u0432\\u043e\\u0434\\u0435\\u0446\", \"\\u0430\\u0432\\u0442\\u043e\\u0437\\u0430\\u043f\\u0440\\u0430\\u0432\\u043a\\u0430\", \"\\u0430\\u0432\\u0442\\u043e\\u043c\\u043e\\u0431\\u0438\\u043b\\u0438\\u0441\\u0442\", \"\\u0430\\u0432\\u0442\\u043e\\u043c\\u043e\\u0431\\u0438\\u043b\\u0438\\u0441\\u0442\", \"\\u0430\\u0432\\u0442\\u043e\\u043c\\u043e\\u0431\\u0438\\u043b\\u0438\\u0441\\u0442\", \"\\u0430\\u0432\\u0442\\u043e\\u043c\\u043e\\u0431\\u0438\\u043b\\u0438\\u0441\\u0442\", \"\\u0430\\u0432\\u0442\\u043e\\u043c\\u043e\\u0431\\u0438\\u043b\\u0438\\u0441\\u0442\", \"\\u0430\\u0432\\u0442\\u043e\\u043c\\u043e\\u0431\\u0438\\u043b\\u044c\", \"\\u0430\\u0432\\u0442\\u043e\\u043c\\u043e\\u0431\\u0438\\u043b\\u044c\", \"\\u0430\\u0432\\u0442\\u043e\\u043c\\u043e\\u0431\\u0438\\u043b\\u044c\", \"\\u0430\\u0432\\u0442\\u043e\\u043c\\u043e\\u0431\\u0438\\u043b\\u044c\", \"\\u0430\\u0432\\u0442\\u043e\\u043c\\u043e\\u0431\\u0438\\u043b\\u044c\", \"\\u0430\\u0432\\u0442\\u043e\\u043f\\u0440\\u043e\\u043c\", \"\\u0430\\u0433\\u0440\\u0435\\u0441\\u0441\\u0438\\u044f\", \"\\u0430\\u0433\\u0440\\u043e\\u043f\\u0440\\u043e\\u043c\\u044b\\u0448\\u043b\\u0435\\u043d\\u043d\\u044b\\u0439_\\u043a\\u043e\\u043c\\u043f\\u043b\\u0435\\u043a\\u0441\", \"\\u0430\\u0437\\u0441\", \"\\u0430\\u0437\\u0441\", \"\\u0430\\u043a\\u043a\\u0443\\u043c\\u0443\\u043b\\u044f\\u0442\\u043e\\u0440\", \"\\u0430\\u043a\\u043a\\u0443\\u043c\\u0443\\u043b\\u044f\\u0442\\u043e\\u0440\", \"\\u0430\\u043a\\u0442\\u0440\\u0438\\u0441\\u0430\", \"\\u0430\\u043a\\u0442\\u0451\\u0440\", \"\\u0430\\u043b\\u0435\\u043a\\u0441\\u0430\\u043d\\u0434\\u0440_\\u0441\\u043a\\u0432\\u043e\\u0440\\u0446\\u043e\\u0432\", \"\\u0430\\u043b\\u0438\\u043d\\u0430\", \"\\u0430\\u043b\\u0438\\u043d\\u0430\", \"\\u0430\\u043b\\u043a\\u043e\\u0433\\u043e\\u043b\\u044c\", \"\\u0430\\u043b\\u043a\\u043e\\u0433\\u043e\\u043b\\u044c\", \"\\u0430\\u043b\\u043a\\u043e\\u0433\\u043e\\u043b\\u044c\", \"\\u0430\\u043b\\u044c\\u0431\\u043e\\u043c\", \"\\u0430\\u043d\\u0433\\u043b\\u0438\\u0447\\u0430\\u043d\\u0438\\u043d\", \"\\u0430\\u043d\\u0442\\u0438\\u0431\\u0438\\u043e\\u0442\\u0438\\u043a\", \"\\u0430\\u043d\\u0442\\u0438\\u0442\\u0435\\u043b\", \"\\u0430\\u043d\\u0442\\u0438\\u0442\\u0435\\u043b\\u0430\", \"\\u0430\\u043e_\\u0440\\u043e\\u0441\\u0441\\u0435\\u043b\\u044c\\u0445\\u043e\\u0437\\u0431\\u0430\\u043d\\u043a\", \"\\u0430\\u0440\\u0431\\u0438\\u0442\\u0440\", \"\\u0430\\u0440\\u0433\\u0435\\u043d\\u0442\\u0438\\u043d\\u0435\\u0446\", \"\\u0430\\u0440\\u0435\\u043d\\u0434\\u0430\\u0442\\u043e\\u0440\", \"\\u0430\\u0440\\u0435\\u043d\\u0434\\u0430\\u0442\\u043e\\u0440\", \"\\u0430\\u0440\\u0442\\u0438\\u0441\\u0442\", \"\\u0430\\u0440\\u0442\\u0438\\u0441\\u0442\\u043a\\u0430\", \"\\u0430\\u0440\\u0445\\u0430\\u043d\\u0433\\u0435\\u043b\\u044c\\u0441\\u043a\", \"\\u0430\\u0440\\u0445\\u0430\\u043d\\u0433\\u0435\\u043b\\u044c\\u0441\\u043a\", \"\\u0430\\u0440\\u0445\\u0430\\u043d\\u0433\\u0435\\u043b\\u044c\\u0441\\u043a\\u0438\\u0439_\\u043e\\u0431\\u043b\\u0430\\u0441\\u0442\\u044c\", \"\\u0430\\u0440\\u0445\\u0430\\u043d\\u0433\\u0435\\u043b\\u044c\\u0441\\u043a\\u0438\\u0439_\\u043e\\u0431\\u043b\\u0430\\u0441\\u0442\\u044c\", \"\\u0430\\u0440\\u0445\\u0430\\u043d\\u0433\\u0435\\u043b\\u044c\\u0441\\u043a\\u0438\\u0439_\\u043e\\u0431\\u043b\\u0430\\u0441\\u0442\\u044c\", \"\\u0430\\u0440\\u0445\\u0430\\u043d\\u0433\\u0435\\u043b\\u044c\\u0441\\u043a\\u0438\\u0439_\\u0442\\u0435\\u0430\\u0442\\u0440\", \"\\u0430\\u0441\\u0442\\u0440\\u043e\\u043b\\u043e\\u0433\", \"\\u0430\\u0442\\u0430\\u043a\\u0430\", \"\\u0430\\u0442\\u0430\\u043a\\u0430\", \"\\u0430\\u0442\\u0430\\u043a\\u0430\", \"\\u0430\\u0442\\u0435\\u043b\\u044c\\u0435\", \"\\u0431\\u0430\\u043d\\u043a\", \"\\u0431\\u0430\\u0441\\u043a\\u0435\\u0442\\u0431\\u043e\\u043b\\u044c\\u043d\\u044b\\u0439_\\u043a\\u043b\\u0443\\u0431\", \"\\u0431\\u0435\\u043d\\u0437\\u0438\\u043d\", \"\\u0431\\u0435\\u043d\\u0437\\u0438\\u043d\", \"\\u0431\\u0435\\u043d\\u0437\\u0438\\u043d\", \"\\u0431\\u0435\\u0440\\u0435\\u043c\\u0435\\u043d\\u043d\\u043e\\u0441\\u0442\\u044c\", \"\\u0431\\u0438\\u0431\\u043b\\u0438\\u043e\\u0442\\u0435\\u043a\\u0430\", \"\\u0431\\u0438\\u0431\\u043b\\u0438\\u043e\\u0442\\u0435\\u043a\\u0430\", \"\\u0431\\u0438\\u0437\\u043d\\u0435\\u0441\", \"\\u0431\\u0438\\u0437\\u043d\\u0435\\u0441\", \"\\u0431\\u0438\\u0437\\u043d\\u0435\\u0441\", \"\\u0431\\u043a_\\u043d\\u0438\\u0436\\u043d\\u0438\\u0439\", \"\\u0431\\u043a_\\u043d\\u043d\", \"\\u0431\\u043b\\u043e\\u0433\", \"\\u0431\\u043b\\u043e\\u0433\", \"\\u0431\\u043e\\u0435\\u0446\", \"\\u0431\\u043e\\u0439\", \"\\u0431\\u043e\\u0439\", \"\\u0431\\u043e\\u0439\", \"\\u0431\\u043e\\u043a\\u0441\", \"\\u0431\\u043e\\u043a\\u0441\", \"\\u0431\\u043e\\u043a\\u0441\\u0451\\u0440\", \"\\u0431\\u043e\\u043b\\u0435\\u0437\\u043d\\u044c\", \"\\u0431\\u043e\\u043b\\u0435\\u0437\\u043d\\u044c\", \"\\u0431\\u043e\\u043b\\u0435\\u0437\\u043d\\u044c\", \"\\u0431\\u043e\\u043b\\u0435\\u0437\\u043d\\u044c\", \"\\u0431\\u043e\\u043b\\u0435\\u043b\\u044c\\u0449\\u0438\\u043a\", \"\\u0431\\u043e\\u043b\\u0435\\u043b\\u044c\\u0449\\u0438\\u043a\", \"\\u0431\\u043e\\u043b\\u044c\\u043d\\u0438\\u0446\\u0430\", \"\\u0431\\u043e\\u043b\\u044c\\u043d\\u0438\\u0446\\u0430\", \"\\u0431\\u043e\\u043b\\u044c\\u043d\\u0438\\u0446\\u0430\", \"\\u0431\\u043e\\u043b\\u044c\\u043d\\u0438\\u0446\\u0430\", \"\\u0431\\u043e\\u043d\\u0443\\u0441\", \"\\u0431\\u043e\\u043d\\u0443\\u0441\", \"\\u0431\\u043e\\u043d\\u0443\\u0441\", \"\\u0431\\u043e\\u043d\\u0443\\u0441\", \"\\u0431\\u0440\\u0430\\u0442_\\u0441\\u0435\\u0441\\u0442\\u0440\\u0430\", \"\\u0431\\u0440\\u0430\\u0442_\\u0441\\u0435\\u0441\\u0442\\u0440\\u0430\", \"\\u0431\\u0440\\u0435\\u043d\\u0434\", \"\\u0431\\u0440\\u0435\\u043d\\u0434\", \"\\u0431\\u0440\\u0435\\u043d\\u0434\", \"\\u0431\\u0440\\u043e\\u043d\\u0437\\u0430\", \"\\u0431\\u0440\\u043e\\u043d\\u0437\\u043e\\u0432\\u044b\\u0439_\\u043c\\u0435\\u0434\\u0430\\u043b\\u044c\", \"\\u0431\\u044e\\u0434\\u0436\\u0435\\u0442\", \"\\u0431\\u044e\\u0434\\u0436\\u0435\\u0442\", \"\\u0432\\u0430\\u0436\\u043d\\u044b\\u0439\", \"\\u0432\\u0430\\u0436\\u043d\\u044b\\u0439\", \"\\u0432\\u0430\\u0436\\u043d\\u044b\\u0439\", \"\\u0432\\u0430\\u0436\\u043d\\u044b\\u0439\", \"\\u0432\\u0430\\u0436\\u043d\\u044b\\u0439\", \"\\u0432\\u0430\\u0436\\u043d\\u044b\\u0439\", \"\\u0432\\u0430\\u0436\\u043d\\u044b\\u0439\", \"\\u0432\\u0430\\u0436\\u043d\\u044b\\u0439\", \"\\u0432\\u0430\\u043a\\u0446\\u0438\\u043d\\u0430\", \"\\u0432\\u0430\\u043a\\u0446\\u0438\\u043d\\u0430\\u0446\\u0438\\u044f\", \"\\u0432\\u0430\\u043b\\u044e\\u0442\\u0430\", \"\\u0432\\u0430\\u043b\\u044e\\u0442\\u0430\", \"\\u0432\\u0430\\u0440\\u0438\\u0430\\u0442\\u043e\\u0440\", \"\\u0432\\u0435\\u0440\\u0441\\u0438\\u044f\", \"\\u0432\\u0435\\u0440\\u0441\\u0438\\u044f\", \"\\u0432\\u0435\\u0440\\u0441\\u0438\\u044f\", \"\\u0432\\u0435\\u0440\\u0441\\u0438\\u044f\", \"\\u0432\\u0435\\u0440\\u0441\\u0438\\u044f\", \"\\u0432\\u0435\\u0440\\u0441\\u0438\\u044f\", \"\\u0432\\u0435\\u0440\\u0441\\u0438\\u044f\", \"\\u0432\\u0435\\u0440\\u0441\\u0438\\u044f\", \"\\u0432\\u0435\\u0441\\u043e\\u0432\\u043e\\u0439_\\u043a\\u0430\\u0442\\u0435\\u0433\\u043e\\u0440\\u0438\\u044f\", \"\\u0432\\u0435\\u0449\\u0435\\u0441\\u0442\\u0432\\u043e\", \"\\u0432\\u0435\\u0449\\u044c\", \"\\u0432\\u0435\\u0449\\u044c\", \"\\u0432\\u0435\\u0449\\u044c\", \"\\u0432\\u0435\\u0449\\u044c\", \"\\u0432\\u0438\\u0434\", \"\\u0432\\u0438\\u0434\", \"\\u0432\\u0438\\u0434\", \"\\u0432\\u0438\\u0434\", \"\\u0432\\u0438\\u0434\", \"\\u0432\\u0438\\u0434\", \"\\u0432\\u0438\\u0434\", \"\\u0432\\u0438\\u0434\", \"\\u0432\\u0438\\u0434\", \"\\u0432\\u0438\\u0440\\u0443\\u0441\", \"\\u0432\\u0438\\u0442\\u0430\\u043c\\u0438\\u043d\", \"\\u0432\\u043a\\u043b\\u0430\\u0434\", \"\\u0432\\u043b\\u0430\\u0434\\u0435\\u043b\\u0435\\u0446\", \"\\u0432\\u043b\\u0430\\u0434\\u0435\\u043b\\u0435\\u0446\", \"\\u0432\\u043b\\u0430\\u0434\\u0435\\u043b\\u0435\\u0446\", \"\\u0432\\u043b\\u0430\\u0434\\u0435\\u043b\\u0435\\u0446\", \"\\u0432\\u043b\\u0430\\u0434\\u0435\\u043b\\u0435\\u0446\", \"\\u0432\\u043b\\u0430\\u0434\\u0435\\u043b\\u0435\\u0446\", \"\\u0432\\u043b\\u0430\\u0434\\u0435\\u043b\\u0435\\u0446\", \"\\u0432\\u043d\\u0435\\u0434\\u043e\\u0440\\u043e\\u0436\\u043d\\u0438\\u043a\", \"\\u0432\\u043d\\u0435\\u0434\\u043e\\u0440\\u043e\\u0436\\u043d\\u0438\\u043a\", \"\\u0432\\u043d\\u0435\\u0434\\u043e\\u0440\\u043e\\u0436\\u043d\\u0438\\u043a\", \"\\u0432\\u043d\\u0438\\u043c\\u0430\\u043d\\u0438\\u0435\", \"\\u0432\\u043d\\u0438\\u043c\\u0430\\u043d\\u0438\\u0435\", \"\\u0432\\u043d\\u0438\\u043c\\u0430\\u043d\\u0438\\u0435\", \"\\u0432\\u043d\\u0438\\u043c\\u0430\\u043d\\u0438\\u0435\", \"\\u0432\\u043d\\u0438\\u043c\\u0430\\u043d\\u0438\\u0435\", \"\\u0432\\u043d\\u0438\\u043c\\u0430\\u043d\\u0438\\u0435\", \"\\u0432\\u043d\\u0438\\u043c\\u0430\\u043d\\u0438\\u0435\", \"\\u0432\\u043e\\u0434\\u0438\\u0442\\u0435\\u043b\\u044c\", \"\\u0432\\u043e\\u0434\\u0438\\u0442\\u0435\\u043b\\u044c\", \"\\u0432\\u043e\\u0434\\u0438\\u0442\\u0435\\u043b\\u044c\", \"\\u0432\\u043e\\u0437\\u043c\\u043e\\u0436\\u043d\\u043e\\u0441\\u0442\\u044c\", \"\\u0432\\u043e\\u0437\\u043c\\u043e\\u0436\\u043d\\u043e\\u0441\\u0442\\u044c\", \"\\u0432\\u043e\\u0437\\u043c\\u043e\\u0436\\u043d\\u043e\\u0441\\u0442\\u044c\", \"\\u0432\\u043e\\u0437\\u043c\\u043e\\u0436\\u043d\\u043e\\u0441\\u0442\\u044c\", \"\\u0432\\u043e\\u0437\\u043c\\u043e\\u0436\\u043d\\u043e\\u0441\\u0442\\u044c\", \"\\u0432\\u043e\\u0437\\u043c\\u043e\\u0436\\u043d\\u043e\\u0441\\u0442\\u044c\", \"\\u0432\\u043e\\u0437\\u043c\\u043e\\u0436\\u043d\\u043e\\u0441\\u0442\\u044c\", \"\\u0432\\u043e\\u0437\\u043c\\u043e\\u0436\\u043d\\u043e\\u0441\\u0442\\u044c\", \"\\u0432\\u043e\\u043f\\u0440\\u043e\\u0441\", \"\\u0432\\u043e\\u043f\\u0440\\u043e\\u0441\", \"\\u0432\\u043e\\u043f\\u0440\\u043e\\u0441\", \"\\u0432\\u043e\\u043f\\u0440\\u043e\\u0441\", \"\\u0432\\u043e\\u043f\\u0440\\u043e\\u0441\", \"\\u0432\\u043e\\u043f\\u0440\\u043e\\u0441\", \"\\u0432\\u043e\\u043f\\u0440\\u043e\\u0441\", \"\\u0432\\u043e\\u043f\\u0440\\u043e\\u0441\", \"\\u0432\\u043e\\u0440\\u043e\\u0442\\u0430\", \"\\u0432\\u043e\\u0440\\u043e\\u0442\\u0430\", \"\\u0432\\u043e\\u0440\\u043e\\u0442\\u0430\\u043c\", \"\\u0432\\u0440\\u0430\\u0442\\u0430\\u0440\\u044c\", \"\\u0432\\u0440\\u0430\\u0447\", \"\\u0432\\u0440\\u0430\\u0447\", \"\\u0432\\u0440\\u0430\\u0447\", \"\\u0432\\u0440\\u0430\\u0447\", \"\\u0432\\u0440\\u0435\\u043c\\u044f\", \"\\u0432\\u0440\\u0435\\u043c\\u044f\", \"\\u0432\\u0440\\u0435\\u043c\\u044f\", \"\\u0432\\u0440\\u0435\\u043c\\u044f\", \"\\u0432\\u0440\\u0435\\u043c\\u044f\", \"\\u0432\\u0440\\u0435\\u043c\\u044f\", \"\\u0432\\u0440\\u0435\\u043c\\u044f\", \"\\u0432\\u0440\\u0435\\u043c\\u044f\", \"\\u0432\\u0440\\u0435\\u043c\\u044f\", \"\\u0432\\u0441\\u0442\\u0440\\u0435\\u0447\\u0430\", \"\\u0432\\u0441\\u0442\\u0440\\u0435\\u0447\\u0430\", \"\\u0432\\u0441\\u0442\\u0440\\u0435\\u0447\\u0430\", \"\\u0432\\u0441\\u0442\\u0440\\u0435\\u0447\\u0430\", \"\\u0432\\u0441\\u0442\\u0440\\u0435\\u0447\\u0430\", \"\\u0432\\u0441\\u0442\\u0440\\u0435\\u0447\\u0430\", \"\\u0432\\u044b\\u0441\\u0442\\u0430\\u0432\\u043a\\u0430\", \"\\u0432\\u044b\\u0441\\u0442\\u0430\\u0432\\u043a\\u0430\", \"\\u0432\\u044b\\u0441\\u0442\\u0443\\u043f\\u043b\\u0435\\u043d\\u0438\\u0435\", \"\\u0432\\u044b\\u0441\\u0442\\u0443\\u043f\\u043b\\u0435\\u043d\\u0438\\u0435\", \"\\u0432\\u044b\\u0441\\u0442\\u0443\\u043f\\u043b\\u0435\\u043d\\u0438\\u0435\", \"\\u0432\\u044b\\u0441\\u0442\\u0443\\u043f\\u043b\\u0435\\u043d\\u0438\\u0435\", \"\\u0432\\u044b\\u0441\\u0442\\u0443\\u043f\\u043b\\u0435\\u043d\\u0438\\u0435\", \"\\u0432\\u044b\\u0447\\u0435\\u0442\", \"\\u0432\\u044b\\u0447\\u0435\\u0442\", \"\\u0433\\u0430\", \"\\u0433\\u0438\\u0431\\u0434\\u0434\", \"\\u0433\\u043b\\u0430\\u0432\\u043d\\u044b\\u0439\", \"\\u0433\\u043b\\u0430\\u0432\\u043d\\u044b\\u0439\", \"\\u0433\\u043b\\u0430\\u0432\\u043d\\u044b\\u0439\", \"\\u0433\\u043b\\u0430\\u0432\\u043d\\u044b\\u0439\", \"\\u0433\\u043b\\u0430\\u0432\\u043d\\u044b\\u0439\", \"\\u0433\\u043b\\u0430\\u0432\\u043d\\u044b\\u0439\", \"\\u0433\\u043b\\u0430\\u0432\\u043d\\u044b\\u0439\", \"\\u0433\\u043b\\u0430\\u0432\\u043d\\u044b\\u0439\", \"\\u0433\\u043b\\u0430\\u0432\\u043d\\u044b\\u0439\", \"\\u0433\\u043b\\u0430\\u0432\\u043d\\u044b\\u0439\", \"\\u0433\\u043b\\u0430\\u0432\\u043d\\u044b\\u0439_\\u0442\\u0440\\u0435\\u043d\\u0435\\u0440\", \"\\u0433\\u043b\\u0430\\u0432\\u043d\\u044b\\u0439_\\u0442\\u0440\\u0435\\u043d\\u0435\\u0440\", \"\\u0433\\u043b\\u0430\\u0437\", \"\\u0433\\u043b\\u0430\\u0437\", \"\\u0433\\u043b\\u0430\\u0437\", \"\\u0433\\u043b\\u0430\\u0437\", \"\\u0433\\u043b\\u0430\\u0437\", \"\\u0433\\u043b\\u0430\\u0437\", \"\\u0433\\u043e\\u0434\", \"\\u0433\\u043e\\u0434\", \"\\u0433\\u043e\\u0434\", \"\\u0433\\u043e\\u0434\", \"\\u0433\\u043e\\u0434\", \"\\u0433\\u043e\\u0434\", \"\\u0433\\u043e\\u0434\", \"\\u0433\\u043e\\u0434\", \"\\u0433\\u043e\\u0434\\u043e\\u0432\\u043e\\u0439\", \"\\u0433\\u043e\\u043b\", \"\\u0433\\u043e\\u043b\\u043a\\u0438\\u043f\\u0435\\u0440\", \"\\u0433\\u043e\\u043b\\u043e\\u0432\\u0430\", \"\\u0433\\u043e\\u043b\\u043e\\u0432\\u0430\", \"\\u0433\\u043e\\u043b\\u043e\\u0432\\u0430\", \"\\u0433\\u043e\\u043b\\u043e\\u0432\\u0430\", \"\\u0433\\u043e\\u043b\\u043e\\u0432\\u0430\", \"\\u0433\\u043e\\u043b\\u043e\\u0432\\u0430\", \"\\u0433\\u043e\\u043b\\u043e\\u0432\\u0430\", \"\\u0433\\u043e\\u043d\\u043a\\u0430\", \"\\u0433\\u043e\\u043d\\u043a\\u0430\", \"\\u0433\\u043e\\u0440\\u043e\\u0434\", \"\\u0433\\u043e\\u0440\\u043e\\u0434\", \"\\u0433\\u043e\\u0440\\u043e\\u0434\", \"\\u0433\\u043e\\u0440\\u043e\\u0434\", \"\\u0433\\u043e\\u0440\\u043e\\u0434\", \"\\u0433\\u043e\\u0440\\u043e\\u0434\", \"\\u0433\\u043e\\u0440\\u043e\\u0434\", \"\\u0433\\u043e\\u0440\\u043e\\u0434\", \"\\u0433\\u043e\\u0441\\u043f\\u0438\\u0442\\u0430\\u043b\\u0438\\u0437\\u0430\\u0446\\u0438\\u044f\", \"\\u0433\\u043e\\u0441\\u043f\\u0438\\u0442\\u0430\\u043b\\u0438\\u0437\\u0430\\u0446\\u0438\\u044f\", \"\\u0433\\u043e\\u0441\\u0442\\u044c\", \"\\u0433\\u043e\\u0441\\u0442\\u044c\", \"\\u0433\\u043e\\u0441\\u0442\\u044c\", \"\\u0433\\u043e\\u0441\\u0442\\u044c\", \"\\u0433\\u0440\\u0435\\u0439\\u0441\", \"\\u0433\\u0440\\u0438\\u043f\\u043f\", \"\\u0433\\u0440\\u0443\\u043f\\u043f\\u0430\", \"\\u0433\\u0440\\u0443\\u043f\\u043f\\u0430\", \"\\u0433\\u0440\\u0443\\u043f\\u043f\\u0430\", \"\\u0433\\u0440\\u0443\\u043f\\u043f\\u0430\", \"\\u0433\\u0440\\u0443\\u043f\\u043f\\u0430\", \"\\u0433\\u0440\\u0443\\u043f\\u043f\\u0430\", \"\\u0433\\u0440\\u0443\\u043f\\u043f\\u0430\", \"\\u0433\\u0440\\u0443\\u043f\\u043f\\u0430\", \"\\u0433\\u0440\\u0443\\u043f\\u043f\\u0430_\\u0432\\u043a\\u043e\\u043d\\u0442\\u0430\\u043a\\u0442\\u0435\", \"\\u0433\\u0440\\u0443\\u043f\\u043f\\u0430_\\u0432\\u043a\\u043e\\u043d\\u0442\\u0430\\u043a\\u0442\\u0435\", \"\\u0433\\u0440\\u0443\\u043f\\u043f\\u0430_\\u0432\\u043a\\u043e\\u043d\\u0442\\u0430\\u043a\\u0442\\u0435\", \"\\u0433\\u0440\\u0443\\u043f\\u043f\\u0430_\\u0432\\u043a\\u043e\\u043d\\u0442\\u0430\\u043a\\u0442\\u0435\", \"\\u0433\\u0443\", \"\\u0433\\u0443\\u0441\\u0435\\u043d\\u0438\\u0447\\u043d\\u044b\\u0439\", \"\\u0434\\u0430\\u0432\\u0438\\u0434_\\u043c\\u0435\\u043b\\u0438\\u043a\", \"\\u0434\\u0430\\u0442\\u0447\\u0430\\u043d\\u0438\\u043d\", \"\\u0434\\u0432\\u0438\\u0433\\u0430\\u0442\\u0435\\u043b\\u044c\", \"\\u0434\\u0432\\u0438\\u0433\\u0430\\u0442\\u0435\\u043b\\u044c\", \"\\u0434\\u0432\\u0438\\u0433\\u0430\\u0442\\u0435\\u043b\\u044c\", \"\\u0434\\u0432\\u0438\\u0436\\u0435\\u043d\\u0438\\u0435\", \"\\u0434\\u0432\\u0438\\u0436\\u0435\\u043d\\u0438\\u0435\", \"\\u0434\\u0432\\u0438\\u0436\\u0435\\u043d\\u0438\\u0435\", \"\\u0434\\u0432\\u0438\\u0436\\u0435\\u043d\\u0438\\u0435\", \"\\u0434\\u0432\\u0438\\u0436\\u0435\\u043d\\u0438\\u0435\", \"\\u0434\\u0432\\u0438\\u0436\\u0435\\u043d\\u0438\\u0435\", \"\\u0434\\u0435\\u0432\\u0443\\u0448\\u043a\\u0430\", \"\\u0434\\u0435\\u0432\\u0443\\u0448\\u043a\\u0430\", \"\\u0434\\u0435\\u0432\\u0443\\u0448\\u043a\\u0430\", \"\\u0434\\u0435\\u0432\\u0443\\u0448\\u043a\\u0430\", \"\\u0434\\u0435\\u043a\\u043b\\u0430\\u0440\\u0430\\u0446\\u0438\\u044f\", \"\\u0434\\u0435\\u043b\\u043e\", \"\\u0434\\u0435\\u043b\\u043e\", \"\\u0434\\u0435\\u043b\\u043e\", \"\\u0434\\u0435\\u043b\\u043e\", \"\\u0434\\u0435\\u043b\\u043e\", \"\\u0434\\u0435\\u043b\\u043e\", \"\\u0434\\u0435\\u043b\\u043e\", \"\\u0434\\u0435\\u043b\\u043e\", \"\\u0434\\u0435\\u043b\\u044c\\u0442\\u0430\", \"\\u0434\\u0435\\u043b\\u044c\\u0442\\u0430\", \"\\u0434\\u0435\\u043d\\u0435\\u0436\\u043d\\u044b\\u0439_\\u0441\\u0440\\u0435\\u0434\\u0441\\u0442\\u0432\\u043e\", \"\\u0434\\u0435\\u043d\\u0438\\u0441_\\u0447\\u0435\\u0440\\u044b\\u0448\\u0435\\u0432\", \"\\u0434\\u0435\\u043d\\u044c\", \"\\u0434\\u0435\\u043d\\u044c\", \"\\u0434\\u0435\\u043d\\u044c\", \"\\u0434\\u0435\\u043d\\u044c\", \"\\u0434\\u0435\\u043d\\u044c\", \"\\u0434\\u0435\\u043d\\u044c\", \"\\u0434\\u0435\\u043d\\u044c\", \"\\u0434\\u0435\\u043d\\u044c\", \"\\u0434\\u0435\\u043d\\u044c\", \"\\u0434\\u0435\\u043d\\u044c\\u0433\\u0430\", \"\\u0434\\u0435\\u043d\\u044c\\u0433\\u0430\", \"\\u0434\\u0435\\u043d\\u044c\\u0433\\u0430\", \"\\u0434\\u0435\\u043d\\u044c\\u0433\\u0430\", \"\\u0434\\u0435\\u043d\\u044c\\u0433\\u0430\", \"\\u0434\\u0435\\u043f\\u043e\\u0437\\u0438\\u0442\", \"\\u0434\\u0435\\u0448\\u0451\\u0432\\u044b\\u0439\", \"\\u0434\\u0435\\u0448\\u0451\\u0432\\u044b\\u0439\", \"\\u0434\\u0435\\u0448\\u0451\\u0432\\u044b\\u0439\", \"\\u0434\\u0435\\u0448\\u0451\\u0432\\u044b\\u0439\", \"\\u0434\\u0435\\u0448\\u0451\\u0432\\u044b\\u0439\", \"\\u0434\\u0438\\u0430\\u0433\\u043d\\u043e\\u0441\\u0442\\u0438\\u0447\\u0435\\u0441\\u043a\\u0438\\u0439_\\u043a\\u0430\\u0440\\u0442\\u0430\", \"\\u0434\\u0438\\u043b\\u0435\\u0440\", \"\\u0434\\u0438\\u043b\\u0435\\u0440\", \"\\u0434\\u0438\\u043b\\u0435\\u0440\\u0441\\u043a\\u0438\\u0439_\\u0446\\u0435\\u043d\\u0442\\u0440\", \"\\u0434\\u0438\\u0441\\u043a\\u043e\\u043d\\u0442\", \"\\u0434\\u0438\\u0441\\u0442\\u0430\\u043d\\u0446\\u0438\\u043e\\u043d\\u043d\\u044b\\u0439_\\u0441\\u043f\\u043e\\u0441\\u043e\\u0431\", \"\\u0434\\u043c\\u0438\\u0442\\u0440\\u0438\\u0439_\\u0447\\u0435\\u0440\\u044b\\u0448\\u0435\\u0432\", \"\\u0434\\u043e\\u043a\\u0443\\u043c\\u0435\\u043d\\u0442\", \"\\u0434\\u043e\\u043a\\u0443\\u043c\\u0435\\u043d\\u0442\", \"\\u0434\\u043e\\u043a\\u0443\\u043c\\u0435\\u043d\\u0442\", \"\\u0434\\u043e\\u043a\\u0443\\u043c\\u0435\\u043d\\u0442\", \"\\u0434\\u043e\\u043b\\u0433\", \"\\u0434\\u043e\\u043b\\u0433\", \"\\u0434\\u043e\\u043c\", \"\\u0434\\u043e\\u043c\", \"\\u0434\\u043e\\u043c\", \"\\u0434\\u043e\\u043c\", \"\\u0434\\u043e\\u043c\", \"\\u0434\\u043e\\u043c\", \"\\u0434\\u043e\\u043c\", \"\\u0434\\u043e\\u043c\", \"\\u0434\\u043e\\u043f\\u043e\\u043b\\u043d\\u0438\\u0442\\u0435\\u043b\\u044c\\u043d\\u044b\\u0439\", \"\\u0434\\u043e\\u043f\\u043e\\u043b\\u043d\\u0438\\u0442\\u0435\\u043b\\u044c\\u043d\\u044b\\u0439\", \"\\u0434\\u043e\\u043f\\u043e\\u043b\\u043d\\u0438\\u0442\\u0435\\u043b\\u044c\\u043d\\u044b\\u0439\", \"\\u0434\\u043e\\u043f\\u043e\\u043b\\u043d\\u0438\\u0442\\u0435\\u043b\\u044c\\u043d\\u044b\\u0439\", \"\\u0434\\u043e\\u043f\\u043e\\u043b\\u043d\\u0438\\u0442\\u0435\\u043b\\u044c\\u043d\\u044b\\u0439\", \"\\u0434\\u043e\\u043f\\u043e\\u043b\\u043d\\u0438\\u0442\\u0435\\u043b\\u044c\\u043d\\u044b\\u0439\", \"\\u0434\\u043e\\u043f\\u043e\\u043b\\u043d\\u0438\\u0442\\u0435\\u043b\\u044c\\u043d\\u044b\\u0439\", \"\\u0434\\u043e\\u043f\\u043e\\u043b\\u043d\\u0438\\u0442\\u0435\\u043b\\u044c\\u043d\\u044b\\u0439\", \"\\u0434\\u043e\\u0440\\u043e\\u0433\\u0430\", \"\\u0434\\u043e\\u0440\\u043e\\u0433\\u0430\", \"\\u0434\\u043e\\u0440\\u043e\\u0433\\u0430\", \"\\u0434\\u043e\\u0440\\u043e\\u0433\\u0430\", \"\\u0434\\u043e\\u0440\\u043e\\u0433\\u0430\", \"\\u0434\\u043e\\u0440\\u043e\\u0433\\u043e\\u0439\", \"\\u0434\\u043e\\u0440\\u043e\\u0433\\u043e\\u0439\", \"\\u0434\\u043e\\u0440\\u043e\\u0433\\u043e\\u0439\", \"\\u0434\\u043e\\u0440\\u043e\\u0433\\u043e\\u0439\", \"\\u0434\\u043e\\u0440\\u043e\\u0433\\u043e\\u0439\", \"\\u0434\\u043e\\u0440\\u043e\\u0433\\u043e\\u0439\", \"\\u0434\\u043e\\u0440\\u043e\\u0433\\u043e\\u0439\", \"\\u0434\\u043e\\u0441\\u0442\\u0443\\u043f\\u043d\\u044b\\u0439\", \"\\u0434\\u043e\\u0441\\u0442\\u0443\\u043f\\u043d\\u044b\\u0439\", \"\\u0434\\u043e\\u0441\\u0442\\u0443\\u043f\\u043d\\u044b\\u0439\", \"\\u0434\\u043e\\u0441\\u0442\\u0443\\u043f\\u043d\\u044b\\u0439\", \"\\u0434\\u043e\\u0441\\u0442\\u0443\\u043f\\u043d\\u044b\\u0439\", \"\\u0434\\u043e\\u0441\\u0442\\u0443\\u043f\\u043d\\u044b\\u0439\", \"\\u0434\\u043e\\u0441\\u0442\\u0443\\u043f\\u043d\\u044b\\u0439\", \"\\u0434\\u043e\\u0441\\u0442\\u0443\\u043f\\u043d\\u044b\\u0439\", \"\\u0434\\u043e\\u0445\\u043e\\u0434\", \"\\u0434\\u043e\\u0445\\u043e\\u0434\", \"\\u0434\\u0442\\u043f\", \"\\u0434\\u0442\\u043f\", \"\\u0435\\u0434\\u0438\\u043d\\u044b\\u0439_\\u043b\\u0438\\u0433\\u0430\", \"\\u0435\\u0436\\u0435\\u043a\\u0432\\u0430\\u0440\\u0442\\u0430\\u043b\\u044c\\u043d\\u043e\", \"\\u0435\\u0444\\u0440\\u0435\\u043c\\u043e\\u0432\\u0444\\u043e\\u0442\\u043e\", \"\\u0435\\u0444\\u0440\\u0435\\u043c\\u043e\\u0432\\u0444\\u043e\\u0442\\u043e_\\u043d\\u0430\\u0442\\u0430\\u043b\\u044c\\u044f\", \"\\u0436\\u0430\\u043b\\u043e\\u0431\\u0430\", \"\\u0436\\u0430\\u043b\\u043e\\u0431\\u0430\", \"\\u0436\\u0435\\u043b\\u0430\\u043d\\u0438\\u0435\", \"\\u0436\\u0435\\u043b\\u0430\\u043d\\u0438\\u0435\", \"\\u0436\\u0435\\u043b\\u0430\\u043d\\u0438\\u0435\", \"\\u0436\\u0435\\u043b\\u0430\\u043d\\u0438\\u0435\", \"\\u0436\\u0435\\u043b\\u0430\\u043d\\u0438\\u0435\", \"\\u0436\\u0435\\u043b\\u0430\\u043d\\u0438\\u0435\", \"\\u0436\\u0435\\u043b\\u0430\\u043d\\u0438\\u0435\", \"\\u0436\\u0435\\u043b\\u0443\\u0434\\u043e\\u043a\", \"\\u0436\\u0435\\u043d\\u0449\\u0438\\u043d\\u0430\", \"\\u0436\\u0435\\u043d\\u0449\\u0438\\u043d\\u0430\", \"\\u0436\\u0435\\u043d\\u0449\\u0438\\u043d\\u0430\", \"\\u0436\\u0438\\u0437\\u043d\\u044c\", \"\\u0436\\u0438\\u0437\\u043d\\u044c\", \"\\u0436\\u0438\\u0437\\u043d\\u044c\", \"\\u0436\\u0438\\u0437\\u043d\\u044c\", \"\\u0436\\u0438\\u0437\\u043d\\u044c\", \"\\u0437\\u0430\\u0431\\u0435\\u0433\", \"\\u0437\\u0430\\u0431\\u0435\\u0433\", \"\\u0437\\u0430\\u0431\\u043e\\u043b\\u0435\\u0432\\u0430\\u0435\\u043c\\u043e\\u0441\\u0442\\u044c\", \"\\u0437\\u0430\\u0431\\u043e\\u043b\\u0435\\u0432\\u0430\\u043d\\u0438\\u0435\", \"\\u0437\\u0430\\u0431\\u043e\\u043b\\u0435\\u0432\\u0430\\u043d\\u0438\\u0435\", \"\\u0437\\u0430\\u0432\\u0435\\u0434\\u0443\\u044e\\u0449\\u0430\\u044f\", \"\\u0437\\u0430\\u0432\\u043e\\u0434\", \"\\u0437\\u0430\\u0432\\u043e\\u0434\", \"\\u0437\\u0430\\u0432\\u043e\\u0434\", \"\\u0437\\u0430\\u0432\\u043e\\u0434\", \"\\u0437\\u0430\\u043a\\u043e\\u043d\", \"\\u0437\\u0430\\u043a\\u043e\\u043d\", \"\\u0437\\u0430\\u043a\\u043e\\u043d\", \"\\u0437\\u0430\\u043a\\u043e\\u043d\", \"\\u0437\\u0430\\u043a\\u043e\\u043d\", \"\\u0437\\u0430\\u043f\\u043e\\u043b\\u043d\\u0435\\u043d\\u0438\\u0435\", \"\\u0437\\u0430\\u043f\\u0443\\u0441\\u043a_\\u0434\\u0432\\u0438\\u0433\\u0430\\u0442\\u0435\\u043b\\u044c\", \"\\u0437\\u0430\\u0440\\u0430\\u0436\\u0435\\u043d\\u0438\\u0435\", \"\\u0437\\u0430\\u0449\\u0438\\u0442\\u043d\\u0438\\u043a\", \"\\u0437\\u0430\\u0449\\u0438\\u0442\\u043d\\u0438\\u043a\", \"\\u0437\\u0430\\u0449\\u0438\\u0442\\u043d\\u0438\\u043a\", \"\\u0437\\u0430\\u0449\\u0438\\u0442\\u043d\\u0438\\u043a\", \"\\u0437\\u0434\\u043e\\u0440\\u043e\\u0432\\u044c\\u0435\", \"\\u0437\\u0434\\u043e\\u0440\\u043e\\u0432\\u044c\\u0435\", \"\\u0437\\u0434\\u043e\\u0440\\u043e\\u0432\\u044c\\u0435\", \"\\u0437\\u0434\\u043e\\u0440\\u043e\\u0432\\u044c\\u0435\", \"\\u0437\\u0434\\u043e\\u0440\\u043e\\u0432\\u044c\\u0435\", \"\\u0437\\u0440\\u0438\\u0442\\u0435\\u043b\\u044c\", \"\\u0437\\u0440\\u0438\\u0442\\u0435\\u043b\\u044c\", \"\\u0437\\u0440\\u0438\\u0442\\u0435\\u043b\\u044c\", \"\\u0438\\u0433\\u0440\\u0430\", \"\\u0438\\u0433\\u0440\\u0430\", \"\\u0438\\u0433\\u0440\\u0430\", \"\\u0438\\u0433\\u0440\\u0430\", \"\\u0438\\u0433\\u0440\\u043e\\u043a\", \"\\u0438\\u0433\\u0440\\u043e\\u043a\", \"\\u0438\\u0433\\u0440\\u043e\\u043a\", \"\\u0438\\u0433\\u0440\\u043e\\u043a\", \"\\u0438\\u0434\\u0435\\u0430\\u043b\\u044c\\u043d\\u044b\\u0439\", \"\\u0438\\u0434\\u0435\\u0430\\u043b\\u044c\\u043d\\u044b\\u0439\", \"\\u0438\\u0434\\u0435\\u0430\\u043b\\u044c\\u043d\\u044b\\u0439\", \"\\u0438\\u0434\\u0435\\u0430\\u043b\\u044c\\u043d\\u044b\\u0439\", \"\\u0438\\u0434\\u0435\\u0430\\u043b\\u044c\\u043d\\u044b\\u0439\", \"\\u0438\\u0437\\u0432\\u0435\\u0441\\u0442\\u043d\\u044b\\u0439\", \"\\u0438\\u0437\\u0432\\u0435\\u0441\\u0442\\u043d\\u044b\\u0439\", \"\\u0438\\u0437\\u0432\\u0435\\u0441\\u0442\\u043d\\u044b\\u0439\", \"\\u0438\\u0437\\u0432\\u0435\\u0441\\u0442\\u043d\\u044b\\u0439\", \"\\u0438\\u0437\\u0432\\u0435\\u0441\\u0442\\u043d\\u044b\\u0439\", \"\\u0438\\u0437\\u0432\\u0435\\u0441\\u0442\\u043d\\u044b\\u0439\", \"\\u0438\\u0437\\u0432\\u0435\\u0441\\u0442\\u043d\\u044b\\u0439\", \"\\u0438\\u0437\\u0432\\u0435\\u0441\\u0442\\u043d\\u044b\\u0439\", \"\\u0438\\u043a\\u0435\\u0430\", \"\\u0438\\u043c\\u043c\\u0443\\u043d\\u0438\\u0442\\u0435\\u0442\", \"\\u0438\\u043c\\u043c\\u0443\\u043d\\u0438\\u0442\\u0435\\u0442\", \"\\u0438\\u043c\\u043c\\u0443\\u043d\\u043d\\u044b\\u0439_\\u0441\\u0438\\u0441\\u0442\\u0435\\u043c\\u0430\", \"\\u0438\\u043c\\u043c\\u0443\\u043d\\u043e\\u043b\\u043e\\u0433_\\u043d\\u0438\\u043a\\u043e\\u043b\\u0430\\u0439\", \"\\u0438\\u043c\\u044f\", \"\\u0438\\u043c\\u044f\", \"\\u0438\\u043c\\u044f\", \"\\u0438\\u043c\\u044f\", \"\\u0438\\u043c\\u044f\", \"\\u0438\\u043c\\u044f\", \"\\u0438\\u043d\\u0432\\u0430\\u043b\\u0438\\u0434\\u043d\\u043e\\u0441\\u0442\\u044c\", \"\\u0438\\u043d\\u0444\\u0435\\u043a\\u0446\\u0438\\u044f\", \"\\u0438\\u043d\\u0444\\u043b\\u044f\\u0446\\u0438\\u044f\", \"\\u0438\\u043f\\u043e\\u0442\\u0435\\u043a\\u0430\", \"\\u0438\\u0441\\u0442\\u043e\\u0440\\u0438\\u044f\", \"\\u0438\\u0441\\u0442\\u043e\\u0440\\u0438\\u044f\", \"\\u0438\\u0441\\u0442\\u043e\\u0440\\u0438\\u044f\", \"\\u0438\\u0441\\u0442\\u043e\\u0440\\u0438\\u044f\", \"\\u0438\\u0441\\u0442\\u043e\\u0440\\u0438\\u044f\", \"\\u0438\\u0441\\u0442\\u043e\\u0440\\u0438\\u044f\", \"\\u043a\\u0430\\u0436\\u0434\\u044b\\u0439\", \"\\u043a\\u0430\\u0436\\u0434\\u044b\\u0439\", \"\\u043a\\u0430\\u0436\\u0434\\u044b\\u0439\", \"\\u043a\\u0430\\u0436\\u0434\\u044b\\u0439\", \"\\u043a\\u0430\\u0436\\u0434\\u044b\\u0439\", \"\\u043a\\u0430\\u0436\\u0434\\u044b\\u0439\", \"\\u043a\\u0430\\u0436\\u0434\\u044b\\u0439\", \"\\u043a\\u0430\\u0436\\u0434\\u044b\\u0439\", \"\\u043a\\u0430\\u0437\\u0438\\u043d\\u043e\", \"\\u043a\\u0430\\u043d\\u0430\\u043b_\\u043c\\u0435\\u0441\\u0441\\u0435\\u043d\\u0434\\u0436\\u0435\\u0440\", \"\\u043a\\u0430\\u043d\\u0430\\u043b_\\u043c\\u0435\\u0441\\u0441\\u0435\\u043d\\u0434\\u0436\\u0435\\u0440\", \"\\u043a\\u0430\\u0440\\u0433\\u043e\\u043f\\u043e\\u043b\\u044c\\u0441\\u043a\\u0438\\u0439_\\u0440\\u0430\\u0439\\u043e\\u043d\", \"\\u043a\\u0430\\u0440\\u0434\\u0438\\u043e\\u043b\\u043e\\u0433\", \"\\u043a\\u0430\\u0440\\u0442\\u0430\", \"\\u043a\\u0430\\u0440\\u0442\\u0430\", \"\\u043a\\u0430\\u0440\\u0442\\u0430\", \"\\u043a\\u0430\\u0440\\u0442\\u0430\", \"\\u043a\\u0430\\u0440\\u0442\\u0430\", \"\\u043a\\u0430\\u0440\\u0442\\u0430\", \"\\u043a\\u0430\\u0442\\u0430\\u0440\", \"\\u043a\\u0432\\u0430\\u0440\\u0442\\u0438\\u0440\\u0430\", \"\\u043a\\u0432\\u0430\\u0440\\u0442\\u0438\\u0440\\u0430\", \"\\u043a\\u0432\\u0430\\u0440\\u0442\\u0438\\u0440\\u0430\", \"\\u043a\\u0433\", \"\\u043a\\u0433\", \"\\u043a\\u0435\\u0448\\u0431\\u044d\\u043a\", \"\\u043a\\u0435\\u0448\\u0431\\u044d\\u043a\", \"\\u043a\\u0435\\u0448\\u0431\\u044d\\u043a\\u0430\", \"\\u043a\\u0435\\u0448\\u0431\\u044d\\u043a\\u043e\\u043c\", \"\\u043a\\u0438\\u043d\\u043e\", \"\\u043a\\u0438\\u043d\\u043e\", \"\\u043a\\u0438\\u0448\\u0435\\u0447\\u043d\\u0438\\u043a\", \"\\u043a\\u043b\\u0438\\u0435\\u043d\\u0442\", \"\\u043a\\u043b\\u0438\\u0435\\u043d\\u0442\", \"\\u043a\\u043b\\u0438\\u0435\\u043d\\u0442\", \"\\u043a\\u043b\\u0438\\u043d\\u0438\\u043a\\u0430\", \"\\u043a\\u043b\\u0438\\u043d\\u0438\\u043a\\u0430\", \"\\u043a\\u043b\\u0443\\u0431\", \"\\u043a\\u043b\\u0443\\u0431\", \"\\u043a\\u043b\\u0443\\u0431\", \"\\u043a\\u043b\\u0443\\u0431\", \"\\u043a\\u043b\\u044e\\u0447\\u0435\\u0432\\u043e\\u0439_\\u0441\\u0442\\u0430\\u0432\\u043a\\u0430\", \"\\u043a\\u043c\", \"\\u043a\\u043c\", \"\\u043a\\u043c\", \"\\u043a\\u043c\", \"\\u043a\\u043c\", \"\\u043a\\u043c_\\u0447\\u0430\\u0441\", \"\\u043a\\u043d\\u0438\\u0433\\u0430\", \"\\u043a\\u043d\\u0438\\u0433\\u0430\", \"\\u043a\\u043d\\u0438\\u0433\\u0430\", \"\\u043a\\u043d\\u0438\\u0433\\u0430\", \"\\u043a\\u043e\\u0430\\u043f\", \"\\u043a\\u043e\\u0432\\u0438\\u0434\", \"\\u043a\\u043e\\u0432\\u0438\\u0434\\u0430\", \"\\u043a\\u043e\\u0432\\u0438\\u0434\\u0430\", \"\\u043a\\u043e\\u0432\\u0438\\u0434\\u043e\\u043c\", \"\\u043a\\u043e\\u0437\\u0435\\u0440\\u043e\\u0433\", \"\\u043a\\u043e\\u043b\\u0435\\u043d\\u043e\", \"\\u043a\\u043e\\u043b\\u0435\\u043d\\u043e\", \"\\u043a\\u043e\\u043b\\u043b\\u0435\\u043a\\u0442\\u0438\\u0432\\u043d\\u044b\\u0439_\\u0438\\u043c\\u043c\\u0443\\u043d\\u0438\\u0442\\u0435\\u0442\", \"\\u043a\\u043e\\u043c\\u0430\\u043d\\u0434\\u0430\", \"\\u043a\\u043e\\u043c\\u0430\\u043d\\u0434\\u0430\", \"\\u043a\\u043e\\u043c\\u0430\\u043d\\u0434\\u0430\", \"\\u043a\\u043e\\u043c\\u0430\\u043d\\u0434\\u0430\", \"\\u043a\\u043e\\u043c\\u0430\\u043d\\u0434\\u0430\", \"\\u043a\\u043e\\u043c\\u0438\\u043a\\u0441\", \"\\u043a\\u043e\\u043c\\u043f\\u0430\\u043d\\u0438\\u044f\", \"\\u043a\\u043e\\u043c\\u043f\\u0430\\u043d\\u0438\\u044f\", \"\\u043a\\u043e\\u043c\\u043f\\u0430\\u043d\\u0438\\u044f\", \"\\u043a\\u043e\\u043c\\u043f\\u0430\\u043d\\u0438\\u044f\", \"\\u043a\\u043e\\u043c\\u043f\\u0430\\u043d\\u0438\\u044f\", \"\\u043a\\u043e\\u043c\\u043f\\u0430\\u043d\\u0438\\u044f\", \"\\u043a\\u043e\\u043c\\u043f\\u0430\\u043d\\u0438\\u044f\", \"\\u043a\\u043e\\u043c\\u043f\\u043b\\u0435\\u043a\\u0442\\u0430\\u0446\\u0438\\u044f\", \"\\u043a\\u043e\\u043c\\u043f\\u043b\\u0435\\u043a\\u0442\\u0430\\u0446\\u0438\\u044f\", \"\\u043a\\u043e\\u043c\\u043f\\u043e\\u0437\\u0438\\u0446\\u0438\\u044f\", \"\\u043a\\u043e\\u043d\\u043a\\u0443\\u0440\\u0441\", \"\\u043a\\u043e\\u043d\\u043a\\u0443\\u0440\\u0441\", \"\\u043a\\u043e\\u043d\\u043a\\u0443\\u0440\\u0441\", \"\\u043a\\u043e\\u043d\\u0444\\u043b\\u0438\\u043a\\u0442\", \"\\u043a\\u043e\\u043d\\u0444\\u043b\\u0438\\u043a\\u0442\", \"\\u043a\\u043e\\u043d\\u0444\\u043b\\u0438\\u043a\\u0442\", \"\\u043a\\u043e\\u043d\\u0444\\u043b\\u0438\\u043a\\u0442\", \"\\u043a\\u043e\\u043d\\u0446\\u0435\\u0440\\u0442\", \"\\u043a\\u043e\\u043f\\u0438\\u044f_\\u0434\\u043e\\u043a\\u0443\\u043c\\u0435\\u043d\\u0442\", \"\\u043a\\u043e\\u0440\\u043d\\u0435\\u0432\\u043e\\u0439\", \"\\u043a\\u043e\\u0440\\u043e\\u043d\\u0430\\u0432\\u0438\\u0440\\u0443\\u0441\", \"\\u043a\\u043e\\u0440\\u043e\\u043d\\u0430\\u0432\\u0438\\u0440\\u0443\\u0441\", \"\\u043a\\u043e\\u0440\\u043e\\u043d\\u0430\\u0432\\u0438\\u0440\\u0443\\u0441\", \"\\u043a\\u043e\\u0440\\u043e\\u043d\\u0430\\u0432\\u0438\\u0440\\u0443\\u0441\\u043d\\u043e\\u0439_\\u0438\\u043d\\u0444\\u0435\\u043a\\u0446\\u0438\\u044f\", \"\\u043a\\u043f\\u043a\", \"\\u043a\\u0440\\u0430\\u0441\\u0438\\u0432\\u044b\\u0439_\\u0444\\u043e\\u0442\\u043e\\u0433\\u0440\\u0430\\u0444\\u0438\\u044f\", \"\\u043a\\u0440\\u0430\\u0441\\u0438\\u0432\\u044b\\u0439_\\u0444\\u043e\\u0442\\u043e\\u0433\\u0440\\u0430\\u0444\\u0438\\u044f\", \"\\u043a\\u0440\\u0430\\u0441\\u043d\\u044b\\u0439_\\u043a\\u0443\\u0437\\u043d\\u0438\\u0446\\u0430\", \"\\u043a\\u0440\\u0435\\u0434\\u0438\\u0442\", \"\\u043a\\u0440\\u0435\\u0434\\u0438\\u0442\\u043d\\u044b\\u0439\", \"\\u043a\\u0440\\u0435\\u0434\\u0438\\u0442\\u043d\\u044b\\u0439\", \"\\u043a\\u0440\\u0435\\u0434\\u0438\\u0442\\u043d\\u044b\\u0439_\\u043a\\u0430\\u0440\\u0442\\u0430\", \"\\u043a\\u0440\\u0435\\u0434\\u0438\\u0442\\u043d\\u044b\\u0439_\\u043a\\u0430\\u0440\\u0442\\u0430\", \"\\u043a\\u0440\\u0435\\u0434\\u0438\\u0442\\u043d\\u044b\\u0439_\\u043b\\u0438\\u043c\\u0438\\u0442\", \"\\u043a\\u0440\\u043e\\u0432\\u044c\", \"\\u043a\\u0440\\u043e\\u0432\\u044c\", \"\\u043a\\u0440\\u043e\\u0432\\u044c\", \"\\u043a\\u0440\\u043e\\u0432\\u044c\", \"\\u043a\\u0440\\u043e\\u0432\\u044c\", \"\\u043a\\u0440\\u043e\\u0441\\u0441\\u043e\\u0432\\u0435\\u0440\", \"\\u043a\\u0440\\u043e\\u0441\\u0441\\u043e\\u0432\\u0435\\u0440\", \"\\u043a\\u0440\\u043e\\u0441\\u0441\\u043e\\u0432\\u0435\\u0440\", \"\\u043a\\u0440\\u044e\\u0447\\u043a\\u043e\\u0432\", \"\\u043a\\u0443\\u0437\\u043e\\u0432\", \"\\u043a\\u0443\\u0437\\u043e\\u0432\", \"\\u043a\\u0443\\u0437\\u043e\\u0432\", \"\\u043b\\u0435\\u0432_\\u0432\\u043e\\u0440\\u043e\\u043f\\u0430\\u0435\\u0432\", \"\\u043b\\u0435\\u0441\", \"\\u043b\\u0435\\u0441\", \"\\u043b\\u0435\\u0441\", \"\\u043b\\u0435\\u0441\", \"\\u043b\\u0435\\u0441\\u043d\\u043e\\u0439\", \"\\u043b\\u0435\\u0441\\u043d\\u043e\\u0439\", \"\\u043b\\u0435\\u0441\\u043e\\u0432\\u043e\\u0441\\u0441\\u0442\\u0430\\u043d\\u043e\\u0432\\u043b\\u0435\\u043d\\u0438\\u0435\", \"\\u043b\\u0435\\u0442\\u0430\\u043b\\u044c\\u043d\\u043e\\u0441\\u0442\\u044c\", \"\\u043b\\u0435\\u0447\\u0435\\u043d\\u0438\\u0435\", \"\\u043b\\u0435\\u0447\\u0435\\u043d\\u0438\\u0435\", \"\\u043b\\u0438\\u0433\\u0430_\\u0447\\u0435\\u043c\\u043f\\u0438\\u043e\\u043d\", \"\\u043b\\u0438\\u0442\\u0440\", \"\\u043b\\u0438\\u0442\\u0440\", \"\\u043b\\u0438\\u0442\\u0440\", \"\\u043b\\u0443\\u0447\\u0448\\u0435\", \"\\u043b\\u0443\\u0447\\u0448\\u0435\", \"\\u043b\\u0443\\u0447\\u0448\\u0435\", \"\\u043b\\u0443\\u0447\\u0448\\u0435\", \"\\u043b\\u0443\\u0447\\u0448\\u0435\", \"\\u043b\\u0443\\u0447\\u0448\\u0435\", \"\\u043b\\u0443\\u0447\\u0448\\u0435\", \"\\u043b\\u0443\\u0447\\u0448\\u0435\", \"\\u043b\\u0443\\u0447\\u0448\\u0435\", \"\\u043b\\u044b\\u0436\\u043d\\u0438\\u043a\", \"\\u043c\\u0430\\u0433\\u0430\\u0437\\u0438\\u043d\", \"\\u043c\\u0430\\u0433\\u0430\\u0437\\u0438\\u043d\", \"\\u043c\\u0430\\u0433\\u0430\\u0437\\u0438\\u043d\", \"\\u043c\\u0430\\u0433\\u0430\\u0437\\u0438\\u043d\", \"\\u043c\\u0430\\u0433\\u0430\\u0437\\u0438\\u043d\", \"\\u043c\\u0430\\u0433\\u0430\\u0437\\u0438\\u043d\", \"\\u043c\\u0430\\u0433\\u0430\\u0437\\u0438\\u043d\", \"\\u043c\\u0430\\u043d\\u0451\\u0432\\u0440\", \"\\u043c\\u0430\\u0440\\u043a\\u0430\", \"\\u043c\\u0430\\u0440\\u043a\\u0430\", \"\\u043c\\u0430\\u0440\\u043a\\u0430\", \"\\u043c\\u0430\\u0440\\u043a\\u0430\", \"\\u043c\\u0430\\u0440\\u043a\\u0430\", \"\\u043c\\u0430\\u0441\\u043b\\u043e\", \"\\u043c\\u0430\\u0441\\u043b\\u043e\", \"\\u043c\\u0430\\u0441\\u043b\\u043e\", \"\\u043c\\u0430\\u0441\\u0442\\u0435\\u0440_\\u043a\\u043b\\u0430\\u0441\\u0441\", \"\\u043c\\u0430\\u0442\\u0447\", \"\\u043c\\u0430\\u0442\\u0447\", \"\\u043c\\u0430\\u0442\\u0447_\\u0447\\u0435\\u043c\\u043f\\u0438\\u043e\\u043d\\u0430\\u0442\", \"\\u043c\\u0430\\u0448\\u0438\\u043d\\u0430\", \"\\u043c\\u0430\\u0448\\u0438\\u043d\\u0430\", \"\\u043c\\u0430\\u0448\\u0438\\u043d\\u0430\", \"\\u043c\\u0430\\u0448\\u0438\\u043d\\u0430\", \"\\u043c\\u0430\\u0448\\u0438\\u043d\\u0430\", \"\\u043c\\u0430\\u0448\\u0438\\u043d\\u0430\", \"\\u043c\\u0430\\u0448\\u0438\\u043d\\u0430\", \"\\u043c\\u0435\\u0434\\u0430\\u043b\\u044c\", \"\\u043c\\u0435\\u0434\\u0430\\u043b\\u044c\", \"\\u043c\\u0435\\u0434\\u0430\\u043b\\u044c\", \"\\u043c\\u0435\\u0434\\u0438\\u043a\", \"\\u043c\\u0435\\u0434\\u0438\\u043a\", \"\\u043c\\u0435\\u0434\\u0438\\u043a\", \"\\u043c\\u0435\\u0440\\u043e\\u043f\\u0440\\u0438\\u044f\\u0442\\u0438\\u0435\", \"\\u043c\\u0435\\u0440\\u043e\\u043f\\u0440\\u0438\\u044f\\u0442\\u0438\\u0435\", \"\\u043c\\u0435\\u0440\\u043e\\u043f\\u0440\\u0438\\u044f\\u0442\\u0438\\u0435\", \"\\u043c\\u0435\\u0440\\u043e\\u043f\\u0440\\u0438\\u044f\\u0442\\u0438\\u0435\", \"\\u043c\\u0435\\u0440\\u0441\\u0435\\u0434\\u0435\\u0441\", \"\\u043c\\u0435\\u0441\\u0441\\u0435\\u043d\\u0434\\u0436\\u0435\\u0440_viber\", \"\\u043c\\u0435\\u0441\\u0441\\u0438\", \"\\u043c\\u0435\\u0441\\u0442\\u043e\", \"\\u043c\\u0435\\u0441\\u0442\\u043e\", \"\\u043c\\u0435\\u0441\\u0442\\u043e\", \"\\u043c\\u0435\\u0441\\u0442\\u043e\", \"\\u043c\\u0435\\u0441\\u0442\\u043e\", \"\\u043c\\u0435\\u0441\\u0442\\u043e\", \"\\u043c\\u0435\\u0441\\u0442\\u043e\", \"\\u043c\\u0435\\u0441\\u0442\\u043e\", \"\\u043c\\u0435\\u0441\\u0442\\u043e\", \"\\u043c\\u0435\\u0441\\u0442\\u043e\", \"\\u043c\\u0435\\u0441\\u044f\\u0446\", \"\\u043c\\u0435\\u0441\\u044f\\u0446\", \"\\u043c\\u0435\\u0441\\u044f\\u0446\", \"\\u043c\\u0435\\u0441\\u044f\\u0446\", \"\\u043c\\u0435\\u0441\\u044f\\u0446\", \"\\u043c\\u0435\\u0441\\u044f\\u0446\", \"\\u043c\\u0435\\u0441\\u044f\\u0446\", \"\\u043c\\u0435\\u0442\\u0440\", \"\\u043c\\u0435\\u0442\\u0440\", \"\\u043c\\u0435\\u0442\\u0440\", \"\\u043c\\u0435\\u0442\\u0440\", \"\\u043c\\u0435\\u0442\\u0440\", \"\\u043c\\u0435\\u0442\\u0440\", \"\\u043c\\u0438\\u043d\\u0437\\u0434\\u0440\\u0430\\u0432\", \"\\u043c\\u0438\\u043d\\u0437\\u0434\\u0440\\u0430\\u0432\", \"\\u043c\\u0438\\u043d\\u0438_\\u0444\\u0443\\u0442\\u0431\\u043e\\u043b\", \"\\u043c\\u0438\\u043d\\u0443\\u0442\\u0430\", \"\\u043c\\u0438\\u043d\\u0443\\u0442\\u0430\", \"\\u043c\\u0438\\u043d\\u0443\\u0442\\u0430\", \"\\u043c\\u0438\\u043d\\u0443\\u0442\\u0430\", \"\\u043c\\u0438\\u043d\\u0443\\u0442\\u0430\", \"\\u043c\\u0438\\u043d\\u0443\\u0442\\u0430\", \"\\u043c\\u0438\\u0440\", \"\\u043c\\u0438\\u0440\", \"\\u043c\\u0438\\u0440\", \"\\u043c\\u0438\\u0440\", \"\\u043c\\u0438\\u0440\", \"\\u043c\\u0438\\u0440\", \"\\u043c\\u0438\\u0440\", \"\\u043c\\u043c\\u0430\", \"\\u043c\\u043d\\u043e\\u0433\\u043e\\u0434\\u0435\\u0442\\u043d\\u044b\\u0439_\\u0441\\u0435\\u043c\\u044c\\u044f\", \"\\u043c\\u043d\\u043e\\u0433\\u043e\\u0434\\u0435\\u0442\\u043d\\u044b\\u0439_\\u0441\\u0435\\u043c\\u044c\\u044f\", \"\\u043c\\u043e\\u0434\\u0435\\u043b\\u044c\", \"\\u043c\\u043e\\u0434\\u0435\\u043b\\u044c\", \"\\u043c\\u043e\\u0434\\u0435\\u043b\\u044c\", \"\\u043c\\u043e\\u0434\\u0435\\u043b\\u044c\", \"\\u043c\\u043e\\u0434\\u0435\\u043b\\u044c\", \"\\u043c\\u043e\\u0434\\u0435\\u043b\\u044c\", \"\\u043c\\u043e\\u043c\\u0435\\u043d\\u0442\", \"\\u043c\\u043e\\u043c\\u0435\\u043d\\u0442\", \"\\u043c\\u043e\\u043c\\u0435\\u043d\\u0442\", \"\\u043c\\u043e\\u043c\\u0435\\u043d\\u0442\", \"\\u043c\\u043e\\u043c\\u0435\\u043d\\u0442\", \"\\u043c\\u043e\\u043c\\u0435\\u043d\\u0442\", \"\\u043c\\u043e\\u043c\\u0435\\u043d\\u0442\", \"\\u043c\\u043e\\u043c\\u0435\\u043d\\u0442\", \"\\u043c\\u043e\\u043c\\u0435\\u043d\\u0442\", \"\\u043c\\u043e\\u043d\\u0435\\u0442\\u0430\", \"\\u043c\\u043e\\u0441\\u043a\\u0432\\u0430\", \"\\u043c\\u043e\\u0441\\u043a\\u0432\\u0430\", \"\\u043c\\u043e\\u0441\\u043a\\u0432\\u0430\", \"\\u043c\\u043e\\u0441\\u043a\\u0432\\u0430\", \"\\u043c\\u043e\\u0441\\u043a\\u0432\\u0430\", \"\\u043c\\u043e\\u0441\\u043a\\u0432\\u0430\", \"\\u043c\\u043e\\u0441\\u043a\\u0432\\u0430\", \"\\u043c\\u043e\\u0441\\u043a\\u0432\\u0430\", \"\\u043c\\u043e\\u0441\\u043a\\u0432\\u0430\", \"\\u043c\\u043e\\u0441\\u0442\", \"\\u043c\\u043e\\u0441\\u0442\", \"\\u043c\\u043e\\u0442\\u043e\\u0440\", \"\\u043c\\u043e\\u0442\\u043e\\u0440\", \"\\u043c\\u043e\\u0442\\u043e\\u0440\", \"\\u043c\\u043e\\u0442\\u043e\\u0440\", \"\\u043c\\u043e\\u0448\\u0435\\u043d\\u043d\\u0438\\u043a\", \"\\u043c\\u0443\\u0436\\u0447\\u0438\\u043d\\u0430\", \"\\u043c\\u0443\\u0436\\u0447\\u0438\\u043d\\u0430\", \"\\u043c\\u0443\\u0436\\u0447\\u0438\\u043d\\u0430\", \"\\u043c\\u0443\\u0436\\u0447\\u0438\\u043d\\u0430\", \"\\u043c\\u0443\\u0436\\u0447\\u0438\\u043d\\u0430\", \"\\u043c\\u0443\\u0437\\u0435\\u0439\", \"\\u043c\\u0443\\u0437\\u0435\\u0439\", \"\\u043c\\u0443\\u0437\\u044b\\u043a\\u0430\", \"\\u043c\\u0443\\u0437\\u044b\\u043a\\u0430\", \"\\u043c\\u0443\\u0437\\u044b\\u043a\\u0430\\u043b\\u044c\\u043d\\u044b\\u0439\", \"\\u043c\\u0443\\u0437\\u044b\\u043a\\u0430\\u043d\\u0442\", \"\\u043c\\u0443\\u043d\\u0434\\u0438\\u0430\\u043b\\u044c\", \"\\u043c\\u0443\\u0440\\u043c\\u0430\\u043d\\u0441\\u043a\\u0438\\u0439\", \"\\u043c\\u0443\\u0440\\u043c\\u0430\\u043d\\u0441\\u043a\\u0438\\u0439_\\u043c\\u043e\\u0440\\u0441\\u043a\\u043e\\u0439\", \"\\u043c\\u0444\\u0446\", \"\\u043c\\u044b\\u0441\\u043b\\u044c\", \"\\u043c\\u044b\\u0441\\u043b\\u044c\", \"\\u043c\\u044b\\u0441\\u043b\\u044c\", \"\\u043c\\u044f\\u0447\", \"\\u043c\\u044f\\u0447\", \"\\u043c\\u044f\\u0447\", \"\\u043d\\u0430\\u0432\\u0435\\u0440\\u043d\\u043e\\u0435\", \"\\u043d\\u0430\\u0432\\u0435\\u0440\\u043d\\u043e\\u0435\", \"\\u043d\\u0430\\u0432\\u0435\\u0440\\u043d\\u043e\\u0435\", \"\\u043d\\u0430\\u0432\\u0435\\u0440\\u043d\\u043e\\u0435\", \"\\u043d\\u0430\\u043b\\u0438\\u0447\\u043d\\u044b\\u0435\", \"\\u043d\\u0430\\u043b\\u0438\\u0447\\u043d\\u044b\\u0435\", \"\\u043d\\u0430\\u043b\\u043e\\u0433\\u043e\\u0432\\u044b\\u0439_\\u0432\\u044b\\u0447\\u0435\\u0442\", \"\\u043d\\u0430\\u043f\\u0430\\u0434\\u0430\\u044e\\u0449\\u0438\\u0439\", \"\\u043d\\u0430\\u0440\\u0443\\u0448\\u0435\\u043d\\u0438\\u0435\", \"\\u043d\\u0430\\u0440\\u0443\\u0448\\u0435\\u043d\\u0438\\u0435\", \"\\u043d\\u0430\\u0440\\u0443\\u0448\\u0435\\u043d\\u0438\\u0435\", \"\\u043d\\u0430\\u0440\\u0443\\u0448\\u0435\\u043d\\u0438\\u0435\", \"\\u043d\\u0430\\u0440\\u0443\\u0448\\u0435\\u043d\\u0438\\u0435\", \"\\u043d\\u0430\\u0442\\u0430\\u043b\\u044c\\u044f_\\u0431\\u0443\\u0440\\u0443\\u0445\\u0438\\u043d\", \"\\u043d\\u0430\\u0446\\u0435\\u043d\\u043a\\u0430\", \"\\u043d\\u0430\\u0446\\u0435\\u043d\\u043a\\u0430\", \"\\u043d\\u0435\\u0434\\u0435\\u043b\\u044f\", \"\\u043d\\u0435\\u0434\\u0435\\u043b\\u044f\", \"\\u043d\\u0435\\u0434\\u0435\\u043b\\u044f\", \"\\u043d\\u0435\\u0434\\u0435\\u043b\\u044f\", \"\\u043d\\u0435\\u0434\\u0435\\u043b\\u044f\", \"\\u043d\\u0435\\u0434\\u0435\\u043b\\u044f\", \"\\u043d\\u0435\\u0434\\u0435\\u043b\\u044f\", \"\\u043d\\u0435\\u0440\\u0430\\u0431\\u043e\\u0447\\u0438\\u0439_\\u0434\\u0435\\u043d\\u044c\", \"\\u043d\\u0435\\u0443\\u0434\\u0430\\u0447\\u0430\", \"\\u043d\\u0435\\u0443\\u0441\\u0442\\u043e\\u0439\\u043a\\u0430\", \"\\u043d\\u0438\", \"\\u043d\\u0438\", \"\\u043d\\u0438\", \"\\u043d\\u0438\", \"\\u043d\\u0438\", \"\\u043d\\u0438\", \"\\u043d\\u0438\", \"\\u043d\\u0438\", \"\\u043d\\u0438\", \"\\u043d\\u0438\\u0436\\u0435\\u0433\\u043e\\u0440\\u043e\\u0434\\u0435\\u0446\", \"\\u043d\\u0438\\u0436\\u0435\\u0433\\u043e\\u0440\\u043e\\u0434\\u0435\\u0446\", \"\\u043d\\u0438\\u0436\\u0435\\u0433\\u043e\\u0440\\u043e\\u0434\\u043a\\u0430\", \"\\u043d\\u0438\\u0436\\u0435\\u0433\\u043e\\u0440\\u043e\\u0434\\u043a\\u0430\", \"\\u043d\\u0438\\u0436\\u0435\\u0433\\u043e\\u0440\\u043e\\u0434\\u043a\\u0430\", \"\\u043d\\u0438\\u0436\\u0435\\u0433\\u043e\\u0440\\u043e\\u0434\\u0441\\u043a\\u0438\\u0439\", \"\\u043d\\u0438\\u0436\\u0435\\u0433\\u043e\\u0440\\u043e\\u0434\\u0441\\u043a\\u0438\\u0439\", \"\\u043d\\u0438\\u0436\\u0435\\u0433\\u043e\\u0440\\u043e\\u0434\\u0441\\u043a\\u0438\\u0439\", \"\\u043d\\u0438\\u0436\\u0435\\u0433\\u043e\\u0440\\u043e\\u0434\\u0441\\u043a\\u0438\\u0439\", \"\\u043d\\u0438\\u0436\\u0435\\u0433\\u043e\\u0440\\u043e\\u0434\\u0441\\u043a\\u0438\\u0439\", \"\\u043d\\u0438\\u0436\\u0435\\u0433\\u043e\\u0440\\u043e\\u0434\\u0441\\u043a\\u0438\\u0439_\\u043e\\u0431\\u043b\\u0430\\u0441\\u0442\\u044c\", \"\\u043d\\u0438\\u0436\\u0435\\u0433\\u043e\\u0440\\u043e\\u0434\\u0441\\u043a\\u0438\\u0439_\\u043e\\u0431\\u043b\\u0430\\u0441\\u0442\\u044c\", \"\\u043d\\u0438\\u0436\\u0435\\u0433\\u043e\\u0440\\u043e\\u0434\\u0441\\u043a\\u0438\\u0439_\\u043e\\u0431\\u043b\\u0430\\u0441\\u0442\\u044c\", \"\\u043d\\u0438\\u0436\\u0435\\u0433\\u043e\\u0440\\u043e\\u0434\\u0441\\u043a\\u0438\\u0439_\\u044f\\u0440\\u043c\\u0430\\u0440\\u043a\\u0430\", \"\\u043d\\u0438\\u0436\\u043d\\u0438\\u0439\", \"\\u043d\\u0438\\u0436\\u043d\\u0438\\u0439\", \"\\u043d\\u0438\\u0436\\u043d\\u0438\\u0439\", \"\\u043d\\u0438\\u0436\\u043d\\u0438\\u0439\", \"\\u043d\\u0438\\u0436\\u043d\\u0438\\u0439\", \"\\u043d\\u0438\\u0436\\u043d\\u0438\\u0439\", \"\\u043d\\u0438\\u0436\\u043d\\u0438\\u0439\", \"\\u043d\\u0438\\u0436\\u043d\\u0438\\u0439_\\u043d\\u043e\\u0432\\u0433\\u043e\\u0440\\u043e\\u0434\", \"\\u043d\\u0438\\u0436\\u043d\\u0438\\u0439_\\u043d\\u043e\\u0432\\u0433\\u043e\\u0440\\u043e\\u0434\", \"\\u043d\\u0438\\u0436\\u043d\\u0438\\u0439_\\u043d\\u043e\\u0432\\u0433\\u043e\\u0440\\u043e\\u0434\", \"\\u043d\\u0438\\u0436\\u043d\\u0438\\u0439_\\u043d\\u043e\\u0432\\u0433\\u043e\\u0440\\u043e\\u0434\", \"\\u043d\\u0438\\u0436\\u043d\\u0438\\u0439_\\u043d\\u043e\\u0432\\u0433\\u043e\\u0440\\u043e\\u0434\", \"\\u043d\\u0438\\u043a\\u043e\\u043b\\u0430\\u0439_\\u043a\\u0440\\u044e\\u0447\\u043a\\u043e\\u0432\", \"\\u043d\\u043d\", \"\\u043d\\u043e\\u0432\\u0433\\u043e\\u0440\\u043e\\u0434\", \"\\u043d\\u043e\\u0432\\u0433\\u043e\\u0440\\u043e\\u0434\", \"\\u043d\\u043e\\u0432\\u0433\\u043e\\u0440\\u043e\\u0434\", \"\\u043d\\u043e\\u0432\\u0433\\u043e\\u0440\\u043e\\u0434\", \"\\u043d\\u043e\\u0432\\u043e\\u0441\\u0442\\u044c_\\u0443\\u0434\\u043e\\u0431\\u043d\\u043e\", \"\\u043d\\u043e\\u0432\\u043e\\u0441\\u0442\\u044c_\\u0443\\u0434\\u043e\\u0431\\u043d\\u043e\", \"\\u043d\\u043e\\u0432\\u044b\\u0439\", \"\\u043d\\u043e\\u0432\\u044b\\u0439\", \"\\u043d\\u043e\\u0432\\u044b\\u0439\", \"\\u043d\\u043e\\u0432\\u044b\\u0439\", \"\\u043d\\u043e\\u0432\\u044b\\u0439\", \"\\u043d\\u043e\\u0432\\u044b\\u0439\", \"\\u043d\\u043e\\u0432\\u044b\\u0439\", \"\\u043d\\u043e\\u0432\\u044b\\u0439\", \"\\u043d\\u043e\\u0432\\u044b\\u0439\", \"\\u043d\\u043e\\u0432\\u044b\\u0439\", \"\\u043d\\u043e\\u0432\\u044b\\u0439_\\u043a\\u043e\\u0440\\u043e\\u043d\\u0430\\u0432\\u0438\\u0440\\u0443\\u0441\\u043d\\u043e\\u0439\", \"\\u043d\\u043e\\u0432\\u044b\\u0439_\\u0448\\u0442\\u0430\\u043c\\u043c\", \"\\u043d\\u043e\\u0433\\u0430\", \"\\u043d\\u043e\\u0433\\u0430\", \"\\u043d\\u043e\\u0433\\u0430\", \"\\u043d\\u043e\\u0441\\u043e\\u043a\", \"\\u043d\\u0443\\u0436\\u043d\\u044b\\u0439_\\u0441\\u043f\\u0440\\u0430\\u0432\\u043a\\u0430\", \"\\u043e\\u0431\\u0433\\u043e\\u043d\", \"\\u043e\\u0431\\u0443\\u0447\\u0435\\u043d\\u0438\\u0435\", \"\\u043e\\u0431\\u0443\\u0447\\u0435\\u043d\\u0438\\u0435\", \"\\u043e\\u0431\\u0443\\u0447\\u0435\\u043d\\u0438\\u0435\", \"\\u043e\\u0431\\u044a\\u0451\\u043c\", \"\\u043e\\u0431\\u044a\\u0451\\u043c\", \"\\u043e\\u0431\\u044a\\u0451\\u043c\", \"\\u043e\\u0431\\u044a\\u0451\\u043c\", \"\\u043e\\u0431\\u044a\\u0451\\u043c\", \"\\u043e\\u0431\\u044a\\u0451\\u043c\", \"\\u043e\\u0436\\u0438\\u0440\\u0435\\u043d\\u0438\\u0435\", \"\\u043e\\u043b\\u0438\\u043c\\u043f\\u0438\\u0430\\u0434\\u0430\", \"\\u043e\\u043b\\u0438\\u043c\\u043f\\u0438\\u0430\\u0434\\u0430\", \"\\u043e\\u043b\\u0438\\u043c\\u043f\\u0438\\u0430\\u0434\\u0430\", \"\\u043e\\u043b\\u0438\\u043c\\u043f\\u0438\\u0439\\u0441\\u043a\\u0438\\u0439_\\u0438\\u0433\\u0440\\u0430\", \"\\u043e\\u043b\\u0438\\u043c\\u043f\\u0438\\u0439\\u0441\\u043a\\u0438\\u0439_\\u0438\\u0433\\u0440\\u0430\", \"\\u043e\\u043c\\u0438\\u043a\\u0440\\u043e\\u043d\", \"\\u043e\\u043f\\u0430\\u0441\\u043d\\u044b\\u0439_\\u043c\\u043e\\u043c\\u0435\\u043d\\u0442\", \"\\u043e\\u043f\\u0435\\u0440\\u0430\\u0446\\u0438\\u044f\", \"\\u043e\\u043f\\u0435\\u0440\\u0430\\u0446\\u0438\\u044f\", \"\\u043e\\u043f\\u0435\\u0440\\u0430\\u0446\\u0438\\u044f\", \"\\u043e\\u043f\\u0435\\u0440\\u0430\\u0446\\u0438\\u044f\", \"\\u043e\\u043f\\u0442\\u043e\\u0432\\u044b\\u0439_\\u0446\\u0435\\u043d\\u0430\", \"\\u043e\\u043f\\u0443\\u0445\\u043e\\u043b\\u044c\", \"\\u043e\\u0440\\u0432\\u0438\", \"\\u043e\\u0440\\u0433\\u0430\\u043d\\u0438\\u0437\\u043c\", \"\\u043e\\u0440\\u0433\\u0430\\u043d\\u0438\\u0437\\u043c\", \"\\u043e\\u0440\\u0433\\u0430\\u043d\\u0438\\u0437\\u043c\", \"\\u043e\\u0440\\u0435\\u043d\\u0431\\u0443\\u0440\\u0433\", \"\\u043e\\u0442\\u043b\\u0438\\u0447\\u043d\\u043e\", \"\\u043e\\u0442\\u043b\\u0438\\u0447\\u043d\\u043e\", \"\\u043e\\u0442\\u043b\\u0438\\u0447\\u043d\\u043e\", \"\\u043e\\u0442\\u043b\\u0438\\u0447\\u043d\\u043e\", \"\\u043e\\u0442\\u043d\\u043e\\u0448\\u0435\\u043d\\u0438\\u0435\", \"\\u043e\\u0442\\u043d\\u043e\\u0448\\u0435\\u043d\\u0438\\u0435\", \"\\u043e\\u0442\\u043d\\u043e\\u0448\\u0435\\u043d\\u0438\\u0435\", \"\\u043e\\u0442\\u043d\\u043e\\u0448\\u0435\\u043d\\u0438\\u0435\", \"\\u043e\\u0442\\u043d\\u043e\\u0448\\u0435\\u043d\\u0438\\u0435\", \"\\u043e\\u0442\\u043d\\u043e\\u0448\\u0435\\u043d\\u0438\\u0435\", \"\\u043e\\u0442\\u043d\\u043e\\u0448\\u0435\\u043d\\u0438\\u0435\", \"\\u043e\\u0442\\u043d\\u043e\\u0448\\u0435\\u043d\\u0438\\u0435\", \"\\u043e\\u0442\\u0440\\u0430\\u0441\\u043b\\u044c\", \"\\u043e\\u0449\\u0443\\u0449\\u0435\\u043d\\u0438\\u0435\", \"\\u043e\\u0449\\u0443\\u0449\\u0435\\u043d\\u0438\\u0435\", \"\\u043e\\u0449\\u0443\\u0449\\u0435\\u043d\\u0438\\u0435\", \"\\u043e\\u0449\\u0443\\u0449\\u0435\\u043d\\u0438\\u0435\", \"\\u043e\\u0449\\u0443\\u0449\\u0435\\u043d\\u0438\\u0435\", \"\\u043f\\u0430\\u043d\\u0434\\u0435\\u043c\\u0438\\u044f\", \"\\u043f\\u0430\\u043d\\u0434\\u0435\\u043c\\u0438\\u044f\", \"\\u043f\\u0430\\u043d\\u0434\\u0435\\u043c\\u0438\\u044f\", \"\\u043f\\u0430\\u043d\\u0434\\u0435\\u043c\\u0438\\u044f\", \"\\u043f\\u0430\\u043d\\u0434\\u0435\\u043c\\u0438\\u044f\", \"\\u043f\\u0430\\u0440\\u0430\", \"\\u043f\\u0430\\u0440\\u0430\", \"\\u043f\\u0430\\u0440\\u0430\", \"\\u043f\\u0430\\u0440\\u0430\", \"\\u043f\\u0430\\u0440\\u0430\", \"\\u043f\\u0430\\u0440\\u0430\", \"\\u043f\\u0430\\u0440\\u043e\\u0445\\u043e\\u0434\\u0441\\u0442\\u0432\\u043e\", \"\\u043f\\u0430\\u0446\\u0438\\u0435\\u043d\\u0442\", \"\\u043f\\u0430\\u0446\\u0438\\u0435\\u043d\\u0442\", \"\\u043f\\u0430\\u0446\\u0438\\u0435\\u043d\\u0442\\u043a\\u0430\", \"\\u043f\\u0434\\u0434\", \"\\u043f\\u0435\\u0432\\u0435\\u0446\", \"\\u043f\\u0435\\u0432\\u0438\\u0446\\u0430\", \"\\u043f\\u0435\\u043d\\u0430\\u043b\\u044c\\u0442\\u0438\", \"\\u043f\\u0435\\u0440\\u0435\\u0434\\u043d\\u0438\\u0439_\\u043f\\u0430\\u043d\\u0435\\u043b\\u044c\", \"\\u043f\\u0435\\u0440\\u0435\\u043a\\u0440\\u0451\\u0441\\u0442\\u043e\\u043a\", \"\\u043f\\u0435\\u0440\\u0438\\u043e\\u0434\", \"\\u043f\\u0435\\u0440\\u0438\\u043e\\u0434\", \"\\u043f\\u0435\\u0440\\u0438\\u043e\\u0434\", \"\\u043f\\u0435\\u0440\\u0438\\u043e\\u0434\", \"\\u043f\\u0435\\u0440\\u0438\\u043e\\u0434\", \"\\u043f\\u0435\\u0440\\u0438\\u043e\\u0434\", \"\\u043f\\u0435\\u0440\\u0438\\u043e\\u0434\", \"\\u043f\\u0435\\u0440\\u0438\\u043e\\u0434\", \"\\u043f\\u0435\\u0441\\u043d\\u044f\", \"\\u043f\\u0435\\u0442\\u0440\\u043e\\u0432\\u0441\\u043a\\u0438\\u0439\", \"\\u043f\\u0435\\u0447\\u0435\\u043d\\u044c\", \"\\u043f\\u0435\\u0448\\u0435\\u0445\\u043e\\u0434\", \"\\u043f\\u0438\\u0441\\u0430\\u0442\\u0435\\u043b\\u044c\", \"\\u043f\\u0438\\u0442\\u0430\\u043d\\u0438\\u0435\", \"\\u043f\\u0438\\u0442\\u0430\\u043d\\u0438\\u0435\", \"\\u043f\\u0438\\u0442\\u0430\\u043d\\u0438\\u0435\", \"\\u043f\\u0438\\u0442\\u0430\\u043d\\u0438\\u0435\", \"\\u043f\\u0438\\u0442\\u0430\\u043d\\u0438\\u0435\", \"\\u043f\\u0438\\u0449\\u0430\", \"\\u043f\\u043b\\u0430\\u0442\\u0451\\u0436\", \"\\u043f\\u043b\\u0435\\u0439_\\u043e\\u0444\\u0444\", \"\\u043f\\u043b\\u0435\\u0439_\\u043e\\u0444\\u0444\", \"\\u043f\\u043b\\u043e\\u0449\\u0430\\u0434\\u044c_\\u043c\\u0438\\u043d\\u0438\\u043d\", \"\\u043f\\u043d\\u0435\\u0432\\u043c\\u043e\\u043d\\u0438\\u044f\", \"\\u043f\\u043e\\u0431\\u0435\\u0434\\u0430\", \"\\u043f\\u043e\\u0431\\u0435\\u0434\\u0430\", \"\\u043f\\u043e\\u0431\\u0435\\u0434\\u0430\", \"\\u043f\\u043e\\u0431\\u0435\\u0434\\u0430\", \"\\u043f\\u043e\\u0431\\u0435\\u0434\\u0430\", \"\\u043f\\u043e\\u0432\\u044b\\u0448\\u0435\\u043d\\u0438\\u0435_\\u0441\\u0442\\u0430\\u0432\\u043a\\u0430\", \"\\u043f\\u043e\\u0434\\u0432\\u043e\\u0434\\u043d\\u044b\\u0439_\\u043b\\u043e\\u0434\\u043a\\u0430\", \"\\u043f\\u043e\\u0434\\u043e\\u0433\\u0440\\u0435\\u0432_\\u0441\\u0438\\u0434\\u0435\\u043d\\u0438\\u0435\", \"\\u043f\\u043e\\u043a\\u0430\\u0437\", \"\\u043f\\u043e\\u043a\\u0435\\u0440\", \"\\u043f\\u043e\\u043a\\u0440\\u043e\\u0432\\u043a\\u0430\", \"\\u043f\\u043e\\u043a\\u0443\\u043f\\u0430\\u0442\\u0435\\u043b\\u044c\", \"\\u043f\\u043e\\u043a\\u0443\\u043f\\u0430\\u0442\\u0435\\u043b\\u044c\", \"\\u043f\\u043e\\u043a\\u0443\\u043f\\u0430\\u0442\\u0435\\u043b\\u044c\", \"\\u043f\\u043e\\u043a\\u0443\\u043f\\u043a\\u0430\", \"\\u043f\\u043e\\u043a\\u0443\\u043f\\u043a\\u0430\", \"\\u043f\\u043e\\u043a\\u0443\\u043f\\u043a\\u0430\", \"\\u043f\\u043e\\u043a\\u0443\\u043f\\u043a\\u0430\", \"\\u043f\\u043e\\u043b\", \"\\u043f\\u043e\\u043b\", \"\\u043f\\u043e\\u043b\", \"\\u043f\\u043e\\u043b\\u0435\", \"\\u043f\\u043e\\u043b\\u0435\", \"\\u043f\\u043e\\u043b\\u0435\", \"\\u043f\\u043e\\u043b\\u0435\", \"\\u043f\\u043e\\u043b\\u0435\", \"\\u043f\\u043e\\u043b\\u0435\", \"\\u043f\\u043e\\u043b\\u0435\", \"\\u043f\\u043e\\u043b\\u0435\", \"\\u043f\\u043e\\u043b\\u0438\\u043a\\u043b\\u0438\\u043d\\u0438\\u043a\\u0430\", \"\\u043f\\u043e\\u043b\\u0438\\u043a\\u043b\\u0438\\u043d\\u0438\\u043a\\u0430\", \"\\u043f\\u043e\\u043b\\u043d\\u044b\\u0439_\\u043f\\u0440\\u0438\\u0432\\u043e\\u0434\", \"\\u043f\\u043e\\u043b\\u043d\\u044b\\u0439_\\u043f\\u0440\\u0438\\u0432\\u043e\\u0434\", \"\\u043f\\u043e\\u043b\\u043e\\u0441\\u0430\", \"\\u043f\\u043e\\u043b\\u043e\\u0441\\u0430\", \"\\u043f\\u043e\\u043b\\u0443\\u0437\\u0430\\u0449\\u0438\\u0442\\u043d\\u0438\\u043a\", \"\\u043f\\u043e\\u043c\\u043e\\u0449\\u044c\", \"\\u043f\\u043e\\u043c\\u043e\\u0449\\u044c\", \"\\u043f\\u043e\\u043c\\u043e\\u0449\\u044c\", \"\\u043f\\u043e\\u043c\\u043e\\u0449\\u044c\", \"\\u043f\\u043e\\u043c\\u043e\\u0449\\u044c\", \"\\u043f\\u043e\\u043c\\u043e\\u0449\\u044c\", \"\\u043f\\u043e\\u043c\\u043e\\u0449\\u044c\", \"\\u043f\\u043e\\u043c\\u043e\\u0449\\u044c\", \"\\u043f\\u043e\\u043c\\u043e\\u0449\\u044c\", \"\\u043f\\u043e\\u0440\\u0442\\u0444\\u0435\\u043b\\u044c\", \"\\u043f\\u043e\\u0441\\u0430\\u0434\\u043e\\u0447\\u043d\\u044b\\u0439\", \"\\u043f\\u043e\\u0441\\u043e\\u0431\\u0438\\u0435\", \"\\u043f\\u043e\\u0441\\u0442\\u043e\\u044f\\u043d\\u043d\\u043e\", \"\\u043f\\u043e\\u0441\\u0442\\u043e\\u044f\\u043d\\u043d\\u043e\", \"\\u043f\\u043e\\u0441\\u0442\\u043e\\u044f\\u043d\\u043d\\u043e\", \"\\u043f\\u043e\\u0441\\u0442\\u043e\\u044f\\u043d\\u043d\\u043e\", \"\\u043f\\u043e\\u0441\\u0442\\u043e\\u044f\\u043d\\u043d\\u043e\", \"\\u043f\\u043e\\u0441\\u0442\\u043e\\u044f\\u043d\\u043d\\u043e\", \"\\u043f\\u043e\\u0442\\u0440\\u0430\\u0447\\u0435\\u043d\\u043d\\u043e\\u0439\", \"\\u043f\\u043e\\u0442\\u0440\\u0435\\u0431\\u0438\\u0442\\u0435\\u043b\\u044c\", \"\\u043f\\u043e\\u0442\\u0440\\u0435\\u0431\\u0438\\u0442\\u0435\\u043b\\u044c\", \"\\u043f\\u043e\\u0442\\u0440\\u0435\\u0431\\u0438\\u0442\\u0435\\u043b\\u044c\", \"\\u043f\\u0440\\u0430\\u0432\\u0438\\u043b\\u043e\", \"\\u043f\\u0440\\u0430\\u0432\\u0438\\u043b\\u043e\", \"\\u043f\\u0440\\u0430\\u0432\\u0438\\u043b\\u043e\", \"\\u043f\\u0440\\u0430\\u0432\\u0438\\u043b\\u043e\", \"\\u043f\\u0440\\u0430\\u0432\\u0438\\u043b\\u043e\", \"\\u043f\\u0440\\u0430\\u0432\\u0438\\u043b\\u043e\", \"\\u043f\\u0440\\u0430\\u0432\\u0438\\u043b\\u043e\", \"\\u043f\\u0440\\u0430\\u0432\\u0438\\u043b\\u043e\", \"\\u043f\\u0440\\u0430\\u0432\\u0438\\u0442\\u0435\\u043b\\u044c\\u0441\\u0442\\u0432\\u043e\", \"\\u043f\\u0440\\u0430\\u0432\\u0438\\u0442\\u0435\\u043b\\u044c\\u0441\\u0442\\u0432\\u043e\", \"\\u043f\\u0440\\u0430\\u0432\\u0438\\u0442\\u0435\\u043b\\u044c\\u0441\\u0442\\u0432\\u043e\", \"\\u043f\\u0440\\u0430\\u0432\\u0438\\u0442\\u0435\\u043b\\u044c\\u0441\\u0442\\u0432\\u043e\", \"\\u043f\\u0440\\u0430\\u0432\\u043e\", \"\\u043f\\u0440\\u0430\\u0432\\u043e\", \"\\u043f\\u0440\\u0430\\u0432\\u043e\", \"\\u043f\\u0440\\u0430\\u0432\\u043e\", \"\\u043f\\u0440\\u0430\\u0432\\u043e\", \"\\u043f\\u0440\\u0430\\u0432\\u043e\", \"\\u043f\\u0440\\u0430\\u0432\\u043e\", \"\\u043f\\u0440\\u0430\\u0439\\u0441_\\u043b\\u0438\\u0441\\u0442\", \"\\u043f\\u0440\\u0435\\u0434\\u043f\\u0440\\u0438\\u044f\\u0442\\u0438\\u0435\", \"\\u043f\\u0440\\u0435\\u0434\\u043f\\u0440\\u0438\\u044f\\u0442\\u0438\\u0435\", \"\\u043f\\u0440\\u0435\\u0434\\u0441\\u043a\\u0430\\u0437\\u0430\\u043d\\u0438\\u0435\", \"\\u043f\\u0440\\u0435\\u0434\\u0441\\u0442\\u0430\\u0432\\u0438\\u0442\\u0435\\u043b\\u044c_\\u0437\\u043d\\u0430\\u043a\", \"\\u043f\\u0440\\u0435\\u0437\\u0435\\u0440\\u0432\\u0430\\u0442\\u0438\\u0432\", \"\\u043f\\u0440\\u0435\\u043f\\u0430\\u0440\\u0430\\u0442\", \"\\u043f\\u0440\\u0435\\u043f\\u0430\\u0440\\u0430\\u0442\", \"\\u043f\\u0440\\u0438\\u0432\\u0438\\u0432\\u043a\\u0430\", \"\\u043f\\u0440\\u0438\\u043b\\u043e\\u0436\\u0435\\u043d\\u0438\\u0435\", \"\\u043f\\u0440\\u0438\\u043b\\u043e\\u0436\\u0435\\u043d\\u0438\\u0435\", \"\\u043f\\u0440\\u0438\\u043b\\u043e\\u0436\\u0435\\u043d\\u0438\\u0435\", \"\\u043f\\u0440\\u0438\\u043b\\u043e\\u0436\\u0435\\u043d\\u0438\\u0435\", \"\\u043f\\u0440\\u0438\\u0441\\u0442\\u0430\\u0432\", \"\\u043f\\u0440\\u0438\\u0441\\u0442\\u0430\\u0432\", \"\\u043f\\u0440\\u043e\\u0431\\u043b\\u0435\\u043c\\u0430\", \"\\u043f\\u0440\\u043e\\u0431\\u043b\\u0435\\u043c\\u0430\", \"\\u043f\\u0440\\u043e\\u0431\\u043b\\u0435\\u043c\\u0430\", \"\\u043f\\u0440\\u043e\\u0431\\u043b\\u0435\\u043c\\u0430\", \"\\u043f\\u0440\\u043e\\u0431\\u043b\\u0435\\u043c\\u0430\", \"\\u043f\\u0440\\u043e\\u0431\\u043b\\u0435\\u043c\\u0430\", \"\\u043f\\u0440\\u043e\\u0431\\u043b\\u0435\\u043c\\u0430\", \"\\u043f\\u0440\\u043e\\u0431\\u043b\\u0435\\u043c\\u0430\", \"\\u043f\\u0440\\u043e\\u0433\\u0440\\u0430\\u043c\\u043c\\u0430\", \"\\u043f\\u0440\\u043e\\u0433\\u0440\\u0430\\u043c\\u043c\\u0430\", \"\\u043f\\u0440\\u043e\\u0433\\u0440\\u0430\\u043c\\u043c\\u0430\", \"\\u043f\\u0440\\u043e\\u0433\\u0440\\u0430\\u043c\\u043c\\u0430\", \"\\u043f\\u0440\\u043e\\u0433\\u0440\\u0430\\u043c\\u043c\\u0430_\\u043b\\u043e\\u044f\\u043b\\u044c\\u043d\\u043e\\u0441\\u0442\\u044c\", \"\\u043f\\u0440\\u043e\\u0433\\u0440\\u0430\\u043c\\u043c\\u0430_\\u043b\\u043e\\u044f\\u043b\\u044c\\u043d\\u043e\\u0441\\u0442\\u044c\", \"\\u043f\\u0440\\u043e\\u0433\\u0440\\u0430\\u043c\\u043c\\u0430_\\u043b\\u043e\\u044f\\u043b\\u044c\\u043d\\u043e\\u0441\\u0442\\u044c\", \"\\u043f\\u0440\\u043e\\u0434\\u0430\\u0432\\u0435\\u0446\", \"\\u043f\\u0440\\u043e\\u0434\\u0430\\u0432\\u0435\\u0446\", \"\\u043f\\u0440\\u043e\\u0434\\u0430\\u0436\\u0430\", \"\\u043f\\u0440\\u043e\\u0434\\u0430\\u0436\\u0430\", \"\\u043f\\u0440\\u043e\\u0434\\u0430\\u0436\\u0430\", \"\\u043f\\u0440\\u043e\\u0434\\u0430\\u0436\\u0430\", \"\\u043f\\u0440\\u043e\\u0434\\u0430\\u0436\\u0430\", \"\\u043f\\u0440\\u043e\\u0434\\u0443\\u043a\\u0442\", \"\\u043f\\u0440\\u043e\\u0434\\u0443\\u043a\\u0442\", \"\\u043f\\u0440\\u043e\\u0434\\u0443\\u043a\\u0442\", \"\\u043f\\u0440\\u043e\\u0434\\u0443\\u043a\\u0442\\u043e\\u0432\\u044b\\u0439\", \"\\u043f\\u0440\\u043e\\u0434\\u0443\\u043a\\u0442\\u043e\\u0432\\u044b\\u0439\", \"\\u043f\\u0440\\u043e\\u0434\\u0443\\u043a\\u0442\\u043e\\u0432\\u044b\\u0439_\\u043b\\u0438\\u043d\\u0435\\u0439\\u043a\\u0430\", \"\\u043f\\u0440\\u043e\\u0434\\u044e\\u0441\\u0435\\u0440\", \"\\u043f\\u0440\\u043e\\u0435\\u043a\\u0442\", \"\\u043f\\u0440\\u043e\\u0435\\u043a\\u0442\", \"\\u043f\\u0440\\u043e\\u0435\\u043a\\u0442\", \"\\u043f\\u0440\\u043e\\u0435\\u043a\\u0442\", \"\\u043f\\u0440\\u043e\\u0435\\u043a\\u0442\", \"\\u043f\\u0440\\u043e\\u0435\\u043a\\u0442\", \"\\u043f\\u0440\\u043e\\u0436\\u0438\\u0442\\u043e\\u0447\\u043d\\u044b\\u0439_\\u043c\\u0438\\u043d\\u0438\\u043c\\u0443\\u043c\", \"\\u043f\\u0440\\u043e\\u0438\\u0437\\u0432\\u0435\\u0434\\u0435\\u043d\\u0438\\u0435\", \"\\u043f\\u0440\\u043e\\u0438\\u0437\\u0432\\u043e\\u0434\\u0438\\u0442\\u0435\\u043b\\u044c\", \"\\u043f\\u0440\\u043e\\u0438\\u0437\\u0432\\u043e\\u0434\\u0438\\u0442\\u0435\\u043b\\u044c\", \"\\u043f\\u0440\\u043e\\u0438\\u0437\\u0432\\u043e\\u0434\\u0438\\u0442\\u0435\\u043b\\u044c\", \"\\u043f\\u0440\\u043e\\u0438\\u0437\\u0432\\u043e\\u0434\\u0438\\u0442\\u0435\\u043b\\u044c\", \"\\u043f\\u0440\\u043e\\u0438\\u0437\\u0432\\u043e\\u0434\\u0438\\u0442\\u0435\\u043b\\u044c\", \"\\u043f\\u0440\\u043e\\u0438\\u0437\\u0432\\u043e\\u0434\\u0441\\u0442\\u0432\\u043e\", \"\\u043f\\u0440\\u043e\\u0438\\u0437\\u0432\\u043e\\u0434\\u0441\\u0442\\u0432\\u043e\", \"\\u043f\\u0440\\u043e\\u0438\\u0437\\u0432\\u043e\\u0434\\u0441\\u0442\\u0432\\u043e\", \"\\u043f\\u0440\\u043e\\u0438\\u0437\\u0432\\u043e\\u0434\\u0441\\u0442\\u0432\\u043e\", \"\\u043f\\u0440\\u043e\\u0438\\u0437\\u0432\\u043e\\u0434\\u0441\\u0442\\u0432\\u043e\", \"\\u043f\\u0440\\u043e\\u0438\\u0437\\u0432\\u043e\\u0434\\u0441\\u0442\\u0432\\u043e\", \"\\u043f\\u0440\\u043e\\u0438\\u0437\\u0432\\u043e\\u0434\\u0441\\u0442\\u0432\\u043e\", \"\\u043f\\u0440\\u043e\\u0446\\u0435\\u043d\\u0442\\u043d\\u044b\\u0439_\\u0441\\u0442\\u0430\\u0432\\u043a\\u0430\", \"\\u043f\\u0441\\u0438\\u0445\\u043e\\u043b\\u043e\\u0433\", \"\\u043f\\u0441\\u0438\\u0445\\u043e\\u043b\\u043e\\u0433\", \"\\u043f\\u0443\\u043d\\u043a\\u0442_\\u043f\\u0434\\u0434\", \"\\u043f\\u0446\\u0440_\\u0442\\u0435\\u0441\\u0442\", \"\\u043f\\u044c\\u0435\\u0434\\u0435\\u0441\\u0442\\u0430\\u043b\", \"\\u0440\\u0430\\u0431\\u043e\\u0442\\u0430\", \"\\u0440\\u0430\\u0431\\u043e\\u0442\\u0430\", \"\\u0440\\u0430\\u0431\\u043e\\u0442\\u0430\", \"\\u0440\\u0430\\u0431\\u043e\\u0442\\u0430\", \"\\u0440\\u0430\\u0431\\u043e\\u0442\\u0430\", \"\\u0440\\u0430\\u0431\\u043e\\u0442\\u0430\", \"\\u0440\\u0430\\u0431\\u043e\\u0442\\u0430\", \"\\u0440\\u0430\\u0437\", \"\\u0440\\u0430\\u0437\", \"\\u0440\\u0430\\u0437\", \"\\u0440\\u0430\\u0437\", \"\\u0440\\u0430\\u0437\", \"\\u0440\\u0430\\u0437\", \"\\u0440\\u0430\\u0437\", \"\\u0440\\u0430\\u0437\", \"\\u0440\\u0430\\u0437\", \"\\u0440\\u0430\\u0446\\u0438\\u043e\\u043d\", \"\\u0440\\u0435\\u0430\\u0431\\u0438\\u043b\\u0438\\u0442\\u0430\\u0446\\u0438\\u044f\", \"\\u0440\\u0435\\u0430\\u0431\\u0438\\u043b\\u0438\\u0442\\u0430\\u0446\\u0438\\u044f\", \"\\u0440\\u0435\\u0431\\u0451\\u043d\\u043e\\u043a\", \"\\u0440\\u0435\\u0431\\u0451\\u043d\\u043e\\u043a\", \"\\u0440\\u0435\\u0431\\u0451\\u043d\\u043e\\u043a\", \"\\u0440\\u0435\\u0431\\u0451\\u043d\\u043e\\u043a\", \"\\u0440\\u0435\\u0431\\u0451\\u043d\\u043e\\u043a\", \"\\u0440\\u0435\\u0432\\u0430\\u043a\\u0446\\u0438\\u043d\\u0430\\u0446\\u0438\\u044f\", \"\\u0440\\u0435\\u0433\\u0438\\u043e\\u043d\", \"\\u0440\\u0435\\u0433\\u0438\\u043e\\u043d\", \"\\u0440\\u0435\\u0433\\u0438\\u043e\\u043d\", \"\\u0440\\u0435\\u0433\\u0438\\u043e\\u043d\", \"\\u0440\\u0435\\u0433\\u0438\\u043e\\u043d\", \"\\u0440\\u0435\\u0436\\u0438\\u0441\\u0441\\u0451\\u0440\", \"\\u0440\\u0435\\u0448\\u0435\\u043d\\u0438\\u0435\", \"\\u0440\\u0435\\u0448\\u0435\\u043d\\u0438\\u0435\", \"\\u0440\\u0435\\u0448\\u0435\\u043d\\u0438\\u0435\", \"\\u0440\\u0435\\u0448\\u0435\\u043d\\u0438\\u0435\", \"\\u0440\\u0435\\u0448\\u0435\\u043d\\u0438\\u0435\", \"\\u0440\\u0435\\u0448\\u0435\\u043d\\u0438\\u0435\", \"\\u0440\\u0435\\u0448\\u0435\\u043d\\u0438\\u0435\", \"\\u0440\\u0438\\u043d\\u0433\", \"\\u0440\\u0438\\u043d\\u0433\", \"\\u0440\\u0438\\u0442\\u0443\\u0430\\u043b\", \"\\u0440\\u043e\\u0434\\u0438\\u0442\\u0435\\u043b\\u044c\", \"\\u0440\\u043e\\u0434\\u0438\\u0442\\u0435\\u043b\\u044c\", \"\\u0440\\u043e\\u0436\\u0434\\u0435\\u043d\\u0438\\u0435_\\u0440\\u0435\\u0431\\u0451\\u043d\\u043e\\u043a\", \"\\u0440\\u043e\\u0437\\u043d\\u0438\\u0447\\u043d\\u044b\\u0439_\\u0446\\u0435\\u043d\\u0430\", \"\\u0440\\u043e\\u0441\\u043f\\u043e\\u0442\\u0440\\u0435\\u0431\\u043d\\u0430\\u0434\\u0437\\u043e\\u0440\", \"\\u0440\\u043e\\u0441\\u043f\\u043e\\u0442\\u0440\\u0435\\u0431\\u043d\\u0430\\u0434\\u0437\\u043e\\u0440\", \"\\u0440\\u043e\\u0441\\u043f\\u043e\\u0442\\u0440\\u0435\\u0431\\u043d\\u0430\\u0434\\u0437\\u043e\\u0440\", \"\\u0440\\u043e\\u0441\\u043f\\u043e\\u0442\\u0440\\u0435\\u0431\\u043d\\u0430\\u0434\\u0437\\u043e\\u0440\", \"\\u0440\\u043e\\u0441\\u0441\\u0435\\u043b\\u044c\\u0445\\u043e\\u0437\\u0431\\u0430\\u043d\\u043a\", \"\\u0440\\u043e\\u0441\\u0441\\u0438\\u0439\\u0441\\u043a\\u0438\\u0439\", \"\\u0440\\u043e\\u0441\\u0441\\u0438\\u0439\\u0441\\u043a\\u0438\\u0439\", \"\\u0440\\u043e\\u0441\\u0441\\u0438\\u0439\\u0441\\u043a\\u0438\\u0439\", \"\\u0440\\u043e\\u0441\\u0441\\u0438\\u0439\\u0441\\u043a\\u0438\\u0439\", \"\\u0440\\u043e\\u0441\\u0441\\u0438\\u0439\\u0441\\u043a\\u0438\\u0439\", \"\\u0440\\u043e\\u0441\\u0441\\u0438\\u0439\\u0441\\u043a\\u0438\\u0439\", \"\\u0440\\u043e\\u0441\\u0441\\u0438\\u0439\\u0441\\u043a\\u0438\\u0439\", \"\\u0440\\u043e\\u0441\\u0441\\u0438\\u0439\\u0441\\u043a\\u0438\\u0439\", \"\\u0440\\u043e\\u0441\\u0441\\u0438\\u0439\\u0441\\u043a\\u0438\\u0439\", \"\\u0440\\u043e\\u0441\\u0441\\u0438\\u044f\", \"\\u0440\\u043e\\u0441\\u0441\\u0438\\u044f\", \"\\u0440\\u043e\\u0441\\u0441\\u0438\\u044f\", \"\\u0440\\u043e\\u0441\\u0441\\u0438\\u044f\", \"\\u0440\\u043e\\u0441\\u0441\\u0438\\u044f\", \"\\u0440\\u043e\\u0441\\u0441\\u0438\\u044f\", \"\\u0440\\u043e\\u0441\\u0441\\u0438\\u044f\", \"\\u0440\\u043e\\u0441\\u0441\\u0438\\u044f\", \"\\u0440\\u043e\\u0441\\u0441\\u0438\\u044f\", \"\\u0440\\u043e\\u0441\\u0441\\u0438\\u044f\", \"\\u0440\\u043e\\u0441\\u0442\", \"\\u0440\\u043e\\u0441\\u0442\", \"\\u0440\\u043e\\u0441\\u0442\", \"\\u0440\\u043e\\u0441\\u0442\", \"\\u0440\\u0441\\u0445\\u0431\", \"\\u0440\\u0443\\u0431\\u043a\\u0430\", \"\\u0440\\u0443\\u0431\\u043b\\u044c\", \"\\u0440\\u0443\\u0431\\u043b\\u044c\", \"\\u0440\\u0443\\u0431\\u043b\\u044c\", \"\\u0440\\u0443\\u0431\\u043b\\u044c\", \"\\u0440\\u0443\\u0431\\u043b\\u044c\", \"\\u0440\\u0443\\u0431\\u043b\\u044c\", \"\\u0440\\u0443\\u0431\\u043b\\u044c_\\u043b\\u0438\\u0442\\u0440\", \"\\u0440\\u0443\\u043a\\u0430\", \"\\u0440\\u0443\\u043a\\u0430\", \"\\u0440\\u0443\\u043a\\u0430\", \"\\u0440\\u0443\\u043a\\u0430\", \"\\u0440\\u0443\\u043a\\u0430\", \"\\u0440\\u0443\\u043a\\u0430\", \"\\u0440\\u0443\\u0441\\u0441\\u043a\\u0438\\u0439\", \"\\u0440\\u0443\\u0441\\u0441\\u043a\\u0438\\u0439\", \"\\u0440\\u0443\\u0441\\u0441\\u043a\\u0438\\u0439\", \"\\u0440\\u0443\\u0441\\u0441\\u043a\\u0438\\u0439\", \"\\u0440\\u044b\\u043d\\u043e\\u043a\", \"\\u0440\\u044b\\u043d\\u043e\\u043a\", \"\\u0440\\u044b\\u043d\\u043e\\u043a\", \"\\u0440\\u044b\\u043d\\u043e\\u043a\", \"\\u0441\\u0430\\u043b\\u043e\\u043d\", \"\\u0441\\u0430\\u043b\\u043e\\u043d\", \"\\u0441\\u0430\\u043b\\u043e\\u043d\", \"\\u0441\\u0430\\u043b\\u043e\\u043d\", \"\\u0441\\u0430\\u043b\\u043e\\u043d\", \"\\u0441\\u0430\\u043b\\u043e\\u043d\", \"\\u0441\\u0430\\u043d\\u043a\\u0446\\u0438\\u044f\", \"\\u0441\\u0430\\u0444\\u0443\", \"\\u0441\\u0430\\u0445\\u0430\\u0440\", \"\\u0441\\u0430\\u0445\\u0430\\u0440\", \"\\u0441\\u0430\\u0445\\u0430\\u0440\", \"\\u0441\\u0430\\u0445\\u0430\\u0440\", \"\\u0441\\u0431\\u043e\\u0440\\u043a\\u0430\", \"\\u0441\\u0431\\u043e\\u0440\\u043d\\u0430\\u044f\", \"\\u0441\\u0431\\u043e\\u0440\\u043d\\u0430\\u044f\", \"\\u0441\\u0431\\u043e\\u0440\\u043d\\u0430\\u044f_\\u0440\\u043e\\u0441\\u0441\\u0438\\u044f\", \"\\u0441\\u0435\\u0432\\u0435\\u0440\\u0433\\u0430\\u0437\\u0431\\u0430\\u043d\\u043a\", \"\\u0441\\u0435\\u0432\\u0435\\u0440\\u0433\\u0430\\u0437\\u0431\\u0430\\u043d\\u043a\\u0430\", \"\\u0441\\u0435\\u0433\\u043e\\u0434\\u043d\\u044f\", \"\\u0441\\u0435\\u0433\\u043e\\u0434\\u043d\\u044f\", \"\\u0441\\u0435\\u0433\\u043e\\u0434\\u043d\\u044f\", \"\\u0441\\u0435\\u0433\\u043e\\u0434\\u043d\\u044f\", \"\\u0441\\u0435\\u0433\\u043e\\u0434\\u043d\\u044f\", \"\\u0441\\u0435\\u0433\\u043e\\u0434\\u043d\\u044f\", \"\\u0441\\u0435\\u0433\\u043e\\u0434\\u043d\\u044f\", \"\\u0441\\u0435\\u0433\\u043e\\u0434\\u043d\\u044f\", \"\\u0441\\u0435\\u0433\\u043e\\u0434\\u043d\\u044f\", \"\\u0441\\u0435\\u0433\\u043e\\u0434\\u043d\\u044f\", \"\\u0441\\u0435\\u0434\\u0430\\u043d\", \"\\u0441\\u0435\\u043c\\u044c\\u044f\", \"\\u0441\\u0435\\u043c\\u044c\\u044f\", \"\\u0441\\u0435\\u043c\\u044c\\u044f\", \"\\u0441\\u0435\\u043c\\u044c\\u044f\", \"\\u0441\\u0435\\u0440\\u0432\\u0438\\u0441\", \"\\u0441\\u0435\\u0440\\u0432\\u0438\\u0441\", \"\\u0441\\u0435\\u0440\\u0432\\u0438\\u0441\", \"\\u0441\\u0435\\u0440\\u0432\\u0438\\u0441\", \"\\u0441\\u0435\\u0440\\u0435\\u0431\\u0440\\u044f\\u043d\\u044b\\u0439\", \"\\u0441\\u0435\\u0440\\u0435\\u0431\\u0440\\u044f\\u043d\\u044b\\u0439\", \"\\u0441\\u0435\\u0440\\u0438\\u0430\\u043b\", \"\\u0441\\u0435\\u0440\\u0438\\u0430\\u043b\", \"\\u0441\\u0435\\u0440\\u0438\\u044f\", \"\\u0441\\u0435\\u0440\\u0438\\u044f\", \"\\u0441\\u0435\\u0440\\u0438\\u044f\", \"\\u0441\\u0435\\u0440\\u0438\\u044f\", \"\\u0441\\u0435\\u0440\\u0438\\u044f\", \"\\u0441\\u0435\\u0440\\u0438\\u044f\", \"\\u0441\\u0435\\u0440\\u0438\\u044f\", \"\\u0441\\u0435\\u044f\\u043d\\u0435\\u0446\", \"\\u0441\\u0438\\u043b\\u044c\\u043d\\u043e\", \"\\u0441\\u0438\\u043b\\u044c\\u043d\\u043e\", \"\\u0441\\u0438\\u043b\\u044c\\u043d\\u043e\", \"\\u0441\\u0438\\u043b\\u044c\\u043d\\u043e\", \"\\u0441\\u0438\\u043b\\u044c\\u043d\\u043e\", \"\\u0441\\u0438\\u043b\\u044c\\u043d\\u043e\", \"\\u0441\\u0438\\u043b\\u044c\\u043d\\u043e\", \"\\u0441\\u0438\\u043c\\u043f\\u0442\\u043e\\u043c\", \"\\u0441\\u0438\\u043c\\u043f\\u0442\\u043e\\u043c\", \"\\u0441\\u0438\\u0441\\u0442\\u0435\\u043c\\u0430\", \"\\u0441\\u0438\\u0441\\u0442\\u0435\\u043c\\u0430\", \"\\u0441\\u0438\\u0441\\u0442\\u0435\\u043c\\u0430\", \"\\u0441\\u0438\\u0441\\u0442\\u0435\\u043c\\u0430\", \"\\u0441\\u0438\\u0441\\u0442\\u0435\\u043c\\u0430\", \"\\u0441\\u0438\\u0441\\u0442\\u0435\\u043c\\u0430\", \"\\u0441\\u0438\\u0441\\u0442\\u0435\\u043c\\u0430\", \"\\u0441\\u0438\\u0441\\u0442\\u0435\\u043c\\u0430\", \"\\u0441\\u0438\\u0441\\u0442\\u0435\\u043c\\u0430\", \"\\u0441\\u0438\\u0441\\u0442\\u0435\\u043c\\u0430_\\u0441\\u0442\\u0430\\u0431\\u0438\\u043b\\u0438\\u0437\\u0430\\u0446\\u0438\\u044f\", \"\\u0441\\u0438\\u0442\\u0443\\u0430\\u0446\\u0438\\u044f\", \"\\u0441\\u0438\\u0442\\u0443\\u0430\\u0446\\u0438\\u044f\", \"\\u0441\\u0438\\u0442\\u0443\\u0430\\u0446\\u0438\\u044f\", \"\\u0441\\u0438\\u0442\\u0443\\u0430\\u0446\\u0438\\u044f\", \"\\u0441\\u0438\\u0442\\u0443\\u0430\\u0446\\u0438\\u044f\", \"\\u0441\\u0438\\u0442\\u0443\\u0430\\u0446\\u0438\\u044f\", \"\\u0441\\u0438\\u0442\\u0443\\u0430\\u0446\\u0438\\u044f\", \"\\u0441\\u0438\\u0442\\u0443\\u0430\\u0446\\u0438\\u044f\", \"\\u0441\\u0438\\u0442\\u0443\\u0430\\u0446\\u0438\\u044f\", \"\\u0441\\u0438\\u0442\\u0443\\u0430\\u0446\\u0438\\u044f\", \"\\u0441\\u043a\\u0430\\u0437\\u043a\\u0430\", \"\\u0441\\u043a\\u0438\\u0434\\u043a\\u0430\", \"\\u0441\\u043a\\u0438\\u0434\\u043a\\u0430\", \"\\u0441\\u043a\\u0438\\u0434\\u043a\\u0430\", \"\\u0441\\u043a\\u0438\\u0434\\u043a\\u0430\", \"\\u0441\\u043b\\u0435\\u0434\\u0443\\u044e\\u0449\\u0438\\u0439_\\u043c\\u0430\\u0442\\u0447\", \"\\u0441\\u043b\\u043e\\u0432\\u043e\", \"\\u0441\\u043b\\u043e\\u0432\\u043e\", \"\\u0441\\u043b\\u043e\\u0432\\u043e\", \"\\u0441\\u043b\\u043e\\u0432\\u043e\", \"\\u0441\\u043b\\u043e\\u0432\\u043e\", \"\\u0441\\u043b\\u043e\\u0432\\u043e\", \"\\u0441\\u043b\\u043e\\u0432\\u043e\", \"\\u0441\\u043b\\u043e\\u0432\\u043e\", \"\\u0441\\u043b\\u043e\\u0436\\u043d\\u044b\\u0439\", \"\\u0441\\u043b\\u043e\\u0436\\u043d\\u044b\\u0439\", \"\\u0441\\u043b\\u043e\\u0436\\u043d\\u044b\\u0439\", \"\\u0441\\u043b\\u043e\\u0436\\u043d\\u044b\\u0439\", \"\\u0441\\u043b\\u043e\\u0436\\u043d\\u044b\\u0439\", \"\\u0441\\u043b\\u043e\\u0436\\u043d\\u044b\\u0439\", \"\\u0441\\u043b\\u043e\\u0436\\u043d\\u044b\\u0439\", \"\\u0441\\u043b\\u043e\\u0436\\u043d\\u044b\\u0439\", \"\\u0441\\u043b\\u0443\\u0447\\u0430\\u0439\", \"\\u0441\\u043b\\u0443\\u0447\\u0430\\u0439\", \"\\u0441\\u043b\\u0443\\u0447\\u0430\\u0439\", \"\\u0441\\u043b\\u0443\\u0447\\u0430\\u0439\", \"\\u0441\\u043b\\u0443\\u0447\\u0430\\u0439\", \"\\u0441\\u043b\\u0443\\u0447\\u0430\\u0439\", \"\\u0441\\u043b\\u0443\\u0447\\u0430\\u0439\", \"\\u0441\\u043b\\u0443\\u0447\\u0430\\u0439\", \"\\u0441\\u043b\\u0443\\u0447\\u0430\\u0439\", \"\\u0441\\u043b\\u0443\\u0447\\u0430\\u0439_\\u0437\\u0430\\u0440\\u0430\\u0436\\u0435\\u043d\\u0438\\u0435\", \"\\u0441\\u043e\\u043f\\u0435\\u0440\\u043d\\u0438\\u043a\", \"\\u0441\\u043e\\u043f\\u0435\\u0440\\u043d\\u0438\\u043a\", \"\\u0441\\u043e\\u043f\\u0435\\u0440\\u043d\\u0438\\u043a\", \"\\u0441\\u043e\\u0440\\u0435\\u0432\\u043d\\u043e\\u0432\\u0430\\u043d\\u0438\\u0435\", \"\\u0441\\u043e\\u0440\\u0435\\u0432\\u043d\\u043e\\u0432\\u0430\\u043d\\u0438\\u0435\", \"\\u0441\\u043e\\u0440\\u0435\\u0432\\u043d\\u043e\\u0432\\u0430\\u043d\\u0438\\u0435\", \"\\u0441\\u043e\\u0441\\u0442\\u043e\\u044f\\u043d\\u0438\\u0435\", \"\\u0441\\u043e\\u0441\\u0442\\u043e\\u044f\\u043d\\u0438\\u0435\", \"\\u0441\\u043e\\u0441\\u0442\\u043e\\u044f\\u043d\\u0438\\u0435\", \"\\u0441\\u043e\\u0441\\u0442\\u043e\\u044f\\u043d\\u0438\\u0435\", \"\\u0441\\u043e\\u0441\\u0442\\u043e\\u044f\\u043d\\u0438\\u0435\", \"\\u0441\\u043e\\u0441\\u0442\\u043e\\u044f\\u043d\\u0438\\u0435\", \"\\u0441\\u043e\\u0441\\u0442\\u043e\\u044f\\u043d\\u0438\\u0435\", \"\\u0441\\u043e\\u0447\\u0438\", \"\\u0441\\u043e\\u0447\\u0438\", \"\\u0441\\u043e\\u0447\\u0438\", \"\\u0441\\u043f\\u0435\\u043a\\u0442\\u0430\\u043a\\u043b\\u044c\", \"\\u0441\\u043f\\u0435\\u0446\\u0438\\u0430\\u043b\\u0438\\u0441\\u0442\", \"\\u0441\\u043f\\u0435\\u0446\\u0438\\u0430\\u043b\\u0438\\u0441\\u0442\", \"\\u0441\\u043f\\u0435\\u0446\\u0438\\u0430\\u043b\\u0438\\u0441\\u0442\", \"\\u0441\\u043f\\u0435\\u0446\\u0438\\u0430\\u043b\\u0438\\u0441\\u0442\", \"\\u0441\\u043f\\u0435\\u0446\\u0438\\u0430\\u043b\\u0438\\u0441\\u0442\", \"\\u0441\\u043f\\u0435\\u0446\\u0438\\u0430\\u043b\\u0438\\u0441\\u0442\", \"\\u0441\\u043f\\u0435\\u0446\\u0438\\u0430\\u043b\\u0438\\u0441\\u0442\", \"\\u0441\\u043f\\u0438\\u043d\\u0430\", \"\\u0441\\u043f\\u0438\\u043d\\u0430\", \"\\u0441\\u043f\\u043e\\u043a\\u043e\\u0439\\u043d\\u044b\\u0439\", \"\\u0441\\u043f\\u043e\\u043a\\u043e\\u0439\\u043d\\u044b\\u0439\", \"\\u0441\\u043f\\u043e\\u043a\\u043e\\u0439\\u043d\\u044b\\u0439\", \"\\u0441\\u043f\\u043e\\u043a\\u043e\\u0439\\u0441\\u0442\\u0432\\u0438\\u0435\", \"\\u0441\\u043f\\u043e\\u0440\\u0442\", \"\\u0441\\u043f\\u043e\\u0440\\u0442\", \"\\u0441\\u043f\\u043e\\u0440\\u0442\", \"\\u0441\\u043f\\u043e\\u0440\\u0442\", \"\\u0441\\u043f\\u043e\\u0440\\u0442\", \"\\u0441\\u043f\\u043e\\u0440\\u0442\", \"\\u0441\\u043f\\u043e\\u0440\\u0442\\u0438\\u0432\\u043d\\u044b\\u0439\", \"\\u0441\\u043f\\u043e\\u0440\\u0442\\u0438\\u0432\\u043d\\u044b\\u0439\", \"\\u0441\\u043f\\u043e\\u0440\\u0442\\u0438\\u0432\\u043d\\u044b\\u0439\", \"\\u0441\\u043f\\u043e\\u0440\\u0442\\u0438\\u0432\\u043d\\u044b\\u0439\", \"\\u0441\\u043f\\u043e\\u0440\\u0442\\u0438\\u0432\\u043d\\u044b\\u0439\", \"\\u0441\\u043f\\u043e\\u0440\\u0442\\u0438\\u0432\\u043d\\u044b\\u0439\", \"\\u0441\\u043f\\u043e\\u0440\\u0442\\u0441\\u043c\\u0435\\u043d\", \"\\u0441\\u043f\\u043e\\u0440\\u0442\\u0441\\u043c\\u0435\\u043d\", \"\\u0441\\u043f\\u043e\\u0440\\u0442\\u0441\\u043c\\u0435\\u043d\", \"\\u0441\\u043f\\u043e\\u0440\\u0442\\u0441\\u043c\\u0435\\u043d\\u043a\\u0430\", \"\\u0441\\u043f\\u043e\\u0440\\u0442\\u0441\\u043c\\u0435\\u043d\\u043a\\u0430\", \"\\u0441\\u043f\\u0440\\u0430\\u0432\\u043a\\u0430\", \"\\u0441\\u043f\\u0440\\u0430\\u0432\\u043a\\u0430\", \"\\u0441\\u043f\\u0440\\u0438\\u043d\\u0442\", \"\\u0441\\u043f\\u0443\\u0442\\u043d\\u0438\\u043a\", \"\\u0441\\u043f\\u0443\\u0442\\u043d\\u0438\\u043a\", \"\\u0441\\u043f\\u0443\\u0442\\u043d\\u0438\\u043a\", \"\\u0441\\u043f\\u0443\\u0442\\u043d\\u0438\\u043a\", \"\\u0441\\u043f\\u0443\\u0442\\u043d\\u0438\\u043a\", \"\\u0441\\u0440\\u0435\\u0434\\u0441\\u0442\\u0432\\u043e\", \"\\u0441\\u0440\\u0435\\u0434\\u0441\\u0442\\u0432\\u043e\", \"\\u0441\\u0440\\u0435\\u0434\\u0441\\u0442\\u0432\\u043e\", \"\\u0441\\u0440\\u0435\\u0434\\u0441\\u0442\\u0432\\u043e\", \"\\u0441\\u0440\\u0435\\u0434\\u0441\\u0442\\u0432\\u043e\", \"\\u0441\\u0440\\u0435\\u0434\\u0441\\u0442\\u0432\\u043e\", \"\\u0441\\u0440\\u0435\\u0434\\u0441\\u0442\\u0432\\u043e_\\u0437\\u0430\\u0449\\u0438\\u0442\\u0430\", \"\\u0441\\u0440\\u043e\\u043a\", \"\\u0441\\u0440\\u043e\\u043a\", \"\\u0441\\u0440\\u043e\\u043a\", \"\\u0441\\u0440\\u043e\\u043a\", \"\\u0441\\u0440\\u043e\\u043a\", \"\\u0441\\u0441\\u043e\\u0440\\u0430\", \"\\u0441\\u0441\\u043e\\u0440\\u0430\", \"\\u0441\\u0442\\u0430\\u0432\\u043a\\u0430\", \"\\u0441\\u0442\\u0430\\u0432\\u043a\\u0430\", \"\\u0441\\u0442\\u0430\\u0434\\u0438\\u043e\\u043d\", \"\\u0441\\u0442\\u0430\\u0434\\u0438\\u043e\\u043d\", \"\\u0441\\u0442\\u0430\\u0434\\u0438\\u043e\\u043d\", \"\\u0441\\u0442\\u0430\\u0434\\u0438\\u043e\\u043d_\\u043d\\u0438\\u0436\\u043d\\u0438\\u0439\", \"\\u0441\\u0442\\u0430\\u0434\\u0438\\u043e\\u043d_\\u043d\\u0438\\u0436\\u043d\\u0438\\u0439\", \"\\u0441\\u0442\\u0430\\u0440\\u0442\", \"\\u0441\\u0442\\u0430\\u0440\\u0442\", \"\\u0441\\u0442\\u0430\\u0440\\u0442\", \"\\u0441\\u0442\\u0430\\u0440\\u0442\", \"\\u0441\\u0442\\u0430\\u0440\\u0442\", \"\\u0441\\u0442\\u0430\\u0440\\u0442\", \"\\u0441\\u0442\\u0430\\u0440\\u0442\", \"\\u0441\\u0442\\u043e\\u0438\\u043c\\u043e\\u0441\\u0442\\u044c\", \"\\u0441\\u0442\\u043e\\u0438\\u043c\\u043e\\u0441\\u0442\\u044c\", \"\\u0441\\u0442\\u043e\\u0438\\u043c\\u043e\\u0441\\u0442\\u044c\", \"\\u0441\\u0442\\u043e\\u0438\\u043c\\u043e\\u0441\\u0442\\u044c\", \"\\u0441\\u0442\\u043e\\u0438\\u043c\\u043e\\u0441\\u0442\\u044c\", \"\\u0441\\u0442\\u043e\\u0438\\u043c\\u043e\\u0441\\u0442\\u044c\", \"\\u0441\\u0442\\u043e\\u043b\", \"\\u0441\\u0442\\u043e\\u043b\", \"\\u0441\\u0442\\u043e\\u043b\", \"\\u0441\\u0442\\u043e\\u0440\\u043e\\u043d\\u0430\", \"\\u0441\\u0442\\u043e\\u0440\\u043e\\u043d\\u0430\", \"\\u0441\\u0442\\u043e\\u0440\\u043e\\u043d\\u0430\", \"\\u0441\\u0442\\u043e\\u0440\\u043e\\u043d\\u0430\", \"\\u0441\\u0442\\u043e\\u0440\\u043e\\u043d\\u0430\", \"\\u0441\\u0442\\u043e\\u0440\\u043e\\u043d\\u0430\", \"\\u0441\\u0442\\u043e\\u0440\\u043e\\u043d\\u0430\", \"\\u0441\\u0442\\u043e\\u0440\\u043e\\u043d\\u0430\", \"\\u0441\\u0442\\u043e\\u0440\\u043e\\u043d\\u0430\", \"\\u0441\\u0442\\u043e\\u044f\\u043d\\u043a\\u0430\", \"\\u0441\\u0442\\u0440\\u0430\\u043d\\u0430\", \"\\u0441\\u0442\\u0440\\u0430\\u043d\\u0430\", \"\\u0441\\u0442\\u0440\\u0430\\u043d\\u0430\", \"\\u0441\\u0442\\u0440\\u0430\\u043d\\u0430\", \"\\u0441\\u0442\\u0440\\u0430\\u043d\\u0430\", \"\\u0441\\u0442\\u0440\\u0430\\u043d\\u0430\", \"\\u0441\\u0442\\u0440\\u0430\\u043d\\u0430\", \"\\u0441\\u0442\\u0440\\u0430\\u043d\\u043d\\u044b\\u0439\", \"\\u0441\\u0442\\u0440\\u0430\\u043d\\u043d\\u044b\\u0439\", \"\\u0441\\u0442\\u0440\\u0430\\u043d\\u043d\\u044b\\u0439\", \"\\u0441\\u0442\\u0440\\u0430\\u043d\\u043d\\u044b\\u0439\", \"\\u0441\\u0442\\u0440\\u0430\\u043d\\u043d\\u044b\\u0439\", \"\\u0441\\u0442\\u0440\\u0430\\u0445\\u043e\\u0432\\u043e\\u0439\", \"\\u0441\\u0442\\u0440\\u0430\\u0445\\u043e\\u0432\\u043e\\u0439\", \"\\u0441\\u0443\\u0434\", \"\\u0441\\u0443\\u0434\", \"\\u0441\\u0443\\u0434\", \"\\u0441\\u0443\\u0434\", \"\\u0441\\u0443\\u0434\\u043d\\u043e\", \"\\u0441\\u0443\\u0434\\u043d\\u043e\", \"\\u0441\\u0443\\u0434\\u043e\\u0440\\u0435\\u043c\\u043e\\u043d\\u0442\\u043d\\u044b\\u0439\", \"\\u0441\\u0443\\u043c\\u043c\\u0430\", \"\\u0441\\u0443\\u043c\\u043c\\u0430\", \"\\u0441\\u0443\\u043c\\u043c\\u0430\", \"\\u0441\\u0443\\u0441\\u0442\\u0430\\u0432\", \"\\u0441\\u0446\\u0435\\u043d\\u0430\", \"\\u0441\\u0446\\u0435\\u043d\\u0430\", \"\\u0441\\u0447\\u0451\\u0442\", \"\\u0441\\u0447\\u0451\\u0442\", \"\\u0441\\u0447\\u0451\\u0442\", \"\\u0441\\u0447\\u0451\\u0442\", \"\\u0441\\u0447\\u0451\\u0442\", \"\\u0441\\u0447\\u0451\\u0442\", \"\\u0441\\u0447\\u0451\\u0442\", \"\\u0441\\u0447\\u0451\\u0442\", \"\\u0441\\u044a\\u0451\\u043c\\u043a\\u0430\", \"\\u0441\\u044a\\u0451\\u043c\\u043a\\u0430\", \"\\u0441\\u044a\\u0451\\u043c\\u043a\\u0430\", \"\\u0442\\u0430\\u0439\\u043c\", \"\\u0442\\u0430\\u0439\\u043c\", \"\\u0442\\u0430\\u0439\\u043c\", \"\\u0442\\u0430\\u0439\\u0441\\u043a\\u0438\\u0439_\\u0431\\u043e\\u043a\\u0441\", \"\\u0442\\u0430\\u043d\\u0435\\u0446\", \"\\u0442\\u0430\\u043d\\u0435\\u0446\", \"\\u0442\\u0430\\u0440\\u0430\\u043a\\u0430\\u043d\", \"\\u0442\\u0432\\u043e\\u0440\\u0447\\u0435\\u0441\\u0442\\u0432\\u043e\", \"\\u0442\\u0432\\u043e\\u0440\\u0447\\u0435\\u0441\\u0442\\u0432\\u043e\", \"\\u0442\\u0432\\u0451\\u0440\\u0434\\u044b\\u0439\", \"\\u0442\\u0435\\u0430\\u0442\\u0440\", \"\\u0442\\u0435\\u0430\\u0442\\u0440\\u0430\\u043b\\u044c\\u043d\\u044b\\u0439\", \"\\u0442\\u0435\\u043a\\u0441\\u0442_\\u043c\\u0438\\u0445\\u0430\\u0438\\u043b\", \"\\u0442\\u0435\\u043a\\u0441\\u0442_\\u0441\\u0432\\u0435\\u0442\\u043b\\u0430\\u043d\\u0430\", \"\\u0442\\u0435\\u043a\\u0443\\u0449\\u0438\\u0439\", \"\\u0442\\u0435\\u043a\\u0443\\u0449\\u0438\\u0439\", \"\\u0442\\u0435\\u043a\\u0443\\u0449\\u0438\\u0439\", \"\\u0442\\u0435\\u043b\\u0435\\u0446\", \"\\u0442\\u0435\\u043c\\u043f\\u0435\\u0440\\u0430\\u0442\\u0443\\u0440\\u0430\", \"\\u0442\\u0435\\u043c\\u043f\\u0435\\u0440\\u0430\\u0442\\u0443\\u0440\\u0430\", \"\\u0442\\u0435\\u043c\\u043f\\u0435\\u0440\\u0430\\u0442\\u0443\\u0440\\u0430\", \"\\u0442\\u0435\\u043c\\u043f\\u0435\\u0440\\u0430\\u0442\\u0443\\u0440\\u0430\", \"\\u0442\\u0435\\u0440\\u0440\\u0438\\u0442\\u043e\\u0440\\u0438\\u044f\", \"\\u0442\\u0435\\u0440\\u0440\\u0438\\u0442\\u043e\\u0440\\u0438\\u044f\", \"\\u0442\\u0435\\u0440\\u0440\\u0438\\u0442\\u043e\\u0440\\u0438\\u044f\", \"\\u0442\\u0435\\u0440\\u0440\\u0438\\u0442\\u043e\\u0440\\u0438\\u044f\", \"\\u0442\\u0435\\u0440\\u0440\\u0438\\u0442\\u043e\\u0440\\u0438\\u044f\", \"\\u0442\\u0435\\u0445\\u043e\\u0441\\u043c\\u043e\\u0442\\u0440\", \"\\u0442\\u0435\\u0445\\u043e\\u0441\\u043c\\u043e\\u0442\\u0440\", \"\\u0442\\u043e\\u0432\\u0430\\u0440\", \"\\u0442\\u043e\\u0432\\u0430\\u0440\", \"\\u0442\\u043e\\u043a\\u0435\\u043b\\u0430\\u0443\", \"\\u0442\\u043e\\u043f\\u043b\\u0438\\u0432\\u043e\", \"\\u0442\\u043e\\u0440\\u043f\\u0435\\u0434\\u043e\", \"\\u0442\\u043e\\u0440\\u043f\\u0435\\u0434\\u043e\", \"\\u0442\\u043e\\u0440\\u043f\\u0435\\u0434\\u043e\\u0432\\u0435\\u0446\", \"\\u0442\\u043e\\u0440\\u043f\\u0435\\u0434\\u043e\\u0432\\u0435\\u0446\", \"\\u0442\\u0440\\u0435\\u0431\\u043e\\u0432\\u0430\\u043d\\u0438\\u0435\", \"\\u0442\\u0440\\u0435\\u0431\\u043e\\u0432\\u0430\\u043d\\u0438\\u0435\", \"\\u0442\\u0440\\u0435\\u0431\\u043e\\u0432\\u0430\\u043d\\u0438\\u0435\", \"\\u0442\\u0440\\u0435\\u0431\\u043e\\u0432\\u0430\\u043d\\u0438\\u0435\", \"\\u0442\\u0440\\u0435\\u043d\\u0435\\u0440\", \"\\u0442\\u0440\\u0435\\u043d\\u0435\\u0440\", \"\\u0442\\u0440\\u0435\\u043d\\u0435\\u0440\", \"\\u0442\\u0440\\u0438\\u0431\\u0443\\u043d\\u0430\", \"\\u0442\\u0440\\u0438\\u0431\\u0443\\u043d\\u0430\", \"\\u0442\\u0440\\u0438\\u0431\\u0443\\u043d\\u0430\", \"\\u0442\\u0443\\u0440\\u0431\\u0438\\u043d\\u0430\", \"\\u0442\\u0443\\u0440\\u043d\\u0438\\u0440\", \"\\u0442\\u0443\\u0440\\u043d\\u0438\\u0440\", \"\\u0442\\u0443\\u0440\\u043d\\u0438\\u0440\", \"\\u0443\\u0430\\u0437\", \"\\u0443\\u0434\\u043e\\u0431\\u043d\\u044b\\u0439\", \"\\u0443\\u0434\\u043e\\u0431\\u043d\\u044b\\u0439\", \"\\u0443\\u0434\\u043e\\u0431\\u043d\\u044b\\u0439\", \"\\u0443\\u0434\\u043e\\u0431\\u043d\\u044b\\u0439\", \"\\u0443\\u0434\\u043e\\u0431\\u043d\\u044b\\u0439\", \"\\u0443\\u0434\\u043e\\u0431\\u043d\\u044b\\u0439\", \"\\u0443\\u0434\\u043e\\u0431\\u043d\\u044b\\u0439\", \"\\u0443\\u0434\\u043e\\u0431\\u043d\\u044b\\u0439\", \"\\u0443\\u0437\\u0438\", \"\\u0443\\u043a\\u043e\\u043b\", \"\\u0443\\u043b\\u0438\\u0446\\u0430\", \"\\u0443\\u043b\\u0438\\u0446\\u0430\", \"\\u0443\\u043b\\u0438\\u0446\\u0430\", \"\\u0443\\u043b\\u0438\\u0446\\u0430\", \"\\u0443\\u043b\\u0438\\u0446\\u0430\", \"\\u0443\\u043b\\u0438\\u0446\\u0430\", \"\\u0443\\u043c\\u0432\\u0434\", \"\\u0443\\u043f\\u043e\\u0442\\u0440\\u0435\\u0431\\u043b\\u0435\\u043d\\u0438\\u0435\", \"\\u0443\\u0440\\u0443\\u0433\\u0432\\u0430\\u0439\", \"\\u0443\\u0441\\u043b\\u043e\\u0432\\u0438\\u0435\", \"\\u0443\\u0441\\u043b\\u043e\\u0432\\u0438\\u0435\", \"\\u0443\\u0441\\u043b\\u043e\\u0432\\u0438\\u0435\", \"\\u0443\\u0441\\u043b\\u043e\\u0432\\u0438\\u0435\", \"\\u0443\\u0441\\u043b\\u043e\\u0432\\u0438\\u0435\", \"\\u0443\\u0441\\u043b\\u043e\\u0432\\u0438\\u0435\", \"\\u0443\\u0441\\u043b\\u043e\\u0432\\u0438\\u0435\", \"\\u0443\\u0441\\u043b\\u043e\\u0432\\u0438\\u0435\", \"\\u0443\\u0441\\u043f\\u0435\\u0445\", \"\\u0443\\u0441\\u043f\\u0435\\u0445\", \"\\u0443\\u0441\\u043f\\u0435\\u0445\", \"\\u0443\\u0441\\u043f\\u0435\\u0445\", \"\\u0443\\u0447\\u0430\\u0441\\u0442\\u043e\\u043a\", \"\\u0443\\u0447\\u0430\\u0441\\u0442\\u043e\\u043a\", \"\\u0443\\u0447\\u0430\\u0441\\u0442\\u043e\\u043a\", \"\\u0443\\u0447\\u0430\\u0441\\u0442\\u043e\\u043a\", \"\\u0443\\u0447\\u0430\\u0441\\u0442\\u043e\\u043a\", \"\\u0443\\u0447\\u0430\\u0441\\u0442\\u043e\\u043a\", \"\\u0443\\u0447\\u0430\\u0441\\u0442\\u043e\\u043a\", \"\\u0443\\u0449\\u0435\\u0440\\u0431\", \"\\u0443\\u0449\\u0435\\u0440\\u0431\", \"\\u0443\\u0449\\u0435\\u0440\\u0431\", \"\\u0444\\u0430\\u043d_\\u0437\\u043e\\u043d\\u0430\", \"\\u0444\\u0435\\u0441\\u0442\\u0438\\u0432\\u0430\\u043b\\u044c\", \"\\u0444\\u0435\\u0441\\u0442\\u0438\\u0432\\u0430\\u043b\\u044c\", \"\\u0444\\u0435\\u0441\\u0442\\u0438\\u0432\\u0430\\u043b\\u044c_\\u0431\\u043e\\u043b\\u0435\\u043b\\u044c\\u0449\\u0438\\u043a\", \"\\u0444\\u0438\\u0437\\u0438\\u0447\\u0435\\u0441\\u043a\\u0438\\u0439_\\u043b\\u0438\\u0446\\u043e\", \"\\u0444\\u0438\\u043b\\u044c\\u043c\", \"\\u0444\\u0438\\u043b\\u044c\\u043c\", \"\\u0444\\u0438\\u043d\\u0430\\u043b\", \"\\u0444\\u0438\\u043d\\u0430\\u043b\", \"\\u0444\\u0438\\u043d\\u0430\\u043b\", \"\\u0444\\u0438\\u043d\\u0430\\u043b\", \"\\u0444\\u0438\\u043d\\u0430\\u043d\\u0441\\u0438\\u0440\\u043e\\u0432\\u0430\\u043d\\u0438\\u0435\", \"\\u0444\\u0438\\u043d\\u0430\\u043d\\u0441\\u043e\\u0432\\u044b\\u0439\", \"\\u0444\\u0438\\u043d\\u0430\\u043d\\u0441\\u043e\\u0432\\u044b\\u0439\", \"\\u0444\\u043a_\\u043d\\u0438\\u0436\\u043d\\u0438\\u0439\", \"\\u0444\\u043a_\\u043d\\u043d\", \"\\u0444\\u043e\\u0440\\u0432\\u0430\\u0440\\u0434\", \"\\u0444\\u043e\\u0440\\u0443\\u043c\", \"\\u0444\\u043e\\u0440\\u0443\\u043c\", \"\\u0444\\u0443\\u0442\\u0431\\u043e\\u043b\", \"\\u0444\\u0443\\u0442\\u0431\\u043e\\u043b\", \"\\u0444\\u0443\\u0442\\u0431\\u043e\\u043b\", \"\\u0444\\u0443\\u0442\\u0431\\u043e\\u043b_\\u043d\\u0438\\u0436\\u043d\\u0438\\u0439\", \"\\u0444\\u0443\\u0442\\u0431\\u043e\\u043b\\u0438\\u0441\\u0442\", \"\\u0444\\u0443\\u0442\\u0431\\u043e\\u043b\\u0438\\u0441\\u0442\", \"\\u0444\\u0443\\u0442\\u0431\\u043e\\u043b\\u0438\\u0441\\u0442\", \"\\u0444\\u0443\\u0442\\u0431\\u043e\\u043b\\u044c\\u043d\\u044b\\u0439\", \"\\u0444\\u0443\\u0442\\u0431\\u043e\\u043b\\u044c\\u043d\\u044b\\u0439\", \"\\u0445\\u043a_\\u0442\\u043e\\u0440\\u043f\\u0435\\u0434\\u043e\", \"\\u0445\\u043e\\u043a\\u043a\\u0435\\u0438\\u0441\\u0442\", \"\\u0445\\u043e\\u043a\\u043a\\u0435\\u0439\\u043d\\u044b\\u0439_\\u043a\\u043b\\u0443\\u0431\", \"\\u0445\\u043e\\u0440\\u0432\\u0430\\u0442\", \"\\u0445\\u043e\\u0440\\u043e\\u0448\\u0438\\u0439\", \"\\u0445\\u043e\\u0440\\u043e\\u0448\\u0438\\u0439\", \"\\u0445\\u043e\\u0440\\u043e\\u0448\\u0438\\u0439\", \"\\u0445\\u043e\\u0440\\u043e\\u0448\\u0438\\u0439\", \"\\u0445\\u043e\\u0440\\u043e\\u0448\\u0438\\u0439\", \"\\u0445\\u043e\\u0440\\u043e\\u0448\\u0438\\u0439\", \"\\u0445\\u043e\\u0440\\u043e\\u0448\\u0438\\u0439\", \"\\u0445\\u043e\\u0440\\u043e\\u0448\\u0438\\u0439\", \"\\u0445\\u043e\\u0440\\u043e\\u0448\\u0438\\u0439\", \"\\u0445\\u0443\\u0434\\u043e\\u0436\\u0435\\u0441\\u0442\\u0432\\u0435\\u043d\\u043d\\u044b\\u0439\", \"\\u0445\\u0443\\u0434\\u043e\\u0436\\u0435\\u0441\\u0442\\u0432\\u0435\\u043d\\u043d\\u044b\\u0439_\\u0433\\u0438\\u043c\\u043d\\u0430\\u0441\\u0442\\u0438\\u043a\\u0430\", \"\\u0445\\u0443\\u0434\\u043e\\u0436\\u043d\\u0438\\u043a\", \"\\u0446\\u0431\", \"\\u0446\\u0435\\u043d\\u0430\", \"\\u0446\\u0435\\u043d\\u0430\", \"\\u0446\\u0435\\u043d\\u0430\", \"\\u0446\\u0435\\u043d\\u0430\", \"\\u0446\\u0435\\u043d\\u0430\", \"\\u0446\\u0435\\u043d\\u0430\", \"\\u0446\\u0435\\u043d\\u0430\", \"\\u0446\\u0435\\u043d\\u0430_\\u0440\\u0443\\u0431\", \"\\u0446\\u0435\\u043d\\u0430_\\u0440\\u0443\\u0431\", \"\\u0446\\u0435\\u043d\\u0430_\\u0442\\u043e\\u0432\\u0430\\u0440\", \"\\u0446\\u0435\\u043d\\u0430_\\u0442\\u043e\\u0432\\u0430\\u0440\", \"\\u0446\\u0435\\u043d\\u043d\\u0438\\u043a\", \"\\u0446\\u0435\\u043d\\u043d\\u0438\\u043a\", \"\\u0446\\u0435\\u043d\\u0442\\u0440\", \"\\u0446\\u0435\\u043d\\u0442\\u0440\", \"\\u0446\\u0435\\u043d\\u0442\\u0440\", \"\\u0446\\u0435\\u043d\\u0442\\u0440\", \"\\u0446\\u0435\\u043d\\u0442\\u0440\", \"\\u0446\\u0435\\u043d\\u0442\\u0440\", \"\\u0446\\u0435\\u043d\\u0442\\u0440\", \"\\u0446\\u0435\\u043d\\u0442\\u0440\", \"\\u0446\\u0435\\u043d\\u0442\\u0440\\u043e\\u0431\\u0430\\u043d\\u043a\", \"\\u0446\\u0441\\u043a\\u0430\", \"\\u0446\\u0441\\u043a\\u0430\", \"\\u0447\\u0430\\u0441\", \"\\u0447\\u0430\\u0441\", \"\\u0447\\u0430\\u0441\", \"\\u0447\\u0430\\u0441\", \"\\u0447\\u0430\\u0441\", \"\\u0447\\u0430\\u0441\", \"\\u0447\\u0430\\u0441\", \"\\u0447\\u0430\\u0441\\u0442\\u044c\", \"\\u0447\\u0430\\u0441\\u0442\\u044c\", \"\\u0447\\u0430\\u0441\\u0442\\u044c\", \"\\u0447\\u0430\\u0441\\u0442\\u044c\", \"\\u0447\\u0430\\u0441\\u0442\\u044c\", \"\\u0447\\u0430\\u0441\\u0442\\u044c\", \"\\u0447\\u0430\\u0441\\u0442\\u044c\", \"\\u0447\\u0430\\u0441\\u0442\\u044c\", \"\\u0447\\u0430\\u0441\\u0442\\u044c\", \"\\u0447\\u0435\\u043a\", \"\\u0447\\u0435\\u043b\\u043b\\u0435\\u043d\\u0434\\u0436\", \"\\u0447\\u0435\\u043b\\u043e\\u0432\\u0435\\u043a\", \"\\u0447\\u0435\\u043b\\u043e\\u0432\\u0435\\u043a\", \"\\u0447\\u0435\\u043b\\u043e\\u0432\\u0435\\u043a\", \"\\u0447\\u0435\\u043b\\u043e\\u0432\\u0435\\u043a\", \"\\u0447\\u0435\\u043b\\u043e\\u0432\\u0435\\u043a\", \"\\u0447\\u0435\\u043b\\u043e\\u0432\\u0435\\u043a\", \"\\u0447\\u0435\\u043b\\u043e\\u0432\\u0435\\u043a\", \"\\u0447\\u0435\\u043c\\u043f\\u0438\\u043e\\u043d\\u0430\\u0442_\\u043c\\u0438\\u0440\", \"\\u0447\\u0435\\u043c\\u043f\\u0438\\u043e\\u043d\\u0430\\u0442_\\u043c\\u0438\\u0440\", \"\\u0447\\u0435\\u0440\\u044b\\u0448\\u0435\\u0432\", \"\\u0447\\u0435\\u0442\\u0432\\u0435\\u0440\\u0442\\u044c\\u0444\\u0438\\u043d\\u0430\\u043b\", \"\\u0447\\u0438\\u0441\\u043b\\u043e\", \"\\u0447\\u0438\\u0441\\u043b\\u043e\", \"\\u0447\\u0438\\u0441\\u043b\\u043e\", \"\\u0447\\u0438\\u0441\\u043b\\u043e\", \"\\u0447\\u0438\\u0441\\u043b\\u043e\", \"\\u0447\\u0438\\u0441\\u043b\\u043e\", \"\\u0447\\u0438\\u0441\\u043b\\u043e\", \"\\u0447\\u0438\\u0441\\u043b\\u043e\", \"\\u0447\\u043c\", \"\\u0447\\u0443\\u0432\\u0441\\u0442\\u0432\\u043e\", \"\\u0447\\u0443\\u0432\\u0441\\u0442\\u0432\\u043e\", \"\\u0447\\u0443\\u0432\\u0441\\u0442\\u0432\\u043e\", \"\\u0448\\u0430\\u0439\\u0431\\u0430\", \"\\u0448\\u0430\\u0439\\u0431\\u0430\", \"\\u0448\\u0430\\u0439\\u0431\\u0430\", \"\\u0448\\u0432\\u0435\\u0434\", \"\\u0448\\u0432\\u0435\\u0434\", \"\\u0448\\u043e\\u0443\", \"\\u0448\\u0442\\u0430\\u043c\\u043c\", \"\\u0448\\u0442\\u0440\\u0430\\u0444\", \"\\u0448\\u0442\\u0440\\u0430\\u0444\", \"\\u0448\\u0442\\u0440\\u0430\\u0444\", \"\\u0448\\u0442\\u0440\\u0430\\u0444\", \"\\u0448\\u0442\\u0440\\u0430\\u0444_\\u0440\\u0443\\u0431\\u043b\\u044c\", \"\\u0448\\u0442\\u0440\\u0430\\u0444_\\u0440\\u0443\\u0431\\u043b\\u044c\", \"\\u044d\\u043a\\u043e\\u043d\\u043e\\u043c\\u0438\\u043a\\u0430\", \"\\u044d\\u043a\\u043e\\u043d\\u043e\\u043c\\u0438\\u0441\\u0442\", \"\\u044d\\u043a\\u043e\\u043d\\u043e\\u043c\\u0438\\u0447\\u0435\\u0441\\u043a\\u0438\\u0439\", \"\\u044d\\u043b\\u0435\\u043a\\u0442\\u0440\\u043e\\u043c\\u043e\\u0431\\u0438\\u043b\\u044c\", \"\\u044d\\u043c\\u043e\\u0446\\u0438\\u044f\", \"\\u044d\\u043c\\u043e\\u0446\\u0438\\u044f\", \"\\u044d\\u043c\\u043e\\u0446\\u0438\\u044f\", \"\\u044d\\u043c\\u043e\\u0446\\u0438\\u044f\", \"\\u044d\\u0442\\u0438\\u043a\\u0435\\u0442\", \"\\u044e\\u043d\\u044b\\u0439\", \"\\u044e\\u0440\\u0438\\u0434\\u0438\\u0447\\u0435\\u0441\\u043a\\u0438\\u0439_\\u043b\\u0438\\u0446\\u043e\", \"\\u044e\\u0440\\u0438\\u0441\\u0442\", \"\\u044e\\u0440\\u0438\\u0441\\u0442\", \"\\u044e\\u0440\\u0438\\u0441\\u0442\"]}, \"R\": 30, \"lambda.step\": 0.01, \"plot.opts\": {\"xlab\": \"PC1\", \"ylab\": \"PC2\"}, \"topic.order\": [7, 3, 5, 1, 2, 6, 4, 10, 9, 8]};\n",
              "\n",
              "function LDAvis_load_lib(url, callback){\n",
              "  var s = document.createElement('script');\n",
              "  s.src = url;\n",
              "  s.async = true;\n",
              "  s.onreadystatechange = s.onload = callback;\n",
              "  s.onerror = function(){console.warn(\"failed to load library \" + url);};\n",
              "  document.getElementsByTagName(\"head\")[0].appendChild(s);\n",
              "}\n",
              "\n",
              "if(typeof(LDAvis) !== \"undefined\"){\n",
              "   // already loaded: just create the visualization\n",
              "   !function(LDAvis){\n",
              "       new LDAvis(\"#\" + \"ldavis_el383821396560701515201027101683\", ldavis_el383821396560701515201027101683_data);\n",
              "   }(LDAvis);\n",
              "}else if(typeof define === \"function\" && define.amd){\n",
              "   // require.js is available: use it to load d3/LDAvis\n",
              "   require.config({paths: {d3: \"https://d3js.org/d3.v5\"}});\n",
              "   require([\"d3\"], function(d3){\n",
              "      window.d3 = d3;\n",
              "      LDAvis_load_lib(\"https://cdn.jsdelivr.net/gh/bmabey/pyLDAvis@3.4.0/pyLDAvis/js/ldavis.v3.0.0.js\", function(){\n",
              "        new LDAvis(\"#\" + \"ldavis_el383821396560701515201027101683\", ldavis_el383821396560701515201027101683_data);\n",
              "      });\n",
              "    });\n",
              "}else{\n",
              "    // require.js not available: dynamically load d3 & LDAvis\n",
              "    LDAvis_load_lib(\"https://d3js.org/d3.v5.js\", function(){\n",
              "         LDAvis_load_lib(\"https://cdn.jsdelivr.net/gh/bmabey/pyLDAvis@3.4.0/pyLDAvis/js/ldavis.v3.0.0.js\", function(){\n",
              "                 new LDAvis(\"#\" + \"ldavis_el383821396560701515201027101683\", ldavis_el383821396560701515201027101683_data);\n",
              "            })\n",
              "         });\n",
              "}\n",
              "</script>"
            ]
          },
          "metadata": {},
          "execution_count": 46
        }
      ],
      "source": [
        "pyLDAvis.enable_notebook()\n",
        "visualisation = pyLDAvis.gensim_models.prepare(ldamodel, corpus, dictionary)\n",
        "print(visualisation)"
      ]
    },
    {
      "cell_type": "code",
      "source": [
        "# with open(LDAvis_data_filepath, 'wb') as f:\n",
        "#     pickle.dump(LDAvis_prepared, f)\n",
        "\n",
        "pyLDAvis.save_html(visualisation, '/content/drive/MyDrive/Универ/results/lda_best_visual.html')"
      ],
      "metadata": {
        "id": "GWVNUq2Jbxe5"
      },
      "id": "GWVNUq2Jbxe5",
      "execution_count": null,
      "outputs": []
    },
    {
      "cell_type": "markdown",
      "id": "c631d992",
      "metadata": {
        "id": "c631d992"
      },
      "source": [
        "### Тематическая согласованность (Topic Coherence)\n",
        "Чем выше значение когерентности, тем лучше модель"
      ]
    },
    {
      "cell_type": "code",
      "execution_count": null,
      "id": "0f7b32e5",
      "metadata": {
        "id": "0f7b32e5"
      },
      "outputs": [],
      "source": [
        "def evaluate_bar_graph(coherences, indices): # функция для вывода bar графика\n",
        "    \"\"\"\n",
        "    Function to plot bar graph.\n",
        "    \n",
        "    coherences: list of coherence values\n",
        "    indices: Indices to be used to mark bars. Length of this and coherences should be equal.\n",
        "    \"\"\"\n",
        "    assert len(coherences) == len(indices) # проверка на равное число элементов\n",
        "    n = len(coherences)\n",
        "    x = np.arange(n)\n",
        "    plt.bar(x, coherences, width=0.2, tick_label=indices, align='center')\n",
        "    plt.xlabel('Models')\n",
        "    plt.ylabel('Coherence Value')"
      ]
    },
    {
      "cell_type": "code",
      "execution_count": null,
      "id": "252a4eef",
      "metadata": {
        "id": "252a4eef"
      },
      "outputs": [],
      "source": [
        "# ldatopics = [[word for word, prob in topic] for topicid, topic in ldamodel.show_topics(formatted=False)]\n",
        "# lda_coherence = CoherenceModel(topics=ldatopics, texts=texts_v2, dictionary=dictionary, window_size=10).get_coherence() # рассчитывает согласованность тем для topic models"
      ]
    },
    {
      "cell_type": "code",
      "execution_count": null,
      "id": "8345ce9d",
      "metadata": {
        "id": "8345ce9d"
      },
      "outputs": [],
      "source": [
        "# evaluate_bar_graph([lda_coherence],\n",
        "#                    ['LDA'])"
      ]
    },
    {
      "cell_type": "code",
      "execution_count": null,
      "id": "4febed92",
      "metadata": {
        "id": "4febed92"
      },
      "outputs": [],
      "source": [
        "lsitopics = [[word for word, prob in topic] for topicid, topic in lsimodel.show_topics(formatted=False)]\n",
        "\n",
        "# hdptopics = [[word for word, prob in topic] for topicid, topic in hdpmodel.show_topics(formatted=False)]\n",
        "\n",
        "ldatopics = [[word for word, prob in topic] for topicid, topic in ldamodel.show_topics(formatted=False)]\n",
        "\n",
        "nmftopics = [[word for word, prob in topic] for topicid, topic in nmfmodel.show_topics(formatted=False)]"
      ]
    },
    {
      "cell_type": "code",
      "execution_count": null,
      "id": "6de180b2",
      "metadata": {
        "id": "6de180b2"
      },
      "outputs": [],
      "source": [
        "# подсчёт когерентности моделей\n",
        "lsi_coherence = CoherenceModel(topics=lsitopics, texts=texts_v2, dictionary=dictionary, window_size=10).get_coherence()\n",
        "\n",
        "# hdp_coherence = CoherenceModel(topics=hdptopics[:10], texts=texts_v2, dictionary=dictionary, window_size=10).get_coherence()\n",
        "\n",
        "lda_coherence = CoherenceModel(topics=ldatopics, texts=texts_v2, dictionary=dictionary, window_size=10).get_coherence()\n",
        "\n",
        "nmf_coherence = CoherenceModel(topics=nmftopics, texts=texts_v2, dictionary=dictionary, window_size=10).get_coherence()"
      ]
    },
    {
      "cell_type": "code",
      "execution_count": null,
      "id": "737fe310",
      "metadata": {
        "colab": {
          "base_uri": "https://localhost:8080/",
          "height": 279
        },
        "id": "737fe310",
        "outputId": "48d92161-63fe-4ea6-d31d-ae2e9122bc8e"
      },
      "outputs": [
        {
          "output_type": "display_data",
          "data": {
            "text/plain": [
              "<Figure size 432x288 with 1 Axes>"
            ],
            "image/png": "[encoded data removed]"
          },
          "metadata": {
            "needs_background": "light"
          }
        }
      ],
      "source": [
        "evaluate_bar_graph([lsi_coherence, lda_coherence, nmf_coherence],\n",
        "                   ['LSI', 'LDA', 'NMF'])"
      ]
    },
    {
      "cell_type": "markdown",
      "source": [
        "word2vec сравнить созданные лучшей моделью топики (померить косинусную меру)"
      ],
      "metadata": {
        "id": "xAQ88IMP1-I_"
      },
      "id": "xAQ88IMP1-I_"
    }
  ],
  "metadata": {
    "kernelspec": {
      "display_name": "Python 3 (ipykernel)",
      "language": "python",
      "name": "python3"
    },
    "language_info": {
      "codemirror_mode": {
        "name": "ipython",
        "version": 3
      },
      "file_extension": ".py",
      "mimetype": "text/x-python",
      "name": "python",
      "nbconvert_exporter": "python",
      "pygments_lexer": "ipython3",
      "version": "3.8.7"
    },
    "colab": {
      "provenance": []
    },
    "accelerator": "GPU",
    "gpuClass": "standard"
  },
  "nbformat": 4,
  "nbformat_minor": 5
}