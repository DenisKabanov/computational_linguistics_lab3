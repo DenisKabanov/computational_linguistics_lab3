{
 "cells": [
  {
   "cell_type": "code",
   "execution_count": 122,
   "id": "9bbe66d3",
   "metadata": {
    "scrolled": true
   },
   "outputs": [
    {
     "name": "stdout",
     "output_type": "stream",
     "text": [
      "Looking in indexes: https://pypi.org/simple, https://pypi.ngc.nvidia.com\n",
      "Collecting plsa\n",
      "  Downloading plsa-0.6.0-py3-none-any.whl (33 kB)\n",
      "Requirement already satisfied: wordcloud>=1.5 in c:\\users\\user\\appdata\\local\\programs\\python\\python38\\lib\\site-packages (from plsa) (1.8.2.2)\n",
      "Requirement already satisfied: numpy>=1.16 in c:\\users\\user\\appdata\\local\\programs\\python\\python38\\lib\\site-packages (from plsa) (1.22.3)\n",
      "Requirement already satisfied: matplotlib>=3.0 in c:\\users\\user\\appdata\\local\\programs\\python\\python38\\lib\\site-packages (from plsa) (3.5.1)\n",
      "Requirement already satisfied: nltk>=3.4.5 in c:\\users\\user\\appdata\\local\\programs\\python\\python38\\lib\\site-packages (from plsa) (3.8.1)\n",
      "Requirement already satisfied: cycler>=0.10 in c:\\users\\user\\appdata\\local\\programs\\python\\python38\\lib\\site-packages (from matplotlib>=3.0->plsa) (0.11.0)\n",
      "Requirement already satisfied: packaging>=20.0 in c:\\users\\user\\appdata\\local\\programs\\python\\python38\\lib\\site-packages (from matplotlib>=3.0->plsa) (21.3)\n",
      "Requirement already satisfied: python-dateutil>=2.7 in c:\\users\\user\\appdata\\local\\programs\\python\\python38\\lib\\site-packages (from matplotlib>=3.0->plsa) (2.8.2)\n",
      "Requirement already satisfied: fonttools>=4.22.0 in c:\\users\\user\\appdata\\local\\programs\\python\\python38\\lib\\site-packages (from matplotlib>=3.0->plsa) (4.31.2)\n",
      "Requirement already satisfied: pyparsing>=2.2.1 in c:\\users\\user\\appdata\\local\\programs\\python\\python38\\lib\\site-packages (from matplotlib>=3.0->plsa) (2.4.7)\n",
      "Requirement already satisfied: kiwisolver>=1.0.1 in c:\\users\\user\\appdata\\local\\programs\\python\\python38\\lib\\site-packages (from matplotlib>=3.0->plsa) (1.4.2)\n",
      "Requirement already satisfied: pillow>=6.2.0 in c:\\users\\user\\appdata\\local\\programs\\python\\python38\\lib\\site-packages (from matplotlib>=3.0->plsa) (9.1.0)\n",
      "Requirement already satisfied: click in c:\\users\\user\\appdata\\local\\programs\\python\\python38\\lib\\site-packages (from nltk>=3.4.5->plsa) (8.1.3)\n",
      "Requirement already satisfied: tqdm in c:\\users\\user\\appdata\\local\\programs\\python\\python38\\lib\\site-packages (from nltk>=3.4.5->plsa) (4.64.1)\n",
      "Requirement already satisfied: joblib in c:\\users\\user\\appdata\\local\\programs\\python\\python38\\lib\\site-packages (from nltk>=3.4.5->plsa) (1.1.0)\n",
      "Requirement already satisfied: regex>=2021.8.3 in c:\\users\\user\\appdata\\local\\programs\\python\\python38\\lib\\site-packages (from nltk>=3.4.5->plsa) (2022.10.31)\n",
      "Requirement already satisfied: six>=1.5 in c:\\users\\user\\appdata\\local\\programs\\python\\python38\\lib\\site-packages (from python-dateutil>=2.7->matplotlib>=3.0->plsa) (1.16.0)\n",
      "Requirement already satisfied: colorama in c:\\users\\user\\appdata\\local\\programs\\python\\python38\\lib\\site-packages (from click->nltk>=3.4.5->plsa) (0.4.6)\n",
      "Installing collected packages: plsa\n",
      "Successfully installed plsa-0.6.0\n"
     ]
    },
    {
     "name": "stderr",
     "output_type": "stream",
     "text": [
      "\n",
      "[notice] A new release of pip available: 22.3.1 -> 23.0\n",
      "[notice] To update, run: c:\\users\\user\\appdata\\local\\programs\\python\\python38\\python.exe -m pip install --upgrade pip\n"
     ]
    }
   ],
   "source": [
    "# import sys\n",
    "# !{sys.executable} -m pip install spacy\n",
    "# !{sys.executable} -m spacy download ru_core_news_sm\n",
    "# !{sys.executable} -m pip install gensim\n",
    "# !{sys.executable} -m pip install pyLDAvis\n",
    "# !{sys.executable} -m pip install WordCloud"
   ]
  },
  {
   "cell_type": "code",
   "execution_count": 1,
   "id": "d44538fe",
   "metadata": {},
   "outputs": [
    {
     "name": "stderr",
     "output_type": "stream",
     "text": [
      "c:\\users\\user\\appdata\\local\\programs\\python\\python38\\lib\\site-packages\\tqdm\\auto.py:22: TqdmWarning: IProgress not found. Please update jupyter and ipywidgets. See https://ipywidgets.readthedocs.io/en/stable/user_install.html\n",
      "  from .autonotebook import tqdm as notebook_tqdm\n",
      "c:\\users\\user\\appdata\\local\\programs\\python\\python38\\lib\\site-packages\\past\\builtins\\misc.py:45: DeprecationWarning: the imp module is deprecated in favour of importlib; see the module's documentation for alternative uses\n",
      "  from imp import reload\n"
     ]
    }
   ],
   "source": [
    "import json # обработка json файлов\n",
    "import pandas as pd # работа с pandas DataFrame\n",
    "import numpy as np # для работы с числами и последовательностями (финальный вывод)\n",
    "import matplotlib.pyplot as plt # вывод графиков\n",
    "import re # регулярные выражения для обработки статей\n",
    "import string # обработка текста\n",
    "import spacy # обработка текста + лемматизация слов (приведение к нормальной форме) + создание корпуса\n",
    "import gensim # для объединения слов в n-граммы\n",
    "import pyLDAvis.gensim_models # визуализация\n",
    "from gensim.corpora import Dictionary # для создания словаря\n",
    "from gensim.models import LdaModel, LsiModel, Nmf, CoherenceModel # модель + метрика оценивания\n",
    "\n",
    "import warnings # выключение отображение warning-ов\n",
    "warnings.filterwarnings('ignore')"
   ]
  },
  {
   "cell_type": "code",
   "execution_count": 3,
   "id": "a0bfeaad",
   "metadata": {},
   "outputs": [],
   "source": [
    "article_filename = \"articles.json\" # путь до файла с полным сохранением статей"
   ]
  },
  {
   "cell_type": "code",
   "execution_count": 9,
   "id": "bde1b7e2",
   "metadata": {},
   "outputs": [
    {
     "data": {
      "text/html": [
       "<div>\n",
       "<style scoped>\n",
       "    .dataframe tbody tr th:only-of-type {\n",
       "        vertical-align: middle;\n",
       "    }\n",
       "\n",
       "    .dataframe tbody tr th {\n",
       "        vertical-align: top;\n",
       "    }\n",
       "\n",
       "    .dataframe thead th {\n",
       "        text-align: right;\n",
       "    }\n",
       "</style>\n",
       "<table border=\"1\" class=\"dataframe\">\n",
       "  <thead>\n",
       "    <tr style=\"text-align: right;\">\n",
       "      <th></th>\n",
       "      <th>article_id</th>\n",
       "      <th>title</th>\n",
       "      <th>category</th>\n",
       "      <th>tags</th>\n",
       "      <th>text</th>\n",
       "    </tr>\n",
       "  </thead>\n",
       "  <tbody>\n",
       "    <tr>\n",
       "      <th>0</th>\n",
       "      <td>https://www.nn.ru/text/entertainment/2023/01/1...</td>\n",
       "      <td>Кто такой цуцик и где раки зимуют? Попробуйте ...</td>\n",
       "      <td>entertainment</td>\n",
       "      <td>Развлечения,Знания,История,Развлечения,Тест,Фр...</td>\n",
       "      <td>Если бы не было фразеологизмов, наша речь (а в...</td>\n",
       "    </tr>\n",
       "    <tr>\n",
       "      <th>1</th>\n",
       "      <td>https://www.nn.ru/text/entertainment/2023/01/1...</td>\n",
       "      <td>Снова как мальчик: Филипп Киркоров резко помол...</td>\n",
       "      <td>entertainment</td>\n",
       "      <td>Развлечения,Филипп Киркоров,Звезды,Шоу-бизнес</td>\n",
       "      <td>Редко кто может похвастаться тем, что после ка...</td>\n",
       "    </tr>\n",
       "    <tr>\n",
       "      <th>2</th>\n",
       "      <td>https://www.nn.ru/text/entertainment/2023/01/1...</td>\n",
       "      <td>2023 — это колесница: каким будет год Черного ...</td>\n",
       "      <td>entertainment</td>\n",
       "      <td>Развлечения,Гороскоп,Нумеролог,Прогноз нумерол...</td>\n",
       "      <td>Если присмотреться внимательнее, то можно обна...</td>\n",
       "    </tr>\n",
       "    <tr>\n",
       "      <th>3</th>\n",
       "      <td>https://www.nn.ru/text/entertainment/2023/01/1...</td>\n",
       "      <td>Вам не решить: 10 советских задач в картинках ...</td>\n",
       "      <td>entertainment</td>\n",
       "      <td>Развлечения,СССР,Интересный тест,Тест,Внимание...</td>\n",
       "      <td>Ставить опыты над возможностями человеческих п...</td>\n",
       "    </tr>\n",
       "    <tr>\n",
       "      <th>4</th>\n",
       "      <td>https://www.nn.ru/text/entertainment/2023/01/1...</td>\n",
       "      <td>Не только «Ёлки-9»: что больше всего приглянул...</td>\n",
       "      <td>entertainment</td>\n",
       "      <td>Развлечения</td>\n",
       "      <td>Wink представляет самые популярные фильмы и се...</td>\n",
       "    </tr>\n",
       "  </tbody>\n",
       "</table>\n",
       "</div>"
      ],
      "text/plain": [
       "                                          article_id  \\\n",
       "0  https://www.nn.ru/text/entertainment/2023/01/1...   \n",
       "1  https://www.nn.ru/text/entertainment/2023/01/1...   \n",
       "2  https://www.nn.ru/text/entertainment/2023/01/1...   \n",
       "3  https://www.nn.ru/text/entertainment/2023/01/1...   \n",
       "4  https://www.nn.ru/text/entertainment/2023/01/1...   \n",
       "\n",
       "                                               title       category  \\\n",
       "0  Кто такой цуцик и где раки зимуют? Попробуйте ...  entertainment   \n",
       "1  Снова как мальчик: Филипп Киркоров резко помол...  entertainment   \n",
       "2  2023 — это колесница: каким будет год Черного ...  entertainment   \n",
       "3  Вам не решить: 10 советских задач в картинках ...  entertainment   \n",
       "4  Не только «Ёлки-9»: что больше всего приглянул...  entertainment   \n",
       "\n",
       "                                                tags  \\\n",
       "0  Развлечения,Знания,История,Развлечения,Тест,Фр...   \n",
       "1      Развлечения,Филипп Киркоров,Звезды,Шоу-бизнес   \n",
       "2  Развлечения,Гороскоп,Нумеролог,Прогноз нумерол...   \n",
       "3  Развлечения,СССР,Интересный тест,Тест,Внимание...   \n",
       "4                                        Развлечения   \n",
       "\n",
       "                                                text  \n",
       "0  Если бы не было фразеологизмов, наша речь (а в...  \n",
       "1  Редко кто может похвастаться тем, что после ка...  \n",
       "2  Если присмотреться внимательнее, то можно обна...  \n",
       "3  Ставить опыты над возможностями человеческих п...  \n",
       "4  Wink представляет самые популярные фильмы и се...  "
      ]
     },
     "execution_count": 9,
     "metadata": {},
     "output_type": "execute_result"
    }
   ],
   "source": [
    "articles = []\n",
    "with open(article_filename, encoding=\"utf-8\") as file:\n",
    "    for line in file:\n",
    "        articles.append(json.loads(line))\n",
    "data = pd.DataFrame(articles)\n",
    "data.head()"
   ]
  },
  {
   "cell_type": "markdown",
   "id": "4034f576",
   "metadata": {},
   "source": [
    "# 1) Предобработка данных"
   ]
  },
  {
   "cell_type": "code",
   "execution_count": 12,
   "id": "2494469c",
   "metadata": {},
   "outputs": [],
   "source": [
    "nlp = spacy.load(\"ru_core_news_sm\") # nlp (Natural Language Processing) - Объект Language с загруженным pipeline-ом (tok2vec, morphologizer, parser, senter, ner, attribute_ruler, lemmatizer)"
   ]
  },
  {
   "cell_type": "code",
   "execution_count": 13,
   "id": "da296c90",
   "metadata": {},
   "outputs": [],
   "source": [
    "EXCLUDE_SYMBOLS_STR = u''.join(['№', '«', 'ђ', '°', '±', '‚', 'ћ', '‰', '…', '»', 'ѓ', 'µ', '·', 'ґ', 'њ', 'ї', 'џ', 'є', '‹',\n",
    "                                '‡', '†', '¶', 'ќ', '€', '“', 'ў', '§', '„', '”', '\\ufeff', '’', 'љ', '›', '•', '—', '‘', \n",
    "                                '\\x7f', '\\xad', '¤', '\\xa0', '\\u200e'])"
   ]
  },
  {
   "cell_type": "code",
   "execution_count": 16,
   "id": "8ab4e68a",
   "metadata": {},
   "outputs": [],
   "source": [
    "corpus = [re.sub(r'\\w+:\\/{2}[\\d\\w-]+(\\.[\\d\\w-]+)*(?:(?:\\/[^\\s/]*))*', ' ', text) for text in data[\"text\"]] # удаление ссылок\n",
    "corpus = [text.lower() for text in corpus] # приведение к нижнему регистру\n",
    "corpus = [re.sub(r'[\\d\\w-]{1,}\\.(ru|com|ua)', ' ', text) for text in corpus] # удаление неполных ссылок\n",
    "# в статьях нет \\n или \\t\n",
    "\n",
    "regex_dig = re.compile('[%s]' % re.escape(string.digits))\n",
    "corpus = [regex_dig.sub(' ', text) for text in corpus] # убираем цифры\n",
    "\n",
    "regex_punct = re.compile('[%s]' % re.escape(string.punctuation))\n",
    "corpus = [regex_punct.sub(' ', text) for text in corpus] # убираем пунктуацию\n",
    "\n",
    "regex_symb = re.compile('[%s]' % re.escape(EXCLUDE_SYMBOLS_STR))\n",
    "corpus = [regex_symb.sub(' ', text) for text in corpus] # убираем дополнительные символы\n",
    "\n",
    "corpus = [re.sub(' +', ' ', text) for text in corpus] # оставляем максимум 1 пробел\n",
    "corpus = [text.strip() for text in corpus] # удаляем лишние пробелы в начале и конце статей"
   ]
  },
  {
   "cell_type": "code",
   "execution_count": 20,
   "id": "7d79d505",
   "metadata": {},
   "outputs": [],
   "source": [
    "docs = []\n",
    "for text in corpus:\n",
    "    docs.append(nlp(text)) # передача данных в pipeline Natural Language Processing"
   ]
  },
  {
   "cell_type": "markdown",
   "id": "2a172016",
   "metadata": {},
   "source": [
    "сохранение, так как предыдущий блок очень долго выполнялся"
   ]
  },
  {
   "cell_type": "code",
   "execution_count": 2,
   "id": "df07dcc6",
   "metadata": {},
   "outputs": [
    {
     "ename": "NameError",
     "evalue": "name 'docs' is not defined",
     "output_type": "error",
     "traceback": [
      "\u001b[1;31m---------------------------------------------------------------------------\u001b[0m",
      "\u001b[1;31mNameError\u001b[0m                                 Traceback (most recent call last)",
      "Input \u001b[1;32mIn [2]\u001b[0m, in \u001b[0;36m<cell line: 3>\u001b[1;34m()\u001b[0m\n\u001b[0;32m      1\u001b[0m \u001b[38;5;28;01mimport\u001b[39;00m \u001b[38;5;21;01mpickle\u001b[39;00m\n\u001b[0;32m      2\u001b[0m f \u001b[38;5;241m=\u001b[39m \u001b[38;5;28mopen\u001b[39m(\u001b[38;5;124mr\u001b[39m\u001b[38;5;124m'\u001b[39m\u001b[38;5;124mnlp_articles.pkl\u001b[39m\u001b[38;5;124m'\u001b[39m, \u001b[38;5;124m'\u001b[39m\u001b[38;5;124mwb\u001b[39m\u001b[38;5;124m'\u001b[39m) \u001b[38;5;66;03m# сохранение в бинарном формате (1.5 ГИГАБАЙТА?!)\u001b[39;00m\n\u001b[1;32m----> 3\u001b[0m pickle\u001b[38;5;241m.\u001b[39mdump(\u001b[43mdocs\u001b[49m, f)\n",
      "\u001b[1;31mNameError\u001b[0m: name 'docs' is not defined"
     ]
    }
   ],
   "source": [
    "import pickle\n",
    "f = open(r'nlp_articles.pkl', 'wb') # сохранение в бинарном формате (1.5 ГИГАБАЙТА?!)\n",
    "pickle.dump(docs, f)"
   ]
  },
  {
   "cell_type": "code",
   "execution_count": 5,
   "id": "306fb453",
   "metadata": {},
   "outputs": [],
   "source": [
    "docs = []"
   ]
  },
  {
   "cell_type": "code",
   "execution_count": 6,
   "id": "889d9ea0",
   "metadata": {},
   "outputs": [
    {
     "ename": "EOFError",
     "evalue": "Ran out of input",
     "output_type": "error",
     "traceback": [
      "\u001b[1;31m---------------------------------------------------------------------------\u001b[0m",
      "\u001b[1;31mEOFError\u001b[0m                                  Traceback (most recent call last)",
      "Input \u001b[1;32mIn [6]\u001b[0m, in \u001b[0;36m<cell line: 2>\u001b[1;34m()\u001b[0m\n\u001b[0;32m      1\u001b[0m f \u001b[38;5;241m=\u001b[39m \u001b[38;5;28mopen\u001b[39m(\u001b[38;5;124mr\u001b[39m\u001b[38;5;124m'\u001b[39m\u001b[38;5;124mnlp_articles.pkl\u001b[39m\u001b[38;5;124m'\u001b[39m, \u001b[38;5;124m'\u001b[39m\u001b[38;5;124mrb\u001b[39m\u001b[38;5;124m'\u001b[39m)\n\u001b[1;32m----> 2\u001b[0m docs \u001b[38;5;241m=\u001b[39m \u001b[43mpickle\u001b[49m\u001b[38;5;241;43m.\u001b[39;49m\u001b[43mload\u001b[49m\u001b[43m(\u001b[49m\u001b[43mf\u001b[49m\u001b[43m)\u001b[49m\n\u001b[0;32m      3\u001b[0m \u001b[38;5;28mprint\u001b[39m(docs[\u001b[38;5;241m0\u001b[39m][\u001b[38;5;241m0\u001b[39m]\u001b[38;5;241m.\u001b[39mis_stop)\n",
      "\u001b[1;31mEOFError\u001b[0m: Ran out of input"
     ]
    }
   ],
   "source": [
    "f = open(r'nlp_articles.pkl', 'rb')\n",
    "docs = pickle.load(f)\n",
    "print(docs[0][0].is_stop) # проверка работы"
   ]
  },
  {
   "cell_type": "code",
   "execution_count": 23,
   "id": "18a10e2a",
   "metadata": {},
   "outputs": [
    {
     "data": {
      "text/plain": [
       "'Если бы не было фразеологизмов, наша речь (а возможно, и вся жизнь) была бы куда скучнее. Но еще интереснее не просто пользоваться этими выражениями, но и знать, откуда они произошли и почему мы вообще так стали говорить. Узнать это мы и предлагаем вам прямо сейчас. И не бойтесь ошибиться — это тест не про исключительные знания, а про то, что нас окружает.   '"
      ]
     },
     "execution_count": 23,
     "metadata": {},
     "output_type": "execute_result"
    }
   ],
   "source": [
    "data[\"text\"][0]"
   ]
  },
  {
   "cell_type": "code",
   "execution_count": 24,
   "id": "1efc8250",
   "metadata": {},
   "outputs": [
    {
     "data": {
      "text/plain": [
       "если бы не было фразеологизмов наша речь а возможно и вся жизнь была бы куда скучнее но еще интереснее не просто пользоваться этими выражениями но и знать откуда они произошли и почему мы вообще так стали говорить узнать это мы и предлагаем вам прямо сейчас и не бойтесь ошибиться это тест не про исключительные знания а про то что нас окружает"
      ]
     },
     "execution_count": 24,
     "metadata": {},
     "output_type": "execute_result"
    }
   ],
   "source": [
    "docs[0]"
   ]
  },
  {
   "cell_type": "code",
   "execution_count": 59,
   "id": "b33e9952",
   "metadata": {
    "scrolled": true
   },
   "outputs": [
    {
     "name": "stdout",
     "output_type": "stream",
     "text": [
      "0 \t\t если \t\t SCONJ \t\t True\n",
      "1 \t\t бы \t\t AUX \t\t True\n",
      "2 \t\t не \t\t PART \t\t True\n",
      "3 \t\t было \t\t VERB \t\t True\n",
      "4 \t\t фразеологизмов \t\t NOUN \t\t False\n",
      "5 \t\t наша \t\t DET \t\t True\n",
      "6 \t\t речь \t\t NOUN \t\t False\n",
      "7 \t\t а \t\t CCONJ \t\t True\n",
      "8 \t\t возможно \t\t ADV \t\t True\n",
      "9 \t\t и \t\t PART \t\t True\n",
      "10 \t\t вся \t\t DET \t\t True\n",
      "11 \t\t жизнь \t\t NOUN \t\t False\n",
      "12 \t\t была \t\t AUX \t\t True\n",
      "13 \t\t бы \t\t AUX \t\t True\n",
      "14 \t\t куда \t\t ADV \t\t True\n",
      "15 \t\t скучнее \t\t ADJ \t\t False\n",
      "16 \t\t но \t\t CCONJ \t\t True\n",
      "17 \t\t еще \t\t ADV \t\t True\n",
      "18 \t\t интереснее \t\t ADJ \t\t False\n",
      "19 \t\t не \t\t PART \t\t True\n",
      "20 \t\t просто \t\t PART \t\t True\n",
      "21 \t\t пользоваться \t\t VERB \t\t False\n",
      "22 \t\t этими \t\t DET \t\t True\n",
      "23 \t\t выражениями \t\t NOUN \t\t False\n",
      "24 \t\t но \t\t CCONJ \t\t True\n",
      "25 \t\t и \t\t CCONJ \t\t True\n",
      "26 \t\t знать \t\t VERB \t\t False\n",
      "27 \t\t откуда \t\t ADV \t\t True\n",
      "28 \t\t они \t\t PRON \t\t True\n",
      "29 \t\t произошли \t\t VERB \t\t False\n",
      "30 \t\t и \t\t CCONJ \t\t True\n",
      "31 \t\t почему \t\t ADV \t\t True\n",
      "32 \t\t мы \t\t PRON \t\t True\n",
      "33 \t\t вообще \t\t ADV \t\t True\n",
      "34 \t\t так \t\t ADV \t\t True\n",
      "35 \t\t стали \t\t VERB \t\t True\n",
      "36 \t\t говорить \t\t VERB \t\t False\n",
      "37 \t\t узнать \t\t VERB \t\t False\n",
      "38 \t\t это \t\t PRON \t\t True\n",
      "39 \t\t мы \t\t PRON \t\t True\n",
      "40 \t\t и \t\t CCONJ \t\t True\n",
      "41 \t\t предлагаем \t\t VERB \t\t False\n",
      "42 \t\t вам \t\t PRON \t\t True\n",
      "43 \t\t прямо \t\t ADV \t\t False\n",
      "44 \t\t сейчас \t\t ADV \t\t True\n",
      "45 \t\t и \t\t CCONJ \t\t True\n",
      "46 \t\t не \t\t PART \t\t True\n",
      "47 \t\t бойтесь \t\t VERB \t\t False\n",
      "48 \t\t ошибиться \t\t VERB \t\t False\n",
      "49 \t\t это \t\t PRON \t\t True\n",
      "50 \t\t тест \t\t NOUN \t\t False\n",
      "51 \t\t не \t\t PART \t\t True\n",
      "52 \t\t про \t\t ADP \t\t True\n",
      "53 \t\t исключительные \t\t ADJ \t\t False\n",
      "54 \t\t знания \t\t NOUN \t\t False\n",
      "55 \t\t а \t\t CCONJ \t\t True\n",
      "56 \t\t про \t\t ADP \t\t True\n",
      "57 \t\t то \t\t PRON \t\t True\n",
      "58 \t\t что \t\t SCONJ \t\t True\n",
      "59 \t\t нас \t\t PRON \t\t True\n",
      "60 \t\t окружает \t\t VERB \t\t False\n"
     ]
    }
   ],
   "source": [
    "# for ind, i in enumerate(docs[0]):\n",
    "#     print(ind, \"\\t\\t\", i, \"\\t\\t\", i.pos_, \"\\t\\t\", i.is_stop)"
   ]
  },
  {
   "cell_type": "code",
   "execution_count": 60,
   "id": "a6ba4a6b",
   "metadata": {},
   "outputs": [],
   "source": [
    "texts, article, skl_texts = [], [], []\n",
    "# additional_stop_words = \n",
    "# texts - массив лемматизированных статей (массив из массивов лемм для статей)\n",
    "# article - массив лемм в одной статье (зануляется при окончании рассматриваемой статьи)\n",
    "# skl_texts - массив текстов из лемм\n",
    "for text in docs:\n",
    "    for idx, w in enumerate(text): # проходимся по всем словам из выбранной статьи\n",
    "        # если это не стоп-слово и не знак препинания (+ число, конец строки), добавляем его в нашу статью!\n",
    "#         if not w.is_stop and not w.is_punct and not w.like_num and not w.text in additional_stop_words: # w.text - для взятия слова\n",
    "        if not w.is_stop and not w.is_punct and not w.like_num and not w.text in additional_stop_words and not w.pos_ == \"VERB\": # w.text - для взятия слова\n",
    "            # добавляем лематизированную версию слова\n",
    "            article.append(w.lemma_)\n",
    "        # если это новая строка, это означает, что мы находимся в нашем следующем документе\n",
    "        if idx == (len(text) - 1):\n",
    "            skl_texts.append(' '.join(article))\n",
    "            texts.append(article)\n",
    "            article = []"
   ]
  },
  {
   "cell_type": "code",
   "execution_count": 61,
   "id": "fc7a3d00",
   "metadata": {},
   "outputs": [
    {
     "name": "stdout",
     "output_type": "stream",
     "text": [
      "['фразеологизм', 'речь', 'скучный', 'интересный', 'выражение', 'прямо', 'тест', 'исключительный', 'знание']\n"
     ]
    }
   ],
   "source": [
    "print(texts[0])"
   ]
  },
  {
   "cell_type": "code",
   "execution_count": 62,
   "id": "d9e0271f",
   "metadata": {},
   "outputs": [
    {
     "name": "stdout",
     "output_type": "stream",
     "text": [
      "фразеологизм речь скучный интересный выражение прямо тест исключительный знание\n"
     ]
    }
   ],
   "source": [
    "print(skl_texts[0])"
   ]
  },
  {
   "cell_type": "markdown",
   "id": "5827b915",
   "metadata": {},
   "source": [
    "### Объединение слов в n-граммы"
   ]
  },
  {
   "cell_type": "code",
   "execution_count": 63,
   "id": "513fa0ad",
   "metadata": {},
   "outputs": [],
   "source": [
    "bigram = gensim.models.Phrases(texts) # обучение модели нахождения n-грамм"
   ]
  },
  {
   "cell_type": "code",
   "execution_count": 64,
   "id": "609b81d4",
   "metadata": {},
   "outputs": [
    {
     "name": "stdout",
     "output_type": "stream",
     "text": [
      "['база', 'архангельский', 'филиал', 'россельхозбанк', 'адрес', 'архангельск', 'ул', 'карл', 'либкнехт', 'центр', 'оказание', 'услуга', 'бизнес', 'цоу', 'государственный', 'муниципальный', 'услуга', 'услуга', 'акционерный', 'общество', 'федеральный', 'корпорация', 'развитие', 'малый', 'средний', 'предпринимательство', 'юридический', 'лицо', 'индивидуальный', 'предприниматель', 'гражданин', 'предпринимательский', 'деятельность', 'представитель', 'малый', 'средний', 'предпринимательство', 'доступный', 'окно', 'приём', 'выдача', 'документ', 'цель', 'организация', 'предоставление', 'государственный', 'муниципальный', 'услуга', 'условие', 'соглашение', 'предприниматель', 'город', 'архангельск', 'документ', 'регистрация', 'юридический', 'лицо', 'консультация', 'налог', 'кредитный', 'продукт', 'банк', 'расчётный', 'счёт', 'депозит', 'комплексный', 'поддержка', 'малый', 'средний', 'предпринимательство', 'клиент', 'насколько', 'важный', 'максимум', 'услуга', 'место', 'появление', 'база', 'банк', 'специалист', 'мфц', 'клиент', 'юридический', 'лицо', 'свободный', 'быстрый', 'доступ', 'столь', 'государственный', 'услуга', 'директор', 'архангельский', 'филиал', 'банк', 'дмитрий', 'костылев', 'режим', 'работа', 'окно', 'понедельник', 'пятница', 'суббота', 'воскресение', 'выходной', 'день'] \n",
      "\n",
      " ['база', 'архангельский_филиал', 'россельхозбанк', 'адрес', 'архангельск', 'ул_карл', 'либкнехт', 'центр', 'оказание_услуга', 'бизнес', 'цоу', 'государственный_муниципальный', 'услуга', 'услуга', 'акционерный_общество', 'федеральный', 'корпорация', 'развитие', 'малый_средний', 'предпринимательство', 'юридический_лицо', 'индивидуальный_предприниматель', 'гражданин', 'предпринимательский_деятельность', 'представитель', 'малый_средний', 'предпринимательство', 'доступный', 'окно', 'приём', 'выдача_документ', 'цель', 'организация', 'предоставление_государственный', 'муниципальный_услуга', 'условие', 'соглашение', 'предприниматель', 'город', 'архангельск', 'документ', 'регистрация', 'юридический_лицо', 'консультация', 'налог', 'кредитный', 'продукт', 'банк', 'расчётный_счёт', 'депозит', 'комплексный', 'поддержка', 'малый_средний', 'предпринимательство', 'клиент', 'насколько', 'важный', 'максимум', 'услуга', 'место', 'появление', 'база', 'банк', 'специалист', 'мфц', 'клиент', 'юридический_лицо', 'свободный', 'быстрый_доступ', 'столь', 'государственный', 'услуга', 'директор_архангельский', 'филиал_банк', 'дмитрий_костылев', 'режим_работа', 'окно', 'понедельник', 'пятница_суббота', 'воскресение', 'выходной_день']\n"
     ]
    }
   ],
   "source": [
    "print(texts[-1], \"\\n\\n\", bigram[texts[-1]])"
   ]
  },
  {
   "cell_type": "code",
   "execution_count": 149,
   "id": "90f8b59a",
   "metadata": {},
   "outputs": [],
   "source": [
    "texts_v2 = [bigram[line] for line in texts] # создаём массив лемм для статей с использованием биграммами (во многом он остался схож с обычным texts)"
   ]
  },
  {
   "cell_type": "markdown",
   "id": "6d5019fc",
   "metadata": {},
   "source": [
    "## Вывод самых часто используемых слов в статьях"
   ]
  },
  {
   "cell_type": "code",
   "execution_count": 120,
   "id": "96045f10",
   "metadata": {},
   "outputs": [
    {
     "data": {
      "image/png": "[encoded data removed]",
      "text/plain": [
       "<PIL.Image.Image image mode=RGB size=400x200>"
      ]
     },
     "execution_count": 120,
     "metadata": {},
     "output_type": "execute_result"
    }
   ],
   "source": [
    "long_string = ','.join(j for sub in texts_v2 for j in sub) # объединяем все слова\n",
    "\n",
    "wordcloud = WordCloud(background_color=\"white\", max_words=5000, contour_width=3, contour_color='steelblue') # создание WordCloud объекта\n",
    "\n",
    "wordcloud.generate(long_string)\n",
    "wordcloud.to_image()"
   ]
  },
  {
   "cell_type": "code",
   "execution_count": 150,
   "id": "e0cb3abc",
   "metadata": {},
   "outputs": [],
   "source": [
    "dictionary = Dictionary(texts_v2) # создаём словарь (слова будут в нём не по порядку)"
   ]
  },
  {
   "cell_type": "code",
   "execution_count": 69,
   "id": "4d60ec07",
   "metadata": {},
   "outputs": [
    {
     "name": "stdout",
     "output_type": "stream",
     "text": [
      "интересный\n",
      "2\n"
     ]
    }
   ],
   "source": [
    "# print(dictionary[2]) # вывод слова по id\n",
    "# print(dictionary.token2id[\"интересный\"]) # вывод id, под которым слово записано в словаре"
   ]
  },
  {
   "cell_type": "code",
   "execution_count": 136,
   "id": "3de87e86",
   "metadata": {},
   "outputs": [],
   "source": [
    "corpus = [dictionary.doc2bow(text) for text in texts_v2] # преобразовывание статей в формат bag-of-words (BoW)"
   ]
  },
  {
   "cell_type": "code",
   "execution_count": 137,
   "id": "4e8a619c",
   "metadata": {},
   "outputs": [
    {
     "data": {
      "text/plain": [
       "[(0, 1), (1, 1), (2, 1), (3, 1), (4, 1), (5, 1), (6, 1), (7, 1), (8, 1)]"
      ]
     },
     "execution_count": 137,
     "metadata": {},
     "output_type": "execute_result"
    }
   ],
   "source": [
    "corpus[0][0:10] # возвращает: (id слова в словаре, сколько раз оно встречается)"
   ]
  },
  {
   "cell_type": "markdown",
   "id": "ee92a59d",
   "metadata": {},
   "source": [
    "# 2) Использование моделей"
   ]
  },
  {
   "cell_type": "markdown",
   "id": "d192a1a5",
   "metadata": {},
   "source": [
    "## LSI:"
   ]
  },
  {
   "cell_type": "code",
   "execution_count": 133,
   "id": "8c8d8cfa",
   "metadata": {},
   "outputs": [],
   "source": [
    "lsimodel = LsiModel(corpus=corpus, num_topics=10, id2word=dictionary) # создание LSI модели с передачей корупа corpus, определяемое число тем = 10, id2word - ID to word mapping (используем созданный словарь)"
   ]
  },
  {
   "cell_type": "code",
   "execution_count": 134,
   "id": "4141bf1b",
   "metadata": {},
   "outputs": [
    {
     "data": {
      "text/plain": [
       "[(0,\n",
       "  '0.301*\"рубль\" + 0.252*\"россия\" + 0.213*\"новый\" + 0.176*\"автомобиль\" + 0.168*\"цена\" + 0.164*\"машина\" + 0.158*\"ребёнок\" + 0.157*\"человек\" + 0.122*\"работа\" + 0.111*\"страна\"'),\n",
       " (1,\n",
       "  '-0.430*\"рубль\" + -0.285*\"автомобиль\" + -0.258*\"цена\" + -0.242*\"машина\" + 0.197*\"игра\" + 0.196*\"команда\" + 0.172*\"матч\" + 0.170*\"ребёнок\" + 0.128*\"человек\" + 0.128*\"врач\"'),\n",
       " (2,\n",
       "  '-0.293*\"матч\" + 0.291*\"ребёнок\" + -0.287*\"команда\" + -0.286*\"игра\" + 0.239*\"врач\" + -0.178*\"болельщик\" + 0.176*\"человек\" + -0.161*\"нижний_новгород\" + -0.134*\"россия\" + -0.112*\"автомобиль\"'),\n",
       " (3,\n",
       "  '-0.361*\"рубль\" + 0.355*\"автомобиль\" + 0.339*\"машина\" + 0.171*\"новый\" + -0.136*\"цена\" + 0.122*\"фильм\" + 0.122*\"водитель\" + -0.120*\"врач\" + 0.110*\"город\" + -0.107*\"матч\"'),\n",
       " (4,\n",
       "  '-0.306*\"рубль\" + 0.272*\"автомобиль\" + 0.248*\"машина\" + 0.243*\"врач\" + 0.161*\"водитель\" + 0.151*\"случай\" + -0.138*\"фильм\" + 0.133*\"пациент\" + -0.130*\"город\" + -0.126*\"архангельск\"'),\n",
       " (5,\n",
       "  '0.623*\"ребёнок\" + 0.282*\"рубль\" + -0.281*\"россия\" + -0.155*\"страна\" + -0.140*\"человек\" + 0.137*\"машина\" + 0.133*\"автомобиль\" + 0.131*\"родитель\" + 0.104*\"семья\" + 0.104*\"водитель\"'),\n",
       " (6,\n",
       "  '0.434*\"ребёнок\" + -0.353*\"водитель\" + 0.310*\"россия\" + 0.227*\"цена\" + 0.162*\"модель\" + -0.137*\"случай\" + -0.128*\"рубль\" + -0.122*\"банк\" + -0.115*\"деньга\" + -0.109*\"работа\"'),\n",
       " (7,\n",
       "  '-0.370*\"россия\" + 0.332*\"врач\" + 0.296*\"цена\" + 0.259*\"рубль\" + -0.254*\"ребёнок\" + -0.174*\"страна\" + 0.148*\"пациент\" + -0.140*\"банк\" + -0.126*\"водитель\" + -0.115*\"деньга\"'),\n",
       " (8,\n",
       "  '0.228*\"нижний_новгород\" + 0.215*\"водитель\" + 0.209*\"город\" + -0.183*\"фильм\" + -0.140*\"деньга\" + -0.127*\"актёр\" + -0.122*\"хороший\" + 0.119*\"программа\" + 0.118*\"нижегородский\" + 0.114*\"цена_руб\"'),\n",
       " (9,\n",
       "  '-0.542*\"цена\" + 0.326*\"рубль\" + -0.260*\"водитель\" + -0.190*\"товар\" + -0.151*\"ребёнок\" + 0.148*\"врач\" + 0.138*\"новый\" + -0.135*\"продукт\" + -0.132*\"ситуация\" + 0.126*\"россия\"')]"
      ]
     },
     "execution_count": 134,
     "metadata": {},
     "output_type": "execute_result"
    }
   ],
   "source": [
    "lsimodel.show_topics()  # Вывод тем для LSI модели"
   ]
  },
  {
   "cell_type": "markdown",
   "id": "6a37c72d",
   "metadata": {},
   "source": [
    "## LDA:"
   ]
  },
  {
   "cell_type": "code",
   "execution_count": 152,
   "id": "66a88c47",
   "metadata": {},
   "outputs": [
    {
     "ename": "FloatingPointError",
     "evalue": "underflow encountered in multiply",
     "output_type": "error",
     "traceback": [
      "\u001b[1;31m---------------------------------------------------------------------------\u001b[0m",
      "\u001b[1;31mFloatingPointError\u001b[0m                        Traceback (most recent call last)",
      "Input \u001b[1;32mIn [152]\u001b[0m, in \u001b[0;36m<cell line: 6>\u001b[1;34m()\u001b[0m\n\u001b[0;32m      3\u001b[0m iterations \u001b[38;5;241m=\u001b[39m \u001b[38;5;241m40\u001b[39m \u001b[38;5;66;03m# Максимальное количество итераций по корпусу при выводе тематического распределения корпуса\u001b[39;00m\n\u001b[0;32m      4\u001b[0m eval_every \u001b[38;5;241m=\u001b[39m \u001b[38;5;28;01mNone\u001b[39;00m  \u001b[38;5;66;03m# Don't evaluate model perplexity, takes too much time.\u001b[39;00m\n\u001b[1;32m----> 6\u001b[0m ldamodel \u001b[38;5;241m=\u001b[39m \u001b[43mLdaModel\u001b[49m\u001b[43m(\u001b[49m\u001b[43mcorpus\u001b[49m\u001b[38;5;241;43m=\u001b[39;49m\u001b[43mcorpus\u001b[49m\u001b[43m,\u001b[49m\u001b[43m \u001b[49m\u001b[38;5;66;43;03m# передаваемый поток документов\u001b[39;49;00m\n\u001b[0;32m      7\u001b[0m \u001b[43m                    \u001b[49m\u001b[43mnum_topics\u001b[49m\u001b[38;5;241;43m=\u001b[39;49m\u001b[38;5;241;43m10\u001b[39;49m\u001b[43m,\u001b[49m\u001b[43m \u001b[49m\u001b[38;5;66;43;03m# Количество запрошенных скрытых тем, которые необходимо извлечь из учебного корпуса.\u001b[39;49;00m\n\u001b[0;32m      8\u001b[0m \u001b[43m                    \u001b[49m\u001b[43mid2word\u001b[49m\u001b[38;5;241;43m=\u001b[39;49m\u001b[43mdictionary\u001b[49m\u001b[43m,\u001b[49m\u001b[43m \u001b[49m\u001b[38;5;66;43;03m# Mapping id к словам (словарь)\u001b[39;49;00m\n\u001b[0;32m      9\u001b[0m \u001b[43m                    \u001b[49m\u001b[43mchunksize\u001b[49m\u001b[38;5;241;43m=\u001b[39;49m\u001b[43mchunksize\u001b[49m\u001b[43m,\u001b[49m\u001b[43m \u001b[49m\u001b[38;5;66;43;03m# Количество документов, которые будут использоваться в каждом блоке обучения\u001b[39;49;00m\n\u001b[0;32m     10\u001b[0m \u001b[43m                    \u001b[49m\u001b[43malpha\u001b[49m\u001b[38;5;241;43m=\u001b[39;49m\u001b[38;5;124;43m'\u001b[39;49m\u001b[38;5;124;43mauto\u001b[39;49m\u001b[38;5;124;43m'\u001b[39;49m\u001b[43m,\u001b[49m\u001b[43m \u001b[49m\u001b[38;5;66;43;03m# априорное убеждение в распространении тем по документам\u001b[39;49;00m\n\u001b[0;32m     11\u001b[0m \u001b[43m                    \u001b[49m\u001b[43meta\u001b[49m\u001b[38;5;241;43m=\u001b[39;49m\u001b[38;5;124;43m'\u001b[39;49m\u001b[38;5;124;43mauto\u001b[39;49m\u001b[38;5;124;43m'\u001b[39;49m\u001b[43m,\u001b[49m\u001b[43m \u001b[49m\u001b[38;5;66;43;03m# априорное убеждение в распределении слов по темам\u001b[39;49;00m\n\u001b[0;32m     12\u001b[0m \u001b[43m                    \u001b[49m\u001b[43miterations\u001b[49m\u001b[38;5;241;43m=\u001b[39;49m\u001b[43miterations\u001b[49m\u001b[43m,\u001b[49m\u001b[43m \u001b[49m\u001b[38;5;66;43;03m# Максимальное количество итераций по корпусу при выводе тематического распределения корпуса\u001b[39;49;00m\n\u001b[0;32m     13\u001b[0m \u001b[43m                    \u001b[49m\u001b[43mpasses\u001b[49m\u001b[38;5;241;43m=\u001b[39;49m\u001b[43mpasses\u001b[49m\u001b[43m,\u001b[49m\u001b[43m \u001b[49m\u001b[38;5;66;43;03m# Количество проходов по корпусу во время обучения\u001b[39;49;00m\n\u001b[0;32m     14\u001b[0m \u001b[43m                    \u001b[49m\u001b[43meval_every\u001b[49m\u001b[38;5;241;43m=\u001b[39;49m\u001b[43meval_every\u001b[49m\u001b[43m)\u001b[49m\n",
      "File \u001b[1;32mc:\\users\\user\\appdata\\local\\programs\\python\\python38\\lib\\site-packages\\gensim\\models\\ldamodel.py:521\u001b[0m, in \u001b[0;36mLdaModel.__init__\u001b[1;34m(self, corpus, num_topics, id2word, distributed, chunksize, passes, update_every, alpha, eta, decay, offset, eval_every, iterations, gamma_threshold, minimum_probability, random_state, ns_conf, minimum_phi_value, per_word_topics, callbacks, dtype)\u001b[0m\n\u001b[0;32m    519\u001b[0m use_numpy \u001b[38;5;241m=\u001b[39m \u001b[38;5;28mself\u001b[39m\u001b[38;5;241m.\u001b[39mdispatcher \u001b[38;5;129;01mis\u001b[39;00m \u001b[38;5;129;01mnot\u001b[39;00m \u001b[38;5;28;01mNone\u001b[39;00m\n\u001b[0;32m    520\u001b[0m start \u001b[38;5;241m=\u001b[39m time\u001b[38;5;241m.\u001b[39mtime()\n\u001b[1;32m--> 521\u001b[0m \u001b[38;5;28;43mself\u001b[39;49m\u001b[38;5;241;43m.\u001b[39;49m\u001b[43mupdate\u001b[49m\u001b[43m(\u001b[49m\u001b[43mcorpus\u001b[49m\u001b[43m,\u001b[49m\u001b[43m \u001b[49m\u001b[43mchunks_as_numpy\u001b[49m\u001b[38;5;241;43m=\u001b[39;49m\u001b[43muse_numpy\u001b[49m\u001b[43m)\u001b[49m\n\u001b[0;32m    522\u001b[0m \u001b[38;5;28mself\u001b[39m\u001b[38;5;241m.\u001b[39madd_lifecycle_event(\n\u001b[0;32m    523\u001b[0m     \u001b[38;5;124m\"\u001b[39m\u001b[38;5;124mcreated\u001b[39m\u001b[38;5;124m\"\u001b[39m,\n\u001b[0;32m    524\u001b[0m     msg\u001b[38;5;241m=\u001b[39m\u001b[38;5;124mf\u001b[39m\u001b[38;5;124m\"\u001b[39m\u001b[38;5;124mtrained \u001b[39m\u001b[38;5;132;01m{\u001b[39;00m\u001b[38;5;28mself\u001b[39m\u001b[38;5;132;01m}\u001b[39;00m\u001b[38;5;124m in \u001b[39m\u001b[38;5;132;01m{\u001b[39;00mtime\u001b[38;5;241m.\u001b[39mtime() \u001b[38;5;241m-\u001b[39m start\u001b[38;5;132;01m:\u001b[39;00m\u001b[38;5;124m.2f\u001b[39m\u001b[38;5;132;01m}\u001b[39;00m\u001b[38;5;124ms\u001b[39m\u001b[38;5;124m\"\u001b[39m,\n\u001b[0;32m    525\u001b[0m )\n",
      "File \u001b[1;32mc:\\users\\user\\appdata\\local\\programs\\python\\python38\\lib\\site-packages\\gensim\\models\\ldamodel.py:1006\u001b[0m, in \u001b[0;36mLdaModel.update\u001b[1;34m(self, corpus, chunksize, decay, offset, passes, update_every, eval_every, iterations, gamma_threshold, chunks_as_numpy)\u001b[0m\n\u001b[0;32m   1001\u001b[0m \u001b[38;5;28;01melse\u001b[39;00m:\n\u001b[0;32m   1002\u001b[0m     logger\u001b[38;5;241m.\u001b[39minfo(\n\u001b[0;32m   1003\u001b[0m         \u001b[38;5;124m\"\u001b[39m\u001b[38;5;124mPROGRESS: pass \u001b[39m\u001b[38;5;132;01m%i\u001b[39;00m\u001b[38;5;124m, at document #\u001b[39m\u001b[38;5;132;01m%i\u001b[39;00m\u001b[38;5;124m/\u001b[39m\u001b[38;5;132;01m%i\u001b[39;00m\u001b[38;5;124m\"\u001b[39m,\n\u001b[0;32m   1004\u001b[0m         pass_, chunk_no \u001b[38;5;241m*\u001b[39m chunksize \u001b[38;5;241m+\u001b[39m \u001b[38;5;28mlen\u001b[39m(chunk), lencorpus\n\u001b[0;32m   1005\u001b[0m     )\n\u001b[1;32m-> 1006\u001b[0m     gammat \u001b[38;5;241m=\u001b[39m \u001b[38;5;28;43mself\u001b[39;49m\u001b[38;5;241;43m.\u001b[39;49m\u001b[43mdo_estep\u001b[49m\u001b[43m(\u001b[49m\u001b[43mchunk\u001b[49m\u001b[43m,\u001b[49m\u001b[43m \u001b[49m\u001b[43mother\u001b[49m\u001b[43m)\u001b[49m\n\u001b[0;32m   1008\u001b[0m     \u001b[38;5;28;01mif\u001b[39;00m \u001b[38;5;28mself\u001b[39m\u001b[38;5;241m.\u001b[39moptimize_alpha:\n\u001b[0;32m   1009\u001b[0m         \u001b[38;5;28mself\u001b[39m\u001b[38;5;241m.\u001b[39mupdate_alpha(gammat, rho())\n",
      "File \u001b[1;32mc:\\users\\user\\appdata\\local\\programs\\python\\python38\\lib\\site-packages\\gensim\\models\\ldamodel.py:768\u001b[0m, in \u001b[0;36mLdaModel.do_estep\u001b[1;34m(self, chunk, state)\u001b[0m\n\u001b[0;32m    766\u001b[0m \u001b[38;5;28;01mif\u001b[39;00m state \u001b[38;5;129;01mis\u001b[39;00m \u001b[38;5;28;01mNone\u001b[39;00m:\n\u001b[0;32m    767\u001b[0m     state \u001b[38;5;241m=\u001b[39m \u001b[38;5;28mself\u001b[39m\u001b[38;5;241m.\u001b[39mstate\n\u001b[1;32m--> 768\u001b[0m gamma, sstats \u001b[38;5;241m=\u001b[39m \u001b[38;5;28;43mself\u001b[39;49m\u001b[38;5;241;43m.\u001b[39;49m\u001b[43minference\u001b[49m\u001b[43m(\u001b[49m\u001b[43mchunk\u001b[49m\u001b[43m,\u001b[49m\u001b[43m \u001b[49m\u001b[43mcollect_sstats\u001b[49m\u001b[38;5;241;43m=\u001b[39;49m\u001b[38;5;28;43;01mTrue\u001b[39;49;00m\u001b[43m)\u001b[49m\n\u001b[0;32m    769\u001b[0m state\u001b[38;5;241m.\u001b[39msstats \u001b[38;5;241m+\u001b[39m\u001b[38;5;241m=\u001b[39m sstats\n\u001b[0;32m    770\u001b[0m state\u001b[38;5;241m.\u001b[39mnumdocs \u001b[38;5;241m+\u001b[39m\u001b[38;5;241m=\u001b[39m gamma\u001b[38;5;241m.\u001b[39mshape[\u001b[38;5;241m0\u001b[39m]  \u001b[38;5;66;03m# avoids calling len(chunk) on a generator\u001b[39;00m\n",
      "File \u001b[1;32mc:\\users\\user\\appdata\\local\\programs\\python\\python38\\lib\\site-packages\\gensim\\models\\ldamodel.py:743\u001b[0m, in \u001b[0;36mLdaModel.inference\u001b[1;34m(self, chunk, collect_sstats)\u001b[0m\n\u001b[0;32m    736\u001b[0m     logger\u001b[38;5;241m.\u001b[39mdebug(\u001b[38;5;124m\"\u001b[39m\u001b[38;5;132;01m%i\u001b[39;00m\u001b[38;5;124m/\u001b[39m\u001b[38;5;132;01m%i\u001b[39;00m\u001b[38;5;124m documents converged within \u001b[39m\u001b[38;5;132;01m%i\u001b[39;00m\u001b[38;5;124m iterations\u001b[39m\u001b[38;5;124m\"\u001b[39m, converged, \u001b[38;5;28mlen\u001b[39m(chunk), \u001b[38;5;28mself\u001b[39m\u001b[38;5;241m.\u001b[39miterations)\n\u001b[0;32m    738\u001b[0m \u001b[38;5;28;01mif\u001b[39;00m collect_sstats:\n\u001b[0;32m    739\u001b[0m     \u001b[38;5;66;03m# This step finishes computing the sufficient statistics for the\u001b[39;00m\n\u001b[0;32m    740\u001b[0m     \u001b[38;5;66;03m# M step, so that\u001b[39;00m\n\u001b[0;32m    741\u001b[0m     \u001b[38;5;66;03m# sstats[k, w] = \\sum_d n_{dw} * phi_{dwk}\u001b[39;00m\n\u001b[0;32m    742\u001b[0m     \u001b[38;5;66;03m# = \\sum_d n_{dw} * exp{Elogtheta_{dk} + Elogbeta_{kw}} / phinorm_{dw}.\u001b[39;00m\n\u001b[1;32m--> 743\u001b[0m     sstats \u001b[38;5;241m*\u001b[39m\u001b[38;5;241m=\u001b[39m \u001b[38;5;28mself\u001b[39m\u001b[38;5;241m.\u001b[39mexpElogbeta\n\u001b[0;32m    744\u001b[0m     \u001b[38;5;28;01massert\u001b[39;00m sstats\u001b[38;5;241m.\u001b[39mdtype \u001b[38;5;241m==\u001b[39m \u001b[38;5;28mself\u001b[39m\u001b[38;5;241m.\u001b[39mdtype\n\u001b[0;32m    746\u001b[0m \u001b[38;5;28;01massert\u001b[39;00m gamma\u001b[38;5;241m.\u001b[39mdtype \u001b[38;5;241m==\u001b[39m \u001b[38;5;28mself\u001b[39m\u001b[38;5;241m.\u001b[39mdtype\n",
      "\u001b[1;31mFloatingPointError\u001b[0m: underflow encountered in multiply"
     ]
    }
   ],
   "source": [
    "chunksize = 2000 # Количество документов, которые будут использоваться в каждом блоке обучения\n",
    "passes = 20 # Количество проходов по корпусу во время обучения\n",
    "iterations = 40 # Максимальное количество итераций по корпусу при выводе тематического распределения корпуса\n",
    "eval_every = None  # Don't evaluate model perplexity, takes too much time.\n",
    "\n",
    "ldamodel = LdaModel(corpus=corpus, # передаваемый поток документов\n",
    "                    num_topics=10, # Количество запрошенных скрытых тем, которые необходимо извлечь из учебного корпуса.\n",
    "                    id2word=dictionary, # Mapping id к словам (словарь)\n",
    "                    chunksize=chunksize, # Количество документов, которые будут использоваться в каждом блоке обучения\n",
    "                    alpha='auto', # априорное убеждение в распространении тем по документам\n",
    "                    eta='auto', # априорное убеждение в распределении слов по темам\n",
    "                    iterations=iterations, # Максимальное количество итераций по корпусу при выводе тематического распределения корпуса\n",
    "                    passes=passes, # Количество проходов по корпусу во время обучения\n",
    "                    eval_every=eval_every)"
   ]
  },
  {
   "cell_type": "code",
   "execution_count": null,
   "id": "e48ec07a",
   "metadata": {
    "scrolled": false
   },
   "outputs": [],
   "source": [
    "ldamodel.show_topics() # Вывод тем для LDA модели"
   ]
  },
  {
   "cell_type": "markdown",
   "id": "85e77728",
   "metadata": {},
   "source": [
    "## NMF:"
   ]
  },
  {
   "cell_type": "code",
   "execution_count": 141,
   "id": "93a93024",
   "metadata": {},
   "outputs": [],
   "source": [
    "nmfmodel = Nmf(corpus=corpus,\n",
    "               id2word=dictionary,\n",
    "               num_topics=10,\n",
    "               chunksize=chunksize,\n",
    "               kappa=0.1,\n",
    "               passes=passes,\n",
    "               eval_every=eval_every)"
   ]
  },
  {
   "cell_type": "code",
   "execution_count": 142,
   "id": "52597889",
   "metadata": {},
   "outputs": [
    {
     "data": {
      "text/plain": [
       "[(0,\n",
       "  '0.016*\"водитель\" + 0.013*\"случай\" + 0.010*\"автомобиль\" + 0.009*\"машина\" + 0.006*\"дорога\" + 0.005*\"вопрос\" + 0.005*\"ситуация\" + 0.005*\"право\" + 0.005*\"проблема\" + 0.005*\"правило\"'),\n",
       " (1,\n",
       "  '0.008*\"игра\" + 0.007*\"город\" + 0.005*\"хороший\" + 0.005*\"нижний_новгород\" + 0.005*\"команда\" + 0.005*\"история\" + 0.005*\"нижегородский\" + 0.004*\"интересный\" + 0.004*\"нижегородец\" + 0.004*\"гость\"'),\n",
       " (2,\n",
       "  '0.027*\"врач\" + 0.020*\"ребёнок\" + 0.011*\"пациент\" + 0.009*\"человек\" + 0.008*\"препарат\" + 0.008*\"больница\" + 0.008*\"болезнь\" + 0.008*\"заболевание\" + 0.007*\"лечение\" + 0.006*\"организм\"'),\n",
       " (3,\n",
       "  '0.014*\"человек\" + 0.014*\"работа\" + 0.007*\"деньга\" + 0.007*\"дело\" + 0.005*\"месяц\" + 0.005*\"слово\" + 0.005*\"жизнь\" + 0.004*\"дом\" + 0.004*\"момент\" + 0.004*\"какой\"'),\n",
       " (4,\n",
       "  '0.027*\"рубль\" + 0.021*\"россия\" + 0.010*\"компания\" + 0.010*\"страна\" + 0.010*\"банк\" + 0.009*\"деньга\" + 0.009*\"валюта\" + 0.007*\"российский\" + 0.007*\"доллар\" + 0.007*\"регион\"'),\n",
       " (5,\n",
       "  '0.036*\"цена\" + 0.019*\"рубль\" + 0.014*\"новый\" + 0.008*\"рынок\" + 0.008*\"месяц\" + 0.006*\"стоимость\" + 0.006*\"продажа\" + 0.006*\"производство\" + 0.006*\"завод\" + 0.005*\"товар\"'),\n",
       " (6,\n",
       "  '0.017*\"новый\" + 0.011*\"фильм\" + 0.006*\"театр\" + 0.006*\"история\" + 0.005*\"проект\" + 0.005*\"спектакль\" + 0.005*\"актёр\" + 0.005*\"концерт\" + 0.005*\"хороший\" + 0.004*\"артист\"'),\n",
       " (7,\n",
       "  '0.027*\"матч\" + 0.024*\"команда\" + 0.018*\"игра\" + 0.018*\"болельщик\" + 0.015*\"нижний_новгород\" + 0.012*\"стадион\" + 0.010*\"мяч\" + 0.010*\"поле\" + 0.009*\"счёт\" + 0.009*\"игрок\"'),\n",
       " (8,\n",
       "  '0.039*\"россия\" + 0.027*\"ребёнок\" + 0.019*\"страна\" + 0.010*\"коронавирус\" + 0.008*\"число\" + 0.008*\"вирус\" + 0.007*\"вакцина\" + 0.007*\"омикрон\" + 0.006*\"российский\" + 0.006*\"вакцинация\"'),\n",
       " (9,\n",
       "  '0.042*\"автомобиль\" + 0.038*\"машина\" + 0.029*\"рубль\" + 0.016*\"модель\" + 0.008*\"кроссовер\" + 0.007*\"версия\" + 0.007*\"салон\" + 0.006*\"стоимость\" + 0.006*\"двигатель\" + 0.006*\"новый\"')]"
      ]
     },
     "execution_count": 142,
     "metadata": {},
     "output_type": "execute_result"
    }
   ],
   "source": [
    "nmfmodel.show_topics() # Вывод тем для NMF модели"
   ]
  },
  {
   "cell_type": "markdown",
   "id": "cf71e41a",
   "metadata": {},
   "source": [
    "## HDP:"
   ]
  },
  {
   "cell_type": "code",
   "execution_count": 151,
   "id": "31dce639",
   "metadata": {},
   "outputs": [
    {
     "ename": "FloatingPointError",
     "evalue": "underflow encountered in exp",
     "output_type": "error",
     "traceback": [
      "\u001b[1;31m---------------------------------------------------------------------------\u001b[0m",
      "\u001b[1;31mFloatingPointError\u001b[0m                        Traceback (most recent call last)",
      "Input \u001b[1;32mIn [151]\u001b[0m, in \u001b[0;36m<cell line: 1>\u001b[1;34m()\u001b[0m\n\u001b[1;32m----> 1\u001b[0m hdpmodel \u001b[38;5;241m=\u001b[39m \u001b[43mHdpModel\u001b[49m\u001b[43m(\u001b[49m\u001b[43mcorpus\u001b[49m\u001b[38;5;241;43m=\u001b[39;49m\u001b[43mcorpus\u001b[49m\u001b[43m,\u001b[49m\u001b[43m \u001b[49m\u001b[43mid2word\u001b[49m\u001b[38;5;241;43m=\u001b[39;49m\u001b[43mdictionary\u001b[49m\u001b[43m)\u001b[49m\n",
      "File \u001b[1;32mc:\\users\\user\\appdata\\local\\programs\\python\\python38\\lib\\site-packages\\gensim\\models\\hdpmodel.py:389\u001b[0m, in \u001b[0;36mHdpModel.__init__\u001b[1;34m(self, corpus, id2word, max_chunks, max_time, chunksize, kappa, tau, K, T, alpha, gamma, eta, scale, var_converge, outputdir, random_state)\u001b[0m\n\u001b[0;32m    387\u001b[0m \u001b[38;5;66;03m# if a training corpus was provided, start estimating the model right away\u001b[39;00m\n\u001b[0;32m    388\u001b[0m \u001b[38;5;28;01mif\u001b[39;00m corpus \u001b[38;5;129;01mis\u001b[39;00m \u001b[38;5;129;01mnot\u001b[39;00m \u001b[38;5;28;01mNone\u001b[39;00m:\n\u001b[1;32m--> 389\u001b[0m     \u001b[38;5;28;43mself\u001b[39;49m\u001b[38;5;241;43m.\u001b[39;49m\u001b[43mupdate\u001b[49m\u001b[43m(\u001b[49m\u001b[43mcorpus\u001b[49m\u001b[43m)\u001b[49m\n",
      "File \u001b[1;32mc:\\users\\user\\appdata\\local\\programs\\python\\python38\\lib\\site-packages\\gensim\\models\\hdpmodel.py:469\u001b[0m, in \u001b[0;36mHdpModel.update\u001b[1;34m(self, corpus)\u001b[0m\n\u001b[0;32m    467\u001b[0m \u001b[38;5;28;01mwhile\u001b[39;00m \u001b[38;5;28;01mTrue\u001b[39;00m:\n\u001b[0;32m    468\u001b[0m     \u001b[38;5;28;01mfor\u001b[39;00m chunk \u001b[38;5;129;01min\u001b[39;00m utils\u001b[38;5;241m.\u001b[39mgrouper(corpus, \u001b[38;5;28mself\u001b[39m\u001b[38;5;241m.\u001b[39mchunksize):\n\u001b[1;32m--> 469\u001b[0m         \u001b[38;5;28;43mself\u001b[39;49m\u001b[38;5;241;43m.\u001b[39;49m\u001b[43mupdate_chunk\u001b[49m\u001b[43m(\u001b[49m\u001b[43mchunk\u001b[49m\u001b[43m)\u001b[49m\n\u001b[0;32m    470\u001b[0m         \u001b[38;5;28mself\u001b[39m\u001b[38;5;241m.\u001b[39mm_num_docs_processed \u001b[38;5;241m+\u001b[39m\u001b[38;5;241m=\u001b[39m \u001b[38;5;28mlen\u001b[39m(chunk)\n\u001b[0;32m    471\u001b[0m         chunks_processed \u001b[38;5;241m+\u001b[39m\u001b[38;5;241m=\u001b[39m \u001b[38;5;241m1\u001b[39m\n",
      "File \u001b[1;32mc:\\users\\user\\appdata\\local\\programs\\python\\python38\\lib\\site-packages\\gensim\\models\\hdpmodel.py:566\u001b[0m, in \u001b[0;36mHdpModel.update_chunk\u001b[1;34m(self, chunk, update, opt_o)\u001b[0m\n\u001b[0;32m    564\u001b[0m \u001b[38;5;28;01mif\u001b[39;00m \u001b[38;5;28mlen\u001b[39m(doc) \u001b[38;5;241m>\u001b[39m \u001b[38;5;241m0\u001b[39m:\n\u001b[0;32m    565\u001b[0m     doc_word_ids, doc_word_counts \u001b[38;5;241m=\u001b[39m \u001b[38;5;28mzip\u001b[39m(\u001b[38;5;241m*\u001b[39mdoc)\n\u001b[1;32m--> 566\u001b[0m     doc_score \u001b[38;5;241m=\u001b[39m \u001b[38;5;28;43mself\u001b[39;49m\u001b[38;5;241;43m.\u001b[39;49m\u001b[43mdoc_e_step\u001b[49m\u001b[43m(\u001b[49m\n\u001b[0;32m    567\u001b[0m \u001b[43m        \u001b[49m\u001b[43mss\u001b[49m\u001b[43m,\u001b[49m\u001b[43m \u001b[49m\u001b[43mElogsticks_1st\u001b[49m\u001b[43m,\u001b[49m\n\u001b[0;32m    568\u001b[0m \u001b[43m        \u001b[49m\u001b[43munique_words\u001b[49m\u001b[43m,\u001b[49m\u001b[43m \u001b[49m\u001b[43mdoc_word_ids\u001b[49m\u001b[43m,\u001b[49m\n\u001b[0;32m    569\u001b[0m \u001b[43m        \u001b[49m\u001b[43mdoc_word_counts\u001b[49m\u001b[43m,\u001b[49m\u001b[43m \u001b[49m\u001b[38;5;28;43mself\u001b[39;49m\u001b[38;5;241;43m.\u001b[39;49m\u001b[43mm_var_converge\u001b[49m\n\u001b[0;32m    570\u001b[0m \u001b[43m    \u001b[49m\u001b[43m)\u001b[49m\n\u001b[0;32m    571\u001b[0m     count \u001b[38;5;241m+\u001b[39m\u001b[38;5;241m=\u001b[39m \u001b[38;5;28msum\u001b[39m(doc_word_counts)\n\u001b[0;32m    572\u001b[0m     score \u001b[38;5;241m+\u001b[39m\u001b[38;5;241m=\u001b[39m doc_score\n",
      "File \u001b[1;32mc:\\users\\user\\appdata\\local\\programs\\python\\python38\\lib\\site-packages\\gensim\\models\\hdpmodel.py:628\u001b[0m, in \u001b[0;36mHdpModel.doc_e_step\u001b[1;34m(self, ss, Elogsticks_1st, unique_words, doc_word_ids, doc_word_counts, var_converge)\u001b[0m\n\u001b[0;32m    626\u001b[0m \u001b[38;5;28;01mif\u001b[39;00m \u001b[38;5;28miter\u001b[39m \u001b[38;5;241m<\u001b[39m \u001b[38;5;241m3\u001b[39m:\n\u001b[0;32m    627\u001b[0m     var_phi \u001b[38;5;241m=\u001b[39m np\u001b[38;5;241m.\u001b[39mdot(phi\u001b[38;5;241m.\u001b[39mT, (Elogbeta_doc \u001b[38;5;241m*\u001b[39m doc_word_counts)\u001b[38;5;241m.\u001b[39mT)\n\u001b[1;32m--> 628\u001b[0m     (log_var_phi, log_norm) \u001b[38;5;241m=\u001b[39m \u001b[43mmatutils\u001b[49m\u001b[38;5;241;43m.\u001b[39;49m\u001b[43mret_log_normalize_vec\u001b[49m\u001b[43m(\u001b[49m\u001b[43mvar_phi\u001b[49m\u001b[43m)\u001b[49m\n\u001b[0;32m    629\u001b[0m     var_phi \u001b[38;5;241m=\u001b[39m np\u001b[38;5;241m.\u001b[39mexp(log_var_phi)\n\u001b[0;32m    630\u001b[0m \u001b[38;5;28;01melse\u001b[39;00m:\n",
      "File \u001b[1;32mc:\\users\\user\\appdata\\local\\programs\\python\\python38\\lib\\site-packages\\gensim\\matutils.py:680\u001b[0m, in \u001b[0;36mret_log_normalize_vec\u001b[1;34m(vec, axis)\u001b[0m\n\u001b[0;32m    678\u001b[0m max_val \u001b[38;5;241m=\u001b[39m np\u001b[38;5;241m.\u001b[39mmax(vec, \u001b[38;5;241m1\u001b[39m)\n\u001b[0;32m    679\u001b[0m log_shift \u001b[38;5;241m=\u001b[39m log_max \u001b[38;5;241m-\u001b[39m np\u001b[38;5;241m.\u001b[39mlog(vec\u001b[38;5;241m.\u001b[39mshape[\u001b[38;5;241m1\u001b[39m] \u001b[38;5;241m+\u001b[39m \u001b[38;5;241m1.0\u001b[39m) \u001b[38;5;241m-\u001b[39m max_val\n\u001b[1;32m--> 680\u001b[0m tot \u001b[38;5;241m=\u001b[39m np\u001b[38;5;241m.\u001b[39msum(\u001b[43mnp\u001b[49m\u001b[38;5;241;43m.\u001b[39;49m\u001b[43mexp\u001b[49m\u001b[43m(\u001b[49m\u001b[43mvec\u001b[49m\u001b[43m \u001b[49m\u001b[38;5;241;43m+\u001b[39;49m\u001b[43m \u001b[49m\u001b[43mlog_shift\u001b[49m\u001b[43m[\u001b[49m\u001b[43m:\u001b[49m\u001b[43m,\u001b[49m\u001b[43m \u001b[49m\u001b[43mnp\u001b[49m\u001b[38;5;241;43m.\u001b[39;49m\u001b[43mnewaxis\u001b[49m\u001b[43m]\u001b[49m\u001b[43m)\u001b[49m, \u001b[38;5;241m1\u001b[39m)\n\u001b[0;32m    681\u001b[0m log_norm \u001b[38;5;241m=\u001b[39m np\u001b[38;5;241m.\u001b[39mlog(tot) \u001b[38;5;241m-\u001b[39m log_shift\n\u001b[0;32m    682\u001b[0m vec \u001b[38;5;241m=\u001b[39m vec \u001b[38;5;241m-\u001b[39m log_norm[:, np\u001b[38;5;241m.\u001b[39mnewaxis]\n",
      "\u001b[1;31mFloatingPointError\u001b[0m: underflow encountered in exp"
     ]
    }
   ],
   "source": [
    "hdpmodel = HdpModel(corpus=corpus, id2word=dictionary)"
   ]
  },
  {
   "cell_type": "code",
   "execution_count": null,
   "id": "f5efd146",
   "metadata": {},
   "outputs": [],
   "source": [
    "hdpmodel.show_topics()"
   ]
  },
  {
   "cell_type": "markdown",
   "id": "c8a82ce5",
   "metadata": {},
   "source": [
    "## 3) Визуализация"
   ]
  },
  {
   "cell_type": "code",
   "execution_count": 145,
   "id": "1121f2f6",
   "metadata": {
    "scrolled": false
   },
   "outputs": [
    {
     "ename": "FloatingPointError",
     "evalue": "underflow encountered in exp",
     "output_type": "error",
     "traceback": [
      "\u001b[1;31m---------------------------------------------------------------------------\u001b[0m",
      "\u001b[1;31mFloatingPointError\u001b[0m                        Traceback (most recent call last)",
      "Input \u001b[1;32mIn [145]\u001b[0m, in \u001b[0;36m<cell line: 2>\u001b[1;34m()\u001b[0m\n\u001b[0;32m      1\u001b[0m pyLDAvis\u001b[38;5;241m.\u001b[39menable_notebook()\n\u001b[1;32m----> 2\u001b[0m \u001b[43mpyLDAvis\u001b[49m\u001b[38;5;241;43m.\u001b[39;49m\u001b[43mgensim_models\u001b[49m\u001b[38;5;241;43m.\u001b[39;49m\u001b[43mprepare\u001b[49m\u001b[43m(\u001b[49m\u001b[43mldamodel\u001b[49m\u001b[43m,\u001b[49m\u001b[43m \u001b[49m\u001b[43mcorpus\u001b[49m\u001b[43m,\u001b[49m\u001b[43m \u001b[49m\u001b[43mdictionary\u001b[49m\u001b[43m)\u001b[49m\n",
      "File \u001b[1;32mc:\\users\\user\\appdata\\local\\programs\\python\\python38\\lib\\site-packages\\pyLDAvis\\gensim_models.py:122\u001b[0m, in \u001b[0;36mprepare\u001b[1;34m(topic_model, corpus, dictionary, doc_topic_dist, **kwargs)\u001b[0m\n\u001b[0;32m     77\u001b[0m \u001b[38;5;28;01mdef\u001b[39;00m \u001b[38;5;21mprepare\u001b[39m(topic_model, corpus, dictionary, doc_topic_dist\u001b[38;5;241m=\u001b[39m\u001b[38;5;28;01mNone\u001b[39;00m, \u001b[38;5;241m*\u001b[39m\u001b[38;5;241m*\u001b[39mkwargs):\n\u001b[0;32m     78\u001b[0m     \u001b[38;5;124;03m\"\"\"Transforms the Gensim TopicModel and related corpus and dictionary into\u001b[39;00m\n\u001b[0;32m     79\u001b[0m \u001b[38;5;124;03m    the data structures needed for the visualization.\u001b[39;00m\n\u001b[0;32m     80\u001b[0m \n\u001b[1;32m   (...)\u001b[0m\n\u001b[0;32m    120\u001b[0m \u001b[38;5;124;03m    See `pyLDAvis.prepare` for **kwargs.\u001b[39;00m\n\u001b[0;32m    121\u001b[0m \u001b[38;5;124;03m    \"\"\"\u001b[39;00m\n\u001b[1;32m--> 122\u001b[0m     opts \u001b[38;5;241m=\u001b[39m fp\u001b[38;5;241m.\u001b[39mmerge(\u001b[43m_extract_data\u001b[49m\u001b[43m(\u001b[49m\u001b[43mtopic_model\u001b[49m\u001b[43m,\u001b[49m\u001b[43m \u001b[49m\u001b[43mcorpus\u001b[49m\u001b[43m,\u001b[49m\u001b[43m \u001b[49m\u001b[43mdictionary\u001b[49m\u001b[43m,\u001b[49m\u001b[43m \u001b[49m\u001b[43mdoc_topic_dist\u001b[49m\u001b[43m)\u001b[49m, kwargs)\n\u001b[0;32m    123\u001b[0m     \u001b[38;5;28;01mreturn\u001b[39;00m pyLDAvis\u001b[38;5;241m.\u001b[39mprepare(\u001b[38;5;241m*\u001b[39m\u001b[38;5;241m*\u001b[39mopts)\n",
      "File \u001b[1;32mc:\\users\\user\\appdata\\local\\programs\\python\\python38\\lib\\site-packages\\pyLDAvis\\gensim_models.py:49\u001b[0m, in \u001b[0;36m_extract_data\u001b[1;34m(topic_model, corpus, dictionary, doc_topic_dists)\u001b[0m\n\u001b[0;32m     47\u001b[0m         gamma \u001b[38;5;241m=\u001b[39m topic_model\u001b[38;5;241m.\u001b[39minference(corpus)\n\u001b[0;32m     48\u001b[0m     \u001b[38;5;28;01melse\u001b[39;00m:\n\u001b[1;32m---> 49\u001b[0m         gamma, _ \u001b[38;5;241m=\u001b[39m \u001b[43mtopic_model\u001b[49m\u001b[38;5;241;43m.\u001b[39;49m\u001b[43minference\u001b[49m\u001b[43m(\u001b[49m\u001b[43mcorpus\u001b[49m\u001b[43m)\u001b[49m\n\u001b[0;32m     50\u001b[0m     doc_topic_dists \u001b[38;5;241m=\u001b[39m gamma \u001b[38;5;241m/\u001b[39m gamma\u001b[38;5;241m.\u001b[39msum(axis\u001b[38;5;241m=\u001b[39m\u001b[38;5;241m1\u001b[39m)[:, \u001b[38;5;28;01mNone\u001b[39;00m]\n\u001b[0;32m     51\u001b[0m \u001b[38;5;28;01melse\u001b[39;00m:\n",
      "File \u001b[1;32mc:\\users\\user\\appdata\\local\\programs\\python\\python38\\lib\\site-packages\\gensim\\models\\ldamodel.py:721\u001b[0m, in \u001b[0;36mLdaModel.inference\u001b[1;34m(self, chunk, collect_sstats)\u001b[0m\n\u001b[0;32m    719\u001b[0m gammad \u001b[38;5;241m=\u001b[39m \u001b[38;5;28mself\u001b[39m\u001b[38;5;241m.\u001b[39malpha \u001b[38;5;241m+\u001b[39m expElogthetad \u001b[38;5;241m*\u001b[39m np\u001b[38;5;241m.\u001b[39mdot(cts \u001b[38;5;241m/\u001b[39m phinorm, expElogbetad\u001b[38;5;241m.\u001b[39mT)\n\u001b[0;32m    720\u001b[0m Elogthetad \u001b[38;5;241m=\u001b[39m dirichlet_expectation(gammad)\n\u001b[1;32m--> 721\u001b[0m expElogthetad \u001b[38;5;241m=\u001b[39m \u001b[43mnp\u001b[49m\u001b[38;5;241;43m.\u001b[39;49m\u001b[43mexp\u001b[49m\u001b[43m(\u001b[49m\u001b[43mElogthetad\u001b[49m\u001b[43m)\u001b[49m\n\u001b[0;32m    722\u001b[0m phinorm \u001b[38;5;241m=\u001b[39m np\u001b[38;5;241m.\u001b[39mdot(expElogthetad, expElogbetad) \u001b[38;5;241m+\u001b[39m epsilon\n\u001b[0;32m    723\u001b[0m \u001b[38;5;66;03m# If gamma hasn't changed much, we're done.\u001b[39;00m\n",
      "\u001b[1;31mFloatingPointError\u001b[0m: underflow encountered in exp"
     ]
    }
   ],
   "source": [
    "pyLDAvis.enable_notebook()\n",
    "pyLDAvis.gensim_models.prepare(ldamodel, corpus, dictionary)"
   ]
  },
  {
   "cell_type": "markdown",
   "id": "c631d992",
   "metadata": {},
   "source": [
    "### Тематическая согласованность (Topic Coherence)\n",
    "Чем выше значение когерентности, тем лучше модель"
   ]
  },
  {
   "cell_type": "code",
   "execution_count": 77,
   "id": "0f7b32e5",
   "metadata": {},
   "outputs": [],
   "source": [
    "def evaluate_bar_graph(coherences, indices): # функция для вывода bar графика\n",
    "    \"\"\"\n",
    "    Function to plot bar graph.\n",
    "    \n",
    "    coherences: list of coherence values\n",
    "    indices: Indices to be used to mark bars. Length of this and coherences should be equal.\n",
    "    \"\"\"\n",
    "    assert len(coherences) == len(indices) # проверка на равное число элементов\n",
    "    n = len(coherences)\n",
    "    x = np.arange(n)\n",
    "    plt.bar(x, coherences, width=0.2, tick_label=indices, align='center')\n",
    "    plt.xlabel('Models')\n",
    "    plt.ylabel('Coherence Value')"
   ]
  },
  {
   "cell_type": "code",
   "execution_count": 76,
   "id": "252a4eef",
   "metadata": {},
   "outputs": [],
   "source": [
    "# ldatopics = [[word for word, prob in topic] for topicid, topic in ldamodel.show_topics(formatted=False)]\n",
    "# lda_coherence = CoherenceModel(topics=ldatopics, texts=texts_v2, dictionary=dictionary, window_size=10).get_coherence() # рассчитывает согласованность тем для topic models"
   ]
  },
  {
   "cell_type": "code",
   "execution_count": 78,
   "id": "8345ce9d",
   "metadata": {},
   "outputs": [
    {
     "data": {
      "image/png": "[encoded data removed]",
      "text/plain": [
       "<Figure size 432x288 with 1 Axes>"
      ]
     },
     "metadata": {
      "needs_background": "light"
     },
     "output_type": "display_data"
    }
   ],
   "source": [
    "# evaluate_bar_graph([lda_coherence],\n",
    "#                    ['LDA'])"
   ]
  },
  {
   "cell_type": "code",
   "execution_count": null,
   "id": "4febed92",
   "metadata": {},
   "outputs": [],
   "source": [
    "lsitopics = [[word for word, prob in topic] for topicid, topic in lsimodel.show_topics(formatted=False)]\n",
    "\n",
    "hdptopics = [[word for word, prob in topic] for topicid, topic in hdpmodel.show_topics(formatted=False)]\n",
    "\n",
    "ldatopics = [[word for word, prob in topic] for topicid, topic in ldamodel.show_topics(formatted=False)]"
   ]
  },
  {
   "cell_type": "code",
   "execution_count": null,
   "id": "6de180b2",
   "metadata": {},
   "outputs": [],
   "source": [
    "# подсчёт когерентности моделей\n",
    "lsi_coherence = CoherenceModel(topics=lsitopics[:10], texts=texts, dictionary=dictionary, window_size=10).get_coherence()\n",
    "\n",
    "hdp_coherence = CoherenceModel(topics=hdptopics[:10], texts=texts, dictionary=dictionary, window_size=10).get_coherence()\n",
    "\n",
    "lda_coherence = CoherenceModel(topics=ldatopics, texts=texts, dictionary=dictionary, window_size=10).get_coherence()"
   ]
  },
  {
   "cell_type": "code",
   "execution_count": null,
   "id": "737fe310",
   "metadata": {},
   "outputs": [],
   "source": [
    "evaluate_bar_graph([lsi_coherence, hdp_coherence, lda_coherence],\n",
    "                   ['LSI', 'HDP', 'LDA'])"
   ]
  }
 ],
 "metadata": {
  "kernelspec": {
   "display_name": "Python 3 (ipykernel)",
   "language": "python",
   "name": "python3"
  },
  "language_info": {
   "codemirror_mode": {
    "name": "ipython",
    "version": 3
   },
   "file_extension": ".py",
   "mimetype": "text/x-python",
   "name": "python",
   "nbconvert_exporter": "python",
   "pygments_lexer": "ipython3",
   "version": "3.8.7"
  }
 },
 "nbformat": 4,
 "nbformat_minor": 5
}
